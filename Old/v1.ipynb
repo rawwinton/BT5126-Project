{
 "cells": [
  {
   "cell_type": "code",
   "execution_count": 1,
   "metadata": {
    "collapsed": true
   },
   "outputs": [
    {
     "name": "stderr",
     "output_type": "stream",
     "text": [
      "c:\\users\\rawwi\\onedrive\\school\\nus\\current sem\\python\\lib\\site-packages\\xgboost\\compat.py:36: FutureWarning: pandas.Int64Index is deprecated and will be removed from pandas in a future version. Use pandas.Index with the appropriate dtype instead.\n",
      "  from pandas import MultiIndex, Int64Index\n"
     ]
    }
   ],
   "source": [
    "# Import all required packages\n",
    "import pandas as pd\n",
    "import seaborn as sns\n",
    "import numpy as np\n",
    "import matplotlib.pyplot as plt\n",
    "from sklearn.model_selection import train_test_split,RandomizedSearchCV, GridSearchCV\n",
    "from scipy.stats import randint,uniform\n",
    "from sklearn.metrics import accuracy_score, roc_curve, roc_auc_score, PrecisionRecallDisplay, average_precision_score,precision_recall_curve,auc\n",
    "import seaborn as sn\n",
    "import lightgbm as lgb\n",
    "from sklearn.ensemble import RandomForestClassifier\n",
    "from sklearn.tree  import DecisionTreeClassifier\n",
    "import warnings\n",
    "\n",
    "import math\n",
    "import pandas as pd\n",
    "import numpy as np\n",
    "import matplotlib.pyplot as plt\n",
    "from joblib import Parallel\n",
    "from sklearn.preprocessing import OneHotEncoder, PolynomialFeatures,StandardScaler,MinMaxScaler\n",
    "from sklearn.model_selection import GridSearchCV,RandomizedSearchCV,train_test_split\n",
    "from sklearn.pipeline import Pipeline\n",
    "from sklearn.base import BaseEstimator, TransformerMixin\n",
    "from sklearn import pipeline,set_config\n",
    "from sklearn.utils import class_weight\n",
    "from lightgbm import LGBMClassifier\n",
    "from xgboost import XGBClassifier\n",
    "from sklearn.compose import ColumnTransformer\n",
    "from sklearn.svm import SVC\n",
    "from sklearn.ensemble import StackingClassifier\n",
    "from sklearn.metrics import accuracy_score, roc_curve, roc_auc_score, PrecisionRecallDisplay, precision_score, \\\n",
    "    average_precision_score, auc, precision_recall_curve, make_scorer,SCORERS\n",
    "from skopt import BayesSearchCV\n",
    "import datetime, re, sys, holidays\n",
    "from Functions import *\n",
    "from sklearn.experimental import enable_halving_search_cv\n",
    "from sklearn.model_selection import HalvingGridSearchCV\n",
    "\n",
    "set_config(display=\"diagram\")\n",
    "np.random.seed (0)\n",
    "Parallel(n_jobs=8, max_nbytes=50000)\n",
    "\n",
    "warnings.filterwarnings(\"ignore\")"
   ]
  },
  {
   "cell_type": "code",
   "execution_count": 2,
   "outputs": [],
   "source": [
    "categorical_cols = ['Vessel Type']\n",
    "numeric_cols = ['Waiting Time (Days)']\n",
    "vessel_cols = ['Total Vessels (Number)', 'Capesize',\n",
    "                'Capesize Laden', 'Capesize Unladen', 'Panamax', 'Panamax Laden',\n",
    "                'Panamax Unladen', 'Handymax', 'Handymax Laden', 'Handymax Unladen',\n",
    "                'Handysize', 'Handysize Laden', 'Handysize Unladen']\n",
    "# date_cols = ['Berth or Port Entry', 'Date']\n",
    "date_cols = ['Date']\n",
    "dwt_cols = ['Total Vessels (DWT)','Capesize (DWT)',\n",
    "            'Capesize Laden (DWT)', 'Capesize Unladen (DWT)', 'Panamax (DWT)',\n",
    "            'Panamax Laden (DWT)', 'Panamax Unladen (DWT)', 'Handymax (DWT)',\n",
    "            'Handymax Laden (DWT)', 'Handymax Unladen (DWT)', 'Handysize (DWT)',\n",
    "            'Handysize Laden (DWT)', 'Handysize Unladen (DWT)']\n",
    "weather_cols = ['tempt', 'prcp', 'wspd']\n",
    "\n",
    "predict_col = 'Wait Levels'"
   ],
   "metadata": {
    "collapsed": false,
    "pycharm": {
     "name": "#%%\n"
    }
   }
  },
  {
   "cell_type": "code",
   "execution_count": 3,
   "outputs": [
    {
     "data": {
      "text/plain": "       IMO  Waiting Time (Days)  Vessel Type       Date  \\\n0  9056399                  0.2            3 2015-01-02   \n1  9471252                  3.4            2 2015-01-02   \n2  9233399                  5.6            3 2015-01-02   \n3  8309141                  0.5            1 2015-01-03   \n4  9625970                  3.9            2 2015-01-03   \n\n   Total Vessels (Number)  Total Vessels (DWT)  Capesize  Capesize Laden  \\\n0                      16               878272         0               0   \n1                      16               878272         0               0   \n2                      16               878272         0               0   \n3                      17               908718         0               0   \n4                      17               908718         0               0   \n\n   Capesize Unladen  Panamax  ...  Handymax (DWT)  Handymax Laden (DWT)  \\\n0                 0        5  ...          432704                121785   \n1                 0        5  ...          432704                121785   \n2                 0        5  ...          432704                121785   \n3                 0        5  ...          474533                107174   \n4                 0        5  ...          474533                107174   \n\n   Handymax Unladen (DWT)  Handysize (DWT)  Handysize Laden (DWT)  \\\n0                  310919            52823                  30060   \n1                  310919            52823                  30060   \n2                  310919            52823                  30060   \n3                  367359            70297                  36036   \n4                  367359            70297                  36036   \n\n   Handysize Unladen (DWT)  Wait Levels  tempt  prcp  wspd  \n0                    22763            0   27.0   0.0  15.1  \n1                    22763            1   27.0   0.0  15.1  \n2                    22763            2   27.0   0.0  15.1  \n3                    34261            0   23.3   3.0  13.8  \n4                    34261            1   23.3   3.0  13.8  \n\n[5 rows x 34 columns]",
      "text/html": "<div>\n<style scoped>\n    .dataframe tbody tr th:only-of-type {\n        vertical-align: middle;\n    }\n\n    .dataframe tbody tr th {\n        vertical-align: top;\n    }\n\n    .dataframe thead th {\n        text-align: right;\n    }\n</style>\n<table border=\"1\" class=\"dataframe\">\n  <thead>\n    <tr style=\"text-align: right;\">\n      <th></th>\n      <th>IMO</th>\n      <th>Waiting Time (Days)</th>\n      <th>Vessel Type</th>\n      <th>Date</th>\n      <th>Total Vessels (Number)</th>\n      <th>Total Vessels (DWT)</th>\n      <th>Capesize</th>\n      <th>Capesize Laden</th>\n      <th>Capesize Unladen</th>\n      <th>Panamax</th>\n      <th>...</th>\n      <th>Handymax (DWT)</th>\n      <th>Handymax Laden (DWT)</th>\n      <th>Handymax Unladen (DWT)</th>\n      <th>Handysize (DWT)</th>\n      <th>Handysize Laden (DWT)</th>\n      <th>Handysize Unladen (DWT)</th>\n      <th>Wait Levels</th>\n      <th>tempt</th>\n      <th>prcp</th>\n      <th>wspd</th>\n    </tr>\n  </thead>\n  <tbody>\n    <tr>\n      <th>0</th>\n      <td>9056399</td>\n      <td>0.2</td>\n      <td>3</td>\n      <td>2015-01-02</td>\n      <td>16</td>\n      <td>878272</td>\n      <td>0</td>\n      <td>0</td>\n      <td>0</td>\n      <td>5</td>\n      <td>...</td>\n      <td>432704</td>\n      <td>121785</td>\n      <td>310919</td>\n      <td>52823</td>\n      <td>30060</td>\n      <td>22763</td>\n      <td>0</td>\n      <td>27.0</td>\n      <td>0.0</td>\n      <td>15.1</td>\n    </tr>\n    <tr>\n      <th>1</th>\n      <td>9471252</td>\n      <td>3.4</td>\n      <td>2</td>\n      <td>2015-01-02</td>\n      <td>16</td>\n      <td>878272</td>\n      <td>0</td>\n      <td>0</td>\n      <td>0</td>\n      <td>5</td>\n      <td>...</td>\n      <td>432704</td>\n      <td>121785</td>\n      <td>310919</td>\n      <td>52823</td>\n      <td>30060</td>\n      <td>22763</td>\n      <td>1</td>\n      <td>27.0</td>\n      <td>0.0</td>\n      <td>15.1</td>\n    </tr>\n    <tr>\n      <th>2</th>\n      <td>9233399</td>\n      <td>5.6</td>\n      <td>3</td>\n      <td>2015-01-02</td>\n      <td>16</td>\n      <td>878272</td>\n      <td>0</td>\n      <td>0</td>\n      <td>0</td>\n      <td>5</td>\n      <td>...</td>\n      <td>432704</td>\n      <td>121785</td>\n      <td>310919</td>\n      <td>52823</td>\n      <td>30060</td>\n      <td>22763</td>\n      <td>2</td>\n      <td>27.0</td>\n      <td>0.0</td>\n      <td>15.1</td>\n    </tr>\n    <tr>\n      <th>3</th>\n      <td>8309141</td>\n      <td>0.5</td>\n      <td>1</td>\n      <td>2015-01-03</td>\n      <td>17</td>\n      <td>908718</td>\n      <td>0</td>\n      <td>0</td>\n      <td>0</td>\n      <td>5</td>\n      <td>...</td>\n      <td>474533</td>\n      <td>107174</td>\n      <td>367359</td>\n      <td>70297</td>\n      <td>36036</td>\n      <td>34261</td>\n      <td>0</td>\n      <td>23.3</td>\n      <td>3.0</td>\n      <td>13.8</td>\n    </tr>\n    <tr>\n      <th>4</th>\n      <td>9625970</td>\n      <td>3.9</td>\n      <td>2</td>\n      <td>2015-01-03</td>\n      <td>17</td>\n      <td>908718</td>\n      <td>0</td>\n      <td>0</td>\n      <td>0</td>\n      <td>5</td>\n      <td>...</td>\n      <td>474533</td>\n      <td>107174</td>\n      <td>367359</td>\n      <td>70297</td>\n      <td>36036</td>\n      <td>34261</td>\n      <td>1</td>\n      <td>23.3</td>\n      <td>3.0</td>\n      <td>13.8</td>\n    </tr>\n  </tbody>\n</table>\n<p>5 rows × 34 columns</p>\n</div>"
     },
     "execution_count": 3,
     "metadata": {},
     "output_type": "execute_result"
    }
   ],
   "source": [
    "# Get data\n",
    "data = pd.read_csv('clean_data.csv', index_col=0, parse_dates=date_cols)\n",
    "weather_df = pd.read_csv('sao_paulo_weather.csv', parse_dates=['date'])\n",
    "weather_df = weather_df[['date','tavg','prcp','wspd']].rename(columns={'date': 'Date',\n",
    "                   'tavg': 'tempt',\n",
    "                   'prcp': 'prcp',\n",
    "                   'wspd': 'wspd'}, inplace=False)\n",
    "weather_df = weather_df.fillna(0)\n",
    "data = data.merge(weather_df, how='inner',left_on=['Date'], right_on=['Date'])\n",
    "\n",
    "# Drop cols with only 1 value\n",
    "for col in data.columns:\n",
    "    if len(data[col].unique()) == 1:\n",
    "        data.drop(col,axis=1, inplace=True)\n",
    "\n",
    "data.drop('Berth or Port Entry',axis=1, inplace=True)\n",
    "\n",
    "#convert DWT cols from obj to int\n",
    "for col in dwt_cols:\n",
    "    data[col] = data[col].str.replace(\",\",\"\").astype(int)\n",
    "#convert vessel_cols from float to int\n",
    "for col in vessel_cols:\n",
    "    data[col] = data[col].astype(int)\n",
    "\n",
    "#print cleaned data\n",
    "data.head()"
   ],
   "metadata": {
    "collapsed": false,
    "pycharm": {
     "name": "#%%\n"
    }
   }
  },
  {
   "cell_type": "code",
   "execution_count": 4,
   "outputs": [],
   "source": [
    "data.to_csv('data')"
   ],
   "metadata": {
    "collapsed": false,
    "pycharm": {
     "name": "#%%\n"
    }
   }
  },
  {
   "cell_type": "code",
   "execution_count": 5,
   "outputs": [],
   "source": [
    "# split to train & Test\n",
    "X_train, X_test, y_train, y_test = train_test_split(data.drop(predict_col,axis=1, inplace=False), data[predict_col], test_size=0.2, random_state=0)"
   ],
   "metadata": {
    "collapsed": false,
    "pycharm": {
     "name": "#%%\n"
    }
   }
  },
  {
   "cell_type": "markdown",
   "source": [
    "Create Pipeline"
   ],
   "metadata": {
    "collapsed": false
   }
  },
  {
   "cell_type": "code",
   "execution_count": 6,
   "outputs": [
    {
     "data": {
      "text/plain": "ColumnTransformer(transformers=[('numeric_linear_processor',\n                                 Pipeline(steps=[('Polynomial',\n                                                  PolynomialFeatures(interaction_only=True)),\n                                                 ('Scaler', StandardScaler())]),\n                                 ['Waiting Time (Days)']),\n                                ('cat_linear_processor', OneHotEncoder(),\n                                 ['Vessel Type']),\n                                ('date_linear_processor',\n                                 Pipeline(steps=[('ProcessDates',\n                                                  ProcessDates()),\n                                                 ('ProcessHolidays',\n                                                  ProcessHolidays(...\n                                  'Capesize Unladen (DWT)', 'Panamax (DWT)',\n                                  'Panamax Laden (DWT)',\n                                  'Panamax Unladen (DWT)', 'Handymax (DWT)',\n                                  'Handymax Laden (DWT)',\n                                  'Handymax Unladen (DWT)', 'Handysize (DWT)',\n                                  'Handysize Laden (DWT)',\n                                  'Handysize Unladen (DWT)']),\n                                ('weather_linear_processor',\n                                 Pipeline(steps=[('CreateDummyCol',\n                                                  CreateDummyCol()),\n                                                 ('ProcessWeather',\n                                                  ProcessWeather()),\n                                                 ('ProcessWSpd',\n                                                  ProcessWSpd())]),\n                                 ['tempt', 'prcp', 'wspd'])])",
      "text/html": "<style>#sk-79cd4b94-1188-45a5-b1da-7af414bbeda8 {color: black;background-color: white;}#sk-79cd4b94-1188-45a5-b1da-7af414bbeda8 pre{padding: 0;}#sk-79cd4b94-1188-45a5-b1da-7af414bbeda8 div.sk-toggleable {background-color: white;}#sk-79cd4b94-1188-45a5-b1da-7af414bbeda8 label.sk-toggleable__label {cursor: pointer;display: block;width: 100%;margin-bottom: 0;padding: 0.3em;box-sizing: border-box;text-align: center;}#sk-79cd4b94-1188-45a5-b1da-7af414bbeda8 label.sk-toggleable__label-arrow:before {content: \"▸\";float: left;margin-right: 0.25em;color: #696969;}#sk-79cd4b94-1188-45a5-b1da-7af414bbeda8 label.sk-toggleable__label-arrow:hover:before {color: black;}#sk-79cd4b94-1188-45a5-b1da-7af414bbeda8 div.sk-estimator:hover label.sk-toggleable__label-arrow:before {color: black;}#sk-79cd4b94-1188-45a5-b1da-7af414bbeda8 div.sk-toggleable__content {max-height: 0;max-width: 0;overflow: hidden;text-align: left;background-color: #f0f8ff;}#sk-79cd4b94-1188-45a5-b1da-7af414bbeda8 div.sk-toggleable__content pre {margin: 0.2em;color: black;border-radius: 0.25em;background-color: #f0f8ff;}#sk-79cd4b94-1188-45a5-b1da-7af414bbeda8 input.sk-toggleable__control:checked~div.sk-toggleable__content {max-height: 200px;max-width: 100%;overflow: auto;}#sk-79cd4b94-1188-45a5-b1da-7af414bbeda8 input.sk-toggleable__control:checked~label.sk-toggleable__label-arrow:before {content: \"▾\";}#sk-79cd4b94-1188-45a5-b1da-7af414bbeda8 div.sk-estimator input.sk-toggleable__control:checked~label.sk-toggleable__label {background-color: #d4ebff;}#sk-79cd4b94-1188-45a5-b1da-7af414bbeda8 div.sk-label input.sk-toggleable__control:checked~label.sk-toggleable__label {background-color: #d4ebff;}#sk-79cd4b94-1188-45a5-b1da-7af414bbeda8 input.sk-hidden--visually {border: 0;clip: rect(1px 1px 1px 1px);clip: rect(1px, 1px, 1px, 1px);height: 1px;margin: -1px;overflow: hidden;padding: 0;position: absolute;width: 1px;}#sk-79cd4b94-1188-45a5-b1da-7af414bbeda8 div.sk-estimator {font-family: monospace;background-color: #f0f8ff;border: 1px dotted black;border-radius: 0.25em;box-sizing: border-box;margin-bottom: 0.5em;}#sk-79cd4b94-1188-45a5-b1da-7af414bbeda8 div.sk-estimator:hover {background-color: #d4ebff;}#sk-79cd4b94-1188-45a5-b1da-7af414bbeda8 div.sk-parallel-item::after {content: \"\";width: 100%;border-bottom: 1px solid gray;flex-grow: 1;}#sk-79cd4b94-1188-45a5-b1da-7af414bbeda8 div.sk-label:hover label.sk-toggleable__label {background-color: #d4ebff;}#sk-79cd4b94-1188-45a5-b1da-7af414bbeda8 div.sk-serial::before {content: \"\";position: absolute;border-left: 1px solid gray;box-sizing: border-box;top: 2em;bottom: 0;left: 50%;}#sk-79cd4b94-1188-45a5-b1da-7af414bbeda8 div.sk-serial {display: flex;flex-direction: column;align-items: center;background-color: white;padding-right: 0.2em;padding-left: 0.2em;}#sk-79cd4b94-1188-45a5-b1da-7af414bbeda8 div.sk-item {z-index: 1;}#sk-79cd4b94-1188-45a5-b1da-7af414bbeda8 div.sk-parallel {display: flex;align-items: stretch;justify-content: center;background-color: white;}#sk-79cd4b94-1188-45a5-b1da-7af414bbeda8 div.sk-parallel::before {content: \"\";position: absolute;border-left: 1px solid gray;box-sizing: border-box;top: 2em;bottom: 0;left: 50%;}#sk-79cd4b94-1188-45a5-b1da-7af414bbeda8 div.sk-parallel-item {display: flex;flex-direction: column;position: relative;background-color: white;}#sk-79cd4b94-1188-45a5-b1da-7af414bbeda8 div.sk-parallel-item:first-child::after {align-self: flex-end;width: 50%;}#sk-79cd4b94-1188-45a5-b1da-7af414bbeda8 div.sk-parallel-item:last-child::after {align-self: flex-start;width: 50%;}#sk-79cd4b94-1188-45a5-b1da-7af414bbeda8 div.sk-parallel-item:only-child::after {width: 0;}#sk-79cd4b94-1188-45a5-b1da-7af414bbeda8 div.sk-dashed-wrapped {border: 1px dashed gray;margin: 0 0.4em 0.5em 0.4em;box-sizing: border-box;padding-bottom: 0.4em;background-color: white;position: relative;}#sk-79cd4b94-1188-45a5-b1da-7af414bbeda8 div.sk-label label {font-family: monospace;font-weight: bold;background-color: white;display: inline-block;line-height: 1.2em;}#sk-79cd4b94-1188-45a5-b1da-7af414bbeda8 div.sk-label-container {position: relative;z-index: 2;text-align: center;}#sk-79cd4b94-1188-45a5-b1da-7af414bbeda8 div.sk-container {/* jupyter's `normalize.less` sets `[hidden] { display: none; }` but bootstrap.min.css set `[hidden] { display: none !important; }` so we also need the `!important` here to be able to override the default hidden behavior on the sphinx rendered scikit-learn.org. See: https://github.com/scikit-learn/scikit-learn/issues/21755 */display: inline-block !important;position: relative;}#sk-79cd4b94-1188-45a5-b1da-7af414bbeda8 div.sk-text-repr-fallback {display: none;}</style><div id=\"sk-79cd4b94-1188-45a5-b1da-7af414bbeda8\" class=\"sk-top-container\"><div class=\"sk-text-repr-fallback\"><pre>ColumnTransformer(transformers=[(&#x27;numeric_linear_processor&#x27;,\n                                 Pipeline(steps=[(&#x27;Polynomial&#x27;,\n                                                  PolynomialFeatures(interaction_only=True)),\n                                                 (&#x27;Scaler&#x27;, StandardScaler())]),\n                                 [&#x27;Waiting Time (Days)&#x27;]),\n                                (&#x27;cat_linear_processor&#x27;, OneHotEncoder(),\n                                 [&#x27;Vessel Type&#x27;]),\n                                (&#x27;date_linear_processor&#x27;,\n                                 Pipeline(steps=[(&#x27;ProcessDates&#x27;,\n                                                  ProcessDates()),\n                                                 (&#x27;ProcessHolidays&#x27;,\n                                                  ProcessHolidays(...\n                                  &#x27;Capesize Unladen (DWT)&#x27;, &#x27;Panamax (DWT)&#x27;,\n                                  &#x27;Panamax Laden (DWT)&#x27;,\n                                  &#x27;Panamax Unladen (DWT)&#x27;, &#x27;Handymax (DWT)&#x27;,\n                                  &#x27;Handymax Laden (DWT)&#x27;,\n                                  &#x27;Handymax Unladen (DWT)&#x27;, &#x27;Handysize (DWT)&#x27;,\n                                  &#x27;Handysize Laden (DWT)&#x27;,\n                                  &#x27;Handysize Unladen (DWT)&#x27;]),\n                                (&#x27;weather_linear_processor&#x27;,\n                                 Pipeline(steps=[(&#x27;CreateDummyCol&#x27;,\n                                                  CreateDummyCol()),\n                                                 (&#x27;ProcessWeather&#x27;,\n                                                  ProcessWeather()),\n                                                 (&#x27;ProcessWSpd&#x27;,\n                                                  ProcessWSpd())]),\n                                 [&#x27;tempt&#x27;, &#x27;prcp&#x27;, &#x27;wspd&#x27;])])</pre><b>Please rerun this cell to show the HTML repr or trust the notebook.</b></div><div class=\"sk-container\" hidden><div class=\"sk-item sk-dashed-wrapped\"><div class=\"sk-label-container\"><div class=\"sk-label sk-toggleable\"><input class=\"sk-toggleable__control sk-hidden--visually\" id=\"a1e9ff6f-adab-49bd-958c-0d891d843a14\" type=\"checkbox\" ><label for=\"a1e9ff6f-adab-49bd-958c-0d891d843a14\" class=\"sk-toggleable__label sk-toggleable__label-arrow\">ColumnTransformer</label><div class=\"sk-toggleable__content\"><pre>ColumnTransformer(transformers=[(&#x27;numeric_linear_processor&#x27;,\n                                 Pipeline(steps=[(&#x27;Polynomial&#x27;,\n                                                  PolynomialFeatures(interaction_only=True)),\n                                                 (&#x27;Scaler&#x27;, StandardScaler())]),\n                                 [&#x27;Waiting Time (Days)&#x27;]),\n                                (&#x27;cat_linear_processor&#x27;, OneHotEncoder(),\n                                 [&#x27;Vessel Type&#x27;]),\n                                (&#x27;date_linear_processor&#x27;,\n                                 Pipeline(steps=[(&#x27;ProcessDates&#x27;,\n                                                  ProcessDates()),\n                                                 (&#x27;ProcessHolidays&#x27;,\n                                                  ProcessHolidays(...\n                                  &#x27;Capesize Unladen (DWT)&#x27;, &#x27;Panamax (DWT)&#x27;,\n                                  &#x27;Panamax Laden (DWT)&#x27;,\n                                  &#x27;Panamax Unladen (DWT)&#x27;, &#x27;Handymax (DWT)&#x27;,\n                                  &#x27;Handymax Laden (DWT)&#x27;,\n                                  &#x27;Handymax Unladen (DWT)&#x27;, &#x27;Handysize (DWT)&#x27;,\n                                  &#x27;Handysize Laden (DWT)&#x27;,\n                                  &#x27;Handysize Unladen (DWT)&#x27;]),\n                                (&#x27;weather_linear_processor&#x27;,\n                                 Pipeline(steps=[(&#x27;CreateDummyCol&#x27;,\n                                                  CreateDummyCol()),\n                                                 (&#x27;ProcessWeather&#x27;,\n                                                  ProcessWeather()),\n                                                 (&#x27;ProcessWSpd&#x27;,\n                                                  ProcessWSpd())]),\n                                 [&#x27;tempt&#x27;, &#x27;prcp&#x27;, &#x27;wspd&#x27;])])</pre></div></div></div><div class=\"sk-parallel\"><div class=\"sk-parallel-item\"><div class=\"sk-item\"><div class=\"sk-label-container\"><div class=\"sk-label sk-toggleable\"><input class=\"sk-toggleable__control sk-hidden--visually\" id=\"e994ea06-622e-4de9-b38a-50c9f51547eb\" type=\"checkbox\" ><label for=\"e994ea06-622e-4de9-b38a-50c9f51547eb\" class=\"sk-toggleable__label sk-toggleable__label-arrow\">numeric_linear_processor</label><div class=\"sk-toggleable__content\"><pre>[&#x27;Waiting Time (Days)&#x27;]</pre></div></div></div><div class=\"sk-serial\"><div class=\"sk-item\"><div class=\"sk-serial\"><div class=\"sk-item\"><div class=\"sk-estimator sk-toggleable\"><input class=\"sk-toggleable__control sk-hidden--visually\" id=\"0f892398-838d-45b3-9c0b-c434ad7b3f4c\" type=\"checkbox\" ><label for=\"0f892398-838d-45b3-9c0b-c434ad7b3f4c\" class=\"sk-toggleable__label sk-toggleable__label-arrow\">PolynomialFeatures</label><div class=\"sk-toggleable__content\"><pre>PolynomialFeatures(interaction_only=True)</pre></div></div></div><div class=\"sk-item\"><div class=\"sk-estimator sk-toggleable\"><input class=\"sk-toggleable__control sk-hidden--visually\" id=\"44550150-edfa-48f2-ad9b-900b6ee14423\" type=\"checkbox\" ><label for=\"44550150-edfa-48f2-ad9b-900b6ee14423\" class=\"sk-toggleable__label sk-toggleable__label-arrow\">StandardScaler</label><div class=\"sk-toggleable__content\"><pre>StandardScaler()</pre></div></div></div></div></div></div></div></div><div class=\"sk-parallel-item\"><div class=\"sk-item\"><div class=\"sk-label-container\"><div class=\"sk-label sk-toggleable\"><input class=\"sk-toggleable__control sk-hidden--visually\" id=\"604970d4-1ef2-4fe5-886a-7112ea5d2286\" type=\"checkbox\" ><label for=\"604970d4-1ef2-4fe5-886a-7112ea5d2286\" class=\"sk-toggleable__label sk-toggleable__label-arrow\">cat_linear_processor</label><div class=\"sk-toggleable__content\"><pre>[&#x27;Vessel Type&#x27;]</pre></div></div></div><div class=\"sk-serial\"><div class=\"sk-item\"><div class=\"sk-estimator sk-toggleable\"><input class=\"sk-toggleable__control sk-hidden--visually\" id=\"d823fe69-d0e9-4b60-8995-eb66088c1457\" type=\"checkbox\" ><label for=\"d823fe69-d0e9-4b60-8995-eb66088c1457\" class=\"sk-toggleable__label sk-toggleable__label-arrow\">OneHotEncoder</label><div class=\"sk-toggleable__content\"><pre>OneHotEncoder()</pre></div></div></div></div></div></div><div class=\"sk-parallel-item\"><div class=\"sk-item\"><div class=\"sk-label-container\"><div class=\"sk-label sk-toggleable\"><input class=\"sk-toggleable__control sk-hidden--visually\" id=\"5a9c092c-4407-4a8d-9fb0-b9e07358cade\" type=\"checkbox\" ><label for=\"5a9c092c-4407-4a8d-9fb0-b9e07358cade\" class=\"sk-toggleable__label sk-toggleable__label-arrow\">date_linear_processor</label><div class=\"sk-toggleable__content\"><pre>[&#x27;Date&#x27;]</pre></div></div></div><div class=\"sk-serial\"><div class=\"sk-item\"><div class=\"sk-serial\"><div class=\"sk-item\"><div class=\"sk-estimator sk-toggleable\"><input class=\"sk-toggleable__control sk-hidden--visually\" id=\"c4740099-f877-431f-b228-650952f67c37\" type=\"checkbox\" ><label for=\"c4740099-f877-431f-b228-650952f67c37\" class=\"sk-toggleable__label sk-toggleable__label-arrow\">ProcessDates</label><div class=\"sk-toggleable__content\"><pre>ProcessDates()</pre></div></div></div><div class=\"sk-item\"><div class=\"sk-estimator sk-toggleable\"><input class=\"sk-toggleable__control sk-hidden--visually\" id=\"f89187b2-a5c6-4268-8fd1-4c3846069bea\" type=\"checkbox\" ><label for=\"f89187b2-a5c6-4268-8fd1-4c3846069bea\" class=\"sk-toggleable__label sk-toggleable__label-arrow\">ProcessHolidays</label><div class=\"sk-toggleable__content\"><pre>ProcessHolidays()</pre></div></div></div><div class=\"sk-item\"><div class=\"sk-estimator sk-toggleable\"><input class=\"sk-toggleable__control sk-hidden--visually\" id=\"c2a50b21-0a28-481c-b1cd-619dc41b7f9c\" type=\"checkbox\" ><label for=\"c2a50b21-0a28-481c-b1cd-619dc41b7f9c\" class=\"sk-toggleable__label sk-toggleable__label-arrow\">DropCol</label><div class=\"sk-toggleable__content\"><pre>DropCol(cols=[&#x27;Date&#x27;])</pre></div></div></div></div></div></div></div></div><div class=\"sk-parallel-item\"><div class=\"sk-item\"><div class=\"sk-label-container\"><div class=\"sk-label sk-toggleable\"><input class=\"sk-toggleable__control sk-hidden--visually\" id=\"7b3723bb-265f-4680-b04f-eb483cfbdffe\" type=\"checkbox\" ><label for=\"7b3723bb-265f-4680-b04f-eb483cfbdffe\" class=\"sk-toggleable__label sk-toggleable__label-arrow\">vessel_linear_processor</label><div class=\"sk-toggleable__content\"><pre>[&#x27;Total Vessels (Number)&#x27;, &#x27;Capesize&#x27;, &#x27;Capesize Laden&#x27;, &#x27;Capesize Unladen&#x27;, &#x27;Panamax&#x27;, &#x27;Panamax Laden&#x27;, &#x27;Panamax Unladen&#x27;, &#x27;Handymax&#x27;, &#x27;Handymax Laden&#x27;, &#x27;Handymax Unladen&#x27;, &#x27;Handysize&#x27;, &#x27;Handysize Laden&#x27;, &#x27;Handysize Unladen&#x27;, &#x27;Total Vessels (DWT)&#x27;, &#x27;Capesize (DWT)&#x27;, &#x27;Capesize Laden (DWT)&#x27;, &#x27;Capesize Unladen (DWT)&#x27;, &#x27;Panamax (DWT)&#x27;, &#x27;Panamax Laden (DWT)&#x27;, &#x27;Panamax Unladen (DWT)&#x27;, &#x27;Handymax (DWT)&#x27;, &#x27;Handymax Laden (DWT)&#x27;, &#x27;Handymax Unladen (DWT)&#x27;, &#x27;Handysize (DWT)&#x27;, &#x27;Handysize Laden (DWT)&#x27;, &#x27;Handysize Unladen (DWT)&#x27;]</pre></div></div></div><div class=\"sk-serial\"><div class=\"sk-item\"><div class=\"sk-serial\"><div class=\"sk-item\"><div class=\"sk-estimator sk-toggleable\"><input class=\"sk-toggleable__control sk-hidden--visually\" id=\"b6077624-c06d-417f-a13a-9fcb98127845\" type=\"checkbox\" ><label for=\"b6077624-c06d-417f-a13a-9fcb98127845\" class=\"sk-toggleable__label sk-toggleable__label-arrow\">CreateDummyCol</label><div class=\"sk-toggleable__content\"><pre>CreateDummyCol()</pre></div></div></div><div class=\"sk-item\"><div class=\"sk-estimator sk-toggleable\"><input class=\"sk-toggleable__control sk-hidden--visually\" id=\"2e71f223-dbe1-48d4-8f99-a07a48ceef60\" type=\"checkbox\" ><label for=\"2e71f223-dbe1-48d4-8f99-a07a48ceef60\" class=\"sk-toggleable__label sk-toggleable__label-arrow\">ProcessVessel</label><div class=\"sk-toggleable__content\"><pre>ProcessVessel(dwt_cols=[&#x27;Total Vessels (DWT)&#x27;, &#x27;Capesize (DWT)&#x27;,\n                        &#x27;Capesize Laden (DWT)&#x27;, &#x27;Capesize Unladen (DWT)&#x27;,\n                        &#x27;Panamax (DWT)&#x27;, &#x27;Panamax Laden (DWT)&#x27;,\n                        &#x27;Panamax Unladen (DWT)&#x27;, &#x27;Handymax (DWT)&#x27;,\n                        &#x27;Handymax Laden (DWT)&#x27;, &#x27;Handymax Unladen (DWT)&#x27;,\n                        &#x27;Handysize (DWT)&#x27;, &#x27;Handysize Laden (DWT)&#x27;,\n                        &#x27;Handysize Unladen (DWT)&#x27;],\n              vessel_cols=[&#x27;Total Vessels (Number)&#x27;, &#x27;Capesize&#x27;,\n                           &#x27;Capesize Laden&#x27;, &#x27;Capesize Unladen&#x27;, &#x27;Panamax&#x27;,\n                           &#x27;Panamax Laden&#x27;, &#x27;Panamax Unladen&#x27;, &#x27;Handymax&#x27;,\n                           &#x27;Handymax Laden&#x27;, &#x27;Handymax Unladen&#x27;, &#x27;Handysize&#x27;,\n                           &#x27;Handysize Laden&#x27;, &#x27;Handysize Unladen&#x27;])</pre></div></div></div></div></div></div></div></div><div class=\"sk-parallel-item\"><div class=\"sk-item\"><div class=\"sk-label-container\"><div class=\"sk-label sk-toggleable\"><input class=\"sk-toggleable__control sk-hidden--visually\" id=\"4995ae71-243c-4ef2-a858-c5c350269c76\" type=\"checkbox\" ><label for=\"4995ae71-243c-4ef2-a858-c5c350269c76\" class=\"sk-toggleable__label sk-toggleable__label-arrow\">weather_linear_processor</label><div class=\"sk-toggleable__content\"><pre>[&#x27;tempt&#x27;, &#x27;prcp&#x27;, &#x27;wspd&#x27;]</pre></div></div></div><div class=\"sk-serial\"><div class=\"sk-item\"><div class=\"sk-serial\"><div class=\"sk-item\"><div class=\"sk-estimator sk-toggleable\"><input class=\"sk-toggleable__control sk-hidden--visually\" id=\"ce1deb7f-20f1-4031-89aa-4329bc13b2c8\" type=\"checkbox\" ><label for=\"ce1deb7f-20f1-4031-89aa-4329bc13b2c8\" class=\"sk-toggleable__label sk-toggleable__label-arrow\">CreateDummyCol</label><div class=\"sk-toggleable__content\"><pre>CreateDummyCol()</pre></div></div></div><div class=\"sk-item\"><div class=\"sk-estimator sk-toggleable\"><input class=\"sk-toggleable__control sk-hidden--visually\" id=\"25bbef5d-304d-4f00-8561-ce3852fb2528\" type=\"checkbox\" ><label for=\"25bbef5d-304d-4f00-8561-ce3852fb2528\" class=\"sk-toggleable__label sk-toggleable__label-arrow\">ProcessWeather</label><div class=\"sk-toggleable__content\"><pre>ProcessWeather()</pre></div></div></div><div class=\"sk-item\"><div class=\"sk-estimator sk-toggleable\"><input class=\"sk-toggleable__control sk-hidden--visually\" id=\"e5e4f49e-7625-40d9-87f8-dd4ccb5294a2\" type=\"checkbox\" ><label for=\"e5e4f49e-7625-40d9-87f8-dd4ccb5294a2\" class=\"sk-toggleable__label sk-toggleable__label-arrow\">ProcessWSpd</label><div class=\"sk-toggleable__content\"><pre>ProcessWSpd()</pre></div></div></div></div></div></div></div></div></div></div></div></div>"
     },
     "execution_count": 6,
     "metadata": {},
     "output_type": "execute_result"
    }
   ],
   "source": [
    "date_linear_processor = pipeline.Pipeline([('ProcessDates',ProcessDates()),('ProcessHolidays',ProcessHolidays()),('DropDate',DropCol(cols=date_cols))])\n",
    "numeric_linear_processor = pipeline.Pipeline([('Polynomial',PolynomialFeatures(degree=2,interaction_only =True,include_bias=True)),('Scaler',StandardScaler())])\n",
    "cat_linear_processor = OneHotEncoder()\n",
    "vessel_linear_processor = pipeline.Pipeline([('CreateDummyCol',CreateDummyCol()),('ProcessVessel',ProcessVessel(vessel_cols=vessel_cols,dwt_cols=dwt_cols))])\n",
    "weather_linear_processor = pipeline.Pipeline([('CreateDummyCol',CreateDummyCol()),('ProcessWeather',ProcessWeather()),('ProcessWSpd',ProcessWSpd())])\n",
    "\n",
    "data_preprocessor = ColumnTransformer([\n",
    "    ('numeric_linear_processor',numeric_linear_processor, numeric_cols),\n",
    "    ('cat_linear_processor',cat_linear_processor, categorical_cols),\n",
    "    ('date_linear_processor',date_linear_processor, date_cols),\n",
    "    ('vessel_linear_processor',vessel_linear_processor, vessel_cols+dwt_cols),\n",
    "    ('weather_linear_processor',weather_linear_processor, weather_cols)\n",
    "])\n",
    "data_preprocessor\n"
   ],
   "metadata": {
    "collapsed": false,
    "pycharm": {
     "name": "#%%\n"
    }
   }
  },
  {
   "cell_type": "markdown",
   "source": [
    "Regressor model"
   ],
   "metadata": {
    "collapsed": false
   }
  },
  {
   "cell_type": "code",
   "execution_count": 7,
   "outputs": [],
   "source": [
    "param_grid = {\n",
    "    ## Preprocessing parameter options\n",
    "    'columntransformer__date_linear_processor__ProcessDates': [ProcessDates(),None],\n",
    "    'columntransformer__date_linear_processor__ProcessHolidays': [ProcessHolidays(),None],\n",
    "    'columntransformer__weather_linear_processor__ProcessWeather__action': ['actual','drop'],\n",
    "    'columntransformer__weather_linear_processor__ProcessWSpd__action': ['actual','cat','drop'],\n",
    "    # 'columntransformer__vessel_linear_processor__ProcessWSpd__action': ['actual','cat','drop'],\n",
    "    'columntransformer__vessel_linear_processor__ProcessVessel__usage': ['both','dwt','vessel'],\n",
    "\n",
    "\n",
    "    ## ElasticNet hyper parameters\n",
    "    'ElasticNet__regressor__alpha': np.linspace(0, 1, num=10),\n",
    "    # 'ElasticNet__regressor__alpha': np.linspace(0, 1, num=2),\n",
    "    'ElasticNet__regressor__l1_ratio': np.linspace(0, 1, num=10),\n",
    "\n",
    "    ## XGBoost hyper parameters\n",
    "    'XGBoost__regressor__reg_lambda': [0,0.1,0.5,1,5],\n",
    "    'XGBoost__regressor__n_estimators': [200,400,600,800,1200],\n",
    "    'XGBoost__regressor__learning_rate': np.linspace(0.05, 0.5, num=5),\n",
    "    'XGBoost__regressor__max_depth': [-1,5,10,20,30,50,100],\n",
    "\n",
    "    ## RandomForest hyper parameters\n",
    "    'RandomForest__regressor__min_impurity_decrease': np.linspace(0.1, 0.5, num=4),\n",
    "    'RandomForest__regressor__min_samples_leaf': [2,5,10,20,50],\n",
    "    'RandomForest__regressor__min_samples_split': [2,5,10,20],\n",
    "    'RandomForest__regressor__n_estimators': range(100,400,100),\n",
    "\n",
    "    ## LGBM hyper parameters\n",
    "    'LGBM__regressor__boosting_type': ['dart','goss','gbdt'],\n",
    "    'LGBM__regressor__learning_rate': np.linspace(0.05, 0.5, num=5),\n",
    "    'LGBM__regressor__max_depth': [-1,5,10,20,30,50,100],\n",
    "    'LGBM__regressor____n_estimators': [200,400,600,800,1200],\n",
    "}"
   ],
   "metadata": {
    "collapsed": false,
    "pycharm": {
     "name": "#%%\n"
    }
   }
  },
  {
   "cell_type": "code",
   "execution_count": 1,
   "outputs": [
    {
     "name": "stderr",
     "output_type": "stream",
     "text": [
      "c:\\users\\rawwi\\onedrive\\school\\nus\\current sem\\python\\lib\\site-packages\\xgboost\\compat.py:36: FutureWarning: pandas.Int64Index is deprecated and will be removed from pandas in a future version. Use pandas.Index with the appropriate dtype instead.\n",
      "  from pandas import MultiIndex, Int64Index\n"
     ]
    },
    {
     "ename": "NameError",
     "evalue": "name 'pipeline' is not defined",
     "output_type": "error",
     "traceback": [
      "\u001B[1;31m---------------------------------------------------------------------------\u001B[0m",
      "\u001B[1;31mNameError\u001B[0m                                 Traceback (most recent call last)",
      "\u001B[1;32m~\\AppData\\Local\\Temp\\ipykernel_19508\\115666735.py\u001B[0m in \u001B[0;36m<cell line: 13>\u001B[1;34m()\u001B[0m\n\u001B[0;32m     12\u001B[0m \u001B[0mfinalestimators\u001B[0m \u001B[1;33m=\u001B[0m \u001B[1;33m[\u001B[0m\u001B[1;33m]\u001B[0m\u001B[1;33m\u001B[0m\u001B[1;33m\u001B[0m\u001B[0m\n\u001B[0;32m     13\u001B[0m \u001B[1;32mfor\u001B[0m \u001B[0mestimator\u001B[0m\u001B[1;33m,\u001B[0m \u001B[0mmodel\u001B[0m \u001B[1;32min\u001B[0m \u001B[0mestimators\u001B[0m\u001B[1;33m:\u001B[0m\u001B[1;33m\u001B[0m\u001B[1;33m\u001B[0m\u001B[0m\n\u001B[1;32m---> 14\u001B[1;33m     \u001B[0mfinalestimators\u001B[0m\u001B[1;33m.\u001B[0m\u001B[0mappend\u001B[0m\u001B[1;33m(\u001B[0m\u001B[1;33m(\u001B[0m\u001B[0mestimator\u001B[0m\u001B[1;33m,\u001B[0m\u001B[0mpipeline\u001B[0m\u001B[1;33m.\u001B[0m\u001B[0mPipeline\u001B[0m\u001B[1;33m(\u001B[0m\u001B[1;33m[\u001B[0m\u001B[1;33m(\u001B[0m\u001B[1;34m'columntransformer'\u001B[0m\u001B[1;33m,\u001B[0m\u001B[0mdata_preprocessor\u001B[0m\u001B[1;33m)\u001B[0m\u001B[1;33m,\u001B[0m\u001B[1;33m(\u001B[0m\u001B[1;34m'DropZeroCol'\u001B[0m\u001B[1;33m,\u001B[0m\u001B[0mDropZeroCol\u001B[0m\u001B[1;33m(\u001B[0m\u001B[1;33m)\u001B[0m\u001B[1;33m)\u001B[0m\u001B[1;33m,\u001B[0m\u001B[1;33m(\u001B[0m\u001B[1;34m'regressor'\u001B[0m\u001B[1;33m,\u001B[0m\u001B[0mmodel\u001B[0m\u001B[1;33m)\u001B[0m\u001B[1;33m]\u001B[0m\u001B[1;33m)\u001B[0m\u001B[1;33m)\u001B[0m\u001B[1;33m)\u001B[0m\u001B[1;33m\u001B[0m\u001B[1;33m\u001B[0m\u001B[0m\n\u001B[0m\u001B[0;32m     15\u001B[0m \u001B[0mfinal_estimator\u001B[0m\u001B[1;33m=\u001B[0m\u001B[0mLGBMRegressor\u001B[0m\u001B[1;33m(\u001B[0m\u001B[0mobjective\u001B[0m\u001B[1;33m=\u001B[0m\u001B[1;34m'regression'\u001B[0m\u001B[1;33m,\u001B[0m\u001B[0mrandom_state\u001B[0m\u001B[1;33m=\u001B[0m\u001B[1;36m0\u001B[0m\u001B[1;33m,\u001B[0m\u001B[0mn_jobs\u001B[0m\u001B[1;33m=\u001B[0m\u001B[1;33m-\u001B[0m\u001B[1;36m1\u001B[0m\u001B[1;33m,\u001B[0m\u001B[0mdevice\u001B[0m \u001B[1;33m=\u001B[0m \u001B[1;34m'gpu'\u001B[0m\u001B[1;33m)\u001B[0m\u001B[1;33m\u001B[0m\u001B[1;33m\u001B[0m\u001B[0m\n\u001B[0;32m     16\u001B[0m \u001B[0mstacking_Regressor\u001B[0m \u001B[1;33m=\u001B[0m \u001B[0mStackingRegressor\u001B[0m\u001B[1;33m(\u001B[0m\u001B[0mestimators\u001B[0m\u001B[1;33m=\u001B[0m\u001B[0mfinalestimators\u001B[0m\u001B[1;33m,\u001B[0m \u001B[0mfinal_estimator\u001B[0m\u001B[1;33m=\u001B[0m\u001B[0mfinal_estimator\u001B[0m\u001B[1;33m,\u001B[0m\u001B[0mn_jobs\u001B[0m\u001B[1;33m=\u001B[0m\u001B[1;33m-\u001B[0m\u001B[1;36m1\u001B[0m\u001B[1;33m)\u001B[0m\u001B[1;33m\u001B[0m\u001B[1;33m\u001B[0m\u001B[0m\n",
      "\u001B[1;31mNameError\u001B[0m: name 'pipeline' is not defined"
     ]
    }
   ],
   "source": [
    "from sklearn.linear_model import ElasticNet\n",
    "from sklearn.ensemble import RandomForestRegressor,  GradientBoostingRegressor\n",
    "from xgboost import XGBRegressor\n",
    "from lightgbm  import LGBMRegressor\n",
    "from sklearn.ensemble import StackingRegressor\n",
    "estimators = [\n",
    "    (\"ElasticNet\", ElasticNet(random_state=0)),\n",
    "    (\"XGBoost\", XGBRegressor(objective='reg:squarederror',eval_metric='rmse',random_state=0,n_jobs=-1,use_label_encoder=False,  tree_method = 'gpu_hist')),\n",
    "    (\"RandomForest\", RandomForestRegressor(random_state=0,n_jobs=-1)),\n",
    "    (\"LGBM\", LGBMRegressor(objective='regression',random_state=0,n_jobs=-1,device = 'gpu')),\n",
    "]\n",
    "finalestimators = []\n",
    "for estimator, model in estimators:\n",
    "    finalestimators.append((estimator,pipeline.Pipeline([('columntransformer',data_preprocessor),('DropZeroCol',DropZeroCol()),('regressor',model)])))\n",
    "final_estimator=LGBMRegressor(objective='regression',random_state=0,n_jobs=-1,device = 'gpu')\n",
    "stacking_Regressor = StackingRegressor(estimators=finalestimators, final_estimator=final_estimator,n_jobs=-1)\n",
    "# finalPipe = pipeline.make_pipeline(data_preprocessor,stacking_Regressor)\n",
    "stacking_Regressor"
   ],
   "metadata": {
    "collapsed": false,
    "pycharm": {
     "name": "#%%\n"
    }
   }
  },
  {
   "cell_type": "code",
   "execution_count": 9,
   "outputs": [
    {
     "name": "stdout",
     "output_type": "stream",
     "text": [
      "Tuning Model  ElasticNet with params:\n",
      " {'columntransformer__date_linear_processor__ProcessDates': [ProcessDates(), None], 'columntransformer__date_linear_processor__ProcessHolidays': [ProcessHolidays(), None], 'columntransformer__weather_linear_processor__ProcessWeather__action': ['actual', 'drop'], 'columntransformer__weather_linear_processor__ProcessWSpd__action': ['actual', 'cat', 'drop'], 'columntransformer__vessel_linear_processor__ProcessVessel__usage': ['both', 'dwt', 'vessel'], 'regressor__alpha': array([0.        , 0.11111111, 0.22222222, 0.33333333, 0.44444444,\n",
      "       0.55555556, 0.66666667, 0.77777778, 0.88888889, 1.        ]), 'regressor__l1_ratio': array([0.        , 0.11111111, 0.22222222, 0.33333333, 0.44444444,\n",
      "       0.55555556, 0.66666667, 0.77777778, 0.88888889, 1.        ])} \n",
      "\n"
     ]
    },
    {
     "ename": "KeyboardInterrupt",
     "evalue": "",
     "output_type": "error",
     "traceback": [
      "\u001B[1;31m---------------------------------------------------------------------------\u001B[0m",
      "\u001B[1;31mKeyboardInterrupt\u001B[0m                         Traceback (most recent call last)",
      "\u001B[1;32m~\\AppData\\Local\\Temp\\ipykernel_24892\\430805068.py\u001B[0m in \u001B[0;36m<cell line: 6>\u001B[1;34m()\u001B[0m\n\u001B[0;32m     15\u001B[0m         \u001B[0mprint\u001B[0m\u001B[1;33m(\u001B[0m\u001B[1;34m'Tuning Model '\u001B[0m\u001B[1;33m,\u001B[0m\u001B[0mestimator\u001B[0m\u001B[1;33m[\u001B[0m\u001B[1;36m0\u001B[0m\u001B[1;33m]\u001B[0m\u001B[1;33m,\u001B[0m \u001B[1;34m\"with params:\\n\"\u001B[0m\u001B[1;33m,\u001B[0m  \u001B[0mmodelParam\u001B[0m\u001B[1;33m,\u001B[0m \u001B[1;34m'\\n'\u001B[0m\u001B[1;33m)\u001B[0m\u001B[1;33m\u001B[0m\u001B[1;33m\u001B[0m\u001B[0m\n\u001B[0;32m     16\u001B[0m         \u001B[0mgs\u001B[0m \u001B[1;33m=\u001B[0m \u001B[0mGridSearchCV\u001B[0m\u001B[1;33m(\u001B[0m\u001B[0mestimator\u001B[0m\u001B[1;33m=\u001B[0m\u001B[0mestimator\u001B[0m\u001B[1;33m[\u001B[0m\u001B[1;36m1\u001B[0m\u001B[1;33m]\u001B[0m\u001B[1;33m,\u001B[0m\u001B[0mparam_grid\u001B[0m\u001B[1;33m=\u001B[0m\u001B[0mmodelParam\u001B[0m\u001B[1;33m,\u001B[0m\u001B[0mscoring\u001B[0m \u001B[1;33m=\u001B[0m \u001B[1;34m'neg_root_mean_squared_error'\u001B[0m\u001B[1;33m,\u001B[0m\u001B[0mn_jobs\u001B[0m \u001B[1;33m=\u001B[0m \u001B[1;33m-\u001B[0m\u001B[1;36m1\u001B[0m\u001B[1;33m,\u001B[0m\u001B[0mcv\u001B[0m \u001B[1;33m=\u001B[0m \u001B[1;36m5\u001B[0m\u001B[1;33m,\u001B[0m\u001B[0mverbose\u001B[0m \u001B[1;33m=\u001B[0m \u001B[1;33m-\u001B[0m\u001B[1;36m1\u001B[0m\u001B[1;33m)\u001B[0m\u001B[1;33m\u001B[0m\u001B[1;33m\u001B[0m\u001B[0m\n\u001B[1;32m---> 17\u001B[1;33m         \u001B[0mgs\u001B[0m\u001B[1;33m.\u001B[0m\u001B[0mfit\u001B[0m\u001B[1;33m(\u001B[0m\u001B[0mX_train\u001B[0m\u001B[1;33m,\u001B[0m\u001B[0my_train\u001B[0m\u001B[1;33m)\u001B[0m\u001B[1;33m\u001B[0m\u001B[1;33m\u001B[0m\u001B[0m\n\u001B[0m\u001B[0;32m     18\u001B[0m         \u001B[0mprint\u001B[0m\u001B[1;33m(\u001B[0m\u001B[1;34m'Tuned Model '\u001B[0m\u001B[1;33m,\u001B[0m\u001B[0mestimator\u001B[0m\u001B[1;33m[\u001B[0m\u001B[1;36m0\u001B[0m\u001B[1;33m]\u001B[0m\u001B[1;33m,\u001B[0m \u001B[1;34m\" (RMSE = \"\u001B[0m\u001B[1;33m,\u001B[0m\u001B[1;34m\"{:.4f}\"\u001B[0m\u001B[1;33m.\u001B[0m\u001B[0mformat\u001B[0m\u001B[1;33m(\u001B[0m\u001B[0mabs\u001B[0m\u001B[1;33m(\u001B[0m\u001B[0mgs\u001B[0m\u001B[1;33m.\u001B[0m\u001B[0mbest_score_\u001B[0m\u001B[1;33m)\u001B[0m\u001B[1;33m)\u001B[0m\u001B[1;33m,\u001B[0m\u001B[1;34m\")\"\u001B[0m\u001B[1;33m)\u001B[0m\u001B[1;33m\u001B[0m\u001B[1;33m\u001B[0m\u001B[0m\n\u001B[0;32m     19\u001B[0m         \u001B[1;31m# print(\"Best params:\\n\",  gs.best_params_, '\\n')\u001B[0m\u001B[1;33m\u001B[0m\u001B[1;33m\u001B[0m\u001B[0m\n",
      "\u001B[1;32mc:\\users\\rawwi\\onedrive\\school\\nus\\current sem\\python\\lib\\site-packages\\sklearn\\model_selection\\_search.py\u001B[0m in \u001B[0;36mfit\u001B[1;34m(self, X, y, groups, **fit_params)\u001B[0m\n\u001B[0;32m    889\u001B[0m                 \u001B[1;32mreturn\u001B[0m \u001B[0mresults\u001B[0m\u001B[1;33m\u001B[0m\u001B[1;33m\u001B[0m\u001B[0m\n\u001B[0;32m    890\u001B[0m \u001B[1;33m\u001B[0m\u001B[0m\n\u001B[1;32m--> 891\u001B[1;33m             \u001B[0mself\u001B[0m\u001B[1;33m.\u001B[0m\u001B[0m_run_search\u001B[0m\u001B[1;33m(\u001B[0m\u001B[0mevaluate_candidates\u001B[0m\u001B[1;33m)\u001B[0m\u001B[1;33m\u001B[0m\u001B[1;33m\u001B[0m\u001B[0m\n\u001B[0m\u001B[0;32m    892\u001B[0m \u001B[1;33m\u001B[0m\u001B[0m\n\u001B[0;32m    893\u001B[0m             \u001B[1;31m# multimetric is determined here because in the case of a callable\u001B[0m\u001B[1;33m\u001B[0m\u001B[1;33m\u001B[0m\u001B[0m\n",
      "\u001B[1;32mc:\\users\\rawwi\\onedrive\\school\\nus\\current sem\\python\\lib\\site-packages\\sklearn\\model_selection\\_search.py\u001B[0m in \u001B[0;36m_run_search\u001B[1;34m(self, evaluate_candidates)\u001B[0m\n\u001B[0;32m   1390\u001B[0m     \u001B[1;32mdef\u001B[0m \u001B[0m_run_search\u001B[0m\u001B[1;33m(\u001B[0m\u001B[0mself\u001B[0m\u001B[1;33m,\u001B[0m \u001B[0mevaluate_candidates\u001B[0m\u001B[1;33m)\u001B[0m\u001B[1;33m:\u001B[0m\u001B[1;33m\u001B[0m\u001B[1;33m\u001B[0m\u001B[0m\n\u001B[0;32m   1391\u001B[0m         \u001B[1;34m\"\"\"Search all candidates in param_grid\"\"\"\u001B[0m\u001B[1;33m\u001B[0m\u001B[1;33m\u001B[0m\u001B[0m\n\u001B[1;32m-> 1392\u001B[1;33m         \u001B[0mevaluate_candidates\u001B[0m\u001B[1;33m(\u001B[0m\u001B[0mParameterGrid\u001B[0m\u001B[1;33m(\u001B[0m\u001B[0mself\u001B[0m\u001B[1;33m.\u001B[0m\u001B[0mparam_grid\u001B[0m\u001B[1;33m)\u001B[0m\u001B[1;33m)\u001B[0m\u001B[1;33m\u001B[0m\u001B[1;33m\u001B[0m\u001B[0m\n\u001B[0m\u001B[0;32m   1393\u001B[0m \u001B[1;33m\u001B[0m\u001B[0m\n\u001B[0;32m   1394\u001B[0m \u001B[1;33m\u001B[0m\u001B[0m\n",
      "\u001B[1;32mc:\\users\\rawwi\\onedrive\\school\\nus\\current sem\\python\\lib\\site-packages\\sklearn\\model_selection\\_search.py\u001B[0m in \u001B[0;36mevaluate_candidates\u001B[1;34m(candidate_params, cv, more_results)\u001B[0m\n\u001B[0;32m    836\u001B[0m                     )\n\u001B[0;32m    837\u001B[0m \u001B[1;33m\u001B[0m\u001B[0m\n\u001B[1;32m--> 838\u001B[1;33m                 out = parallel(\n\u001B[0m\u001B[0;32m    839\u001B[0m                     delayed(_fit_and_score)(\n\u001B[0;32m    840\u001B[0m                         \u001B[0mclone\u001B[0m\u001B[1;33m(\u001B[0m\u001B[0mbase_estimator\u001B[0m\u001B[1;33m)\u001B[0m\u001B[1;33m,\u001B[0m\u001B[1;33m\u001B[0m\u001B[1;33m\u001B[0m\u001B[0m\n",
      "\u001B[1;32mc:\\users\\rawwi\\onedrive\\school\\nus\\current sem\\python\\lib\\site-packages\\joblib\\parallel.py\u001B[0m in \u001B[0;36m__call__\u001B[1;34m(self, iterable)\u001B[0m\n\u001B[0;32m   1054\u001B[0m \u001B[1;33m\u001B[0m\u001B[0m\n\u001B[0;32m   1055\u001B[0m             \u001B[1;32mwith\u001B[0m \u001B[0mself\u001B[0m\u001B[1;33m.\u001B[0m\u001B[0m_backend\u001B[0m\u001B[1;33m.\u001B[0m\u001B[0mretrieval_context\u001B[0m\u001B[1;33m(\u001B[0m\u001B[1;33m)\u001B[0m\u001B[1;33m:\u001B[0m\u001B[1;33m\u001B[0m\u001B[1;33m\u001B[0m\u001B[0m\n\u001B[1;32m-> 1056\u001B[1;33m                 \u001B[0mself\u001B[0m\u001B[1;33m.\u001B[0m\u001B[0mretrieve\u001B[0m\u001B[1;33m(\u001B[0m\u001B[1;33m)\u001B[0m\u001B[1;33m\u001B[0m\u001B[1;33m\u001B[0m\u001B[0m\n\u001B[0m\u001B[0;32m   1057\u001B[0m             \u001B[1;31m# Make sure that we get a last message telling us we are done\u001B[0m\u001B[1;33m\u001B[0m\u001B[1;33m\u001B[0m\u001B[0m\n\u001B[0;32m   1058\u001B[0m             \u001B[0melapsed_time\u001B[0m \u001B[1;33m=\u001B[0m \u001B[0mtime\u001B[0m\u001B[1;33m.\u001B[0m\u001B[0mtime\u001B[0m\u001B[1;33m(\u001B[0m\u001B[1;33m)\u001B[0m \u001B[1;33m-\u001B[0m \u001B[0mself\u001B[0m\u001B[1;33m.\u001B[0m\u001B[0m_start_time\u001B[0m\u001B[1;33m\u001B[0m\u001B[1;33m\u001B[0m\u001B[0m\n",
      "\u001B[1;32mc:\\users\\rawwi\\onedrive\\school\\nus\\current sem\\python\\lib\\site-packages\\joblib\\parallel.py\u001B[0m in \u001B[0;36mretrieve\u001B[1;34m(self)\u001B[0m\n\u001B[0;32m    933\u001B[0m             \u001B[1;32mtry\u001B[0m\u001B[1;33m:\u001B[0m\u001B[1;33m\u001B[0m\u001B[1;33m\u001B[0m\u001B[0m\n\u001B[0;32m    934\u001B[0m                 \u001B[1;32mif\u001B[0m \u001B[0mgetattr\u001B[0m\u001B[1;33m(\u001B[0m\u001B[0mself\u001B[0m\u001B[1;33m.\u001B[0m\u001B[0m_backend\u001B[0m\u001B[1;33m,\u001B[0m \u001B[1;34m'supports_timeout'\u001B[0m\u001B[1;33m,\u001B[0m \u001B[1;32mFalse\u001B[0m\u001B[1;33m)\u001B[0m\u001B[1;33m:\u001B[0m\u001B[1;33m\u001B[0m\u001B[1;33m\u001B[0m\u001B[0m\n\u001B[1;32m--> 935\u001B[1;33m                     \u001B[0mself\u001B[0m\u001B[1;33m.\u001B[0m\u001B[0m_output\u001B[0m\u001B[1;33m.\u001B[0m\u001B[0mextend\u001B[0m\u001B[1;33m(\u001B[0m\u001B[0mjob\u001B[0m\u001B[1;33m.\u001B[0m\u001B[0mget\u001B[0m\u001B[1;33m(\u001B[0m\u001B[0mtimeout\u001B[0m\u001B[1;33m=\u001B[0m\u001B[0mself\u001B[0m\u001B[1;33m.\u001B[0m\u001B[0mtimeout\u001B[0m\u001B[1;33m)\u001B[0m\u001B[1;33m)\u001B[0m\u001B[1;33m\u001B[0m\u001B[1;33m\u001B[0m\u001B[0m\n\u001B[0m\u001B[0;32m    936\u001B[0m                 \u001B[1;32melse\u001B[0m\u001B[1;33m:\u001B[0m\u001B[1;33m\u001B[0m\u001B[1;33m\u001B[0m\u001B[0m\n\u001B[0;32m    937\u001B[0m                     \u001B[0mself\u001B[0m\u001B[1;33m.\u001B[0m\u001B[0m_output\u001B[0m\u001B[1;33m.\u001B[0m\u001B[0mextend\u001B[0m\u001B[1;33m(\u001B[0m\u001B[0mjob\u001B[0m\u001B[1;33m.\u001B[0m\u001B[0mget\u001B[0m\u001B[1;33m(\u001B[0m\u001B[1;33m)\u001B[0m\u001B[1;33m)\u001B[0m\u001B[1;33m\u001B[0m\u001B[1;33m\u001B[0m\u001B[0m\n",
      "\u001B[1;32mc:\\users\\rawwi\\onedrive\\school\\nus\\current sem\\python\\lib\\site-packages\\joblib\\_parallel_backends.py\u001B[0m in \u001B[0;36mwrap_future_result\u001B[1;34m(future, timeout)\u001B[0m\n\u001B[0;32m    540\u001B[0m         AsyncResults.get from multiprocessing.\"\"\"\n\u001B[0;32m    541\u001B[0m         \u001B[1;32mtry\u001B[0m\u001B[1;33m:\u001B[0m\u001B[1;33m\u001B[0m\u001B[1;33m\u001B[0m\u001B[0m\n\u001B[1;32m--> 542\u001B[1;33m             \u001B[1;32mreturn\u001B[0m \u001B[0mfuture\u001B[0m\u001B[1;33m.\u001B[0m\u001B[0mresult\u001B[0m\u001B[1;33m(\u001B[0m\u001B[0mtimeout\u001B[0m\u001B[1;33m=\u001B[0m\u001B[0mtimeout\u001B[0m\u001B[1;33m)\u001B[0m\u001B[1;33m\u001B[0m\u001B[1;33m\u001B[0m\u001B[0m\n\u001B[0m\u001B[0;32m    543\u001B[0m         \u001B[1;32mexcept\u001B[0m \u001B[0mCfTimeoutError\u001B[0m \u001B[1;32mas\u001B[0m \u001B[0me\u001B[0m\u001B[1;33m:\u001B[0m\u001B[1;33m\u001B[0m\u001B[1;33m\u001B[0m\u001B[0m\n\u001B[0;32m    544\u001B[0m             \u001B[1;32mraise\u001B[0m \u001B[0mTimeoutError\u001B[0m \u001B[1;32mfrom\u001B[0m \u001B[0me\u001B[0m\u001B[1;33m\u001B[0m\u001B[1;33m\u001B[0m\u001B[0m\n",
      "\u001B[1;32m~\\AppData\\Local\\Programs\\Python\\Python310\\lib\\concurrent\\futures\\_base.py\u001B[0m in \u001B[0;36mresult\u001B[1;34m(self, timeout)\u001B[0m\n\u001B[0;32m    439\u001B[0m                     \u001B[1;32mreturn\u001B[0m \u001B[0mself\u001B[0m\u001B[1;33m.\u001B[0m\u001B[0m__get_result\u001B[0m\u001B[1;33m(\u001B[0m\u001B[1;33m)\u001B[0m\u001B[1;33m\u001B[0m\u001B[1;33m\u001B[0m\u001B[0m\n\u001B[0;32m    440\u001B[0m \u001B[1;33m\u001B[0m\u001B[0m\n\u001B[1;32m--> 441\u001B[1;33m                 \u001B[0mself\u001B[0m\u001B[1;33m.\u001B[0m\u001B[0m_condition\u001B[0m\u001B[1;33m.\u001B[0m\u001B[0mwait\u001B[0m\u001B[1;33m(\u001B[0m\u001B[0mtimeout\u001B[0m\u001B[1;33m)\u001B[0m\u001B[1;33m\u001B[0m\u001B[1;33m\u001B[0m\u001B[0m\n\u001B[0m\u001B[0;32m    442\u001B[0m \u001B[1;33m\u001B[0m\u001B[0m\n\u001B[0;32m    443\u001B[0m                 \u001B[1;32mif\u001B[0m \u001B[0mself\u001B[0m\u001B[1;33m.\u001B[0m\u001B[0m_state\u001B[0m \u001B[1;32min\u001B[0m \u001B[1;33m[\u001B[0m\u001B[0mCANCELLED\u001B[0m\u001B[1;33m,\u001B[0m \u001B[0mCANCELLED_AND_NOTIFIED\u001B[0m\u001B[1;33m]\u001B[0m\u001B[1;33m:\u001B[0m\u001B[1;33m\u001B[0m\u001B[1;33m\u001B[0m\u001B[0m\n",
      "\u001B[1;32m~\\AppData\\Local\\Programs\\Python\\Python310\\lib\\threading.py\u001B[0m in \u001B[0;36mwait\u001B[1;34m(self, timeout)\u001B[0m\n\u001B[0;32m    318\u001B[0m         \u001B[1;32mtry\u001B[0m\u001B[1;33m:\u001B[0m    \u001B[1;31m# restore state no matter what (e.g., KeyboardInterrupt)\u001B[0m\u001B[1;33m\u001B[0m\u001B[1;33m\u001B[0m\u001B[0m\n\u001B[0;32m    319\u001B[0m             \u001B[1;32mif\u001B[0m \u001B[0mtimeout\u001B[0m \u001B[1;32mis\u001B[0m \u001B[1;32mNone\u001B[0m\u001B[1;33m:\u001B[0m\u001B[1;33m\u001B[0m\u001B[1;33m\u001B[0m\u001B[0m\n\u001B[1;32m--> 320\u001B[1;33m                 \u001B[0mwaiter\u001B[0m\u001B[1;33m.\u001B[0m\u001B[0macquire\u001B[0m\u001B[1;33m(\u001B[0m\u001B[1;33m)\u001B[0m\u001B[1;33m\u001B[0m\u001B[1;33m\u001B[0m\u001B[0m\n\u001B[0m\u001B[0;32m    321\u001B[0m                 \u001B[0mgotit\u001B[0m \u001B[1;33m=\u001B[0m \u001B[1;32mTrue\u001B[0m\u001B[1;33m\u001B[0m\u001B[1;33m\u001B[0m\u001B[0m\n\u001B[0;32m    322\u001B[0m             \u001B[1;32melse\u001B[0m\u001B[1;33m:\u001B[0m\u001B[1;33m\u001B[0m\u001B[1;33m\u001B[0m\u001B[0m\n",
      "\u001B[1;31mKeyboardInterrupt\u001B[0m: "
     ]
    }
   ],
   "source": [
    "#tune hyperparameter\n",
    "limitTuner = 'LGBM'\n",
    "preprocessingName = 'columntransformer__'\n",
    "estimatorsParam = {}\n",
    "finalParam = {}\n",
    "for estimator in finalestimators:\n",
    "    if limitTuner== '' or estimator[0] ==limitTuner:\n",
    "        modelParam = {}\n",
    "        for param, grid in param_grid.items():\n",
    "            if param.startswith(estimator[0]):\n",
    "                modelParam[param[len(estimator[0])+2:]] = grid\n",
    "            elif param.startswith(preprocessingName):\n",
    "                modelParam[param] = grid\n",
    "        # print(estimator[1].get_params().keys())\n",
    "        print('Tuning Model ',estimator[0], \"with params:\\n\",  modelParam, '\\n')\n",
    "        gs = GridSearchCV(estimator=estimator[1],param_grid=modelParam,scoring = 'neg_root_mean_squared_error',n_jobs = -1,cv = 5,verbose = -1)\n",
    "        gs.fit(X_train,y_train)\n",
    "        print('Tuned Model ',estimator[0], \" (RMSE = \",\"{:.4f}\".format(abs(gs.best_score_)),\")\")\n",
    "        # print(\"Best params:\\n\",  gs.best_params_, '\\n')\n",
    "        modelParam={}\n",
    "        for param, grid in gs.best_params_.items():\n",
    "            modelParam[estimator[0]+'__'+param] = grid\n",
    "        estimatorsParam ={**estimatorsParam, **modelParam}\n",
    "\n",
    "print('\\n Params to use\\n\\n',estimatorsParam)"
   ],
   "metadata": {
    "collapsed": false,
    "pycharm": {
     "name": "#%%\n"
    }
   }
  },
  {
   "cell_type": "code",
   "execution_count": 69,
   "outputs": [
    {
     "data": {
      "text/plain": "{'columntransformer__date_linear_processor__ProcessDates': None,\n 'columntransformer__date_linear_processor__ProcessHolidays': None,\n 'columntransformer__vessel_linear_processor__ProcessVessel__usage': 'dwt',\n 'columntransformer__weather_linear_processor__ProcessWSpd__action': 'cat',\n 'columntransformer__weather_linear_processor__ProcessWeather__action': 'actual',\n 'regressor__alpha': 0.0}"
     },
     "execution_count": 69,
     "metadata": {},
     "output_type": "execute_result"
    }
   ],
   "source": [
    "gs.best_params_"
   ],
   "metadata": {
    "collapsed": false,
    "pycharm": {
     "name": "#%%\n"
    }
   }
  },
  {
   "cell_type": "code",
   "execution_count": 74,
   "outputs": [
    {
     "data": {
      "text/plain": "{'columntransformer__date_linear_processor__ProcessDates': None,\n 'columntransformer__date_linear_processor__ProcessHolidays': None,\n 'columntransformer__vessel_linear_processor__ProcessVessel__usage': 'dwt',\n 'columntransformer__weather_linear_processor__ProcessWSpd__action': 'cat',\n 'columntransformer__weather_linear_processor__ProcessWeather__action': 'actual',\n 'ElasticNet__regressor__alpha': 0.0,\n 'LGBM__columntransformer__date_linear_processor__ProcessDates': None,\n 'LGBM__columntransformer__date_linear_processor__ProcessHolidays': None,\n 'LGBM__columntransformer__vessel_linear_processor__ProcessVessel__usage': 'dwt',\n 'LGBM__columntransformer__weather_linear_processor__ProcessWSpd__action': 'cat',\n 'LGBM__columntransformer__weather_linear_processor__ProcessWeather__action': 'actual',\n 'LGBM__regressor__alpha': 0.0}"
     },
     "execution_count": 74,
     "metadata": {},
     "output_type": "execute_result"
    }
   ],
   "source": [
    "for param, grid in gs.best_params_.items():\n",
    "            modelParam[estimator[0]+'__'+param] = grid\n",
    "estimatorsParam ={**estimatorsParam, **modelParam}\n",
    "estimatorsParam"
   ],
   "metadata": {
    "collapsed": false,
    "pycharm": {
     "name": "#%%\n"
    }
   }
  },
  {
   "cell_type": "code",
   "execution_count": 29,
   "outputs": [],
   "source": [
    "# replace individual best model here post tuning.\n",
    "elasticnetParams = {'ElasticNet__columntransformer__date_linear_processor__ProcessDates': None, 'ElasticNet__columntransformer__date_linear_processor__ProcessHolidays': None, 'ElasticNet__columntransformer__vessel_linear_processor__ProcessVessel__usage': 'dwt', 'ElasticNet__columntransformer__weather_linear_processor__ProcessWSpd__action': 'cat', 'ElasticNet__columntransformer__weather_linear_processor__ProcessWeather__action': 'actual', 'ElasticNet__regressor__alpha': 0.0, 'ElasticNet__regressor__l1_ratio': 0.0}\n",
    "xgboostParams = {}\n",
    "randomforestParams = {}\n",
    "lgbmParams = {}\n"
   ],
   "metadata": {
    "collapsed": false,
    "pycharm": {
     "name": "#%%\n"
    }
   }
  },
  {
   "cell_type": "code",
   "execution_count": 47,
   "outputs": [
    {
     "ename": "NameError",
     "evalue": "name 'finalTrain' is not defined",
     "output_type": "error",
     "traceback": [
      "\u001B[1;31m---------------------------------------------------------------------------\u001B[0m",
      "\u001B[1;31mNameError\u001B[0m                                 Traceback (most recent call last)",
      "\u001B[1;32m~\\AppData\\Local\\Temp\\ipykernel_5380\\1166758190.py\u001B[0m in \u001B[0;36m<cell line: 12>\u001B[1;34m()\u001B[0m\n\u001B[0;32m     10\u001B[0m \u001B[1;31m#tune final model\u001B[0m\u001B[1;33m\u001B[0m\u001B[1;33m\u001B[0m\u001B[0m\n\u001B[0;32m     11\u001B[0m \u001B[0mgs\u001B[0m \u001B[1;33m=\u001B[0m \u001B[0mGridSearchCV\u001B[0m\u001B[1;33m(\u001B[0m\u001B[0mestimator\u001B[0m\u001B[1;33m=\u001B[0m\u001B[0mfinal_estimator\u001B[0m\u001B[1;33m,\u001B[0m\u001B[0mparam_grid\u001B[0m\u001B[1;33m=\u001B[0m\u001B[0mfinalGrid\u001B[0m\u001B[1;33m,\u001B[0m\u001B[0mscoring\u001B[0m \u001B[1;33m=\u001B[0m \u001B[1;34m'rmse'\u001B[0m\u001B[1;33m,\u001B[0m\u001B[0mn_jobs\u001B[0m \u001B[1;33m=\u001B[0m \u001B[1;33m-\u001B[0m\u001B[1;36m1\u001B[0m\u001B[1;33m,\u001B[0m\u001B[0mcv\u001B[0m \u001B[1;33m=\u001B[0m \u001B[1;36m5\u001B[0m\u001B[1;33m,\u001B[0m\u001B[0mverbose\u001B[0m \u001B[1;33m=\u001B[0m \u001B[1;33m-\u001B[0m\u001B[1;36m1\u001B[0m\u001B[1;33m)\u001B[0m\u001B[1;33m\u001B[0m\u001B[1;33m\u001B[0m\u001B[0m\n\u001B[1;32m---> 12\u001B[1;33m \u001B[0mgs\u001B[0m\u001B[1;33m.\u001B[0m\u001B[0mfit\u001B[0m\u001B[1;33m(\u001B[0m\u001B[0mfinalTrain\u001B[0m\u001B[1;33m)\u001B[0m\u001B[1;33m\u001B[0m\u001B[1;33m\u001B[0m\u001B[0m\n\u001B[0m",
      "\u001B[1;31mNameError\u001B[0m: name 'finalTrain' is not defined"
     ]
    }
   ],
   "source": [
    "# prepare data for final tuning\n",
    "estimatorsParam = {**elasticnetParams,**xgboostParams,**randomforestParams,**lgbmParams}\n",
    "finalPipe.set_params(**estimatorsParam)\n",
    "finalTrain  = finalPipe.fit_transform()\n",
    "finalGrid = {}\n",
    "\n",
    "# generate final model params\n",
    "for param, grid in param_grid.items():\n",
    "    if param.startswith(\"final_estimator\"):\n",
    "        finalGrid[param[len(\"final_estimator__\"):]] = grid\n",
    "\n",
    "#tune final model\n",
    "gs = GridSearchCV(estimator=final_estimator,param_grid=finalGrid,scoring = 'rmse',n_jobs = -1,cv = 5,verbose = -1)\n",
    "gs.fit(finalTrain)\n",
    "modelParam = {}\n",
    "for param, grid in gs.best_params_:\n",
    "    modelParam[\"final_estimator__\"+param] = grid\n",
    "finalParam = {**estimatorsParam, **modelParam}"
   ],
   "metadata": {
    "collapsed": false,
    "pycharm": {
     "name": "#%%\n"
    }
   }
  },
  {
   "cell_type": "markdown",
   "source": [
    "Old classifier model"
   ],
   "metadata": {
    "collapsed": false
   }
  },
  {
   "cell_type": "markdown",
   "source": [
    "estimators = [\n",
    "    (\"LightGBM\", LGBMClassifier(objective='multiclass',random_state=0,n_jobs=-1,device = 'gpu',)),\n",
    "    (\"XGBoost\", XGBClassifier(objective='multi:softmax',random_state=0,n_jobs=-1,use_label_encoder=False,  tree_method = 'gpu_hist')),\n",
    "    (\"RandomForest\", RandomForestClassifier(random_state=0)),\n",
    "    (\"DecisionTree\", DecisionTreeClassifier()),\n",
    "]\n",
    "final_estimator=LGBMClassifier(objective='multiclass',random_state=0,n_jobs=-1,device = 'gpu')\n",
    "stacking_classifier = StackingClassifier(estimators=estimators, final_estimator=final_estimator,stack_method='predict_proba',n_jobs=-1)\n",
    "finalPipe = pipeline.make_pipeline(data_preprocessor,stacking_classifier)\n",
    "finalPipe"
   ],
   "metadata": {
    "collapsed": false
   }
  },
  {
   "cell_type": "code",
   "execution_count": null,
   "outputs": [],
   "source": [
    "finalPipe.get_params()"
   ],
   "metadata": {
    "collapsed": false,
    "pycharm": {
     "name": "#%%\n"
    }
   }
  },
  {
   "cell_type": "code",
   "execution_count": null,
   "outputs": [],
   "source": [
    "param_grid = {\n",
    "    'columntransformer__numeric_linear_processor__Polynomial__degree': [1,2,3],\n",
    "    'columntransformer__numeric_linear_processor__Polynomial__include_bias': [True,False],\n",
    "    'columntransformer__numeric_linear_processor__Polynomial__interaction_only': [True,False],\n",
    "\n",
    "    'stackingclassifier__LightGBM__num_leaves': range(100,1500,300),\n",
    "    'stackingclassifier__LightGBM__n_estimators': range(100,1500,300),\n",
    "    'stackingclassifier__LightGBM__reg_lambda': [ 0.11, 1, 10, 50, 100, 150],\n",
    "\n",
    "    'stackingclassifier__XGBoost__reg_lambda': [0, 1e-1, 1, 10, 50],\n",
    "    'stackingclassifier__XGBoost__n_estimators': range(100,1500,300),\n",
    "    'stackingclassifier__XGBoost__eta': [0.1,0.5,1.0],\n",
    "\n",
    "    'stackingclassifier__RandomForest__max_depth': [10, 30, 50],\n",
    "    'stackingclassifier__RandomForest__max_features': [5,10,15],\n",
    "    'stackingclassifier__RandomForest__min_samples_leaf': [3, 5, 7],\n",
    "\n",
    "    'stackingclassifier__DecisionTree__max_depth': [10, 30, 50],\n",
    "    'stackingclassifier__DecisionTree__max_features': [5,10,15],\n",
    "    'stackingclassifier__DecisionTree__min_samples_leaf': [3, 5, 7],\n",
    "\n",
    "    # 'stackingclassifier__final_estimator__num_leaves': range(100,1500,300),\n",
    "    # 'stackingclassifier__final_estimator__n_estimators': range(100,1500,300),\n",
    "    # 'stackingclassifier__final_estimator__reg_lambda': [ 0.11, 1, 10, 50, 100, 150],\n",
    "    # 'stackingclassifier__final_estimator__learning_rate': [0.1,0.5,1.0]\n",
    "\n",
    "}\n",
    "iter =50\n",
    "rs = RandomizedSearchCV(\n",
    "    estimator=finalPipe, param_distributions=param_grid,\n",
    "    n_iter=iter,\n",
    "    cv=5,\n",
    "    refit=True,\n",
    "    random_state=314,\n",
    "    verbose=10,\n",
    "    n_jobs=8,\n",
    "    pre_dispatch=15)\n",
    "\n",
    "rs.fit(X_train, y_train)\n",
    "\n",
    "rs.best_estimator_"
   ],
   "metadata": {
    "collapsed": false,
    "pycharm": {
     "name": "#%%\n"
    }
   }
  },
  {
   "cell_type": "code",
   "execution_count": null,
   "outputs": [],
   "source": [
    "rs.best_params_"
   ],
   "metadata": {
    "collapsed": false,
    "pycharm": {
     "name": "#%%\n"
    }
   }
  },
  {
   "cell_type": "code",
   "execution_count": null,
   "outputs": [],
   "source": [
    "predict_test = rs.predict(X_test)\n",
    "accuracy_test = accuracy_score(y_test,predict_test)\n",
    "accuracy_test"
   ],
   "metadata": {
    "collapsed": false,
    "pycharm": {
     "name": "#%%\n"
    }
   }
  },
  {
   "cell_type": "code",
   "execution_count": null,
   "outputs": [],
   "source": [
    "predict_test"
   ],
   "metadata": {
    "collapsed": false,
    "pycharm": {
     "name": "#%%\n"
    }
   }
  },
  {
   "cell_type": "code",
   "execution_count": null,
   "outputs": [],
   "source": [
    "predict_prob_test = rs.predict_proba(X_test)\n",
    "roc_auc_score(y_score=predict_prob_test, y_true=y_test, multi_class=\"ovr\")"
   ],
   "metadata": {
    "collapsed": false,
    "pycharm": {
     "name": "#%%\n"
    }
   }
  }
 ],
 "metadata": {
  "kernelspec": {
   "display_name": "Python 3",
   "language": "python",
   "name": "python3"
  },
  "language_info": {
   "codemirror_mode": {
    "name": "ipython",
    "version": 2
   },
   "file_extension": ".py",
   "mimetype": "text/x-python",
   "name": "python",
   "nbconvert_exporter": "python",
   "pygments_lexer": "ipython2",
   "version": "2.7.6"
  }
 },
 "nbformat": 4,
 "nbformat_minor": 0
}