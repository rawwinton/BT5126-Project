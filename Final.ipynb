{
 "cells": [
  {
   "cell_type": "code",
   "execution_count": 114,
   "metadata": {
    "collapsed": true
   },
   "outputs": [],
   "source": [
    "# Import all required packages\n",
    "import pandas as pd\n",
    "import seaborn as sns\n",
    "import numpy as np\n",
    "import matplotlib.pyplot as plt\n",
    "from sklearn.model_selection import train_test_split,RandomizedSearchCV, GridSearchCV\n",
    "from scipy.stats import randint,uniform\n",
    "from sklearn.metrics import accuracy_score, roc_curve, roc_auc_score, PrecisionRecallDisplay, average_precision_score,precision_recall_curve,auc\n",
    "import seaborn as sn\n",
    "import lightgbm as lgb\n",
    "from sklearn.ensemble import RandomForestClassifier\n",
    "from sklearn.tree  import DecisionTreeClassifier\n",
    "import warnings\n",
    "\n",
    "import math\n",
    "import pandas as pd\n",
    "import numpy as np\n",
    "import matplotlib.pyplot as plt\n",
    "from joblib import Parallel\n",
    "from sklearn.preprocessing import OneHotEncoder, PolynomialFeatures,StandardScaler,MinMaxScaler\n",
    "from sklearn.model_selection import GridSearchCV,RandomizedSearchCV,train_test_split\n",
    "from sklearn.pipeline import Pipeline\n",
    "from sklearn.base import BaseEstimator, TransformerMixin\n",
    "from sklearn import pipeline,set_config\n",
    "from sklearn.utils import class_weight\n",
    "from lightgbm import LGBMClassifier\n",
    "from xgboost import XGBClassifier\n",
    "from sklearn.compose import ColumnTransformer\n",
    "from sklearn.svm import SVC\n",
    "from sklearn.ensemble import StackingClassifier\n",
    "from sklearn.metrics import accuracy_score, roc_curve, roc_auc_score, PrecisionRecallDisplay, precision_score, \\\n",
    "    average_precision_score, auc, precision_recall_curve, make_scorer,SCORERS\n",
    "from skopt import BayesSearchCV\n",
    "import datetime, re, sys, holidays\n",
    "from Functions import *\n",
    "from sklearn.experimental import enable_halving_search_cv\n",
    "from sklearn.model_selection import HalvingGridSearchCV\n",
    "from sklearn.metrics import mean_absolute_error\n",
    "from sklearn.metrics import r2_score\n",
    "import math\n",
    "from sklearn.metrics import mean_squared_error\n",
    "\n",
    "set_config(display=\"diagram\")\n",
    "np.random.seed (0)\n",
    "Parallel(n_jobs=8, max_nbytes=50000)\n",
    "\n",
    "warnings.filterwarnings(\"ignore\")"
   ]
  },
  {
   "cell_type": "code",
   "execution_count": 115,
   "outputs": [],
   "source": [
    "categorical_cols = ['Vessel Type']\n",
    "vessel_cols = ['Total Vessels (Number)', 'Capesize',\n",
    "                'Capesize Laden', 'Capesize Unladen', 'Panamax', 'Panamax Laden',\n",
    "                'Panamax Unladen', 'Handymax', 'Handymax Laden', 'Handymax Unladen',\n",
    "                'Handysize', 'Handysize Laden', 'Handysize Unladen']\n",
    "# date_cols = ['Berth or Port Entry', 'Date']\n",
    "date_cols = ['Date']\n",
    "dwt_cols = ['Total Vessels (DWT)','Capesize (DWT)',\n",
    "            'Capesize Laden (DWT)', 'Capesize Unladen (DWT)', 'Panamax (DWT)',\n",
    "            'Panamax Laden (DWT)', 'Panamax Unladen (DWT)', 'Handymax (DWT)',\n",
    "            'Handymax Laden (DWT)', 'Handymax Unladen (DWT)', 'Handysize (DWT)',\n",
    "            'Handysize Laden (DWT)', 'Handysize Unladen (DWT)']\n",
    "weather_cols = ['tempt', 'prcp', 'wspd']\n",
    "\n",
    "# predict_col = 'Wait Levels'\n",
    "# numeric_cols = ['Waiting Time (Days)']\n",
    "predict_col = 'Waiting Time (Days)'"
   ],
   "metadata": {
    "collapsed": false,
    "pycharm": {
     "name": "#%%\n"
    }
   }
  },
  {
   "cell_type": "code",
   "execution_count": 116,
   "outputs": [
    {
     "data": {
      "text/plain": "       IMO  Waiting Time (Days)  Vessel Type       Date  \\\n0  9056399                  0.2            3 2015-01-02   \n1  9471252                  3.4            2 2015-01-02   \n2  9233399                  5.6            3 2015-01-02   \n3  8309141                  0.5            1 2015-01-03   \n4  9625970                  3.9            2 2015-01-03   \n\n   Total Vessels (Number)  Total Vessels (DWT)  Capesize  Capesize Laden  \\\n0                      16               878272         0               0   \n1                      16               878272         0               0   \n2                      16               878272         0               0   \n3                      17               908718         0               0   \n4                      17               908718         0               0   \n\n   Capesize Unladen  Panamax  ...  Handymax (DWT)  Handymax Laden (DWT)  \\\n0                 0        5  ...          432704                121785   \n1                 0        5  ...          432704                121785   \n2                 0        5  ...          432704                121785   \n3                 0        5  ...          474533                107174   \n4                 0        5  ...          474533                107174   \n\n   Handymax Unladen (DWT)  Handysize (DWT)  Handysize Laden (DWT)  \\\n0                  310919            52823                  30060   \n1                  310919            52823                  30060   \n2                  310919            52823                  30060   \n3                  367359            70297                  36036   \n4                  367359            70297                  36036   \n\n   Handysize Unladen (DWT)  Wait Levels  tempt  prcp  wspd  \n0                    22763            0   27.0   0.0  15.1  \n1                    22763            1   27.0   0.0  15.1  \n2                    22763            2   27.0   0.0  15.1  \n3                    34261            0   23.3   3.0  13.8  \n4                    34261            1   23.3   3.0  13.8  \n\n[5 rows x 34 columns]",
      "text/html": "<div>\n<style scoped>\n    .dataframe tbody tr th:only-of-type {\n        vertical-align: middle;\n    }\n\n    .dataframe tbody tr th {\n        vertical-align: top;\n    }\n\n    .dataframe thead th {\n        text-align: right;\n    }\n</style>\n<table border=\"1\" class=\"dataframe\">\n  <thead>\n    <tr style=\"text-align: right;\">\n      <th></th>\n      <th>IMO</th>\n      <th>Waiting Time (Days)</th>\n      <th>Vessel Type</th>\n      <th>Date</th>\n      <th>Total Vessels (Number)</th>\n      <th>Total Vessels (DWT)</th>\n      <th>Capesize</th>\n      <th>Capesize Laden</th>\n      <th>Capesize Unladen</th>\n      <th>Panamax</th>\n      <th>...</th>\n      <th>Handymax (DWT)</th>\n      <th>Handymax Laden (DWT)</th>\n      <th>Handymax Unladen (DWT)</th>\n      <th>Handysize (DWT)</th>\n      <th>Handysize Laden (DWT)</th>\n      <th>Handysize Unladen (DWT)</th>\n      <th>Wait Levels</th>\n      <th>tempt</th>\n      <th>prcp</th>\n      <th>wspd</th>\n    </tr>\n  </thead>\n  <tbody>\n    <tr>\n      <th>0</th>\n      <td>9056399</td>\n      <td>0.2</td>\n      <td>3</td>\n      <td>2015-01-02</td>\n      <td>16</td>\n      <td>878272</td>\n      <td>0</td>\n      <td>0</td>\n      <td>0</td>\n      <td>5</td>\n      <td>...</td>\n      <td>432704</td>\n      <td>121785</td>\n      <td>310919</td>\n      <td>52823</td>\n      <td>30060</td>\n      <td>22763</td>\n      <td>0</td>\n      <td>27.0</td>\n      <td>0.0</td>\n      <td>15.1</td>\n    </tr>\n    <tr>\n      <th>1</th>\n      <td>9471252</td>\n      <td>3.4</td>\n      <td>2</td>\n      <td>2015-01-02</td>\n      <td>16</td>\n      <td>878272</td>\n      <td>0</td>\n      <td>0</td>\n      <td>0</td>\n      <td>5</td>\n      <td>...</td>\n      <td>432704</td>\n      <td>121785</td>\n      <td>310919</td>\n      <td>52823</td>\n      <td>30060</td>\n      <td>22763</td>\n      <td>1</td>\n      <td>27.0</td>\n      <td>0.0</td>\n      <td>15.1</td>\n    </tr>\n    <tr>\n      <th>2</th>\n      <td>9233399</td>\n      <td>5.6</td>\n      <td>3</td>\n      <td>2015-01-02</td>\n      <td>16</td>\n      <td>878272</td>\n      <td>0</td>\n      <td>0</td>\n      <td>0</td>\n      <td>5</td>\n      <td>...</td>\n      <td>432704</td>\n      <td>121785</td>\n      <td>310919</td>\n      <td>52823</td>\n      <td>30060</td>\n      <td>22763</td>\n      <td>2</td>\n      <td>27.0</td>\n      <td>0.0</td>\n      <td>15.1</td>\n    </tr>\n    <tr>\n      <th>3</th>\n      <td>8309141</td>\n      <td>0.5</td>\n      <td>1</td>\n      <td>2015-01-03</td>\n      <td>17</td>\n      <td>908718</td>\n      <td>0</td>\n      <td>0</td>\n      <td>0</td>\n      <td>5</td>\n      <td>...</td>\n      <td>474533</td>\n      <td>107174</td>\n      <td>367359</td>\n      <td>70297</td>\n      <td>36036</td>\n      <td>34261</td>\n      <td>0</td>\n      <td>23.3</td>\n      <td>3.0</td>\n      <td>13.8</td>\n    </tr>\n    <tr>\n      <th>4</th>\n      <td>9625970</td>\n      <td>3.9</td>\n      <td>2</td>\n      <td>2015-01-03</td>\n      <td>17</td>\n      <td>908718</td>\n      <td>0</td>\n      <td>0</td>\n      <td>0</td>\n      <td>5</td>\n      <td>...</td>\n      <td>474533</td>\n      <td>107174</td>\n      <td>367359</td>\n      <td>70297</td>\n      <td>36036</td>\n      <td>34261</td>\n      <td>1</td>\n      <td>23.3</td>\n      <td>3.0</td>\n      <td>13.8</td>\n    </tr>\n  </tbody>\n</table>\n<p>5 rows × 34 columns</p>\n</div>"
     },
     "execution_count": 116,
     "metadata": {},
     "output_type": "execute_result"
    }
   ],
   "source": [
    "# Get data\n",
    "data = pd.read_csv('clean_data.csv', index_col=0, parse_dates=date_cols)\n",
    "weather_df = pd.read_csv('sao_paulo_weather.csv', parse_dates=['date'])\n",
    "weather_df = weather_df[['date','tavg','prcp','wspd']].rename(columns={'date': 'Date',\n",
    "                   'tavg': 'tempt',\n",
    "                   'prcp': 'prcp',\n",
    "                   'wspd': 'wspd'}, inplace=False)\n",
    "weather_df = weather_df.fillna(0)\n",
    "data = data.merge(weather_df, how='inner',left_on=['Date'], right_on=['Date'])\n",
    "\n",
    "# Drop cols with only 1 value\n",
    "for col in data.columns:\n",
    "    if len(data[col].unique()) == 1:\n",
    "        data.drop(col,axis=1, inplace=True)\n",
    "\n",
    "data.drop('Berth or Port Entry',axis=1, inplace=True)\n",
    "\n",
    "#convert DWT cols from obj to int\n",
    "for col in dwt_cols:\n",
    "    data[col] = data[col].str.replace(\",\",\"\").astype(int)\n",
    "#convert vessel_cols from float to int\n",
    "for col in vessel_cols:\n",
    "    data[col] = data[col].astype(int)\n",
    "\n",
    "#print cleaned data\n",
    "data.head()"
   ],
   "metadata": {
    "collapsed": false,
    "pycharm": {
     "name": "#%%\n"
    }
   }
  },
  {
   "cell_type": "code",
   "execution_count": 117,
   "outputs": [],
   "source": [
    "# split to train & Test\n",
    "X_train, X_test, y_train, y_test = train_test_split(data.drop(predict_col,axis=1, inplace=False), data[predict_col], test_size=0.2, random_state=0)"
   ],
   "metadata": {
    "collapsed": false,
    "pycharm": {
     "name": "#%%\n"
    }
   }
  },
  {
   "cell_type": "markdown",
   "source": [
    "Create Pipeline"
   ],
   "metadata": {
    "collapsed": false
   }
  },
  {
   "cell_type": "code",
   "execution_count": 118,
   "outputs": [
    {
     "data": {
      "text/plain": "ColumnTransformer(transformers=[('cat_linear_processor', OneHotEncoder(),\n                                 ['Vessel Type']),\n                                ('date_linear_processor',\n                                 Pipeline(steps=[('ProcessDates',\n                                                  ProcessDates()),\n                                                 ('ProcessHolidays',\n                                                  ProcessHolidays()),\n                                                 ('DropDate',\n                                                  DropCol(cols=['Date']))]),\n                                 ['Date']),\n                                ('vessel_linear_processor',\n                                 Pipeline(steps=[('CreateDummyCol',\n                                                  CreateDummyCol()),\n                                                 ('ProcessVessel',\n                                                  Process...\n                                  'Capesize Unladen (DWT)', 'Panamax (DWT)',\n                                  'Panamax Laden (DWT)',\n                                  'Panamax Unladen (DWT)', 'Handymax (DWT)',\n                                  'Handymax Laden (DWT)',\n                                  'Handymax Unladen (DWT)', 'Handysize (DWT)',\n                                  'Handysize Laden (DWT)',\n                                  'Handysize Unladen (DWT)']),\n                                ('weather_linear_processor',\n                                 Pipeline(steps=[('CreateDummyCol',\n                                                  CreateDummyCol()),\n                                                 ('ProcessWeather',\n                                                  ProcessWeather()),\n                                                 ('ProcessWSpd',\n                                                  ProcessWSpd())]),\n                                 ['tempt', 'prcp', 'wspd'])])",
      "text/html": "<style>#sk-005df5bc-7419-47ce-8187-977d18b4861d {color: black;background-color: white;}#sk-005df5bc-7419-47ce-8187-977d18b4861d pre{padding: 0;}#sk-005df5bc-7419-47ce-8187-977d18b4861d div.sk-toggleable {background-color: white;}#sk-005df5bc-7419-47ce-8187-977d18b4861d label.sk-toggleable__label {cursor: pointer;display: block;width: 100%;margin-bottom: 0;padding: 0.3em;box-sizing: border-box;text-align: center;}#sk-005df5bc-7419-47ce-8187-977d18b4861d label.sk-toggleable__label-arrow:before {content: \"▸\";float: left;margin-right: 0.25em;color: #696969;}#sk-005df5bc-7419-47ce-8187-977d18b4861d label.sk-toggleable__label-arrow:hover:before {color: black;}#sk-005df5bc-7419-47ce-8187-977d18b4861d div.sk-estimator:hover label.sk-toggleable__label-arrow:before {color: black;}#sk-005df5bc-7419-47ce-8187-977d18b4861d div.sk-toggleable__content {max-height: 0;max-width: 0;overflow: hidden;text-align: left;background-color: #f0f8ff;}#sk-005df5bc-7419-47ce-8187-977d18b4861d div.sk-toggleable__content pre {margin: 0.2em;color: black;border-radius: 0.25em;background-color: #f0f8ff;}#sk-005df5bc-7419-47ce-8187-977d18b4861d input.sk-toggleable__control:checked~div.sk-toggleable__content {max-height: 200px;max-width: 100%;overflow: auto;}#sk-005df5bc-7419-47ce-8187-977d18b4861d input.sk-toggleable__control:checked~label.sk-toggleable__label-arrow:before {content: \"▾\";}#sk-005df5bc-7419-47ce-8187-977d18b4861d div.sk-estimator input.sk-toggleable__control:checked~label.sk-toggleable__label {background-color: #d4ebff;}#sk-005df5bc-7419-47ce-8187-977d18b4861d div.sk-label input.sk-toggleable__control:checked~label.sk-toggleable__label {background-color: #d4ebff;}#sk-005df5bc-7419-47ce-8187-977d18b4861d input.sk-hidden--visually {border: 0;clip: rect(1px 1px 1px 1px);clip: rect(1px, 1px, 1px, 1px);height: 1px;margin: -1px;overflow: hidden;padding: 0;position: absolute;width: 1px;}#sk-005df5bc-7419-47ce-8187-977d18b4861d div.sk-estimator {font-family: monospace;background-color: #f0f8ff;border: 1px dotted black;border-radius: 0.25em;box-sizing: border-box;margin-bottom: 0.5em;}#sk-005df5bc-7419-47ce-8187-977d18b4861d div.sk-estimator:hover {background-color: #d4ebff;}#sk-005df5bc-7419-47ce-8187-977d18b4861d div.sk-parallel-item::after {content: \"\";width: 100%;border-bottom: 1px solid gray;flex-grow: 1;}#sk-005df5bc-7419-47ce-8187-977d18b4861d div.sk-label:hover label.sk-toggleable__label {background-color: #d4ebff;}#sk-005df5bc-7419-47ce-8187-977d18b4861d div.sk-serial::before {content: \"\";position: absolute;border-left: 1px solid gray;box-sizing: border-box;top: 2em;bottom: 0;left: 50%;}#sk-005df5bc-7419-47ce-8187-977d18b4861d div.sk-serial {display: flex;flex-direction: column;align-items: center;background-color: white;padding-right: 0.2em;padding-left: 0.2em;}#sk-005df5bc-7419-47ce-8187-977d18b4861d div.sk-item {z-index: 1;}#sk-005df5bc-7419-47ce-8187-977d18b4861d div.sk-parallel {display: flex;align-items: stretch;justify-content: center;background-color: white;}#sk-005df5bc-7419-47ce-8187-977d18b4861d div.sk-parallel::before {content: \"\";position: absolute;border-left: 1px solid gray;box-sizing: border-box;top: 2em;bottom: 0;left: 50%;}#sk-005df5bc-7419-47ce-8187-977d18b4861d div.sk-parallel-item {display: flex;flex-direction: column;position: relative;background-color: white;}#sk-005df5bc-7419-47ce-8187-977d18b4861d div.sk-parallel-item:first-child::after {align-self: flex-end;width: 50%;}#sk-005df5bc-7419-47ce-8187-977d18b4861d div.sk-parallel-item:last-child::after {align-self: flex-start;width: 50%;}#sk-005df5bc-7419-47ce-8187-977d18b4861d div.sk-parallel-item:only-child::after {width: 0;}#sk-005df5bc-7419-47ce-8187-977d18b4861d div.sk-dashed-wrapped {border: 1px dashed gray;margin: 0 0.4em 0.5em 0.4em;box-sizing: border-box;padding-bottom: 0.4em;background-color: white;position: relative;}#sk-005df5bc-7419-47ce-8187-977d18b4861d div.sk-label label {font-family: monospace;font-weight: bold;background-color: white;display: inline-block;line-height: 1.2em;}#sk-005df5bc-7419-47ce-8187-977d18b4861d div.sk-label-container {position: relative;z-index: 2;text-align: center;}#sk-005df5bc-7419-47ce-8187-977d18b4861d div.sk-container {/* jupyter's `normalize.less` sets `[hidden] { display: none; }` but bootstrap.min.css set `[hidden] { display: none !important; }` so we also need the `!important` here to be able to override the default hidden behavior on the sphinx rendered scikit-learn.org. See: https://github.com/scikit-learn/scikit-learn/issues/21755 */display: inline-block !important;position: relative;}#sk-005df5bc-7419-47ce-8187-977d18b4861d div.sk-text-repr-fallback {display: none;}</style><div id=\"sk-005df5bc-7419-47ce-8187-977d18b4861d\" class=\"sk-top-container\"><div class=\"sk-text-repr-fallback\"><pre>ColumnTransformer(transformers=[(&#x27;cat_linear_processor&#x27;, OneHotEncoder(),\n                                 [&#x27;Vessel Type&#x27;]),\n                                (&#x27;date_linear_processor&#x27;,\n                                 Pipeline(steps=[(&#x27;ProcessDates&#x27;,\n                                                  ProcessDates()),\n                                                 (&#x27;ProcessHolidays&#x27;,\n                                                  ProcessHolidays()),\n                                                 (&#x27;DropDate&#x27;,\n                                                  DropCol(cols=[&#x27;Date&#x27;]))]),\n                                 [&#x27;Date&#x27;]),\n                                (&#x27;vessel_linear_processor&#x27;,\n                                 Pipeline(steps=[(&#x27;CreateDummyCol&#x27;,\n                                                  CreateDummyCol()),\n                                                 (&#x27;ProcessVessel&#x27;,\n                                                  Process...\n                                  &#x27;Capesize Unladen (DWT)&#x27;, &#x27;Panamax (DWT)&#x27;,\n                                  &#x27;Panamax Laden (DWT)&#x27;,\n                                  &#x27;Panamax Unladen (DWT)&#x27;, &#x27;Handymax (DWT)&#x27;,\n                                  &#x27;Handymax Laden (DWT)&#x27;,\n                                  &#x27;Handymax Unladen (DWT)&#x27;, &#x27;Handysize (DWT)&#x27;,\n                                  &#x27;Handysize Laden (DWT)&#x27;,\n                                  &#x27;Handysize Unladen (DWT)&#x27;]),\n                                (&#x27;weather_linear_processor&#x27;,\n                                 Pipeline(steps=[(&#x27;CreateDummyCol&#x27;,\n                                                  CreateDummyCol()),\n                                                 (&#x27;ProcessWeather&#x27;,\n                                                  ProcessWeather()),\n                                                 (&#x27;ProcessWSpd&#x27;,\n                                                  ProcessWSpd())]),\n                                 [&#x27;tempt&#x27;, &#x27;prcp&#x27;, &#x27;wspd&#x27;])])</pre><b>Please rerun this cell to show the HTML repr or trust the notebook.</b></div><div class=\"sk-container\" hidden><div class=\"sk-item sk-dashed-wrapped\"><div class=\"sk-label-container\"><div class=\"sk-label sk-toggleable\"><input class=\"sk-toggleable__control sk-hidden--visually\" id=\"993b8080-034c-4c0c-8df0-49e5b3369c8d\" type=\"checkbox\" ><label for=\"993b8080-034c-4c0c-8df0-49e5b3369c8d\" class=\"sk-toggleable__label sk-toggleable__label-arrow\">ColumnTransformer</label><div class=\"sk-toggleable__content\"><pre>ColumnTransformer(transformers=[(&#x27;cat_linear_processor&#x27;, OneHotEncoder(),\n                                 [&#x27;Vessel Type&#x27;]),\n                                (&#x27;date_linear_processor&#x27;,\n                                 Pipeline(steps=[(&#x27;ProcessDates&#x27;,\n                                                  ProcessDates()),\n                                                 (&#x27;ProcessHolidays&#x27;,\n                                                  ProcessHolidays()),\n                                                 (&#x27;DropDate&#x27;,\n                                                  DropCol(cols=[&#x27;Date&#x27;]))]),\n                                 [&#x27;Date&#x27;]),\n                                (&#x27;vessel_linear_processor&#x27;,\n                                 Pipeline(steps=[(&#x27;CreateDummyCol&#x27;,\n                                                  CreateDummyCol()),\n                                                 (&#x27;ProcessVessel&#x27;,\n                                                  Process...\n                                  &#x27;Capesize Unladen (DWT)&#x27;, &#x27;Panamax (DWT)&#x27;,\n                                  &#x27;Panamax Laden (DWT)&#x27;,\n                                  &#x27;Panamax Unladen (DWT)&#x27;, &#x27;Handymax (DWT)&#x27;,\n                                  &#x27;Handymax Laden (DWT)&#x27;,\n                                  &#x27;Handymax Unladen (DWT)&#x27;, &#x27;Handysize (DWT)&#x27;,\n                                  &#x27;Handysize Laden (DWT)&#x27;,\n                                  &#x27;Handysize Unladen (DWT)&#x27;]),\n                                (&#x27;weather_linear_processor&#x27;,\n                                 Pipeline(steps=[(&#x27;CreateDummyCol&#x27;,\n                                                  CreateDummyCol()),\n                                                 (&#x27;ProcessWeather&#x27;,\n                                                  ProcessWeather()),\n                                                 (&#x27;ProcessWSpd&#x27;,\n                                                  ProcessWSpd())]),\n                                 [&#x27;tempt&#x27;, &#x27;prcp&#x27;, &#x27;wspd&#x27;])])</pre></div></div></div><div class=\"sk-parallel\"><div class=\"sk-parallel-item\"><div class=\"sk-item\"><div class=\"sk-label-container\"><div class=\"sk-label sk-toggleable\"><input class=\"sk-toggleable__control sk-hidden--visually\" id=\"585ced4a-4060-41fc-bb19-c559abe4e711\" type=\"checkbox\" ><label for=\"585ced4a-4060-41fc-bb19-c559abe4e711\" class=\"sk-toggleable__label sk-toggleable__label-arrow\">cat_linear_processor</label><div class=\"sk-toggleable__content\"><pre>[&#x27;Vessel Type&#x27;]</pre></div></div></div><div class=\"sk-serial\"><div class=\"sk-item\"><div class=\"sk-estimator sk-toggleable\"><input class=\"sk-toggleable__control sk-hidden--visually\" id=\"5b4502a0-876f-40e4-9998-63801a073f1f\" type=\"checkbox\" ><label for=\"5b4502a0-876f-40e4-9998-63801a073f1f\" class=\"sk-toggleable__label sk-toggleable__label-arrow\">OneHotEncoder</label><div class=\"sk-toggleable__content\"><pre>OneHotEncoder()</pre></div></div></div></div></div></div><div class=\"sk-parallel-item\"><div class=\"sk-item\"><div class=\"sk-label-container\"><div class=\"sk-label sk-toggleable\"><input class=\"sk-toggleable__control sk-hidden--visually\" id=\"444c017b-fc86-4d8a-9511-3e196551a6a5\" type=\"checkbox\" ><label for=\"444c017b-fc86-4d8a-9511-3e196551a6a5\" class=\"sk-toggleable__label sk-toggleable__label-arrow\">date_linear_processor</label><div class=\"sk-toggleable__content\"><pre>[&#x27;Date&#x27;]</pre></div></div></div><div class=\"sk-serial\"><div class=\"sk-item\"><div class=\"sk-serial\"><div class=\"sk-item\"><div class=\"sk-estimator sk-toggleable\"><input class=\"sk-toggleable__control sk-hidden--visually\" id=\"8ed65b76-e91d-4a66-8f87-313460448021\" type=\"checkbox\" ><label for=\"8ed65b76-e91d-4a66-8f87-313460448021\" class=\"sk-toggleable__label sk-toggleable__label-arrow\">ProcessDates</label><div class=\"sk-toggleable__content\"><pre>ProcessDates()</pre></div></div></div><div class=\"sk-item\"><div class=\"sk-estimator sk-toggleable\"><input class=\"sk-toggleable__control sk-hidden--visually\" id=\"ed40d362-c5ac-483a-83bb-fd2002951ce7\" type=\"checkbox\" ><label for=\"ed40d362-c5ac-483a-83bb-fd2002951ce7\" class=\"sk-toggleable__label sk-toggleable__label-arrow\">ProcessHolidays</label><div class=\"sk-toggleable__content\"><pre>ProcessHolidays()</pre></div></div></div><div class=\"sk-item\"><div class=\"sk-estimator sk-toggleable\"><input class=\"sk-toggleable__control sk-hidden--visually\" id=\"2682c9b5-9b39-4205-934d-549a62155c3f\" type=\"checkbox\" ><label for=\"2682c9b5-9b39-4205-934d-549a62155c3f\" class=\"sk-toggleable__label sk-toggleable__label-arrow\">DropCol</label><div class=\"sk-toggleable__content\"><pre>DropCol(cols=[&#x27;Date&#x27;])</pre></div></div></div></div></div></div></div></div><div class=\"sk-parallel-item\"><div class=\"sk-item\"><div class=\"sk-label-container\"><div class=\"sk-label sk-toggleable\"><input class=\"sk-toggleable__control sk-hidden--visually\" id=\"30ddf67a-8a16-4571-b12d-3f78547e62ec\" type=\"checkbox\" ><label for=\"30ddf67a-8a16-4571-b12d-3f78547e62ec\" class=\"sk-toggleable__label sk-toggleable__label-arrow\">vessel_linear_processor</label><div class=\"sk-toggleable__content\"><pre>[&#x27;Total Vessels (Number)&#x27;, &#x27;Capesize&#x27;, &#x27;Capesize Laden&#x27;, &#x27;Capesize Unladen&#x27;, &#x27;Panamax&#x27;, &#x27;Panamax Laden&#x27;, &#x27;Panamax Unladen&#x27;, &#x27;Handymax&#x27;, &#x27;Handymax Laden&#x27;, &#x27;Handymax Unladen&#x27;, &#x27;Handysize&#x27;, &#x27;Handysize Laden&#x27;, &#x27;Handysize Unladen&#x27;, &#x27;Total Vessels (DWT)&#x27;, &#x27;Capesize (DWT)&#x27;, &#x27;Capesize Laden (DWT)&#x27;, &#x27;Capesize Unladen (DWT)&#x27;, &#x27;Panamax (DWT)&#x27;, &#x27;Panamax Laden (DWT)&#x27;, &#x27;Panamax Unladen (DWT)&#x27;, &#x27;Handymax (DWT)&#x27;, &#x27;Handymax Laden (DWT)&#x27;, &#x27;Handymax Unladen (DWT)&#x27;, &#x27;Handysize (DWT)&#x27;, &#x27;Handysize Laden (DWT)&#x27;, &#x27;Handysize Unladen (DWT)&#x27;]</pre></div></div></div><div class=\"sk-serial\"><div class=\"sk-item\"><div class=\"sk-serial\"><div class=\"sk-item\"><div class=\"sk-estimator sk-toggleable\"><input class=\"sk-toggleable__control sk-hidden--visually\" id=\"3c0c3d13-98ca-486f-b4d4-efd7270efc05\" type=\"checkbox\" ><label for=\"3c0c3d13-98ca-486f-b4d4-efd7270efc05\" class=\"sk-toggleable__label sk-toggleable__label-arrow\">CreateDummyCol</label><div class=\"sk-toggleable__content\"><pre>CreateDummyCol()</pre></div></div></div><div class=\"sk-item\"><div class=\"sk-estimator sk-toggleable\"><input class=\"sk-toggleable__control sk-hidden--visually\" id=\"08e0e563-b4fb-467d-aaac-26f71b6d9a8c\" type=\"checkbox\" ><label for=\"08e0e563-b4fb-467d-aaac-26f71b6d9a8c\" class=\"sk-toggleable__label sk-toggleable__label-arrow\">ProcessVessel</label><div class=\"sk-toggleable__content\"><pre>ProcessVessel(dwt_cols=[&#x27;Total Vessels (DWT)&#x27;, &#x27;Capesize (DWT)&#x27;,\n                        &#x27;Capesize Laden (DWT)&#x27;, &#x27;Capesize Unladen (DWT)&#x27;,\n                        &#x27;Panamax (DWT)&#x27;, &#x27;Panamax Laden (DWT)&#x27;,\n                        &#x27;Panamax Unladen (DWT)&#x27;, &#x27;Handymax (DWT)&#x27;,\n                        &#x27;Handymax Laden (DWT)&#x27;, &#x27;Handymax Unladen (DWT)&#x27;,\n                        &#x27;Handysize (DWT)&#x27;, &#x27;Handysize Laden (DWT)&#x27;,\n                        &#x27;Handysize Unladen (DWT)&#x27;],\n              vessel_cols=[&#x27;Total Vessels (Number)&#x27;, &#x27;Capesize&#x27;,\n                           &#x27;Capesize Laden&#x27;, &#x27;Capesize Unladen&#x27;, &#x27;Panamax&#x27;,\n                           &#x27;Panamax Laden&#x27;, &#x27;Panamax Unladen&#x27;, &#x27;Handymax&#x27;,\n                           &#x27;Handymax Laden&#x27;, &#x27;Handymax Unladen&#x27;, &#x27;Handysize&#x27;,\n                           &#x27;Handysize Laden&#x27;, &#x27;Handysize Unladen&#x27;])</pre></div></div></div></div></div></div></div></div><div class=\"sk-parallel-item\"><div class=\"sk-item\"><div class=\"sk-label-container\"><div class=\"sk-label sk-toggleable\"><input class=\"sk-toggleable__control sk-hidden--visually\" id=\"c2d8c17d-a1a6-45d9-b7e3-bc2bc2624c2f\" type=\"checkbox\" ><label for=\"c2d8c17d-a1a6-45d9-b7e3-bc2bc2624c2f\" class=\"sk-toggleable__label sk-toggleable__label-arrow\">weather_linear_processor</label><div class=\"sk-toggleable__content\"><pre>[&#x27;tempt&#x27;, &#x27;prcp&#x27;, &#x27;wspd&#x27;]</pre></div></div></div><div class=\"sk-serial\"><div class=\"sk-item\"><div class=\"sk-serial\"><div class=\"sk-item\"><div class=\"sk-estimator sk-toggleable\"><input class=\"sk-toggleable__control sk-hidden--visually\" id=\"4671b6f8-0c62-413d-b0d9-7ed283b80f8b\" type=\"checkbox\" ><label for=\"4671b6f8-0c62-413d-b0d9-7ed283b80f8b\" class=\"sk-toggleable__label sk-toggleable__label-arrow\">CreateDummyCol</label><div class=\"sk-toggleable__content\"><pre>CreateDummyCol()</pre></div></div></div><div class=\"sk-item\"><div class=\"sk-estimator sk-toggleable\"><input class=\"sk-toggleable__control sk-hidden--visually\" id=\"92abdc81-823c-414c-b547-3b789565ea41\" type=\"checkbox\" ><label for=\"92abdc81-823c-414c-b547-3b789565ea41\" class=\"sk-toggleable__label sk-toggleable__label-arrow\">ProcessWeather</label><div class=\"sk-toggleable__content\"><pre>ProcessWeather()</pre></div></div></div><div class=\"sk-item\"><div class=\"sk-estimator sk-toggleable\"><input class=\"sk-toggleable__control sk-hidden--visually\" id=\"0b01b437-cc0d-40f4-b111-4c3263fffb88\" type=\"checkbox\" ><label for=\"0b01b437-cc0d-40f4-b111-4c3263fffb88\" class=\"sk-toggleable__label sk-toggleable__label-arrow\">ProcessWSpd</label><div class=\"sk-toggleable__content\"><pre>ProcessWSpd()</pre></div></div></div></div></div></div></div></div></div></div></div></div>"
     },
     "execution_count": 118,
     "metadata": {},
     "output_type": "execute_result"
    }
   ],
   "source": [
    "date_linear_processor = pipeline.Pipeline([('ProcessDates',ProcessDates()),('ProcessHolidays',ProcessHolidays()),('DropDate',DropCol(cols=date_cols))])\n",
    "numeric_linear_processor = pipeline.Pipeline([('Polynomial',PolynomialFeatures(degree=2,interaction_only =True,include_bias=True)),('Scaler',StandardScaler())])\n",
    "cat_linear_processor = OneHotEncoder()\n",
    "vessel_linear_processor = pipeline.Pipeline([('CreateDummyCol',CreateDummyCol()),('ProcessVessel',ProcessVessel(vessel_cols=vessel_cols,dwt_cols=dwt_cols))])\n",
    "weather_linear_processor = pipeline.Pipeline([('CreateDummyCol',CreateDummyCol()),('ProcessWeather',ProcessWeather()),('ProcessWSpd',ProcessWSpd())])\n",
    "\n",
    "data_preprocessor = ColumnTransformer([\n",
    "    # ('numeric_linear_processor',numeric_linear_processor, numeric_cols),\n",
    "    ('cat_linear_processor',cat_linear_processor, categorical_cols),\n",
    "    ('date_linear_processor',date_linear_processor, date_cols),\n",
    "    ('vessel_linear_processor',vessel_linear_processor, vessel_cols+dwt_cols),\n",
    "    ('weather_linear_processor',weather_linear_processor, weather_cols)\n",
    "])\n",
    "data_preprocessor\n"
   ],
   "metadata": {
    "collapsed": false,
    "pycharm": {
     "name": "#%%\n"
    }
   }
  },
  {
   "cell_type": "markdown",
   "source": [
    "Regressor model"
   ],
   "metadata": {
    "collapsed": false
   }
  },
  {
   "cell_type": "code",
   "execution_count": 119,
   "outputs": [],
   "source": [
    "param_grid = {\n",
    "    ## Preprocessing parameter options\n",
    "    'columntransformer__date_linear_processor__ProcessDates': [ProcessDates(),None],\n",
    "    'columntransformer__date_linear_processor__ProcessHolidays': [ProcessHolidays(),None],\n",
    "    'columntransformer__weather_linear_processor__ProcessWeather__action': ['actual','drop'],\n",
    "    'columntransformer__weather_linear_processor__ProcessWSpd__action': ['cat','drop'],\n",
    "    'columntransformer__vessel_linear_processor__ProcessVessel__usage': ['dwt','vessel'],\n",
    "\n",
    "\n",
    "    ## ElasticNet hyper parameters\n",
    "    'ElasticNet__regressor__alpha': np.linspace(0, 1, num=10),\n",
    "    'ElasticNet__regressor__l1_ratio': np.linspace(0, 1, num=10),\n",
    "    # 'ElasticNet__regressor__alpha': np.linspace(0, 1, num=2),\n",
    "\n",
    "    ## XGBoost hyper parameters\n",
    "    'XGBoost__regressor__reg_lambda': [0,0.1,0.5,1,5],\n",
    "    'XGBoost__regressor__n_estimators': [200,400,600,800,1200],\n",
    "    'XGBoost__regressor__learning_rate': np.linspace(0.05, 0.5, num=5),\n",
    "    'XGBoost__regressor__max_depth': [0,5,10,20,30,50,100],\n",
    "    # 'XGBoost__regressor__max_depth': [20,100],\n",
    "\n",
    "    ## RandomForest hyper parameters\n",
    "    'RandomForest__regressor__min_impurity_decrease': np.linspace(0.1, 0.5, num=4),\n",
    "    'RandomForest__regressor__min_samples_leaf': [2,5,10,20,50],\n",
    "    'RandomForest__regressor__min_samples_split': [2,5,10,20],\n",
    "    # 'RandomForest__regressor__n_estimators': range(100,400,100),\n",
    "\n",
    "    ## LGBM hyper parameters\n",
    "    'LGBM__regressor__learning_rate': np.linspace(0.05, 0.5, num=4),\n",
    "    'LGBM__regressor__max_depth': [5,10,50,100],\n",
    "    'LGBM__regressor____n_estimators': [200,500,800],\n",
    "\n",
    "    ## final estimator LGBM hyper parameters\n",
    "    'final_estimator__boosting_type': ['dart','goss','gbdt'],\n",
    "    'final_estimator__learning_rate': np.linspace(0.05, 0.5, num=5),\n",
    "    'final_estimator__max_depth': [-1,5,10,20,30,50,100],\n",
    "    'final_estimator__n_estimators': [200,400,600,800,1200],\n",
    "}"
   ],
   "metadata": {
    "collapsed": false,
    "pycharm": {
     "name": "#%%\n"
    }
   }
  },
  {
   "cell_type": "code",
   "execution_count": 120,
   "outputs": [],
   "source": [
    "from sklearn.linear_model import ElasticNet\n",
    "from sklearn.ensemble import RandomForestRegressor,  GradientBoostingRegressor\n",
    "from xgboost import XGBRegressor\n",
    "from lightgbm  import LGBMRegressor\n",
    "from sklearn.ensemble import StackingRegressor\n",
    "estimators = [\n",
    "    (\"ElasticNet\", ElasticNet(random_state=0)),\n",
    "    (\"XGBoost\", XGBRegressor(objective='reg:squarederror',eval_metric='rmse',random_state=0,n_jobs=-1,use_label_encoder=False,  tree_method = 'gpu_hist')),\n",
    "    (\"RandomForest\", RandomForestRegressor(random_state=0,n_jobs=-1)),\n",
    "    (\"LGBM\", LGBMRegressor(objective='regression',random_state=0,n_jobs=-1,device = 'gpu')),\n",
    "]\n",
    "finalestimators = []\n",
    "for estimator, model in estimators:\n",
    "    finalestimators.append((estimator,pipeline.Pipeline([('columntransformer',data_preprocessor),('DropZeroCol',DropZeroCol()),('regressor',model)])))\n",
    "final_estimator=LGBMRegressor(objective='regression',random_state=0,n_jobs=-1,device = 'gpu')\n",
    "stacking_Regressor = StackingRegressor(estimators=finalestimators, final_estimator=final_estimator,n_jobs=-1)\n",
    "# finalPipe = pipeline.make_pipeline(data_preprocessor,stacking_Regressor)\n",
    "finalPipe = stacking_Regressor"
   ],
   "metadata": {
    "collapsed": false,
    "pycharm": {
     "name": "#%%\n"
    }
   }
  },
  {
   "cell_type": "code",
   "execution_count": null,
   "outputs": [
    {
     "name": "stdout",
     "output_type": "stream",
     "text": [
      "\n",
      "Tuning Model  LGBM with params:\n",
      " {'columntransformer__date_linear_processor__ProcessDates': [ProcessDates(), None], 'columntransformer__date_linear_processor__ProcessHolidays': [ProcessHolidays(), None], 'columntransformer__weather_linear_processor__ProcessWeather__action': ['actual', 'drop'], 'columntransformer__weather_linear_processor__ProcessWSpd__action': ['cat', 'drop'], 'columntransformer__vessel_linear_processor__ProcessVessel__usage': ['dwt', 'vessel'], 'regressor__learning_rate': array([0.05, 0.2 , 0.35, 0.5 ]), 'regressor__max_depth': [5, 10, 50, 100], 'regressor____n_estimators': [200, 500, 800]} \n",
      "\n",
      "Fitting 5 folds for each of 1536 candidates, totalling 7680 fits\n"
     ]
    }
   ],
   "source": [
    "#tune hyperparameter\n",
    "limitTuner = 'LGBM' # Options ElasticNet, XGBoost, RandomForest, LGBM\n",
    "preprocessingName = 'columntransformer__'\n",
    "estimatorsParam = {}\n",
    "finalParam = {}\n",
    "for estimator in finalestimators:\n",
    "    if limitTuner== '' or estimator[0] ==limitTuner:\n",
    "        modelParam = {}\n",
    "        for param, grid in param_grid.items():\n",
    "            if param.startswith(estimator[0]):\n",
    "                modelParam[param[len(estimator[0])+2:]] = grid\n",
    "            elif param.startswith(preprocessingName):\n",
    "                modelParam[param] = grid\n",
    "        # print(estimator[1].get_params().keys())\n",
    "        print('\\nTuning Model ',estimator[0], \"with params:\\n\",  modelParam, '\\n')\n",
    "        gs = GridSearchCV(estimator=estimator[1],param_grid=modelParam,scoring = 'neg_root_mean_squared_error',n_jobs = -1,cv = 5,verbose = 10)\n",
    "        gs.fit(X_train,y_train)\n",
    "        print('Tuned Model ',estimator[0], \" (RMSE = \",\"{:.4f}\".format(abs(gs.best_score_)),\")\")\n",
    "        # print(\"Best params:\\n\",  gs.best_params_, '\\n')\n",
    "        modelParam={}\n",
    "        for param, grid in gs.best_params_.items():\n",
    "            modelParam[estimator[0]+'__'+param] = grid\n",
    "        estimatorsParam ={**estimatorsParam, **modelParam}\n",
    "\n",
    "print('\\n Params to use\\n\\n',estimatorsParam)"
   ],
   "metadata": {
    "collapsed": false,
    "pycharm": {
     "name": "#%%\n",
     "is_executing": true
    }
   }
  },
  {
   "cell_type": "markdown",
   "source": [
    "Stop Here"
   ],
   "metadata": {
    "collapsed": false
   }
  },
  {
   "cell_type": "code",
   "execution_count": null,
   "outputs": [],
   "source": [
    "# replace individual best model here post tuning.\n",
    "elasticnetParams = {}\n",
    "xgboostParams = {}\n",
    "randomforestParams = {}\n",
    "lgbmParams = {}\n",
    "testParams = {'ElasticNet__columntransformer__date_linear_processor__ProcessDates': None, 'ElasticNet__regressor__alpha': 1.0, 'XGBoost__columntransformer__date_linear_processor__ProcessDates': ProcessDates(), 'XGBoost__regressor__max_depth': 20, 'RandomForest__columntransformer__date_linear_processor__ProcessDates': None, 'RandomForest__regressor__n_estimators': 200, 'LGBM__columntransformer__date_linear_processor__ProcessDates': ProcessDates(), 'LGBM__regressor____n_estimators': 600}"
   ],
   "metadata": {
    "collapsed": false,
    "pycharm": {
     "name": "#%%\n"
    }
   }
  },
  {
   "cell_type": "code",
   "execution_count": 54,
   "outputs": [
    {
     "data": {
      "text/plain": "{'ElasticNet__columntransformer__date_linear_processor__ProcessDates': None,\n 'ElasticNet__columntransformer__date_linear_processor__ProcessHolidays': None,\n 'ElasticNet__columntransformer__vessel_linear_processor__ProcessVessel__usage': 'dwt',\n 'ElasticNet__columntransformer__weather_linear_processor__ProcessWSpd__action': 'cat',\n 'ElasticNet__columntransformer__weather_linear_processor__ProcessWeather__action': 'actual',\n 'ElasticNet__regressor__alpha': 0.0,\n 'ElasticNet__regressor__l1_ratio': 0.0,\n 'XGBoost__columntransformer__date_linear_processor__ProcessDates': ProcessDates(),\n 'XGBoost__regressor__max_depth': 20,\n 'RandomForest__columntransformer__date_linear_processor__ProcessDates': ProcessDates(),\n 'RandomForest__regressor__n_estimators': 300,\n 'LGBM__columntransformer__date_linear_processor__ProcessDates': None,\n 'LGBM__regressor____n_estimators': 200,\n 'final_estimator__boosting_type': 'goss'}"
     },
     "execution_count": 54,
     "metadata": {},
     "output_type": "execute_result"
    }
   ],
   "source": [
    "# prepare data for final tuning\n",
    "estimatorsParam = {**elasticnetParams,**xgboostParams,**randomforestParams,**lgbmParams,**testParams}\n",
    "finalPipe.set_params(**estimatorsParam)\n",
    "finalTrain  = finalPipe.fit_transform(X_train,y_train)\n",
    "finalGrid = {}\n",
    "\n",
    "# generate final model params\n",
    "for param, grid in param_grid.items():\n",
    "    if param.startswith(\"final_estimator\"):\n",
    "        finalGrid[param[len(\"final_estimator__\"):]] = grid\n",
    "\n",
    "#tune final model\n",
    "gs = GridSearchCV(estimator=final_estimator,param_grid=finalGrid,scoring = 'neg_root_mean_squared_error',n_jobs = -1,cv = 5,verbose = -1)\n",
    "gs.fit(finalTrain,y_train)\n",
    "modelParam = {}\n",
    "for param, grid in gs.best_params_.items():\n",
    "    modelParam[\"final_estimator__\"+param] = grid\n",
    "finalParam = {**estimatorsParam, **modelParam}\n",
    "finalParam"
   ],
   "metadata": {
    "collapsed": false,
    "pycharm": {
     "name": "#%%\n"
    }
   }
  },
  {
   "cell_type": "code",
   "execution_count": 70,
   "outputs": [
    {
     "ename": "ValueError",
     "evalue": "Found input variables with inconsistent numbers of samples: [1989, 4]",
     "output_type": "error",
     "traceback": [
      "\u001B[1;31m---------------------------------------------------------------------------\u001B[0m",
      "\u001B[1;31mValueError\u001B[0m                                Traceback (most recent call last)",
      "\u001B[1;32m~\\AppData\\Local\\Temp\\ipykernel_15976\\2224633080.py\u001B[0m in \u001B[0;36m<cell line: 14>\u001B[1;34m()\u001B[0m\n\u001B[0;32m     13\u001B[0m \u001B[0mi\u001B[0m\u001B[1;33m=\u001B[0m\u001B[1;36m0\u001B[0m\u001B[1;33m\u001B[0m\u001B[1;33m\u001B[0m\u001B[0m\n\u001B[0;32m     14\u001B[0m \u001B[1;32mfor\u001B[0m \u001B[0mestimator\u001B[0m \u001B[1;32min\u001B[0m \u001B[0mfinalestimators\u001B[0m\u001B[1;33m:\u001B[0m\u001B[1;33m\u001B[0m\u001B[1;33m\u001B[0m\u001B[0m\n\u001B[1;32m---> 15\u001B[1;33m     \u001B[0mresultDict\u001B[0m\u001B[1;33m[\u001B[0m\u001B[0mestimator\u001B[0m\u001B[1;33m[\u001B[0m\u001B[1;36m0\u001B[0m\u001B[1;33m]\u001B[0m\u001B[1;33m]\u001B[0m \u001B[1;33m=\u001B[0m \u001B[0mScoreArray\u001B[0m\u001B[1;33m(\u001B[0m\u001B[0mtrainTrans\u001B[0m\u001B[1;33m[\u001B[0m\u001B[0mi\u001B[0m\u001B[1;33m]\u001B[0m\u001B[1;33m,\u001B[0m\u001B[0mtestTrans\u001B[0m\u001B[1;33m[\u001B[0m\u001B[0mi\u001B[0m\u001B[1;33m]\u001B[0m\u001B[1;33m)\u001B[0m\u001B[1;33m\u001B[0m\u001B[1;33m\u001B[0m\u001B[0m\n\u001B[0m\u001B[0;32m     16\u001B[0m     \u001B[0mi\u001B[0m\u001B[1;33m+=\u001B[0m\u001B[1;36m1\u001B[0m\u001B[1;33m\u001B[0m\u001B[1;33m\u001B[0m\u001B[0m\n\u001B[0;32m     17\u001B[0m \u001B[0mtrainPredicted\u001B[0m \u001B[1;33m=\u001B[0m \u001B[0mfinalPipe\u001B[0m\u001B[1;33m.\u001B[0m\u001B[0mpredict\u001B[0m\u001B[1;33m(\u001B[0m\u001B[0mX_train\u001B[0m\u001B[1;33m)\u001B[0m\u001B[1;33m\u001B[0m\u001B[1;33m\u001B[0m\u001B[0m\n",
      "\u001B[1;32m~\\AppData\\Local\\Temp\\ipykernel_15976\\2224633080.py\u001B[0m in \u001B[0;36mScoreArray\u001B[1;34m(trainPredicted, testPredicted)\u001B[0m\n\u001B[0;32m      1\u001B[0m \u001B[0mresultDict\u001B[0m \u001B[1;33m=\u001B[0m \u001B[1;33m{\u001B[0m\u001B[1;33m}\u001B[0m\u001B[1;33m\u001B[0m\u001B[1;33m\u001B[0m\u001B[0m\n\u001B[0;32m      2\u001B[0m \u001B[1;32mdef\u001B[0m \u001B[0mScoreArray\u001B[0m\u001B[1;33m(\u001B[0m\u001B[0mtrainPredicted\u001B[0m\u001B[1;33m,\u001B[0m\u001B[0mtestPredicted\u001B[0m\u001B[1;33m)\u001B[0m\u001B[1;33m:\u001B[0m\u001B[1;33m\u001B[0m\u001B[1;33m\u001B[0m\u001B[0m\n\u001B[1;32m----> 3\u001B[1;33m     \u001B[0mtrainrmse\u001B[0m \u001B[1;33m=\u001B[0m \u001B[0mmath\u001B[0m\u001B[1;33m.\u001B[0m\u001B[0msqrt\u001B[0m\u001B[1;33m(\u001B[0m\u001B[0mmean_squared_error\u001B[0m\u001B[1;33m(\u001B[0m\u001B[0my_train\u001B[0m\u001B[1;33m,\u001B[0m \u001B[0mtrainPredicted\u001B[0m\u001B[1;33m)\u001B[0m\u001B[1;33m)\u001B[0m\u001B[1;33m\u001B[0m\u001B[1;33m\u001B[0m\u001B[0m\n\u001B[0m\u001B[0;32m      4\u001B[0m     \u001B[0mmae\u001B[0m \u001B[1;33m=\u001B[0m \u001B[0mmean_absolute_error\u001B[0m\u001B[1;33m(\u001B[0m\u001B[0my_test\u001B[0m\u001B[1;33m,\u001B[0m \u001B[0mtestPredicted\u001B[0m\u001B[1;33m)\u001B[0m\u001B[1;33m\u001B[0m\u001B[1;33m\u001B[0m\u001B[0m\n\u001B[0;32m      5\u001B[0m     \u001B[0mrmse\u001B[0m \u001B[1;33m=\u001B[0m \u001B[0mmath\u001B[0m\u001B[1;33m.\u001B[0m\u001B[0msqrt\u001B[0m\u001B[1;33m(\u001B[0m\u001B[0mmean_squared_error\u001B[0m\u001B[1;33m(\u001B[0m\u001B[0my_test\u001B[0m\u001B[1;33m,\u001B[0m \u001B[0mtestPredicted\u001B[0m\u001B[1;33m)\u001B[0m\u001B[1;33m)\u001B[0m\u001B[1;33m\u001B[0m\u001B[1;33m\u001B[0m\u001B[0m\n",
      "\u001B[1;32mc:\\users\\rawwi\\onedrive\\school\\nus\\current sem\\python\\lib\\site-packages\\sklearn\\metrics\\_regression.py\u001B[0m in \u001B[0;36mmean_squared_error\u001B[1;34m(y_true, y_pred, sample_weight, multioutput, squared)\u001B[0m\n\u001B[0;32m    436\u001B[0m     \u001B[1;36m0.825\u001B[0m\u001B[1;33m...\u001B[0m\u001B[1;33m\u001B[0m\u001B[1;33m\u001B[0m\u001B[0m\n\u001B[0;32m    437\u001B[0m     \"\"\"\n\u001B[1;32m--> 438\u001B[1;33m     y_type, y_true, y_pred, multioutput = _check_reg_targets(\n\u001B[0m\u001B[0;32m    439\u001B[0m         \u001B[0my_true\u001B[0m\u001B[1;33m,\u001B[0m \u001B[0my_pred\u001B[0m\u001B[1;33m,\u001B[0m \u001B[0mmultioutput\u001B[0m\u001B[1;33m\u001B[0m\u001B[1;33m\u001B[0m\u001B[0m\n\u001B[0;32m    440\u001B[0m     )\n",
      "\u001B[1;32mc:\\users\\rawwi\\onedrive\\school\\nus\\current sem\\python\\lib\\site-packages\\sklearn\\metrics\\_regression.py\u001B[0m in \u001B[0;36m_check_reg_targets\u001B[1;34m(y_true, y_pred, multioutput, dtype)\u001B[0m\n\u001B[0;32m     92\u001B[0m         \u001B[0mthe\u001B[0m \u001B[0mdtype\u001B[0m \u001B[0margument\u001B[0m \u001B[0mpassed\u001B[0m \u001B[0mto\u001B[0m \u001B[0mcheck_array\u001B[0m\u001B[1;33m.\u001B[0m\u001B[1;33m\u001B[0m\u001B[1;33m\u001B[0m\u001B[0m\n\u001B[0;32m     93\u001B[0m     \"\"\"\n\u001B[1;32m---> 94\u001B[1;33m     \u001B[0mcheck_consistent_length\u001B[0m\u001B[1;33m(\u001B[0m\u001B[0my_true\u001B[0m\u001B[1;33m,\u001B[0m \u001B[0my_pred\u001B[0m\u001B[1;33m)\u001B[0m\u001B[1;33m\u001B[0m\u001B[1;33m\u001B[0m\u001B[0m\n\u001B[0m\u001B[0;32m     95\u001B[0m     \u001B[0my_true\u001B[0m \u001B[1;33m=\u001B[0m \u001B[0mcheck_array\u001B[0m\u001B[1;33m(\u001B[0m\u001B[0my_true\u001B[0m\u001B[1;33m,\u001B[0m \u001B[0mensure_2d\u001B[0m\u001B[1;33m=\u001B[0m\u001B[1;32mFalse\u001B[0m\u001B[1;33m,\u001B[0m \u001B[0mdtype\u001B[0m\u001B[1;33m=\u001B[0m\u001B[0mdtype\u001B[0m\u001B[1;33m)\u001B[0m\u001B[1;33m\u001B[0m\u001B[1;33m\u001B[0m\u001B[0m\n\u001B[0;32m     96\u001B[0m     \u001B[0my_pred\u001B[0m \u001B[1;33m=\u001B[0m \u001B[0mcheck_array\u001B[0m\u001B[1;33m(\u001B[0m\u001B[0my_pred\u001B[0m\u001B[1;33m,\u001B[0m \u001B[0mensure_2d\u001B[0m\u001B[1;33m=\u001B[0m\u001B[1;32mFalse\u001B[0m\u001B[1;33m,\u001B[0m \u001B[0mdtype\u001B[0m\u001B[1;33m=\u001B[0m\u001B[0mdtype\u001B[0m\u001B[1;33m)\u001B[0m\u001B[1;33m\u001B[0m\u001B[1;33m\u001B[0m\u001B[0m\n",
      "\u001B[1;32mc:\\users\\rawwi\\onedrive\\school\\nus\\current sem\\python\\lib\\site-packages\\sklearn\\utils\\validation.py\u001B[0m in \u001B[0;36mcheck_consistent_length\u001B[1;34m(*arrays)\u001B[0m\n\u001B[0;32m    330\u001B[0m     \u001B[0muniques\u001B[0m \u001B[1;33m=\u001B[0m \u001B[0mnp\u001B[0m\u001B[1;33m.\u001B[0m\u001B[0munique\u001B[0m\u001B[1;33m(\u001B[0m\u001B[0mlengths\u001B[0m\u001B[1;33m)\u001B[0m\u001B[1;33m\u001B[0m\u001B[1;33m\u001B[0m\u001B[0m\n\u001B[0;32m    331\u001B[0m     \u001B[1;32mif\u001B[0m \u001B[0mlen\u001B[0m\u001B[1;33m(\u001B[0m\u001B[0muniques\u001B[0m\u001B[1;33m)\u001B[0m \u001B[1;33m>\u001B[0m \u001B[1;36m1\u001B[0m\u001B[1;33m:\u001B[0m\u001B[1;33m\u001B[0m\u001B[1;33m\u001B[0m\u001B[0m\n\u001B[1;32m--> 332\u001B[1;33m         raise ValueError(\n\u001B[0m\u001B[0;32m    333\u001B[0m             \u001B[1;34m\"Found input variables with inconsistent numbers of samples: %r\"\u001B[0m\u001B[1;33m\u001B[0m\u001B[1;33m\u001B[0m\u001B[0m\n\u001B[0;32m    334\u001B[0m             \u001B[1;33m%\u001B[0m \u001B[1;33m[\u001B[0m\u001B[0mint\u001B[0m\u001B[1;33m(\u001B[0m\u001B[0ml\u001B[0m\u001B[1;33m)\u001B[0m \u001B[1;32mfor\u001B[0m \u001B[0ml\u001B[0m \u001B[1;32min\u001B[0m \u001B[0mlengths\u001B[0m\u001B[1;33m]\u001B[0m\u001B[1;33m\u001B[0m\u001B[1;33m\u001B[0m\u001B[0m\n",
      "\u001B[1;31mValueError\u001B[0m: Found input variables with inconsistent numbers of samples: [1989, 4]"
     ]
    }
   ],
   "source": [
    "resultList = []\n",
    "def ScoreArray(trainPredicted,testPredicted):\n",
    "    trainrmse = math.sqrt(mean_squared_error(y_train, trainPredicted))\n",
    "    mae = mean_absolute_error(y_test, testPredicted)\n",
    "    rmse = math.sqrt(mean_squared_error(y_test, testPredicted))\n",
    "    r2 = r2_score(y_test, testPredicted)\n",
    "    return [trainrmse,mae,rmse,r2]\n",
    "\n",
    "finalPipe.set_params(**finalParam)\n",
    "finalPipe.fit(X_train,y_train)\n",
    "trainTrans = finalPipe.transform(X_train)\n",
    "testTrans = finalPipe.transform(X_test)\n",
    "i=0\n",
    "for estimator in finalestimators:\n",
    "    resultList.append((estimator[0],ScoreArray(trainTrans[:,i],testTrans[:,i])))\n",
    "    i+=1\n",
    "trainPredicted = finalPipe.predict(X_train)\n",
    "testPredicted = finalPipe.predict(X_test)\n",
    "resultList.append((\"Stack Regressor\",ScoreArray(trainPredicted,testPredicted)))\n",
    "\n",
    "resultList"
   ],
   "metadata": {
    "collapsed": false,
    "pycharm": {
     "name": "#%%\n"
    }
   }
  },
  {
   "cell_type": "code",
   "execution_count": 90,
   "outputs": [
    {
     "data": {
      "text/plain": "<Figure size 640x480 with 1 Axes>",
      "image/png": "[encoded data removed]"
     },
     "metadata": {},
     "output_type": "display_data"
    }
   ],
   "source": [
    "barWidth = 0.20\n",
    "\n",
    "# set heights of bars\n",
    "names = []\n",
    "bars = [[],[],[],[]]\n",
    "for name,result in resultList:\n",
    "    names.append(name)\n",
    "    bars[0].append(result[0])\n",
    "    bars[1].append(result[1])\n",
    "    bars[2].append(result[2])\n",
    "    bars[3].append(result[3])\n",
    "\n",
    "# Set position of bar on X axis\n",
    "r1 = np.arange(len(bars[0]))\n",
    "r2 = [x + barWidth for x in r1]\n",
    "r3 = [x + barWidth for x in r2]\n",
    "r4 = [x + barWidth for x in r3]\n",
    "\n",
    "# Make the plot\n",
    "finalPlotLabels = ['RMSE(Train)','MAE(Test)', 'RMSE(Test)', 'R2(Test)']\n",
    "colours = ['#7f6d5f','#557f2d','#2d7f5e','#2d295e']\n",
    "r = [r1,r2,r3,r4]\n",
    "i=0\n",
    "for finalPlotLabel in finalPlotLabels:\n",
    "    plt.bar(r[i], bars[i], color=colours[i], width=barWidth, edgecolor='white', label=finalPlotLabel)\n",
    "    i+=1\n",
    "\n",
    "# Add xticks on the middle of the group bars\n",
    "plt.xlabel('Method', fontweight='bold')\n",
    "plt.xticks([r + barWidth for r in range(len(bars[0]))], names)\n",
    "\n",
    "# Create legend & Show graphic\n",
    "plt.legend()\n",
    "plt.show()"
   ],
   "metadata": {
    "collapsed": false,
    "pycharm": {
     "name": "#%%\n"
    }
   }
  }
 ],
 "metadata": {
  "kernelspec": {
   "display_name": "Python 3",
   "language": "python",
   "name": "python3"
  },
  "language_info": {
   "codemirror_mode": {
    "name": "ipython",
    "version": 2
   },
   "file_extension": ".py",
   "mimetype": "text/x-python",
   "name": "python",
   "nbconvert_exporter": "python",
   "pygments_lexer": "ipython2",
   "version": "2.7.6"
  }
 },
 "nbformat": 4,
 "nbformat_minor": 0
}