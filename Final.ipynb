{
 "cells": [
  {
   "cell_type": "code",
   "execution_count": 1,
   "metadata": {
    "collapsed": true
   },
   "outputs": [
    {
     "name": "stderr",
     "output_type": "stream",
     "text": [
      "c:\\users\\rawwi\\onedrive\\school\\nus\\current sem\\python\\lib\\site-packages\\xgboost\\compat.py:36: FutureWarning: pandas.Int64Index is deprecated and will be removed from pandas in a future version. Use pandas.Index with the appropriate dtype instead.\n",
      "  from pandas import MultiIndex, Int64Index\n"
     ]
    }
   ],
   "source": [
    "# Import all required packages\n",
    "import pandas as pd\n",
    "import seaborn as sns\n",
    "import numpy as np\n",
    "import matplotlib.pyplot as plt\n",
    "from sklearn.model_selection import train_test_split,RandomizedSearchCV, GridSearchCV\n",
    "from scipy.stats import randint,uniform\n",
    "from sklearn.metrics import accuracy_score, roc_curve, roc_auc_score, PrecisionRecallDisplay, average_precision_score,precision_recall_curve,auc\n",
    "import seaborn as sn\n",
    "import lightgbm as lgb\n",
    "from sklearn.ensemble import RandomForestClassifier\n",
    "from sklearn.tree  import DecisionTreeClassifier\n",
    "import warnings\n",
    "\n",
    "import pandas as pd\n",
    "import numpy as np\n",
    "import matplotlib.pyplot as plt\n",
    "from joblib import Parallel\n",
    "from sklearn.preprocessing import OneHotEncoder, PolynomialFeatures,StandardScaler,MinMaxScaler\n",
    "from sklearn.model_selection import GridSearchCV,RandomizedSearchCV,train_test_split\n",
    "from sklearn.pipeline import Pipeline\n",
    "from sklearn.base import BaseEstimator, TransformerMixin\n",
    "from sklearn import pipeline,set_config\n",
    "from sklearn.utils import class_weight\n",
    "from lightgbm import LGBMClassifier\n",
    "from xgboost import XGBClassifier\n",
    "from sklearn.compose import ColumnTransformer\n",
    "from sklearn.svm import SVC\n",
    "from sklearn.ensemble import StackingClassifier\n",
    "from sklearn.metrics import accuracy_score, roc_curve, roc_auc_score, PrecisionRecallDisplay, precision_score, \\\n",
    "    average_precision_score, auc, precision_recall_curve, make_scorer,SCORERS\n",
    "from skopt import BayesSearchCV\n",
    "import datetime, re, sys, holidays\n",
    "from Functions import *\n",
    "from sklearn.experimental import enable_halving_search_cv\n",
    "from sklearn.model_selection import HalvingGridSearchCV\n",
    "\n",
    "set_config(display=\"diagram\")\n",
    "np.random.seed (0)\n",
    "Parallel(n_jobs=8, max_nbytes=50000)\n",
    "\n",
    "warnings.filterwarnings(\"ignore\")"
   ]
  },
  {
   "cell_type": "code",
   "execution_count": 2,
   "outputs": [],
   "source": [
    "categorical_cols = ['Vessel Type']\n",
    "numeric_cols = ['Waiting Time (Days)']\n",
    "vessel_cols = ['Total Vessels (Number)', 'Capesize',\n",
    "                'Capesize Laden', 'Capesize Unladen', 'Panamax', 'Panamax Laden',\n",
    "                'Panamax Unladen', 'Handymax', 'Handymax Laden', 'Handymax Unladen',\n",
    "                'Handysize', 'Handysize Laden', 'Handysize Unladen']\n",
    "# date_cols = ['Berth or Port Entry', 'Date']\n",
    "date_cols = ['Date']\n",
    "dwt_cols = ['Total Vessels (DWT)','Capesize (DWT)',\n",
    "            'Capesize Laden (DWT)', 'Capesize Unladen (DWT)', 'Panamax (DWT)',\n",
    "            'Panamax Laden (DWT)', 'Panamax Unladen (DWT)', 'Handymax (DWT)',\n",
    "            'Handymax Laden (DWT)', 'Handymax Unladen (DWT)', 'Handysize (DWT)',\n",
    "            'Handysize Laden (DWT)', 'Handysize Unladen (DWT)']\n",
    "weather_cols = ['tempt', 'prcp', 'wspd']\n",
    "\n",
    "predict_col = 'Wait Levels'"
   ],
   "metadata": {
    "collapsed": false,
    "pycharm": {
     "name": "#%%\n"
    }
   }
  },
  {
   "cell_type": "code",
   "execution_count": 3,
   "outputs": [
    {
     "data": {
      "text/plain": "       IMO  Waiting Time (Days)  Vessel Type       Date  \\\n0  9056399                  0.2            3 2015-01-02   \n1  9471252                  3.4            2 2015-01-02   \n2  9233399                  5.6            3 2015-01-02   \n3  8309141                  0.5            1 2015-01-03   \n4  9625970                  3.9            2 2015-01-03   \n\n   Total Vessels (Number)  Total Vessels (DWT)  Capesize  Capesize Laden  \\\n0                      16               878272         0               0   \n1                      16               878272         0               0   \n2                      16               878272         0               0   \n3                      17               908718         0               0   \n4                      17               908718         0               0   \n\n   Capesize Unladen  Panamax  ...  Handymax (DWT)  Handymax Laden (DWT)  \\\n0                 0        5  ...          432704                121785   \n1                 0        5  ...          432704                121785   \n2                 0        5  ...          432704                121785   \n3                 0        5  ...          474533                107174   \n4                 0        5  ...          474533                107174   \n\n   Handymax Unladen (DWT)  Handysize (DWT)  Handysize Laden (DWT)  \\\n0                  310919            52823                  30060   \n1                  310919            52823                  30060   \n2                  310919            52823                  30060   \n3                  367359            70297                  36036   \n4                  367359            70297                  36036   \n\n   Handysize Unladen (DWT)  Wait Levels  tempt  prcp  wspd  \n0                    22763            0   27.0   0.0  15.1  \n1                    22763            1   27.0   0.0  15.1  \n2                    22763            2   27.0   0.0  15.1  \n3                    34261            0   23.3   3.0  13.8  \n4                    34261            1   23.3   3.0  13.8  \n\n[5 rows x 34 columns]",
      "text/html": "<div>\n<style scoped>\n    .dataframe tbody tr th:only-of-type {\n        vertical-align: middle;\n    }\n\n    .dataframe tbody tr th {\n        vertical-align: top;\n    }\n\n    .dataframe thead th {\n        text-align: right;\n    }\n</style>\n<table border=\"1\" class=\"dataframe\">\n  <thead>\n    <tr style=\"text-align: right;\">\n      <th></th>\n      <th>IMO</th>\n      <th>Waiting Time (Days)</th>\n      <th>Vessel Type</th>\n      <th>Date</th>\n      <th>Total Vessels (Number)</th>\n      <th>Total Vessels (DWT)</th>\n      <th>Capesize</th>\n      <th>Capesize Laden</th>\n      <th>Capesize Unladen</th>\n      <th>Panamax</th>\n      <th>...</th>\n      <th>Handymax (DWT)</th>\n      <th>Handymax Laden (DWT)</th>\n      <th>Handymax Unladen (DWT)</th>\n      <th>Handysize (DWT)</th>\n      <th>Handysize Laden (DWT)</th>\n      <th>Handysize Unladen (DWT)</th>\n      <th>Wait Levels</th>\n      <th>tempt</th>\n      <th>prcp</th>\n      <th>wspd</th>\n    </tr>\n  </thead>\n  <tbody>\n    <tr>\n      <th>0</th>\n      <td>9056399</td>\n      <td>0.2</td>\n      <td>3</td>\n      <td>2015-01-02</td>\n      <td>16</td>\n      <td>878272</td>\n      <td>0</td>\n      <td>0</td>\n      <td>0</td>\n      <td>5</td>\n      <td>...</td>\n      <td>432704</td>\n      <td>121785</td>\n      <td>310919</td>\n      <td>52823</td>\n      <td>30060</td>\n      <td>22763</td>\n      <td>0</td>\n      <td>27.0</td>\n      <td>0.0</td>\n      <td>15.1</td>\n    </tr>\n    <tr>\n      <th>1</th>\n      <td>9471252</td>\n      <td>3.4</td>\n      <td>2</td>\n      <td>2015-01-02</td>\n      <td>16</td>\n      <td>878272</td>\n      <td>0</td>\n      <td>0</td>\n      <td>0</td>\n      <td>5</td>\n      <td>...</td>\n      <td>432704</td>\n      <td>121785</td>\n      <td>310919</td>\n      <td>52823</td>\n      <td>30060</td>\n      <td>22763</td>\n      <td>1</td>\n      <td>27.0</td>\n      <td>0.0</td>\n      <td>15.1</td>\n    </tr>\n    <tr>\n      <th>2</th>\n      <td>9233399</td>\n      <td>5.6</td>\n      <td>3</td>\n      <td>2015-01-02</td>\n      <td>16</td>\n      <td>878272</td>\n      <td>0</td>\n      <td>0</td>\n      <td>0</td>\n      <td>5</td>\n      <td>...</td>\n      <td>432704</td>\n      <td>121785</td>\n      <td>310919</td>\n      <td>52823</td>\n      <td>30060</td>\n      <td>22763</td>\n      <td>2</td>\n      <td>27.0</td>\n      <td>0.0</td>\n      <td>15.1</td>\n    </tr>\n    <tr>\n      <th>3</th>\n      <td>8309141</td>\n      <td>0.5</td>\n      <td>1</td>\n      <td>2015-01-03</td>\n      <td>17</td>\n      <td>908718</td>\n      <td>0</td>\n      <td>0</td>\n      <td>0</td>\n      <td>5</td>\n      <td>...</td>\n      <td>474533</td>\n      <td>107174</td>\n      <td>367359</td>\n      <td>70297</td>\n      <td>36036</td>\n      <td>34261</td>\n      <td>0</td>\n      <td>23.3</td>\n      <td>3.0</td>\n      <td>13.8</td>\n    </tr>\n    <tr>\n      <th>4</th>\n      <td>9625970</td>\n      <td>3.9</td>\n      <td>2</td>\n      <td>2015-01-03</td>\n      <td>17</td>\n      <td>908718</td>\n      <td>0</td>\n      <td>0</td>\n      <td>0</td>\n      <td>5</td>\n      <td>...</td>\n      <td>474533</td>\n      <td>107174</td>\n      <td>367359</td>\n      <td>70297</td>\n      <td>36036</td>\n      <td>34261</td>\n      <td>1</td>\n      <td>23.3</td>\n      <td>3.0</td>\n      <td>13.8</td>\n    </tr>\n  </tbody>\n</table>\n<p>5 rows × 34 columns</p>\n</div>"
     },
     "execution_count": 3,
     "metadata": {},
     "output_type": "execute_result"
    }
   ],
   "source": [
    "# Get data\n",
    "data = pd.read_csv('clean_data.csv', index_col=0, parse_dates=date_cols)\n",
    "weather_df = pd.read_csv('sao_paulo_weather.csv', parse_dates=['date'])\n",
    "weather_df = weather_df[['date','tavg','prcp','wspd']].rename(columns={'date': 'Date',\n",
    "                   'tavg': 'tempt',\n",
    "                   'prcp': 'prcp',\n",
    "                   'wspd': 'wspd'}, inplace=False)\n",
    "weather_df = weather_df.fillna(0)\n",
    "data = data.merge(weather_df, how='inner',left_on=['Date'], right_on=['Date'])\n",
    "\n",
    "# Drop cols with only 1 value\n",
    "for col in data.columns:\n",
    "    if len(data[col].unique()) == 1:\n",
    "        data.drop(col,axis=1, inplace=True)\n",
    "\n",
    "data.drop('Berth or Port Entry',axis=1, inplace=True)\n",
    "\n",
    "#convert DWT cols from obj to int\n",
    "for col in dwt_cols:\n",
    "    data[col] = data[col].str.replace(\",\",\"\").astype(int)\n",
    "#convert vessel_cols from float to int\n",
    "for col in vessel_cols:\n",
    "    data[col] = data[col].astype(int)\n",
    "\n",
    "#print cleaned data\n",
    "data.head()"
   ],
   "metadata": {
    "collapsed": false,
    "pycharm": {
     "name": "#%%\n"
    }
   }
  },
  {
   "cell_type": "code",
   "execution_count": 4,
   "outputs": [],
   "source": [
    "data.to_csv('data')"
   ],
   "metadata": {
    "collapsed": false,
    "pycharm": {
     "name": "#%%\n"
    }
   }
  },
  {
   "cell_type": "code",
   "execution_count": 5,
   "outputs": [],
   "source": [
    "# split to train & Test\n",
    "X_train, X_test, y_train, y_test = train_test_split(data.drop(predict_col,axis=1, inplace=False), data[predict_col], test_size=0.9, random_state=0)"
   ],
   "metadata": {
    "collapsed": false,
    "pycharm": {
     "name": "#%%\n"
    }
   }
  },
  {
   "cell_type": "markdown",
   "source": [
    "Create Pipeline"
   ],
   "metadata": {
    "collapsed": false
   }
  },
  {
   "cell_type": "code",
   "execution_count": 9,
   "outputs": [
    {
     "data": {
      "text/plain": "Pipeline(steps=[('columntransformer',\n                 ColumnTransformer(transformers=[('cat_linear_processor',\n                                                  OneHotEncoder(),\n                                                  ['Vessel Type']),\n                                                 ('date_linear_processor',\n                                                  Pipeline(steps=[('ProcessDates',\n                                                                   ProcessDates()),\n                                                                  ('ProcessHolidays',\n                                                                   ProcessHolidays()),\n                                                                  ('DropDate',\n                                                                   DropDate(date_cols=['Date']))]),\n                                                  ['Date']),\n                                                 ('vessel_linear_processor',\n                                                  ProcessVessel(),\n                                                  ['Total Vessels (Nu...\n                                                               scale_pos_weight=None,\n                                                               subsample=None,\n                                                               tree_method='gpu_hist',\n                                                               use_label_encoder=False,\n                                                               validate_parameters=None,\n                                                               verbosity=None)),\n                                                ('RandomForest',\n                                                 RandomForestClassifier(random_state=0)),\n                                                ('DecisionTree',\n                                                 DecisionTreeClassifier())],\n                                    final_estimator=LGBMClassifier(device='gpu',\n                                                                   objective='multiclass',\n                                                                   random_state=0),\n                                    n_jobs=-1, stack_method='predict_proba'))])",
      "text/html": "<style>#sk-d4685ae9-3c8c-4b6e-a064-6e8c02006097 {color: black;background-color: white;}#sk-d4685ae9-3c8c-4b6e-a064-6e8c02006097 pre{padding: 0;}#sk-d4685ae9-3c8c-4b6e-a064-6e8c02006097 div.sk-toggleable {background-color: white;}#sk-d4685ae9-3c8c-4b6e-a064-6e8c02006097 label.sk-toggleable__label {cursor: pointer;display: block;width: 100%;margin-bottom: 0;padding: 0.3em;box-sizing: border-box;text-align: center;}#sk-d4685ae9-3c8c-4b6e-a064-6e8c02006097 label.sk-toggleable__label-arrow:before {content: \"▸\";float: left;margin-right: 0.25em;color: #696969;}#sk-d4685ae9-3c8c-4b6e-a064-6e8c02006097 label.sk-toggleable__label-arrow:hover:before {color: black;}#sk-d4685ae9-3c8c-4b6e-a064-6e8c02006097 div.sk-estimator:hover label.sk-toggleable__label-arrow:before {color: black;}#sk-d4685ae9-3c8c-4b6e-a064-6e8c02006097 div.sk-toggleable__content {max-height: 0;max-width: 0;overflow: hidden;text-align: left;background-color: #f0f8ff;}#sk-d4685ae9-3c8c-4b6e-a064-6e8c02006097 div.sk-toggleable__content pre {margin: 0.2em;color: black;border-radius: 0.25em;background-color: #f0f8ff;}#sk-d4685ae9-3c8c-4b6e-a064-6e8c02006097 input.sk-toggleable__control:checked~div.sk-toggleable__content {max-height: 200px;max-width: 100%;overflow: auto;}#sk-d4685ae9-3c8c-4b6e-a064-6e8c02006097 input.sk-toggleable__control:checked~label.sk-toggleable__label-arrow:before {content: \"▾\";}#sk-d4685ae9-3c8c-4b6e-a064-6e8c02006097 div.sk-estimator input.sk-toggleable__control:checked~label.sk-toggleable__label {background-color: #d4ebff;}#sk-d4685ae9-3c8c-4b6e-a064-6e8c02006097 div.sk-label input.sk-toggleable__control:checked~label.sk-toggleable__label {background-color: #d4ebff;}#sk-d4685ae9-3c8c-4b6e-a064-6e8c02006097 input.sk-hidden--visually {border: 0;clip: rect(1px 1px 1px 1px);clip: rect(1px, 1px, 1px, 1px);height: 1px;margin: -1px;overflow: hidden;padding: 0;position: absolute;width: 1px;}#sk-d4685ae9-3c8c-4b6e-a064-6e8c02006097 div.sk-estimator {font-family: monospace;background-color: #f0f8ff;border: 1px dotted black;border-radius: 0.25em;box-sizing: border-box;margin-bottom: 0.5em;}#sk-d4685ae9-3c8c-4b6e-a064-6e8c02006097 div.sk-estimator:hover {background-color: #d4ebff;}#sk-d4685ae9-3c8c-4b6e-a064-6e8c02006097 div.sk-parallel-item::after {content: \"\";width: 100%;border-bottom: 1px solid gray;flex-grow: 1;}#sk-d4685ae9-3c8c-4b6e-a064-6e8c02006097 div.sk-label:hover label.sk-toggleable__label {background-color: #d4ebff;}#sk-d4685ae9-3c8c-4b6e-a064-6e8c02006097 div.sk-serial::before {content: \"\";position: absolute;border-left: 1px solid gray;box-sizing: border-box;top: 2em;bottom: 0;left: 50%;}#sk-d4685ae9-3c8c-4b6e-a064-6e8c02006097 div.sk-serial {display: flex;flex-direction: column;align-items: center;background-color: white;padding-right: 0.2em;padding-left: 0.2em;}#sk-d4685ae9-3c8c-4b6e-a064-6e8c02006097 div.sk-item {z-index: 1;}#sk-d4685ae9-3c8c-4b6e-a064-6e8c02006097 div.sk-parallel {display: flex;align-items: stretch;justify-content: center;background-color: white;}#sk-d4685ae9-3c8c-4b6e-a064-6e8c02006097 div.sk-parallel::before {content: \"\";position: absolute;border-left: 1px solid gray;box-sizing: border-box;top: 2em;bottom: 0;left: 50%;}#sk-d4685ae9-3c8c-4b6e-a064-6e8c02006097 div.sk-parallel-item {display: flex;flex-direction: column;position: relative;background-color: white;}#sk-d4685ae9-3c8c-4b6e-a064-6e8c02006097 div.sk-parallel-item:first-child::after {align-self: flex-end;width: 50%;}#sk-d4685ae9-3c8c-4b6e-a064-6e8c02006097 div.sk-parallel-item:last-child::after {align-self: flex-start;width: 50%;}#sk-d4685ae9-3c8c-4b6e-a064-6e8c02006097 div.sk-parallel-item:only-child::after {width: 0;}#sk-d4685ae9-3c8c-4b6e-a064-6e8c02006097 div.sk-dashed-wrapped {border: 1px dashed gray;margin: 0 0.4em 0.5em 0.4em;box-sizing: border-box;padding-bottom: 0.4em;background-color: white;position: relative;}#sk-d4685ae9-3c8c-4b6e-a064-6e8c02006097 div.sk-label label {font-family: monospace;font-weight: bold;background-color: white;display: inline-block;line-height: 1.2em;}#sk-d4685ae9-3c8c-4b6e-a064-6e8c02006097 div.sk-label-container {position: relative;z-index: 2;text-align: center;}#sk-d4685ae9-3c8c-4b6e-a064-6e8c02006097 div.sk-container {/* jupyter's `normalize.less` sets `[hidden] { display: none; }` but bootstrap.min.css set `[hidden] { display: none !important; }` so we also need the `!important` here to be able to override the default hidden behavior on the sphinx rendered scikit-learn.org. See: https://github.com/scikit-learn/scikit-learn/issues/21755 */display: inline-block !important;position: relative;}#sk-d4685ae9-3c8c-4b6e-a064-6e8c02006097 div.sk-text-repr-fallback {display: none;}</style><div id=\"sk-d4685ae9-3c8c-4b6e-a064-6e8c02006097\" class=\"sk-top-container\"><div class=\"sk-text-repr-fallback\"><pre>Pipeline(steps=[(&#x27;columntransformer&#x27;,\n                 ColumnTransformer(transformers=[(&#x27;cat_linear_processor&#x27;,\n                                                  OneHotEncoder(),\n                                                  [&#x27;Vessel Type&#x27;]),\n                                                 (&#x27;date_linear_processor&#x27;,\n                                                  Pipeline(steps=[(&#x27;ProcessDates&#x27;,\n                                                                   ProcessDates()),\n                                                                  (&#x27;ProcessHolidays&#x27;,\n                                                                   ProcessHolidays()),\n                                                                  (&#x27;DropDate&#x27;,\n                                                                   DropDate(date_cols=[&#x27;Date&#x27;]))]),\n                                                  [&#x27;Date&#x27;]),\n                                                 (&#x27;vessel_linear_processor&#x27;,\n                                                  ProcessVessel(),\n                                                  [&#x27;Total Vessels (Nu...\n                                                               scale_pos_weight=None,\n                                                               subsample=None,\n                                                               tree_method=&#x27;gpu_hist&#x27;,\n                                                               use_label_encoder=False,\n                                                               validate_parameters=None,\n                                                               verbosity=None)),\n                                                (&#x27;RandomForest&#x27;,\n                                                 RandomForestClassifier(random_state=0)),\n                                                (&#x27;DecisionTree&#x27;,\n                                                 DecisionTreeClassifier())],\n                                    final_estimator=LGBMClassifier(device=&#x27;gpu&#x27;,\n                                                                   objective=&#x27;multiclass&#x27;,\n                                                                   random_state=0),\n                                    n_jobs=-1, stack_method=&#x27;predict_proba&#x27;))])</pre><b>Please rerun this cell to show the HTML repr or trust the notebook.</b></div><div class=\"sk-container\" hidden><div class=\"sk-item sk-dashed-wrapped\"><div class=\"sk-label-container\"><div class=\"sk-label sk-toggleable\"><input class=\"sk-toggleable__control sk-hidden--visually\" id=\"eab84b7b-4c06-4efc-b830-5d857ae4ef4d\" type=\"checkbox\" ><label for=\"eab84b7b-4c06-4efc-b830-5d857ae4ef4d\" class=\"sk-toggleable__label sk-toggleable__label-arrow\">Pipeline</label><div class=\"sk-toggleable__content\"><pre>Pipeline(steps=[(&#x27;columntransformer&#x27;,\n                 ColumnTransformer(transformers=[(&#x27;cat_linear_processor&#x27;,\n                                                  OneHotEncoder(),\n                                                  [&#x27;Vessel Type&#x27;]),\n                                                 (&#x27;date_linear_processor&#x27;,\n                                                  Pipeline(steps=[(&#x27;ProcessDates&#x27;,\n                                                                   ProcessDates()),\n                                                                  (&#x27;ProcessHolidays&#x27;,\n                                                                   ProcessHolidays()),\n                                                                  (&#x27;DropDate&#x27;,\n                                                                   DropDate(date_cols=[&#x27;Date&#x27;]))]),\n                                                  [&#x27;Date&#x27;]),\n                                                 (&#x27;vessel_linear_processor&#x27;,\n                                                  ProcessVessel(),\n                                                  [&#x27;Total Vessels (Nu...\n                                                               scale_pos_weight=None,\n                                                               subsample=None,\n                                                               tree_method=&#x27;gpu_hist&#x27;,\n                                                               use_label_encoder=False,\n                                                               validate_parameters=None,\n                                                               verbosity=None)),\n                                                (&#x27;RandomForest&#x27;,\n                                                 RandomForestClassifier(random_state=0)),\n                                                (&#x27;DecisionTree&#x27;,\n                                                 DecisionTreeClassifier())],\n                                    final_estimator=LGBMClassifier(device=&#x27;gpu&#x27;,\n                                                                   objective=&#x27;multiclass&#x27;,\n                                                                   random_state=0),\n                                    n_jobs=-1, stack_method=&#x27;predict_proba&#x27;))])</pre></div></div></div><div class=\"sk-serial\"><div class=\"sk-item sk-dashed-wrapped\"><div class=\"sk-label-container\"><div class=\"sk-label sk-toggleable\"><input class=\"sk-toggleable__control sk-hidden--visually\" id=\"d5169f1b-e493-4dcd-b131-5c7e4af28fa0\" type=\"checkbox\" ><label for=\"d5169f1b-e493-4dcd-b131-5c7e4af28fa0\" class=\"sk-toggleable__label sk-toggleable__label-arrow\">columntransformer: ColumnTransformer</label><div class=\"sk-toggleable__content\"><pre>ColumnTransformer(transformers=[(&#x27;cat_linear_processor&#x27;, OneHotEncoder(),\n                                 [&#x27;Vessel Type&#x27;]),\n                                (&#x27;date_linear_processor&#x27;,\n                                 Pipeline(steps=[(&#x27;ProcessDates&#x27;,\n                                                  ProcessDates()),\n                                                 (&#x27;ProcessHolidays&#x27;,\n                                                  ProcessHolidays()),\n                                                 (&#x27;DropDate&#x27;,\n                                                  DropDate(date_cols=[&#x27;Date&#x27;]))]),\n                                 [&#x27;Date&#x27;]),\n                                (&#x27;vessel_linear_processor&#x27;, ProcessVessel(),\n                                 [&#x27;Total Vessels (Number)&#x27;, &#x27;Capesize&#x27;,\n                                  &#x27;Capesize Laden&#x27;, &#x27;Ca...\n                                (&#x27;dwt_linear_processor&#x27;, ProcessDWT(),\n                                 [&#x27;Total Vessels (DWT)&#x27;, &#x27;Capesize (DWT)&#x27;,\n                                  &#x27;Capesize Laden (DWT)&#x27;,\n                                  &#x27;Capesize Unladen (DWT)&#x27;, &#x27;Panamax (DWT)&#x27;,\n                                  &#x27;Panamax Laden (DWT)&#x27;,\n                                  &#x27;Panamax Unladen (DWT)&#x27;, &#x27;Handymax (DWT)&#x27;,\n                                  &#x27;Handymax Laden (DWT)&#x27;,\n                                  &#x27;Handymax Unladen (DWT)&#x27;, &#x27;Handysize (DWT)&#x27;,\n                                  &#x27;Handysize Laden (DWT)&#x27;,\n                                  &#x27;Handysize Unladen (DWT)&#x27;]),\n                                (&#x27;weather_linear_processor&#x27;, ProcessWeather(),\n                                 [&#x27;tempt&#x27;, &#x27;prcp&#x27;, &#x27;wspd&#x27;])])</pre></div></div></div><div class=\"sk-parallel\"><div class=\"sk-parallel-item\"><div class=\"sk-item\"><div class=\"sk-label-container\"><div class=\"sk-label sk-toggleable\"><input class=\"sk-toggleable__control sk-hidden--visually\" id=\"635ec8d2-ef76-405d-848a-8d1a878f1080\" type=\"checkbox\" ><label for=\"635ec8d2-ef76-405d-848a-8d1a878f1080\" class=\"sk-toggleable__label sk-toggleable__label-arrow\">cat_linear_processor</label><div class=\"sk-toggleable__content\"><pre>[&#x27;Vessel Type&#x27;]</pre></div></div></div><div class=\"sk-serial\"><div class=\"sk-item\"><div class=\"sk-estimator sk-toggleable\"><input class=\"sk-toggleable__control sk-hidden--visually\" id=\"df49bf96-32d6-43cc-9340-930ac8c97429\" type=\"checkbox\" ><label for=\"df49bf96-32d6-43cc-9340-930ac8c97429\" class=\"sk-toggleable__label sk-toggleable__label-arrow\">OneHotEncoder</label><div class=\"sk-toggleable__content\"><pre>OneHotEncoder()</pre></div></div></div></div></div></div><div class=\"sk-parallel-item\"><div class=\"sk-item\"><div class=\"sk-label-container\"><div class=\"sk-label sk-toggleable\"><input class=\"sk-toggleable__control sk-hidden--visually\" id=\"ffe2ed9b-f2a7-4d2f-a93b-b93bd5ebc251\" type=\"checkbox\" ><label for=\"ffe2ed9b-f2a7-4d2f-a93b-b93bd5ebc251\" class=\"sk-toggleable__label sk-toggleable__label-arrow\">date_linear_processor</label><div class=\"sk-toggleable__content\"><pre>[&#x27;Date&#x27;]</pre></div></div></div><div class=\"sk-serial\"><div class=\"sk-item\"><div class=\"sk-serial\"><div class=\"sk-item\"><div class=\"sk-estimator sk-toggleable\"><input class=\"sk-toggleable__control sk-hidden--visually\" id=\"e09eeb0b-39b8-4721-9a62-49490c9cc3b7\" type=\"checkbox\" ><label for=\"e09eeb0b-39b8-4721-9a62-49490c9cc3b7\" class=\"sk-toggleable__label sk-toggleable__label-arrow\">ProcessDates</label><div class=\"sk-toggleable__content\"><pre>ProcessDates()</pre></div></div></div><div class=\"sk-item\"><div class=\"sk-estimator sk-toggleable\"><input class=\"sk-toggleable__control sk-hidden--visually\" id=\"94685814-1458-4828-8f21-64e219889e98\" type=\"checkbox\" ><label for=\"94685814-1458-4828-8f21-64e219889e98\" class=\"sk-toggleable__label sk-toggleable__label-arrow\">ProcessHolidays</label><div class=\"sk-toggleable__content\"><pre>ProcessHolidays()</pre></div></div></div><div class=\"sk-item\"><div class=\"sk-estimator sk-toggleable\"><input class=\"sk-toggleable__control sk-hidden--visually\" id=\"c5e22b39-3713-40a8-bf5d-f592f42d6bd7\" type=\"checkbox\" ><label for=\"c5e22b39-3713-40a8-bf5d-f592f42d6bd7\" class=\"sk-toggleable__label sk-toggleable__label-arrow\">DropDate</label><div class=\"sk-toggleable__content\"><pre>DropDate(date_cols=[&#x27;Date&#x27;])</pre></div></div></div></div></div></div></div></div><div class=\"sk-parallel-item\"><div class=\"sk-item\"><div class=\"sk-label-container\"><div class=\"sk-label sk-toggleable\"><input class=\"sk-toggleable__control sk-hidden--visually\" id=\"969e57f7-c098-48bf-98ef-7fe0ec2a4769\" type=\"checkbox\" ><label for=\"969e57f7-c098-48bf-98ef-7fe0ec2a4769\" class=\"sk-toggleable__label sk-toggleable__label-arrow\">vessel_linear_processor</label><div class=\"sk-toggleable__content\"><pre>[&#x27;Total Vessels (Number)&#x27;, &#x27;Capesize&#x27;, &#x27;Capesize Laden&#x27;, &#x27;Capesize Unladen&#x27;, &#x27;Panamax&#x27;, &#x27;Panamax Laden&#x27;, &#x27;Panamax Unladen&#x27;, &#x27;Handymax&#x27;, &#x27;Handymax Laden&#x27;, &#x27;Handymax Unladen&#x27;, &#x27;Handysize&#x27;, &#x27;Handysize Laden&#x27;, &#x27;Handysize Unladen&#x27;]</pre></div></div></div><div class=\"sk-serial\"><div class=\"sk-item\"><div class=\"sk-estimator sk-toggleable\"><input class=\"sk-toggleable__control sk-hidden--visually\" id=\"83f48753-7f40-4be6-9d3f-7b8c742472dd\" type=\"checkbox\" ><label for=\"83f48753-7f40-4be6-9d3f-7b8c742472dd\" class=\"sk-toggleable__label sk-toggleable__label-arrow\">ProcessVessel</label><div class=\"sk-toggleable__content\"><pre>ProcessVessel()</pre></div></div></div></div></div></div><div class=\"sk-parallel-item\"><div class=\"sk-item\"><div class=\"sk-label-container\"><div class=\"sk-label sk-toggleable\"><input class=\"sk-toggleable__control sk-hidden--visually\" id=\"6b4fc0e3-00eb-492d-b653-c99b7c589006\" type=\"checkbox\" ><label for=\"6b4fc0e3-00eb-492d-b653-c99b7c589006\" class=\"sk-toggleable__label sk-toggleable__label-arrow\">dwt_linear_processor</label><div class=\"sk-toggleable__content\"><pre>[&#x27;Total Vessels (DWT)&#x27;, &#x27;Capesize (DWT)&#x27;, &#x27;Capesize Laden (DWT)&#x27;, &#x27;Capesize Unladen (DWT)&#x27;, &#x27;Panamax (DWT)&#x27;, &#x27;Panamax Laden (DWT)&#x27;, &#x27;Panamax Unladen (DWT)&#x27;, &#x27;Handymax (DWT)&#x27;, &#x27;Handymax Laden (DWT)&#x27;, &#x27;Handymax Unladen (DWT)&#x27;, &#x27;Handysize (DWT)&#x27;, &#x27;Handysize Laden (DWT)&#x27;, &#x27;Handysize Unladen (DWT)&#x27;]</pre></div></div></div><div class=\"sk-serial\"><div class=\"sk-item\"><div class=\"sk-estimator sk-toggleable\"><input class=\"sk-toggleable__control sk-hidden--visually\" id=\"362b8e08-ead5-4468-9021-aa686c3cd9ea\" type=\"checkbox\" ><label for=\"362b8e08-ead5-4468-9021-aa686c3cd9ea\" class=\"sk-toggleable__label sk-toggleable__label-arrow\">ProcessDWT</label><div class=\"sk-toggleable__content\"><pre>ProcessDWT()</pre></div></div></div></div></div></div><div class=\"sk-parallel-item\"><div class=\"sk-item\"><div class=\"sk-label-container\"><div class=\"sk-label sk-toggleable\"><input class=\"sk-toggleable__control sk-hidden--visually\" id=\"a1b86508-e66b-49e3-975c-adb4efa3df1a\" type=\"checkbox\" ><label for=\"a1b86508-e66b-49e3-975c-adb4efa3df1a\" class=\"sk-toggleable__label sk-toggleable__label-arrow\">weather_linear_processor</label><div class=\"sk-toggleable__content\"><pre>[&#x27;tempt&#x27;, &#x27;prcp&#x27;, &#x27;wspd&#x27;]</pre></div></div></div><div class=\"sk-serial\"><div class=\"sk-item\"><div class=\"sk-estimator sk-toggleable\"><input class=\"sk-toggleable__control sk-hidden--visually\" id=\"d4ac590d-00d3-4929-b3ef-f22d21234331\" type=\"checkbox\" ><label for=\"d4ac590d-00d3-4929-b3ef-f22d21234331\" class=\"sk-toggleable__label sk-toggleable__label-arrow\">ProcessWeather</label><div class=\"sk-toggleable__content\"><pre>ProcessWeather()</pre></div></div></div></div></div></div></div></div><div class=\"sk-item\"><div class=\"sk-label-container\"><div class=\"sk-label sk-toggleable\"><input class=\"sk-toggleable__control sk-hidden--visually\" id=\"76d5c9b9-978c-42de-be15-50e618aefe10\" type=\"checkbox\" ><label for=\"76d5c9b9-978c-42de-be15-50e618aefe10\" class=\"sk-toggleable__label sk-toggleable__label-arrow\">stackingclassifier: StackingClassifier</label><div class=\"sk-toggleable__content\"><pre>StackingClassifier(estimators=[(&#x27;LightGBM&#x27;,\n                                LGBMClassifier(device=&#x27;gpu&#x27;,\n                                               objective=&#x27;multiclass&#x27;,\n                                               random_state=0)),\n                               (&#x27;XGBoost&#x27;,\n                                XGBClassifier(base_score=None, booster=None,\n                                              colsample_bylevel=None,\n                                              colsample_bynode=None,\n                                              colsample_bytree=None,\n                                              enable_categorical=False,\n                                              gamma=None, gpu_id=None,\n                                              importance_type=None,\n                                              interaction_constraints=None,\n                                              learning_rate=None,\n                                              m...\n                                              reg_alpha=None, reg_lambda=None,\n                                              scale_pos_weight=None,\n                                              subsample=None,\n                                              tree_method=&#x27;gpu_hist&#x27;,\n                                              use_label_encoder=False,\n                                              validate_parameters=None,\n                                              verbosity=None)),\n                               (&#x27;RandomForest&#x27;,\n                                RandomForestClassifier(random_state=0)),\n                               (&#x27;DecisionTree&#x27;, DecisionTreeClassifier())],\n                   final_estimator=LGBMClassifier(device=&#x27;gpu&#x27;,\n                                                  objective=&#x27;multiclass&#x27;,\n                                                  random_state=0),\n                   n_jobs=-1, stack_method=&#x27;predict_proba&#x27;)</pre></div></div></div><div class=\"sk-serial\"><div class=\"sk-item\"><div class=\"sk-parallel\"><div class=\"sk-parallel-item\"><div class=\"sk-item\"><div class=\"sk-label-container\"><div class=\"sk-label sk-toggleable\"><label>LightGBM</label></div></div><div class=\"sk-serial\"><div class=\"sk-item\"><div class=\"sk-estimator sk-toggleable\"><input class=\"sk-toggleable__control sk-hidden--visually\" id=\"91c80196-4f8c-4040-97f9-961d5befce95\" type=\"checkbox\" ><label for=\"91c80196-4f8c-4040-97f9-961d5befce95\" class=\"sk-toggleable__label sk-toggleable__label-arrow\">LGBMClassifier</label><div class=\"sk-toggleable__content\"><pre>LGBMClassifier(device=&#x27;gpu&#x27;, objective=&#x27;multiclass&#x27;, random_state=0)</pre></div></div></div></div></div></div><div class=\"sk-parallel-item\"><div class=\"sk-item\"><div class=\"sk-label-container\"><div class=\"sk-label sk-toggleable\"><label>XGBoost</label></div></div><div class=\"sk-serial\"><div class=\"sk-item\"><div class=\"sk-estimator sk-toggleable\"><input class=\"sk-toggleable__control sk-hidden--visually\" id=\"dc354e82-2f9c-48fc-9fe8-93d958400716\" type=\"checkbox\" ><label for=\"dc354e82-2f9c-48fc-9fe8-93d958400716\" class=\"sk-toggleable__label sk-toggleable__label-arrow\">XGBClassifier</label><div class=\"sk-toggleable__content\"><pre>XGBClassifier(base_score=None, booster=None, colsample_bylevel=None,\n              colsample_bynode=None, colsample_bytree=None,\n              enable_categorical=False, gamma=None, gpu_id=None,\n              importance_type=None, interaction_constraints=None,\n              learning_rate=None, max_delta_step=None, max_depth=None,\n              min_child_weight=None, missing=nan, monotone_constraints=None,\n              n_estimators=100, n_jobs=-1, num_parallel_tree=None,\n              objective=&#x27;multi:softmax&#x27;, predictor=None, random_state=0,\n              reg_alpha=None, reg_lambda=None, scale_pos_weight=None,\n              subsample=None, tree_method=&#x27;gpu_hist&#x27;, use_label_encoder=False,\n              validate_parameters=None, verbosity=None)</pre></div></div></div></div></div></div><div class=\"sk-parallel-item\"><div class=\"sk-item\"><div class=\"sk-label-container\"><div class=\"sk-label sk-toggleable\"><label>RandomForest</label></div></div><div class=\"sk-serial\"><div class=\"sk-item\"><div class=\"sk-estimator sk-toggleable\"><input class=\"sk-toggleable__control sk-hidden--visually\" id=\"796c41ea-fbc9-4b2c-be0a-1cbaade205c0\" type=\"checkbox\" ><label for=\"796c41ea-fbc9-4b2c-be0a-1cbaade205c0\" class=\"sk-toggleable__label sk-toggleable__label-arrow\">RandomForestClassifier</label><div class=\"sk-toggleable__content\"><pre>RandomForestClassifier(random_state=0)</pre></div></div></div></div></div></div><div class=\"sk-parallel-item\"><div class=\"sk-item\"><div class=\"sk-label-container\"><div class=\"sk-label sk-toggleable\"><label>DecisionTree</label></div></div><div class=\"sk-serial\"><div class=\"sk-item\"><div class=\"sk-estimator sk-toggleable\"><input class=\"sk-toggleable__control sk-hidden--visually\" id=\"742fa57f-3238-4dc1-9e76-fefc309f9b65\" type=\"checkbox\" ><label for=\"742fa57f-3238-4dc1-9e76-fefc309f9b65\" class=\"sk-toggleable__label sk-toggleable__label-arrow\">DecisionTreeClassifier</label><div class=\"sk-toggleable__content\"><pre>DecisionTreeClassifier()</pre></div></div></div></div></div></div></div></div><div class=\"sk-item\"><div class=\"sk-parallel\"><div class=\"sk-parallel-item\"><div class=\"sk-item\"><div class=\"sk-label-container\"><div class=\"sk-label sk-toggleable\"><label>final_estimator</label></div></div><div class=\"sk-serial\"><div class=\"sk-item\"><div class=\"sk-estimator sk-toggleable\"><input class=\"sk-toggleable__control sk-hidden--visually\" id=\"237c0ed3-eb43-4db0-9571-3bcb01cba382\" type=\"checkbox\" ><label for=\"237c0ed3-eb43-4db0-9571-3bcb01cba382\" class=\"sk-toggleable__label sk-toggleable__label-arrow\">LGBMClassifier</label><div class=\"sk-toggleable__content\"><pre>LGBMClassifier(device=&#x27;gpu&#x27;, objective=&#x27;multiclass&#x27;, random_state=0)</pre></div></div></div></div></div></div></div></div></div></div></div></div></div></div>"
     },
     "execution_count": 9,
     "metadata": {},
     "output_type": "execute_result"
    }
   ],
   "source": [
    "date_linear_processor = pipeline.Pipeline([('ProcessDates',ProcessDates()),('ProcessHolidays',ProcessHolidays()),('DropDate',DropDate(date_cols))])\n",
    "numeric_linear_processor = pipeline.Pipeline([('Polynomial',PolynomialFeatures(degree=2,interaction_only =True,include_bias=True)),('Scaler',StandardScaler())])\n",
    "cat_linear_processor = OneHotEncoder()\n",
    "vessel_linear_processor = ProcessVessel()\n",
    "dwt_linear_processor = ProcessDWT()\n",
    "weather_linear_processor = ProcessWeather()\n",
    "\n",
    "data_preprocessor = ColumnTransformer([\n",
    "    # ('numeric_linear_processor',numeric_linear_processor, numeric_cols),\n",
    "    ('cat_linear_processor',cat_linear_processor, categorical_cols),\n",
    "    ('date_linear_processor',date_linear_processor, date_cols),\n",
    "    ('vessel_linear_processor',vessel_linear_processor, vessel_cols),\n",
    "    ('dwt_linear_processor',dwt_linear_processor, dwt_cols),\n",
    "    ('weather_linear_processor',weather_linear_processor, weather_cols)\n",
    "])\n",
    "estimators = [\n",
    "    (\"LightGBM\", LGBMClassifier(objective='multiclass',random_state=0,n_jobs=-1,device = 'gpu',)),\n",
    "    (\"XGBoost\", XGBClassifier(objective='multi:softmax',random_state=0,n_jobs=-1,use_label_encoder=False,  tree_method = 'gpu_hist')),\n",
    "    (\"RandomForest\", RandomForestClassifier(random_state=0)),\n",
    "    (\"DecisionTree\", DecisionTreeClassifier()),\n",
    "]\n",
    "final_estimator=LGBMClassifier(objective='multiclass',random_state=0,n_jobs=-1,device = 'gpu')\n",
    "stacking_classifier = StackingClassifier(estimators=estimators, final_estimator=final_estimator,stack_method='predict_proba',n_jobs=-1)\n",
    "finalPipe = pipeline.make_pipeline(data_preprocessor,stacking_classifier)\n",
    "finalPipe\n"
   ],
   "metadata": {
    "collapsed": false,
    "pycharm": {
     "name": "#%%\n"
    }
   }
  },
  {
   "cell_type": "code",
   "execution_count": 7,
   "outputs": [
    {
     "ename": "ValueError",
     "evalue": "too many values to unpack (expected 3)",
     "output_type": "error",
     "traceback": [
      "\u001B[1;31m---------------------------------------------------------------------------\u001B[0m",
      "\u001B[1;31mValueError\u001B[0m                                Traceback (most recent call last)",
      "\u001B[1;32m~\\AppData\\Local\\Temp\\ipykernel_21924\\2066501699.py\u001B[0m in \u001B[0;36m<cell line: 3>\u001B[1;34m()\u001B[0m\n\u001B[0;32m      1\u001B[0m \u001B[0mfinalPipe\u001B[0m \u001B[1;33m=\u001B[0m \u001B[0mpipeline\u001B[0m\u001B[1;33m.\u001B[0m\u001B[0mmake_pipeline\u001B[0m\u001B[1;33m(\u001B[0m\u001B[0mdata_preprocessor\u001B[0m\u001B[1;33m)\u001B[0m\u001B[1;33m\u001B[0m\u001B[1;33m\u001B[0m\u001B[0m\n\u001B[0;32m      2\u001B[0m \u001B[1;31m# dp = finalPipe()\u001B[0m\u001B[1;33m\u001B[0m\u001B[1;33m\u001B[0m\u001B[0m\n\u001B[1;32m----> 3\u001B[1;33m \u001B[0mfinalPipe\u001B[0m\u001B[1;33m.\u001B[0m\u001B[0mfit_transform\u001B[0m\u001B[1;33m(\u001B[0m\u001B[0mdata\u001B[0m\u001B[1;33m)\u001B[0m\u001B[1;33m\u001B[0m\u001B[1;33m\u001B[0m\u001B[0m\n\u001B[0m",
      "\u001B[1;32mc:\\users\\rawwi\\onedrive\\school\\nus\\current sem\\python\\lib\\site-packages\\sklearn\\pipeline.py\u001B[0m in \u001B[0;36mfit_transform\u001B[1;34m(self, X, y, **fit_params)\u001B[0m\n\u001B[0;32m    432\u001B[0m             \u001B[0mfit_params_last_step\u001B[0m \u001B[1;33m=\u001B[0m \u001B[0mfit_params_steps\u001B[0m\u001B[1;33m[\u001B[0m\u001B[0mself\u001B[0m\u001B[1;33m.\u001B[0m\u001B[0msteps\u001B[0m\u001B[1;33m[\u001B[0m\u001B[1;33m-\u001B[0m\u001B[1;36m1\u001B[0m\u001B[1;33m]\u001B[0m\u001B[1;33m[\u001B[0m\u001B[1;36m0\u001B[0m\u001B[1;33m]\u001B[0m\u001B[1;33m]\u001B[0m\u001B[1;33m\u001B[0m\u001B[1;33m\u001B[0m\u001B[0m\n\u001B[0;32m    433\u001B[0m             \u001B[1;32mif\u001B[0m \u001B[0mhasattr\u001B[0m\u001B[1;33m(\u001B[0m\u001B[0mlast_step\u001B[0m\u001B[1;33m,\u001B[0m \u001B[1;34m\"fit_transform\"\u001B[0m\u001B[1;33m)\u001B[0m\u001B[1;33m:\u001B[0m\u001B[1;33m\u001B[0m\u001B[1;33m\u001B[0m\u001B[0m\n\u001B[1;32m--> 434\u001B[1;33m                 \u001B[1;32mreturn\u001B[0m \u001B[0mlast_step\u001B[0m\u001B[1;33m.\u001B[0m\u001B[0mfit_transform\u001B[0m\u001B[1;33m(\u001B[0m\u001B[0mXt\u001B[0m\u001B[1;33m,\u001B[0m \u001B[0my\u001B[0m\u001B[1;33m,\u001B[0m \u001B[1;33m**\u001B[0m\u001B[0mfit_params_last_step\u001B[0m\u001B[1;33m)\u001B[0m\u001B[1;33m\u001B[0m\u001B[1;33m\u001B[0m\u001B[0m\n\u001B[0m\u001B[0;32m    435\u001B[0m             \u001B[1;32melse\u001B[0m\u001B[1;33m:\u001B[0m\u001B[1;33m\u001B[0m\u001B[1;33m\u001B[0m\u001B[0m\n\u001B[0;32m    436\u001B[0m                 \u001B[1;32mreturn\u001B[0m \u001B[0mlast_step\u001B[0m\u001B[1;33m.\u001B[0m\u001B[0mfit\u001B[0m\u001B[1;33m(\u001B[0m\u001B[0mXt\u001B[0m\u001B[1;33m,\u001B[0m \u001B[0my\u001B[0m\u001B[1;33m,\u001B[0m \u001B[1;33m**\u001B[0m\u001B[0mfit_params_last_step\u001B[0m\u001B[1;33m)\u001B[0m\u001B[1;33m.\u001B[0m\u001B[0mtransform\u001B[0m\u001B[1;33m(\u001B[0m\u001B[0mXt\u001B[0m\u001B[1;33m)\u001B[0m\u001B[1;33m\u001B[0m\u001B[1;33m\u001B[0m\u001B[0m\n",
      "\u001B[1;32mc:\\users\\rawwi\\onedrive\\school\\nus\\current sem\\python\\lib\\site-packages\\sklearn\\compose\\_column_transformer.py\u001B[0m in \u001B[0;36mfit_transform\u001B[1;34m(self, X, y)\u001B[0m\n\u001B[0;32m    670\u001B[0m         \u001B[0mself\u001B[0m\u001B[1;33m.\u001B[0m\u001B[0m_check_n_features\u001B[0m\u001B[1;33m(\u001B[0m\u001B[0mX\u001B[0m\u001B[1;33m,\u001B[0m \u001B[0mreset\u001B[0m\u001B[1;33m=\u001B[0m\u001B[1;32mTrue\u001B[0m\u001B[1;33m)\u001B[0m\u001B[1;33m\u001B[0m\u001B[1;33m\u001B[0m\u001B[0m\n\u001B[0;32m    671\u001B[0m         \u001B[0mself\u001B[0m\u001B[1;33m.\u001B[0m\u001B[0m_validate_transformers\u001B[0m\u001B[1;33m(\u001B[0m\u001B[1;33m)\u001B[0m\u001B[1;33m\u001B[0m\u001B[1;33m\u001B[0m\u001B[0m\n\u001B[1;32m--> 672\u001B[1;33m         \u001B[0mself\u001B[0m\u001B[1;33m.\u001B[0m\u001B[0m_validate_column_callables\u001B[0m\u001B[1;33m(\u001B[0m\u001B[0mX\u001B[0m\u001B[1;33m)\u001B[0m\u001B[1;33m\u001B[0m\u001B[1;33m\u001B[0m\u001B[0m\n\u001B[0m\u001B[0;32m    673\u001B[0m         \u001B[0mself\u001B[0m\u001B[1;33m.\u001B[0m\u001B[0m_validate_remainder\u001B[0m\u001B[1;33m(\u001B[0m\u001B[0mX\u001B[0m\u001B[1;33m)\u001B[0m\u001B[1;33m\u001B[0m\u001B[1;33m\u001B[0m\u001B[0m\n\u001B[0;32m    674\u001B[0m \u001B[1;33m\u001B[0m\u001B[0m\n",
      "\u001B[1;32mc:\\users\\rawwi\\onedrive\\school\\nus\\current sem\\python\\lib\\site-packages\\sklearn\\compose\\_column_transformer.py\u001B[0m in \u001B[0;36m_validate_column_callables\u001B[1;34m(self, X)\u001B[0m\n\u001B[0;32m    346\u001B[0m         \u001B[0mall_columns\u001B[0m \u001B[1;33m=\u001B[0m \u001B[1;33m[\u001B[0m\u001B[1;33m]\u001B[0m\u001B[1;33m\u001B[0m\u001B[1;33m\u001B[0m\u001B[0m\n\u001B[0;32m    347\u001B[0m         \u001B[0mtransformer_to_input_indices\u001B[0m \u001B[1;33m=\u001B[0m \u001B[1;33m{\u001B[0m\u001B[1;33m}\u001B[0m\u001B[1;33m\u001B[0m\u001B[1;33m\u001B[0m\u001B[0m\n\u001B[1;32m--> 348\u001B[1;33m         \u001B[1;32mfor\u001B[0m \u001B[0mname\u001B[0m\u001B[1;33m,\u001B[0m \u001B[0m_\u001B[0m\u001B[1;33m,\u001B[0m \u001B[0mcolumns\u001B[0m \u001B[1;32min\u001B[0m \u001B[0mself\u001B[0m\u001B[1;33m.\u001B[0m\u001B[0mtransformers\u001B[0m\u001B[1;33m:\u001B[0m\u001B[1;33m\u001B[0m\u001B[1;33m\u001B[0m\u001B[0m\n\u001B[0m\u001B[0;32m    349\u001B[0m             \u001B[1;32mif\u001B[0m \u001B[0mcallable\u001B[0m\u001B[1;33m(\u001B[0m\u001B[0mcolumns\u001B[0m\u001B[1;33m)\u001B[0m\u001B[1;33m:\u001B[0m\u001B[1;33m\u001B[0m\u001B[1;33m\u001B[0m\u001B[0m\n\u001B[0;32m    350\u001B[0m                 \u001B[0mcolumns\u001B[0m \u001B[1;33m=\u001B[0m \u001B[0mcolumns\u001B[0m\u001B[1;33m(\u001B[0m\u001B[0mX\u001B[0m\u001B[1;33m)\u001B[0m\u001B[1;33m\u001B[0m\u001B[1;33m\u001B[0m\u001B[0m\n",
      "\u001B[1;31mValueError\u001B[0m: too many values to unpack (expected 3)"
     ]
    }
   ],
   "source": [
    "finalPipe = pipeline.make_pipeline(data_preprocessor)\n",
    "# dp = finalPipe()\n",
    "finalPipe.fit_transform(data)"
   ],
   "metadata": {
    "collapsed": false,
    "pycharm": {
     "name": "#%%\n"
    }
   }
  },
  {
   "cell_type": "code",
   "execution_count": null,
   "outputs": [],
   "source": [
    "finalPipe.get_params()"
   ],
   "metadata": {
    "collapsed": false,
    "pycharm": {
     "name": "#%%\n"
    }
   }
  },
  {
   "cell_type": "code",
   "execution_count": null,
   "outputs": [],
   "source": [
    "param_grid = {\n",
    "    'columntransformer__numeric_linear_processor__Polynomial__degree': [1,2,3],\n",
    "    'columntransformer__numeric_linear_processor__Polynomial__include_bias': [True,False],\n",
    "    'columntransformer__numeric_linear_processor__Polynomial__interaction_only': [True,False],\n",
    "\n",
    "    'stackingclassifier__LightGBM__num_leaves': range(100,1500,300),\n",
    "    'stackingclassifier__LightGBM__n_estimators': range(100,1500,300),\n",
    "    'stackingclassifier__LightGBM__reg_lambda': [ 0.11, 1, 10, 50, 100, 150],\n",
    "\n",
    "    'stackingclassifier__XGBoost__reg_lambda': [0, 1e-1, 1, 10, 50],\n",
    "    'stackingclassifier__XGBoost__n_estimators': range(100,1500,300),\n",
    "    'stackingclassifier__XGBoost__eta': [0.1,0.5,1.0],\n",
    "\n",
    "    'stackingclassifier__RandomForest__max_depth': [10, 30, 50],\n",
    "    'stackingclassifier__RandomForest__max_features': [5,10,15],\n",
    "    'stackingclassifier__RandomForest__min_samples_leaf': [3, 5, 7],\n",
    "\n",
    "    'stackingclassifier__DecisionTree__max_depth': [10, 30, 50],\n",
    "    'stackingclassifier__DecisionTree__max_features': [5,10,15],\n",
    "    'stackingclassifier__DecisionTree__min_samples_leaf': [3, 5, 7],\n",
    "\n",
    "    # 'stackingclassifier__final_estimator__num_leaves': range(100,1500,300),\n",
    "    # 'stackingclassifier__final_estimator__n_estimators': range(100,1500,300),\n",
    "    # 'stackingclassifier__final_estimator__reg_lambda': [ 0.11, 1, 10, 50, 100, 150],\n",
    "    # 'stackingclassifier__final_estimator__learning_rate': [0.1,0.5,1.0]\n",
    "\n",
    "}\n",
    "iter =50\n",
    "rs = RandomizedSearchCV(\n",
    "    estimator=finalPipe, param_distributions=param_grid,\n",
    "    n_iter=iter,\n",
    "    cv=5,\n",
    "    refit=True,\n",
    "    random_state=314,\n",
    "    verbose=10,\n",
    "    n_jobs=8,\n",
    "    pre_dispatch=15)\n",
    "\n",
    "rs.fit(X_train, y_train)\n",
    "\n",
    "rs.best_estimator_"
   ],
   "metadata": {
    "collapsed": false,
    "pycharm": {
     "name": "#%%\n"
    }
   }
  },
  {
   "cell_type": "code",
   "execution_count": null,
   "outputs": [],
   "source": [
    "rs.best_params_"
   ],
   "metadata": {
    "collapsed": false,
    "pycharm": {
     "name": "#%%\n"
    }
   }
  },
  {
   "cell_type": "code",
   "execution_count": null,
   "outputs": [],
   "source": [
    "predict_test = rs.predict(X_test)\n",
    "accuracy_test = accuracy_score(y_test,predict_test)\n",
    "accuracy_test"
   ],
   "metadata": {
    "collapsed": false,
    "pycharm": {
     "name": "#%%\n"
    }
   }
  },
  {
   "cell_type": "code",
   "execution_count": null,
   "outputs": [],
   "source": [
    "predict_test"
   ],
   "metadata": {
    "collapsed": false,
    "pycharm": {
     "name": "#%%\n"
    }
   }
  },
  {
   "cell_type": "code",
   "execution_count": null,
   "outputs": [],
   "source": [
    "predict_prob_test = rs.predict_proba(X_test)\n",
    "roc_auc_score(y_score=predict_prob_test, y_true=y_test, multi_class=\"ovr\")"
   ],
   "metadata": {
    "collapsed": false,
    "pycharm": {
     "name": "#%%\n"
    }
   }
  }
 ],
 "metadata": {
  "kernelspec": {
   "display_name": "Python 3",
   "language": "python",
   "name": "python3"
  },
  "language_info": {
   "codemirror_mode": {
    "name": "ipython",
    "version": 2
   },
   "file_extension": ".py",
   "mimetype": "text/x-python",
   "name": "python",
   "nbconvert_exporter": "python",
   "pygments_lexer": "ipython2",
   "version": "2.7.6"
  }
 },
 "nbformat": 4,
 "nbformat_minor": 0
}