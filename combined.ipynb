{
 "cells": [
  {
   "cell_type": "code",
   "execution_count": 15,
   "metadata": {
    "collapsed": true
   },
   "outputs": [],
   "source": [
    "# Import all required packages\n",
    "import pandas as pd\n",
    "import seaborn as sns\n",
    "import numpy as np\n",
    "import matplotlib.pyplot as plt\n",
    "from sklearn.model_selection import train_test_split,RandomizedSearchCV, GridSearchCV\n",
    "from scipy.stats import randint,uniform\n",
    "from sklearn.metrics import accuracy_score, roc_curve, roc_auc_score, PrecisionRecallDisplay, average_precision_score,precision_recall_curve,auc\n",
    "import seaborn as sn\n",
    "import lightgbm as lgb\n",
    "from sklearn.ensemble import RandomForestClassifier\n",
    "from sklearn.tree  import DecisionTreeClassifier\n",
    "import warnings\n",
    "\n",
    "import math\n",
    "import pandas as pd\n",
    "import numpy as np\n",
    "import matplotlib.pyplot as plt\n",
    "from joblib import Parallel\n",
    "from sklearn.preprocessing import OneHotEncoder, PolynomialFeatures,StandardScaler,MinMaxScaler\n",
    "from sklearn.model_selection import GridSearchCV,RandomizedSearchCV,train_test_split\n",
    "from sklearn.pipeline import Pipeline\n",
    "from sklearn.base import BaseEstimator, TransformerMixin\n",
    "from sklearn import pipeline,set_config\n",
    "from sklearn.utils import class_weight\n",
    "from lightgbm import LGBMClassifier\n",
    "from xgboost import XGBClassifier\n",
    "from sklearn.compose import ColumnTransformer\n",
    "from sklearn.svm import SVC\n",
    "from sklearn.ensemble import StackingClassifier\n",
    "from sklearn.metrics import accuracy_score, roc_curve, roc_auc_score, PrecisionRecallDisplay, precision_score, \\\n",
    "    average_precision_score, auc, precision_recall_curve, make_scorer,SCORERS\n",
    "from skopt import BayesSearchCV\n",
    "import datetime, re, sys, holidays\n",
    "from Functions import *\n",
    "from sklearn.experimental import enable_halving_search_cv\n",
    "from sklearn.model_selection import HalvingGridSearchCV\n",
    "from sklearn.metrics import mean_absolute_error\n",
    "from sklearn.metrics import r2_score\n",
    "import math\n",
    "from sklearn.metrics import mean_squared_error\n",
    "\n",
    "set_config(display=\"diagram\")\n",
    "np.random.seed (0)\n",
    "Parallel(n_jobs=8, max_nbytes=50000)\n",
    "\n",
    "warnings.filterwarnings(\"ignore\")"
   ]
  },
  {
   "cell_type": "code",
   "execution_count": 16,
   "outputs": [],
   "source": [
    "categorical_cols = ['Vessel Type']\n",
    "vessel_cols = ['Total Vessels (Number)', 'Capesize',\n",
    "                'Capesize Laden', 'Capesize Unladen', 'Panamax', 'Panamax Laden',\n",
    "                'Panamax Unladen', 'Handymax', 'Handymax Laden', 'Handymax Unladen',\n",
    "                'Handysize', 'Handysize Laden', 'Handysize Unladen']\n",
    "# date_cols = ['Berth or Port Entry', 'Date']\n",
    "date_cols = ['Date']\n",
    "dwt_cols = ['Total Vessels (DWT)','Capesize (DWT)',\n",
    "            'Capesize Laden (DWT)', 'Capesize Unladen (DWT)', 'Panamax (DWT)',\n",
    "            'Panamax Laden (DWT)', 'Panamax Unladen (DWT)', 'Handymax (DWT)',\n",
    "            'Handymax Laden (DWT)', 'Handymax Unladen (DWT)', 'Handysize (DWT)',\n",
    "            'Handysize Laden (DWT)', 'Handysize Unladen (DWT)']\n",
    "weather_cols = ['tempt', 'prcp', 'wspd']\n",
    "\n",
    "# predict_col = 'Wait Levels'\n",
    "# numeric_cols = ['Waiting Time (Days)']\n",
    "predict_col = 'Waiting Time (Days)'"
   ],
   "metadata": {
    "collapsed": false,
    "pycharm": {
     "name": "#%%\n"
    }
   }
  },
  {
   "cell_type": "code",
   "execution_count": 31,
   "outputs": [
    {
     "data": {
      "text/plain": "       IMO  Waiting Time (Days)  Vessel Type       Date  \\\n0  9056399                  0.2            3 2015-01-02   \n1  9471252                  3.4            2 2015-01-02   \n2  9233399                  5.6            3 2015-01-02   \n3  8309141                  0.5            1 2015-01-03   \n4  9625970                  3.9            2 2015-01-03   \n\n   Total Vessels (Number)  Total Vessels (DWT)  Capesize  Capesize Laden  \\\n0                      16               878272         0               0   \n1                      16               878272         0               0   \n2                      16               878272         0               0   \n3                      17               908718         0               0   \n4                      17               908718         0               0   \n\n   Capesize Unladen  Panamax  ...  Handymax (DWT)  Handymax Laden (DWT)  \\\n0                 0        5  ...          432704                121785   \n1                 0        5  ...          432704                121785   \n2                 0        5  ...          432704                121785   \n3                 0        5  ...          474533                107174   \n4                 0        5  ...          474533                107174   \n\n   Handymax Unladen (DWT)  Handysize (DWT)  Handysize Laden (DWT)  \\\n0                  310919            52823                  30060   \n1                  310919            52823                  30060   \n2                  310919            52823                  30060   \n3                  367359            70297                  36036   \n4                  367359            70297                  36036   \n\n   Handysize Unladen (DWT)  Wait Levels  tempt  prcp  wspd  \n0                    22763            0   27.0   0.0  15.1  \n1                    22763            1   27.0   0.0  15.1  \n2                    22763            2   27.0   0.0  15.1  \n3                    34261            0   23.3   3.0  13.8  \n4                    34261            1   23.3   3.0  13.8  \n\n[5 rows x 34 columns]",
      "text/html": "<div>\n<style scoped>\n    .dataframe tbody tr th:only-of-type {\n        vertical-align: middle;\n    }\n\n    .dataframe tbody tr th {\n        vertical-align: top;\n    }\n\n    .dataframe thead th {\n        text-align: right;\n    }\n</style>\n<table border=\"1\" class=\"dataframe\">\n  <thead>\n    <tr style=\"text-align: right;\">\n      <th></th>\n      <th>IMO</th>\n      <th>Waiting Time (Days)</th>\n      <th>Vessel Type</th>\n      <th>Date</th>\n      <th>Total Vessels (Number)</th>\n      <th>Total Vessels (DWT)</th>\n      <th>Capesize</th>\n      <th>Capesize Laden</th>\n      <th>Capesize Unladen</th>\n      <th>Panamax</th>\n      <th>...</th>\n      <th>Handymax (DWT)</th>\n      <th>Handymax Laden (DWT)</th>\n      <th>Handymax Unladen (DWT)</th>\n      <th>Handysize (DWT)</th>\n      <th>Handysize Laden (DWT)</th>\n      <th>Handysize Unladen (DWT)</th>\n      <th>Wait Levels</th>\n      <th>tempt</th>\n      <th>prcp</th>\n      <th>wspd</th>\n    </tr>\n  </thead>\n  <tbody>\n    <tr>\n      <th>0</th>\n      <td>9056399</td>\n      <td>0.2</td>\n      <td>3</td>\n      <td>2015-01-02</td>\n      <td>16</td>\n      <td>878272</td>\n      <td>0</td>\n      <td>0</td>\n      <td>0</td>\n      <td>5</td>\n      <td>...</td>\n      <td>432704</td>\n      <td>121785</td>\n      <td>310919</td>\n      <td>52823</td>\n      <td>30060</td>\n      <td>22763</td>\n      <td>0</td>\n      <td>27.0</td>\n      <td>0.0</td>\n      <td>15.1</td>\n    </tr>\n    <tr>\n      <th>1</th>\n      <td>9471252</td>\n      <td>3.4</td>\n      <td>2</td>\n      <td>2015-01-02</td>\n      <td>16</td>\n      <td>878272</td>\n      <td>0</td>\n      <td>0</td>\n      <td>0</td>\n      <td>5</td>\n      <td>...</td>\n      <td>432704</td>\n      <td>121785</td>\n      <td>310919</td>\n      <td>52823</td>\n      <td>30060</td>\n      <td>22763</td>\n      <td>1</td>\n      <td>27.0</td>\n      <td>0.0</td>\n      <td>15.1</td>\n    </tr>\n    <tr>\n      <th>2</th>\n      <td>9233399</td>\n      <td>5.6</td>\n      <td>3</td>\n      <td>2015-01-02</td>\n      <td>16</td>\n      <td>878272</td>\n      <td>0</td>\n      <td>0</td>\n      <td>0</td>\n      <td>5</td>\n      <td>...</td>\n      <td>432704</td>\n      <td>121785</td>\n      <td>310919</td>\n      <td>52823</td>\n      <td>30060</td>\n      <td>22763</td>\n      <td>2</td>\n      <td>27.0</td>\n      <td>0.0</td>\n      <td>15.1</td>\n    </tr>\n    <tr>\n      <th>3</th>\n      <td>8309141</td>\n      <td>0.5</td>\n      <td>1</td>\n      <td>2015-01-03</td>\n      <td>17</td>\n      <td>908718</td>\n      <td>0</td>\n      <td>0</td>\n      <td>0</td>\n      <td>5</td>\n      <td>...</td>\n      <td>474533</td>\n      <td>107174</td>\n      <td>367359</td>\n      <td>70297</td>\n      <td>36036</td>\n      <td>34261</td>\n      <td>0</td>\n      <td>23.3</td>\n      <td>3.0</td>\n      <td>13.8</td>\n    </tr>\n    <tr>\n      <th>4</th>\n      <td>9625970</td>\n      <td>3.9</td>\n      <td>2</td>\n      <td>2015-01-03</td>\n      <td>17</td>\n      <td>908718</td>\n      <td>0</td>\n      <td>0</td>\n      <td>0</td>\n      <td>5</td>\n      <td>...</td>\n      <td>474533</td>\n      <td>107174</td>\n      <td>367359</td>\n      <td>70297</td>\n      <td>36036</td>\n      <td>34261</td>\n      <td>1</td>\n      <td>23.3</td>\n      <td>3.0</td>\n      <td>13.8</td>\n    </tr>\n  </tbody>\n</table>\n<p>5 rows × 34 columns</p>\n</div>"
     },
     "execution_count": 31,
     "metadata": {},
     "output_type": "execute_result"
    }
   ],
   "source": [
    "# Get data\n",
    "data = pd.read_csv('clean_data.csv', index_col=0, parse_dates=date_cols)\n",
    "weather_df = pd.read_csv('sao_paulo_weather.csv', parse_dates=['date'])\n",
    "weather_df = weather_df[['date','tavg','prcp','wspd']].rename(columns={'date': 'Date',\n",
    "                   'tavg': 'tempt',\n",
    "                   'prcp': 'prcp',\n",
    "                   'wspd': 'wspd'}, inplace=False)\n",
    "weather_df = weather_df.fillna(0)\n",
    "data = data.merge(weather_df, how='inner',left_on=['Date'], right_on=['Date'])\n",
    "\n",
    "# Drop cols with only 1 value\n",
    "for col in data.columns:\n",
    "    if len(data[col].unique()) == 1:\n",
    "        data.drop(col,axis=1, inplace=True)\n",
    "\n",
    "data.drop('Berth or Port Entry',axis=1, inplace=True)\n",
    "\n",
    "#convert DWT cols from obj to int\n",
    "for col in dwt_cols:\n",
    "    data[col] = data[col].str.replace(\",\",\"\").astype(int)\n",
    "#convert vessel_cols from float to int\n",
    "for col in vessel_cols:\n",
    "    data[col] = data[col].astype(int)\n",
    "\n",
    "\n",
    "#remove rows what were in Q4\n",
    "# data.drop(data.index[data[predict_col] > 10], inplace=True)\n",
    "\n",
    "#print cleaned data\n",
    "data.head()"
   ],
   "metadata": {
    "collapsed": false,
    "pycharm": {
     "name": "#%%\n"
    }
   }
  },
  {
   "cell_type": "code",
   "execution_count": 34,
   "outputs": [],
   "source": [
    "# split to train & Test\n",
    "X_train, X_test, y_train, y_test = train_test_split(data.drop(predict_col,axis=1, inplace=False), data[predict_col], test_size=0.2, random_state=0)"
   ],
   "metadata": {
    "collapsed": false,
    "pycharm": {
     "name": "#%%\n"
    }
   }
  },
  {
   "cell_type": "markdown",
   "source": [
    "Create Pipeline"
   ],
   "metadata": {
    "collapsed": false
   }
  },
  {
   "cell_type": "code",
   "execution_count": 5,
   "outputs": [
    {
     "data": {
      "text/plain": "ColumnTransformer(transformers=[('cat_linear_processor', OneHotEncoder(),\n                                 ['Vessel Type']),\n                                ('date_linear_processor',\n                                 Pipeline(steps=[('ProcessDates',\n                                                  ProcessDates()),\n                                                 ('ProcessHolidays',\n                                                  ProcessHolidays()),\n                                                 ('DropDate',\n                                                  DropCol(cols=['Date']))]),\n                                 ['Date']),\n                                ('vessel_linear_processor',\n                                 Pipeline(steps=[('CreateDummyCol',\n                                                  CreateDummyCol()),\n                                                 ('ProcessVessel',\n                                                  Process...\n                                  'Capesize Unladen (DWT)', 'Panamax (DWT)',\n                                  'Panamax Laden (DWT)',\n                                  'Panamax Unladen (DWT)', 'Handymax (DWT)',\n                                  'Handymax Laden (DWT)',\n                                  'Handymax Unladen (DWT)', 'Handysize (DWT)',\n                                  'Handysize Laden (DWT)',\n                                  'Handysize Unladen (DWT)']),\n                                ('weather_linear_processor',\n                                 Pipeline(steps=[('CreateDummyCol',\n                                                  CreateDummyCol()),\n                                                 ('ProcessWeather',\n                                                  ProcessWeather()),\n                                                 ('ProcessWSpd',\n                                                  ProcessWSpd())]),\n                                 ['tempt', 'prcp', 'wspd'])])",
      "text/html": "<style>#sk-186faac8-e654-4223-bfb4-91edf7943b3f {color: black;background-color: white;}#sk-186faac8-e654-4223-bfb4-91edf7943b3f pre{padding: 0;}#sk-186faac8-e654-4223-bfb4-91edf7943b3f div.sk-toggleable {background-color: white;}#sk-186faac8-e654-4223-bfb4-91edf7943b3f label.sk-toggleable__label {cursor: pointer;display: block;width: 100%;margin-bottom: 0;padding: 0.3em;box-sizing: border-box;text-align: center;}#sk-186faac8-e654-4223-bfb4-91edf7943b3f label.sk-toggleable__label-arrow:before {content: \"▸\";float: left;margin-right: 0.25em;color: #696969;}#sk-186faac8-e654-4223-bfb4-91edf7943b3f label.sk-toggleable__label-arrow:hover:before {color: black;}#sk-186faac8-e654-4223-bfb4-91edf7943b3f div.sk-estimator:hover label.sk-toggleable__label-arrow:before {color: black;}#sk-186faac8-e654-4223-bfb4-91edf7943b3f div.sk-toggleable__content {max-height: 0;max-width: 0;overflow: hidden;text-align: left;background-color: #f0f8ff;}#sk-186faac8-e654-4223-bfb4-91edf7943b3f div.sk-toggleable__content pre {margin: 0.2em;color: black;border-radius: 0.25em;background-color: #f0f8ff;}#sk-186faac8-e654-4223-bfb4-91edf7943b3f input.sk-toggleable__control:checked~div.sk-toggleable__content {max-height: 200px;max-width: 100%;overflow: auto;}#sk-186faac8-e654-4223-bfb4-91edf7943b3f input.sk-toggleable__control:checked~label.sk-toggleable__label-arrow:before {content: \"▾\";}#sk-186faac8-e654-4223-bfb4-91edf7943b3f div.sk-estimator input.sk-toggleable__control:checked~label.sk-toggleable__label {background-color: #d4ebff;}#sk-186faac8-e654-4223-bfb4-91edf7943b3f div.sk-label input.sk-toggleable__control:checked~label.sk-toggleable__label {background-color: #d4ebff;}#sk-186faac8-e654-4223-bfb4-91edf7943b3f input.sk-hidden--visually {border: 0;clip: rect(1px 1px 1px 1px);clip: rect(1px, 1px, 1px, 1px);height: 1px;margin: -1px;overflow: hidden;padding: 0;position: absolute;width: 1px;}#sk-186faac8-e654-4223-bfb4-91edf7943b3f div.sk-estimator {font-family: monospace;background-color: #f0f8ff;border: 1px dotted black;border-radius: 0.25em;box-sizing: border-box;margin-bottom: 0.5em;}#sk-186faac8-e654-4223-bfb4-91edf7943b3f div.sk-estimator:hover {background-color: #d4ebff;}#sk-186faac8-e654-4223-bfb4-91edf7943b3f div.sk-parallel-item::after {content: \"\";width: 100%;border-bottom: 1px solid gray;flex-grow: 1;}#sk-186faac8-e654-4223-bfb4-91edf7943b3f div.sk-label:hover label.sk-toggleable__label {background-color: #d4ebff;}#sk-186faac8-e654-4223-bfb4-91edf7943b3f div.sk-serial::before {content: \"\";position: absolute;border-left: 1px solid gray;box-sizing: border-box;top: 2em;bottom: 0;left: 50%;}#sk-186faac8-e654-4223-bfb4-91edf7943b3f div.sk-serial {display: flex;flex-direction: column;align-items: center;background-color: white;padding-right: 0.2em;padding-left: 0.2em;}#sk-186faac8-e654-4223-bfb4-91edf7943b3f div.sk-item {z-index: 1;}#sk-186faac8-e654-4223-bfb4-91edf7943b3f div.sk-parallel {display: flex;align-items: stretch;justify-content: center;background-color: white;}#sk-186faac8-e654-4223-bfb4-91edf7943b3f div.sk-parallel::before {content: \"\";position: absolute;border-left: 1px solid gray;box-sizing: border-box;top: 2em;bottom: 0;left: 50%;}#sk-186faac8-e654-4223-bfb4-91edf7943b3f div.sk-parallel-item {display: flex;flex-direction: column;position: relative;background-color: white;}#sk-186faac8-e654-4223-bfb4-91edf7943b3f div.sk-parallel-item:first-child::after {align-self: flex-end;width: 50%;}#sk-186faac8-e654-4223-bfb4-91edf7943b3f div.sk-parallel-item:last-child::after {align-self: flex-start;width: 50%;}#sk-186faac8-e654-4223-bfb4-91edf7943b3f div.sk-parallel-item:only-child::after {width: 0;}#sk-186faac8-e654-4223-bfb4-91edf7943b3f div.sk-dashed-wrapped {border: 1px dashed gray;margin: 0 0.4em 0.5em 0.4em;box-sizing: border-box;padding-bottom: 0.4em;background-color: white;position: relative;}#sk-186faac8-e654-4223-bfb4-91edf7943b3f div.sk-label label {font-family: monospace;font-weight: bold;background-color: white;display: inline-block;line-height: 1.2em;}#sk-186faac8-e654-4223-bfb4-91edf7943b3f div.sk-label-container {position: relative;z-index: 2;text-align: center;}#sk-186faac8-e654-4223-bfb4-91edf7943b3f div.sk-container {/* jupyter's `normalize.less` sets `[hidden] { display: none; }` but bootstrap.min.css set `[hidden] { display: none !important; }` so we also need the `!important` here to be able to override the default hidden behavior on the sphinx rendered scikit-learn.org. See: https://github.com/scikit-learn/scikit-learn/issues/21755 */display: inline-block !important;position: relative;}#sk-186faac8-e654-4223-bfb4-91edf7943b3f div.sk-text-repr-fallback {display: none;}</style><div id=\"sk-186faac8-e654-4223-bfb4-91edf7943b3f\" class=\"sk-top-container\"><div class=\"sk-text-repr-fallback\"><pre>ColumnTransformer(transformers=[(&#x27;cat_linear_processor&#x27;, OneHotEncoder(),\n                                 [&#x27;Vessel Type&#x27;]),\n                                (&#x27;date_linear_processor&#x27;,\n                                 Pipeline(steps=[(&#x27;ProcessDates&#x27;,\n                                                  ProcessDates()),\n                                                 (&#x27;ProcessHolidays&#x27;,\n                                                  ProcessHolidays()),\n                                                 (&#x27;DropDate&#x27;,\n                                                  DropCol(cols=[&#x27;Date&#x27;]))]),\n                                 [&#x27;Date&#x27;]),\n                                (&#x27;vessel_linear_processor&#x27;,\n                                 Pipeline(steps=[(&#x27;CreateDummyCol&#x27;,\n                                                  CreateDummyCol()),\n                                                 (&#x27;ProcessVessel&#x27;,\n                                                  Process...\n                                  &#x27;Capesize Unladen (DWT)&#x27;, &#x27;Panamax (DWT)&#x27;,\n                                  &#x27;Panamax Laden (DWT)&#x27;,\n                                  &#x27;Panamax Unladen (DWT)&#x27;, &#x27;Handymax (DWT)&#x27;,\n                                  &#x27;Handymax Laden (DWT)&#x27;,\n                                  &#x27;Handymax Unladen (DWT)&#x27;, &#x27;Handysize (DWT)&#x27;,\n                                  &#x27;Handysize Laden (DWT)&#x27;,\n                                  &#x27;Handysize Unladen (DWT)&#x27;]),\n                                (&#x27;weather_linear_processor&#x27;,\n                                 Pipeline(steps=[(&#x27;CreateDummyCol&#x27;,\n                                                  CreateDummyCol()),\n                                                 (&#x27;ProcessWeather&#x27;,\n                                                  ProcessWeather()),\n                                                 (&#x27;ProcessWSpd&#x27;,\n                                                  ProcessWSpd())]),\n                                 [&#x27;tempt&#x27;, &#x27;prcp&#x27;, &#x27;wspd&#x27;])])</pre><b>Please rerun this cell to show the HTML repr or trust the notebook.</b></div><div class=\"sk-container\" hidden><div class=\"sk-item sk-dashed-wrapped\"><div class=\"sk-label-container\"><div class=\"sk-label sk-toggleable\"><input class=\"sk-toggleable__control sk-hidden--visually\" id=\"16e433df-3f4b-411a-979e-aedfb32489ea\" type=\"checkbox\" ><label for=\"16e433df-3f4b-411a-979e-aedfb32489ea\" class=\"sk-toggleable__label sk-toggleable__label-arrow\">ColumnTransformer</label><div class=\"sk-toggleable__content\"><pre>ColumnTransformer(transformers=[(&#x27;cat_linear_processor&#x27;, OneHotEncoder(),\n                                 [&#x27;Vessel Type&#x27;]),\n                                (&#x27;date_linear_processor&#x27;,\n                                 Pipeline(steps=[(&#x27;ProcessDates&#x27;,\n                                                  ProcessDates()),\n                                                 (&#x27;ProcessHolidays&#x27;,\n                                                  ProcessHolidays()),\n                                                 (&#x27;DropDate&#x27;,\n                                                  DropCol(cols=[&#x27;Date&#x27;]))]),\n                                 [&#x27;Date&#x27;]),\n                                (&#x27;vessel_linear_processor&#x27;,\n                                 Pipeline(steps=[(&#x27;CreateDummyCol&#x27;,\n                                                  CreateDummyCol()),\n                                                 (&#x27;ProcessVessel&#x27;,\n                                                  Process...\n                                  &#x27;Capesize Unladen (DWT)&#x27;, &#x27;Panamax (DWT)&#x27;,\n                                  &#x27;Panamax Laden (DWT)&#x27;,\n                                  &#x27;Panamax Unladen (DWT)&#x27;, &#x27;Handymax (DWT)&#x27;,\n                                  &#x27;Handymax Laden (DWT)&#x27;,\n                                  &#x27;Handymax Unladen (DWT)&#x27;, &#x27;Handysize (DWT)&#x27;,\n                                  &#x27;Handysize Laden (DWT)&#x27;,\n                                  &#x27;Handysize Unladen (DWT)&#x27;]),\n                                (&#x27;weather_linear_processor&#x27;,\n                                 Pipeline(steps=[(&#x27;CreateDummyCol&#x27;,\n                                                  CreateDummyCol()),\n                                                 (&#x27;ProcessWeather&#x27;,\n                                                  ProcessWeather()),\n                                                 (&#x27;ProcessWSpd&#x27;,\n                                                  ProcessWSpd())]),\n                                 [&#x27;tempt&#x27;, &#x27;prcp&#x27;, &#x27;wspd&#x27;])])</pre></div></div></div><div class=\"sk-parallel\"><div class=\"sk-parallel-item\"><div class=\"sk-item\"><div class=\"sk-label-container\"><div class=\"sk-label sk-toggleable\"><input class=\"sk-toggleable__control sk-hidden--visually\" id=\"b2f0df1c-0421-4bc2-aaea-6e03302f91cf\" type=\"checkbox\" ><label for=\"b2f0df1c-0421-4bc2-aaea-6e03302f91cf\" class=\"sk-toggleable__label sk-toggleable__label-arrow\">cat_linear_processor</label><div class=\"sk-toggleable__content\"><pre>[&#x27;Vessel Type&#x27;]</pre></div></div></div><div class=\"sk-serial\"><div class=\"sk-item\"><div class=\"sk-estimator sk-toggleable\"><input class=\"sk-toggleable__control sk-hidden--visually\" id=\"79c5b034-bb63-4c41-bb41-902994776f5b\" type=\"checkbox\" ><label for=\"79c5b034-bb63-4c41-bb41-902994776f5b\" class=\"sk-toggleable__label sk-toggleable__label-arrow\">OneHotEncoder</label><div class=\"sk-toggleable__content\"><pre>OneHotEncoder()</pre></div></div></div></div></div></div><div class=\"sk-parallel-item\"><div class=\"sk-item\"><div class=\"sk-label-container\"><div class=\"sk-label sk-toggleable\"><input class=\"sk-toggleable__control sk-hidden--visually\" id=\"69d1af7d-4a81-4294-91d2-9f725851c3ef\" type=\"checkbox\" ><label for=\"69d1af7d-4a81-4294-91d2-9f725851c3ef\" class=\"sk-toggleable__label sk-toggleable__label-arrow\">date_linear_processor</label><div class=\"sk-toggleable__content\"><pre>[&#x27;Date&#x27;]</pre></div></div></div><div class=\"sk-serial\"><div class=\"sk-item\"><div class=\"sk-serial\"><div class=\"sk-item\"><div class=\"sk-estimator sk-toggleable\"><input class=\"sk-toggleable__control sk-hidden--visually\" id=\"715e8a61-c50e-4447-a397-deaac0ac4164\" type=\"checkbox\" ><label for=\"715e8a61-c50e-4447-a397-deaac0ac4164\" class=\"sk-toggleable__label sk-toggleable__label-arrow\">ProcessDates</label><div class=\"sk-toggleable__content\"><pre>ProcessDates()</pre></div></div></div><div class=\"sk-item\"><div class=\"sk-estimator sk-toggleable\"><input class=\"sk-toggleable__control sk-hidden--visually\" id=\"d9ddbfc3-5697-420d-be8e-1c85d91fb38a\" type=\"checkbox\" ><label for=\"d9ddbfc3-5697-420d-be8e-1c85d91fb38a\" class=\"sk-toggleable__label sk-toggleable__label-arrow\">ProcessHolidays</label><div class=\"sk-toggleable__content\"><pre>ProcessHolidays()</pre></div></div></div><div class=\"sk-item\"><div class=\"sk-estimator sk-toggleable\"><input class=\"sk-toggleable__control sk-hidden--visually\" id=\"c5dface6-9ae6-4a0f-80b8-951feec3224f\" type=\"checkbox\" ><label for=\"c5dface6-9ae6-4a0f-80b8-951feec3224f\" class=\"sk-toggleable__label sk-toggleable__label-arrow\">DropCol</label><div class=\"sk-toggleable__content\"><pre>DropCol(cols=[&#x27;Date&#x27;])</pre></div></div></div></div></div></div></div></div><div class=\"sk-parallel-item\"><div class=\"sk-item\"><div class=\"sk-label-container\"><div class=\"sk-label sk-toggleable\"><input class=\"sk-toggleable__control sk-hidden--visually\" id=\"3550e9b8-3a9d-4b99-801c-7d8cecac21e9\" type=\"checkbox\" ><label for=\"3550e9b8-3a9d-4b99-801c-7d8cecac21e9\" class=\"sk-toggleable__label sk-toggleable__label-arrow\">vessel_linear_processor</label><div class=\"sk-toggleable__content\"><pre>[&#x27;Total Vessels (Number)&#x27;, &#x27;Capesize&#x27;, &#x27;Capesize Laden&#x27;, &#x27;Capesize Unladen&#x27;, &#x27;Panamax&#x27;, &#x27;Panamax Laden&#x27;, &#x27;Panamax Unladen&#x27;, &#x27;Handymax&#x27;, &#x27;Handymax Laden&#x27;, &#x27;Handymax Unladen&#x27;, &#x27;Handysize&#x27;, &#x27;Handysize Laden&#x27;, &#x27;Handysize Unladen&#x27;, &#x27;Total Vessels (DWT)&#x27;, &#x27;Capesize (DWT)&#x27;, &#x27;Capesize Laden (DWT)&#x27;, &#x27;Capesize Unladen (DWT)&#x27;, &#x27;Panamax (DWT)&#x27;, &#x27;Panamax Laden (DWT)&#x27;, &#x27;Panamax Unladen (DWT)&#x27;, &#x27;Handymax (DWT)&#x27;, &#x27;Handymax Laden (DWT)&#x27;, &#x27;Handymax Unladen (DWT)&#x27;, &#x27;Handysize (DWT)&#x27;, &#x27;Handysize Laden (DWT)&#x27;, &#x27;Handysize Unladen (DWT)&#x27;]</pre></div></div></div><div class=\"sk-serial\"><div class=\"sk-item\"><div class=\"sk-serial\"><div class=\"sk-item\"><div class=\"sk-estimator sk-toggleable\"><input class=\"sk-toggleable__control sk-hidden--visually\" id=\"8bb6fad7-cb16-4d67-9a5a-f2ab52fe7445\" type=\"checkbox\" ><label for=\"8bb6fad7-cb16-4d67-9a5a-f2ab52fe7445\" class=\"sk-toggleable__label sk-toggleable__label-arrow\">CreateDummyCol</label><div class=\"sk-toggleable__content\"><pre>CreateDummyCol()</pre></div></div></div><div class=\"sk-item\"><div class=\"sk-estimator sk-toggleable\"><input class=\"sk-toggleable__control sk-hidden--visually\" id=\"000a3240-2cad-4ec8-bd62-19b016633b1f\" type=\"checkbox\" ><label for=\"000a3240-2cad-4ec8-bd62-19b016633b1f\" class=\"sk-toggleable__label sk-toggleable__label-arrow\">ProcessVessel</label><div class=\"sk-toggleable__content\"><pre>ProcessVessel(dwt_cols=[&#x27;Total Vessels (DWT)&#x27;, &#x27;Capesize (DWT)&#x27;,\n                        &#x27;Capesize Laden (DWT)&#x27;, &#x27;Capesize Unladen (DWT)&#x27;,\n                        &#x27;Panamax (DWT)&#x27;, &#x27;Panamax Laden (DWT)&#x27;,\n                        &#x27;Panamax Unladen (DWT)&#x27;, &#x27;Handymax (DWT)&#x27;,\n                        &#x27;Handymax Laden (DWT)&#x27;, &#x27;Handymax Unladen (DWT)&#x27;,\n                        &#x27;Handysize (DWT)&#x27;, &#x27;Handysize Laden (DWT)&#x27;,\n                        &#x27;Handysize Unladen (DWT)&#x27;],\n              vessel_cols=[&#x27;Total Vessels (Number)&#x27;, &#x27;Capesize&#x27;,\n                           &#x27;Capesize Laden&#x27;, &#x27;Capesize Unladen&#x27;, &#x27;Panamax&#x27;,\n                           &#x27;Panamax Laden&#x27;, &#x27;Panamax Unladen&#x27;, &#x27;Handymax&#x27;,\n                           &#x27;Handymax Laden&#x27;, &#x27;Handymax Unladen&#x27;, &#x27;Handysize&#x27;,\n                           &#x27;Handysize Laden&#x27;, &#x27;Handysize Unladen&#x27;])</pre></div></div></div></div></div></div></div></div><div class=\"sk-parallel-item\"><div class=\"sk-item\"><div class=\"sk-label-container\"><div class=\"sk-label sk-toggleable\"><input class=\"sk-toggleable__control sk-hidden--visually\" id=\"10838843-1c2f-4733-aa01-3d163fa81ace\" type=\"checkbox\" ><label for=\"10838843-1c2f-4733-aa01-3d163fa81ace\" class=\"sk-toggleable__label sk-toggleable__label-arrow\">weather_linear_processor</label><div class=\"sk-toggleable__content\"><pre>[&#x27;tempt&#x27;, &#x27;prcp&#x27;, &#x27;wspd&#x27;]</pre></div></div></div><div class=\"sk-serial\"><div class=\"sk-item\"><div class=\"sk-serial\"><div class=\"sk-item\"><div class=\"sk-estimator sk-toggleable\"><input class=\"sk-toggleable__control sk-hidden--visually\" id=\"188cc604-9802-41b7-b8be-d754fb405958\" type=\"checkbox\" ><label for=\"188cc604-9802-41b7-b8be-d754fb405958\" class=\"sk-toggleable__label sk-toggleable__label-arrow\">CreateDummyCol</label><div class=\"sk-toggleable__content\"><pre>CreateDummyCol()</pre></div></div></div><div class=\"sk-item\"><div class=\"sk-estimator sk-toggleable\"><input class=\"sk-toggleable__control sk-hidden--visually\" id=\"8426ecf2-dc4b-49af-b151-9e617ef27068\" type=\"checkbox\" ><label for=\"8426ecf2-dc4b-49af-b151-9e617ef27068\" class=\"sk-toggleable__label sk-toggleable__label-arrow\">ProcessWeather</label><div class=\"sk-toggleable__content\"><pre>ProcessWeather()</pre></div></div></div><div class=\"sk-item\"><div class=\"sk-estimator sk-toggleable\"><input class=\"sk-toggleable__control sk-hidden--visually\" id=\"fed6e33b-9786-440f-92d4-1fe912f2b320\" type=\"checkbox\" ><label for=\"fed6e33b-9786-440f-92d4-1fe912f2b320\" class=\"sk-toggleable__label sk-toggleable__label-arrow\">ProcessWSpd</label><div class=\"sk-toggleable__content\"><pre>ProcessWSpd()</pre></div></div></div></div></div></div></div></div></div></div></div></div>"
     },
     "execution_count": 5,
     "metadata": {},
     "output_type": "execute_result"
    }
   ],
   "source": [
    "date_linear_processor = pipeline.Pipeline([('ProcessDates',ProcessDates()),('ProcessHolidays',ProcessHolidays()),('DropDate',DropCol(cols=date_cols))])\n",
    "numeric_linear_processor = pipeline.Pipeline([('Polynomial',PolynomialFeatures(degree=2,interaction_only =True,include_bias=True)),('Scaler',StandardScaler())])\n",
    "cat_linear_processor = OneHotEncoder()\n",
    "vessel_linear_processor = pipeline.Pipeline([('CreateDummyCol',CreateDummyCol()),('ProcessVessel',ProcessVessel(vessel_cols=vessel_cols,dwt_cols=dwt_cols))])\n",
    "weather_linear_processor = pipeline.Pipeline([('CreateDummyCol',CreateDummyCol()),('ProcessWeather',ProcessWeather()),('ProcessWSpd',ProcessWSpd())])\n",
    "\n",
    "data_preprocessor = ColumnTransformer([\n",
    "    # ('numeric_linear_processor',numeric_linear_processor, numeric_cols),\n",
    "    ('cat_linear_processor',cat_linear_processor, categorical_cols),\n",
    "    ('date_linear_processor',date_linear_processor, date_cols),\n",
    "    ('vessel_linear_processor',vessel_linear_processor, vessel_cols+dwt_cols),\n",
    "    ('weather_linear_processor',weather_linear_processor, weather_cols)\n",
    "])\n",
    "data_preprocessor\n"
   ],
   "metadata": {
    "collapsed": false,
    "pycharm": {
     "name": "#%%\n"
    }
   }
  },
  {
   "cell_type": "markdown",
   "source": [
    "Regressor model"
   ],
   "metadata": {
    "collapsed": false
   }
  },
  {
   "cell_type": "code",
   "execution_count": 13,
   "outputs": [],
   "source": [
    "param_grid = {\n",
    "    ## Preprocessing parameter options\n",
    "    # 'columntransformer__date_linear_processor__ProcessDates': [ProcessDates(),None],\n",
    "    # 'columntransformer__date_linear_processor__ProcessHolidays': [ProcessHolidays(),None],\n",
    "    # 'columntransformer__weather_linear_processor__ProcessWeather__action': ['actual','drop'],\n",
    "    # 'columntransformer__weather_linear_processor__ProcessWSpd__action': ['cat','drop'],\n",
    "    # 'columntransformer__vessel_linear_processor__ProcessVessel__usage': ['dwt','vessel'],\n",
    "    'columntransformer__date_linear_processor__ProcessDates': [ProcessDates()],\n",
    "    'columntransformer__date_linear_processor__ProcessHolidays': [None],\n",
    "    'columntransformer__weather_linear_processor__ProcessWeather__action': ['actual'],\n",
    "    'columntransformer__weather_linear_processor__ProcessWSpd__action': ['cat'],\n",
    "    'columntransformer__vessel_linear_processor__ProcessVessel__usage': ['vessel'],\n",
    "\n",
    "    ## ElasticNet hyper parameters\n",
    "    'ElasticNet__regressor__alpha': np.linspace(0, 1, num=10),\n",
    "    'ElasticNet__regressor__l1_ratio': np.linspace(0, 1, num=10),\n",
    "    # 'ElasticNet__regressor__alpha': np.linspace(0, 1, num=2),\n",
    "\n",
    "    ## XGBoost hyper parameters\n",
    "    'XGBoost__regressor__gamma': [0,0.1,0.5,1,5],\n",
    "    'XGBoost__regressor__min_child_weight': [2,3,4,5],\n",
    "    'XGBoost__regressor__learning_rate': np.linspace(0.05, 0.5, num=5),\n",
    "    'XGBoost__regressor__max_depth': [2,4,6],\n",
    "    # 'XGBoost__regressor__n_estimators': range(100,400,100),\n",
    "    # 'XGBoost__regressor__max_depth': [20,100],\n",
    "\n",
    "    ## RandomForest hyper parameters\n",
    "    'RandomForest__regressor__min_impurity_decrease': np.linspace(0.1, 0.5, num=4),\n",
    "    'RandomForest__regressor__min_samples_leaf': [2,5,10,20,50],\n",
    "    'RandomForest__regressor__min_samples_split': [2,5,10,20],\n",
    "    # 'RandomForest__regressor__n_estimators': range(100,400,100),\n",
    "\n",
    "    ## LGBM hyper parameters\n",
    "    'LGBM__regressor__learning_rate': np.linspace(0.05, 0.5, num=4),\n",
    "    'LGBM__regressor__max_depth': [5,10,50,100],\n",
    "    'LGBM__regressor____n_estimators': [200,500,800],\n",
    "\n",
    "    ## final estimator LGBM hyper parameters\n",
    "    'final_estimator__boosting_type': ['dart','goss','gbdt'],\n",
    "    'final_estimator__learning_rate': np.linspace(0.05, 0.5, num=5),\n",
    "    'final_estimator__max_depth': [-1,5,10,20,30,50,100],\n",
    "    'final_estimator__n_estimators': [200,400,600,800,1200],\n",
    "}"
   ],
   "metadata": {
    "collapsed": false,
    "pycharm": {
     "name": "#%%\n"
    }
   }
  },
  {
   "cell_type": "code",
   "execution_count": 7,
   "outputs": [],
   "source": [
    "from sklearn.linear_model import ElasticNet\n",
    "from sklearn.ensemble import RandomForestRegressor,  GradientBoostingRegressor\n",
    "from xgboost import XGBRegressor\n",
    "from lightgbm  import LGBMRegressor\n",
    "from sklearn.ensemble import StackingRegressor\n",
    "estimators = [\n",
    "    (\"ElasticNet\", ElasticNet(random_state=0)),\n",
    "    (\"XGBoost\", XGBRegressor(objective='reg:squarederror',eval_metric='rmse',random_state=0,n_jobs=-1,use_label_encoder=False,  tree_method = 'gpu_hist')),\n",
    "    (\"RandomForest\", RandomForestRegressor(random_state=0,n_jobs=-1)),\n",
    "    (\"LGBM\", LGBMRegressor(objective='regression',random_state=0,n_jobs=-1,device = 'gpu')),\n",
    "]\n",
    "finalestimators = []\n",
    "for estimator, model in estimators:\n",
    "    finalestimators.append((estimator,pipeline.Pipeline([('columntransformer',data_preprocessor),('DropZeroCol',DropZeroCol()),('regressor',model)])))\n",
    "final_estimator=LGBMRegressor(objective='regression',random_state=0,n_jobs=-1,device = 'gpu')\n",
    "stacking_Regressor = StackingRegressor(estimators=finalestimators, final_estimator=final_estimator,n_jobs=-1)\n",
    "# finalPipe = pipeline.make_pipeline(data_preprocessor,stacking_Regressor)\n",
    "finalPipe = stacking_Regressor"
   ],
   "metadata": {
    "collapsed": false,
    "pycharm": {
     "name": "#%%\n"
    }
   }
  },
  {
   "cell_type": "code",
   "execution_count": 8,
   "outputs": [
    {
     "data": {
      "text/plain": "StackingRegressor(estimators=[('ElasticNet',\n                               Pipeline(steps=[('columntransformer',\n                                                ColumnTransformer(transformers=[('cat_linear_processor',\n                                                                                 OneHotEncoder(),\n                                                                                 ['Vessel '\n                                                                                  'Type']),\n                                                                                ('date_linear_processor',\n                                                                                 Pipeline(steps=[('ProcessDates',\n                                                                                                  ProcessDates()),\n                                                                                                 ('ProcessHolidays',\n                                                                                                  ProcessHolidays()),\n                                                                                                 ('DropDate',\n                                                                                                  DropCol(cols=['Date']))]),\n                                                                                 ['Date']),\n                                                                                ('vessel_linear_proc...\n                                                                                 Pipeline(steps=[('CreateDummyCol',\n                                                                                                  CreateDummyCol()),\n                                                                                                 ('ProcessWeather',\n                                                                                                  ProcessWeather()),\n                                                                                                 ('ProcessWSpd',\n                                                                                                  ProcessWSpd())]),\n                                                                                 ['tempt',\n                                                                                  'prcp',\n                                                                                  'wspd'])])),\n                                               ('DropZeroCol', DropZeroCol()),\n                                               ('regressor',\n                                                LGBMRegressor(device='gpu',\n                                                              objective='regression',\n                                                              random_state=0))]))],\n                  final_estimator=LGBMRegressor(device='gpu',\n                                                objective='regression',\n                                                random_state=0),\n                  n_jobs=-1)",
      "text/html": "<style>#sk-205b06c8-c627-4ce3-9aaf-bd92d1036485 {color: black;background-color: white;}#sk-205b06c8-c627-4ce3-9aaf-bd92d1036485 pre{padding: 0;}#sk-205b06c8-c627-4ce3-9aaf-bd92d1036485 div.sk-toggleable {background-color: white;}#sk-205b06c8-c627-4ce3-9aaf-bd92d1036485 label.sk-toggleable__label {cursor: pointer;display: block;width: 100%;margin-bottom: 0;padding: 0.3em;box-sizing: border-box;text-align: center;}#sk-205b06c8-c627-4ce3-9aaf-bd92d1036485 label.sk-toggleable__label-arrow:before {content: \"▸\";float: left;margin-right: 0.25em;color: #696969;}#sk-205b06c8-c627-4ce3-9aaf-bd92d1036485 label.sk-toggleable__label-arrow:hover:before {color: black;}#sk-205b06c8-c627-4ce3-9aaf-bd92d1036485 div.sk-estimator:hover label.sk-toggleable__label-arrow:before {color: black;}#sk-205b06c8-c627-4ce3-9aaf-bd92d1036485 div.sk-toggleable__content {max-height: 0;max-width: 0;overflow: hidden;text-align: left;background-color: #f0f8ff;}#sk-205b06c8-c627-4ce3-9aaf-bd92d1036485 div.sk-toggleable__content pre {margin: 0.2em;color: black;border-radius: 0.25em;background-color: #f0f8ff;}#sk-205b06c8-c627-4ce3-9aaf-bd92d1036485 input.sk-toggleable__control:checked~div.sk-toggleable__content {max-height: 200px;max-width: 100%;overflow: auto;}#sk-205b06c8-c627-4ce3-9aaf-bd92d1036485 input.sk-toggleable__control:checked~label.sk-toggleable__label-arrow:before {content: \"▾\";}#sk-205b06c8-c627-4ce3-9aaf-bd92d1036485 div.sk-estimator input.sk-toggleable__control:checked~label.sk-toggleable__label {background-color: #d4ebff;}#sk-205b06c8-c627-4ce3-9aaf-bd92d1036485 div.sk-label input.sk-toggleable__control:checked~label.sk-toggleable__label {background-color: #d4ebff;}#sk-205b06c8-c627-4ce3-9aaf-bd92d1036485 input.sk-hidden--visually {border: 0;clip: rect(1px 1px 1px 1px);clip: rect(1px, 1px, 1px, 1px);height: 1px;margin: -1px;overflow: hidden;padding: 0;position: absolute;width: 1px;}#sk-205b06c8-c627-4ce3-9aaf-bd92d1036485 div.sk-estimator {font-family: monospace;background-color: #f0f8ff;border: 1px dotted black;border-radius: 0.25em;box-sizing: border-box;margin-bottom: 0.5em;}#sk-205b06c8-c627-4ce3-9aaf-bd92d1036485 div.sk-estimator:hover {background-color: #d4ebff;}#sk-205b06c8-c627-4ce3-9aaf-bd92d1036485 div.sk-parallel-item::after {content: \"\";width: 100%;border-bottom: 1px solid gray;flex-grow: 1;}#sk-205b06c8-c627-4ce3-9aaf-bd92d1036485 div.sk-label:hover label.sk-toggleable__label {background-color: #d4ebff;}#sk-205b06c8-c627-4ce3-9aaf-bd92d1036485 div.sk-serial::before {content: \"\";position: absolute;border-left: 1px solid gray;box-sizing: border-box;top: 2em;bottom: 0;left: 50%;}#sk-205b06c8-c627-4ce3-9aaf-bd92d1036485 div.sk-serial {display: flex;flex-direction: column;align-items: center;background-color: white;padding-right: 0.2em;padding-left: 0.2em;}#sk-205b06c8-c627-4ce3-9aaf-bd92d1036485 div.sk-item {z-index: 1;}#sk-205b06c8-c627-4ce3-9aaf-bd92d1036485 div.sk-parallel {display: flex;align-items: stretch;justify-content: center;background-color: white;}#sk-205b06c8-c627-4ce3-9aaf-bd92d1036485 div.sk-parallel::before {content: \"\";position: absolute;border-left: 1px solid gray;box-sizing: border-box;top: 2em;bottom: 0;left: 50%;}#sk-205b06c8-c627-4ce3-9aaf-bd92d1036485 div.sk-parallel-item {display: flex;flex-direction: column;position: relative;background-color: white;}#sk-205b06c8-c627-4ce3-9aaf-bd92d1036485 div.sk-parallel-item:first-child::after {align-self: flex-end;width: 50%;}#sk-205b06c8-c627-4ce3-9aaf-bd92d1036485 div.sk-parallel-item:last-child::after {align-self: flex-start;width: 50%;}#sk-205b06c8-c627-4ce3-9aaf-bd92d1036485 div.sk-parallel-item:only-child::after {width: 0;}#sk-205b06c8-c627-4ce3-9aaf-bd92d1036485 div.sk-dashed-wrapped {border: 1px dashed gray;margin: 0 0.4em 0.5em 0.4em;box-sizing: border-box;padding-bottom: 0.4em;background-color: white;position: relative;}#sk-205b06c8-c627-4ce3-9aaf-bd92d1036485 div.sk-label label {font-family: monospace;font-weight: bold;background-color: white;display: inline-block;line-height: 1.2em;}#sk-205b06c8-c627-4ce3-9aaf-bd92d1036485 div.sk-label-container {position: relative;z-index: 2;text-align: center;}#sk-205b06c8-c627-4ce3-9aaf-bd92d1036485 div.sk-container {/* jupyter's `normalize.less` sets `[hidden] { display: none; }` but bootstrap.min.css set `[hidden] { display: none !important; }` so we also need the `!important` here to be able to override the default hidden behavior on the sphinx rendered scikit-learn.org. See: https://github.com/scikit-learn/scikit-learn/issues/21755 */display: inline-block !important;position: relative;}#sk-205b06c8-c627-4ce3-9aaf-bd92d1036485 div.sk-text-repr-fallback {display: none;}</style><div id=\"sk-205b06c8-c627-4ce3-9aaf-bd92d1036485\" class=\"sk-top-container\"><div class=\"sk-text-repr-fallback\"><pre>StackingRegressor(estimators=[(&#x27;ElasticNet&#x27;,\n                               Pipeline(steps=[(&#x27;columntransformer&#x27;,\n                                                ColumnTransformer(transformers=[(&#x27;cat_linear_processor&#x27;,\n                                                                                 OneHotEncoder(),\n                                                                                 [&#x27;Vessel &#x27;\n                                                                                  &#x27;Type&#x27;]),\n                                                                                (&#x27;date_linear_processor&#x27;,\n                                                                                 Pipeline(steps=[(&#x27;ProcessDates&#x27;,\n                                                                                                  ProcessDates()),\n                                                                                                 (&#x27;ProcessHolidays&#x27;,\n                                                                                                  ProcessHolidays()),\n                                                                                                 (&#x27;DropDate&#x27;,\n                                                                                                  DropCol(cols=[&#x27;Date&#x27;]))]),\n                                                                                 [&#x27;Date&#x27;]),\n                                                                                (&#x27;vessel_linear_proc...\n                                                                                 Pipeline(steps=[(&#x27;CreateDummyCol&#x27;,\n                                                                                                  CreateDummyCol()),\n                                                                                                 (&#x27;ProcessWeather&#x27;,\n                                                                                                  ProcessWeather()),\n                                                                                                 (&#x27;ProcessWSpd&#x27;,\n                                                                                                  ProcessWSpd())]),\n                                                                                 [&#x27;tempt&#x27;,\n                                                                                  &#x27;prcp&#x27;,\n                                                                                  &#x27;wspd&#x27;])])),\n                                               (&#x27;DropZeroCol&#x27;, DropZeroCol()),\n                                               (&#x27;regressor&#x27;,\n                                                LGBMRegressor(device=&#x27;gpu&#x27;,\n                                                              objective=&#x27;regression&#x27;,\n                                                              random_state=0))]))],\n                  final_estimator=LGBMRegressor(device=&#x27;gpu&#x27;,\n                                                objective=&#x27;regression&#x27;,\n                                                random_state=0),\n                  n_jobs=-1)</pre><b>Please rerun this cell to show the HTML repr or trust the notebook.</b></div><div class=\"sk-container\" hidden><div class=\"sk-item sk-dashed-wrapped\"><div class=\"sk-label-container\"><div class=\"sk-label sk-toggleable\"><input class=\"sk-toggleable__control sk-hidden--visually\" id=\"f252e035-f3d4-4564-8fa0-ba223732aa0e\" type=\"checkbox\" ><label for=\"f252e035-f3d4-4564-8fa0-ba223732aa0e\" class=\"sk-toggleable__label sk-toggleable__label-arrow\">StackingRegressor</label><div class=\"sk-toggleable__content\"><pre>StackingRegressor(estimators=[(&#x27;ElasticNet&#x27;,\n                               Pipeline(steps=[(&#x27;columntransformer&#x27;,\n                                                ColumnTransformer(transformers=[(&#x27;cat_linear_processor&#x27;,\n                                                                                 OneHotEncoder(),\n                                                                                 [&#x27;Vessel &#x27;\n                                                                                  &#x27;Type&#x27;]),\n                                                                                (&#x27;date_linear_processor&#x27;,\n                                                                                 Pipeline(steps=[(&#x27;ProcessDates&#x27;,\n                                                                                                  ProcessDates()),\n                                                                                                 (&#x27;ProcessHolidays&#x27;,\n                                                                                                  ProcessHolidays()),\n                                                                                                 (&#x27;DropDate&#x27;,\n                                                                                                  DropCol(cols=[&#x27;Date&#x27;]))]),\n                                                                                 [&#x27;Date&#x27;]),\n                                                                                (&#x27;vessel_linear_proc...\n                                                                                 Pipeline(steps=[(&#x27;CreateDummyCol&#x27;,\n                                                                                                  CreateDummyCol()),\n                                                                                                 (&#x27;ProcessWeather&#x27;,\n                                                                                                  ProcessWeather()),\n                                                                                                 (&#x27;ProcessWSpd&#x27;,\n                                                                                                  ProcessWSpd())]),\n                                                                                 [&#x27;tempt&#x27;,\n                                                                                  &#x27;prcp&#x27;,\n                                                                                  &#x27;wspd&#x27;])])),\n                                               (&#x27;DropZeroCol&#x27;, DropZeroCol()),\n                                               (&#x27;regressor&#x27;,\n                                                LGBMRegressor(device=&#x27;gpu&#x27;,\n                                                              objective=&#x27;regression&#x27;,\n                                                              random_state=0))]))],\n                  final_estimator=LGBMRegressor(device=&#x27;gpu&#x27;,\n                                                objective=&#x27;regression&#x27;,\n                                                random_state=0),\n                  n_jobs=-1)</pre></div></div></div><div class=\"sk-serial\"><div class=\"sk-item\"><div class=\"sk-parallel\"><div class=\"sk-parallel-item\"><div class=\"sk-item\"><div class=\"sk-label-container\"><div class=\"sk-label sk-toggleable\"><label>ElasticNet</label></div></div><div class=\"sk-serial\"><div class=\"sk-item\"><div class=\"sk-serial\"><div class=\"sk-item sk-dashed-wrapped\"><div class=\"sk-label-container\"><div class=\"sk-label sk-toggleable\"><input class=\"sk-toggleable__control sk-hidden--visually\" id=\"54db4727-9eed-4fff-9202-3c3fee107196\" type=\"checkbox\" ><label for=\"54db4727-9eed-4fff-9202-3c3fee107196\" class=\"sk-toggleable__label sk-toggleable__label-arrow\">columntransformer: ColumnTransformer</label><div class=\"sk-toggleable__content\"><pre>ColumnTransformer(transformers=[(&#x27;cat_linear_processor&#x27;, OneHotEncoder(),\n                                 [&#x27;Vessel Type&#x27;]),\n                                (&#x27;date_linear_processor&#x27;,\n                                 Pipeline(steps=[(&#x27;ProcessDates&#x27;,\n                                                  ProcessDates()),\n                                                 (&#x27;ProcessHolidays&#x27;,\n                                                  ProcessHolidays()),\n                                                 (&#x27;DropDate&#x27;,\n                                                  DropCol(cols=[&#x27;Date&#x27;]))]),\n                                 [&#x27;Date&#x27;]),\n                                (&#x27;vessel_linear_processor&#x27;,\n                                 Pipeline(steps=[(&#x27;CreateDummyCol&#x27;,\n                                                  CreateDummyCol()),\n                                                 (&#x27;ProcessVessel&#x27;,\n                                                  Process...\n                                  &#x27;Capesize Unladen (DWT)&#x27;, &#x27;Panamax (DWT)&#x27;,\n                                  &#x27;Panamax Laden (DWT)&#x27;,\n                                  &#x27;Panamax Unladen (DWT)&#x27;, &#x27;Handymax (DWT)&#x27;,\n                                  &#x27;Handymax Laden (DWT)&#x27;,\n                                  &#x27;Handymax Unladen (DWT)&#x27;, &#x27;Handysize (DWT)&#x27;,\n                                  &#x27;Handysize Laden (DWT)&#x27;,\n                                  &#x27;Handysize Unladen (DWT)&#x27;]),\n                                (&#x27;weather_linear_processor&#x27;,\n                                 Pipeline(steps=[(&#x27;CreateDummyCol&#x27;,\n                                                  CreateDummyCol()),\n                                                 (&#x27;ProcessWeather&#x27;,\n                                                  ProcessWeather()),\n                                                 (&#x27;ProcessWSpd&#x27;,\n                                                  ProcessWSpd())]),\n                                 [&#x27;tempt&#x27;, &#x27;prcp&#x27;, &#x27;wspd&#x27;])])</pre></div></div></div><div class=\"sk-parallel\"><div class=\"sk-parallel-item\"><div class=\"sk-item\"><div class=\"sk-label-container\"><div class=\"sk-label sk-toggleable\"><input class=\"sk-toggleable__control sk-hidden--visually\" id=\"bd232304-4090-47ae-9114-7a5f3a1515e6\" type=\"checkbox\" ><label for=\"bd232304-4090-47ae-9114-7a5f3a1515e6\" class=\"sk-toggleable__label sk-toggleable__label-arrow\">cat_linear_processor</label><div class=\"sk-toggleable__content\"><pre>[&#x27;Vessel Type&#x27;]</pre></div></div></div><div class=\"sk-serial\"><div class=\"sk-item\"><div class=\"sk-estimator sk-toggleable\"><input class=\"sk-toggleable__control sk-hidden--visually\" id=\"3e435c1d-4bf0-4d30-a238-2d9a6ae58e93\" type=\"checkbox\" ><label for=\"3e435c1d-4bf0-4d30-a238-2d9a6ae58e93\" class=\"sk-toggleable__label sk-toggleable__label-arrow\">OneHotEncoder</label><div class=\"sk-toggleable__content\"><pre>OneHotEncoder()</pre></div></div></div></div></div></div><div class=\"sk-parallel-item\"><div class=\"sk-item\"><div class=\"sk-label-container\"><div class=\"sk-label sk-toggleable\"><input class=\"sk-toggleable__control sk-hidden--visually\" id=\"98263764-48a4-4da6-b02d-87b703700821\" type=\"checkbox\" ><label for=\"98263764-48a4-4da6-b02d-87b703700821\" class=\"sk-toggleable__label sk-toggleable__label-arrow\">date_linear_processor</label><div class=\"sk-toggleable__content\"><pre>[&#x27;Date&#x27;]</pre></div></div></div><div class=\"sk-serial\"><div class=\"sk-item\"><div class=\"sk-serial\"><div class=\"sk-item\"><div class=\"sk-estimator sk-toggleable\"><input class=\"sk-toggleable__control sk-hidden--visually\" id=\"f7caec2b-f8f2-4d8a-92d2-d475c1ce7438\" type=\"checkbox\" ><label for=\"f7caec2b-f8f2-4d8a-92d2-d475c1ce7438\" class=\"sk-toggleable__label sk-toggleable__label-arrow\">ProcessDates</label><div class=\"sk-toggleable__content\"><pre>ProcessDates()</pre></div></div></div><div class=\"sk-item\"><div class=\"sk-estimator sk-toggleable\"><input class=\"sk-toggleable__control sk-hidden--visually\" id=\"06e918af-d343-4ea6-8ef1-1075caeaa806\" type=\"checkbox\" ><label for=\"06e918af-d343-4ea6-8ef1-1075caeaa806\" class=\"sk-toggleable__label sk-toggleable__label-arrow\">ProcessHolidays</label><div class=\"sk-toggleable__content\"><pre>ProcessHolidays()</pre></div></div></div><div class=\"sk-item\"><div class=\"sk-estimator sk-toggleable\"><input class=\"sk-toggleable__control sk-hidden--visually\" id=\"6199f9e7-e4e6-44e3-b8c8-0d8c3cc80a28\" type=\"checkbox\" ><label for=\"6199f9e7-e4e6-44e3-b8c8-0d8c3cc80a28\" class=\"sk-toggleable__label sk-toggleable__label-arrow\">DropCol</label><div class=\"sk-toggleable__content\"><pre>DropCol(cols=[&#x27;Date&#x27;])</pre></div></div></div></div></div></div></div></div><div class=\"sk-parallel-item\"><div class=\"sk-item\"><div class=\"sk-label-container\"><div class=\"sk-label sk-toggleable\"><input class=\"sk-toggleable__control sk-hidden--visually\" id=\"67d37817-9f2d-487c-9e39-2b96bb2b2abe\" type=\"checkbox\" ><label for=\"67d37817-9f2d-487c-9e39-2b96bb2b2abe\" class=\"sk-toggleable__label sk-toggleable__label-arrow\">vessel_linear_processor</label><div class=\"sk-toggleable__content\"><pre>[&#x27;Total Vessels (Number)&#x27;, &#x27;Capesize&#x27;, &#x27;Capesize Laden&#x27;, &#x27;Capesize Unladen&#x27;, &#x27;Panamax&#x27;, &#x27;Panamax Laden&#x27;, &#x27;Panamax Unladen&#x27;, &#x27;Handymax&#x27;, &#x27;Handymax Laden&#x27;, &#x27;Handymax Unladen&#x27;, &#x27;Handysize&#x27;, &#x27;Handysize Laden&#x27;, &#x27;Handysize Unladen&#x27;, &#x27;Total Vessels (DWT)&#x27;, &#x27;Capesize (DWT)&#x27;, &#x27;Capesize Laden (DWT)&#x27;, &#x27;Capesize Unladen (DWT)&#x27;, &#x27;Panamax (DWT)&#x27;, &#x27;Panamax Laden (DWT)&#x27;, &#x27;Panamax Unladen (DWT)&#x27;, &#x27;Handymax (DWT)&#x27;, &#x27;Handymax Laden (DWT)&#x27;, &#x27;Handymax Unladen (DWT)&#x27;, &#x27;Handysize (DWT)&#x27;, &#x27;Handysize Laden (DWT)&#x27;, &#x27;Handysize Unladen (DWT)&#x27;]</pre></div></div></div><div class=\"sk-serial\"><div class=\"sk-item\"><div class=\"sk-serial\"><div class=\"sk-item\"><div class=\"sk-estimator sk-toggleable\"><input class=\"sk-toggleable__control sk-hidden--visually\" id=\"9b323de3-9080-49d8-9178-2ae3340911af\" type=\"checkbox\" ><label for=\"9b323de3-9080-49d8-9178-2ae3340911af\" class=\"sk-toggleable__label sk-toggleable__label-arrow\">CreateDummyCol</label><div class=\"sk-toggleable__content\"><pre>CreateDummyCol()</pre></div></div></div><div class=\"sk-item\"><div class=\"sk-estimator sk-toggleable\"><input class=\"sk-toggleable__control sk-hidden--visually\" id=\"9180b79e-9ca7-4787-a788-e91565f9a35f\" type=\"checkbox\" ><label for=\"9180b79e-9ca7-4787-a788-e91565f9a35f\" class=\"sk-toggleable__label sk-toggleable__label-arrow\">ProcessVessel</label><div class=\"sk-toggleable__content\"><pre>ProcessVessel(dwt_cols=[&#x27;Total Vessels (DWT)&#x27;, &#x27;Capesize (DWT)&#x27;,\n                        &#x27;Capesize Laden (DWT)&#x27;, &#x27;Capesize Unladen (DWT)&#x27;,\n                        &#x27;Panamax (DWT)&#x27;, &#x27;Panamax Laden (DWT)&#x27;,\n                        &#x27;Panamax Unladen (DWT)&#x27;, &#x27;Handymax (DWT)&#x27;,\n                        &#x27;Handymax Laden (DWT)&#x27;, &#x27;Handymax Unladen (DWT)&#x27;,\n                        &#x27;Handysize (DWT)&#x27;, &#x27;Handysize Laden (DWT)&#x27;,\n                        &#x27;Handysize Unladen (DWT)&#x27;],\n              vessel_cols=[&#x27;Total Vessels (Number)&#x27;, &#x27;Capesize&#x27;,\n                           &#x27;Capesize Laden&#x27;, &#x27;Capesize Unladen&#x27;, &#x27;Panamax&#x27;,\n                           &#x27;Panamax Laden&#x27;, &#x27;Panamax Unladen&#x27;, &#x27;Handymax&#x27;,\n                           &#x27;Handymax Laden&#x27;, &#x27;Handymax Unladen&#x27;, &#x27;Handysize&#x27;,\n                           &#x27;Handysize Laden&#x27;, &#x27;Handysize Unladen&#x27;])</pre></div></div></div></div></div></div></div></div><div class=\"sk-parallel-item\"><div class=\"sk-item\"><div class=\"sk-label-container\"><div class=\"sk-label sk-toggleable\"><input class=\"sk-toggleable__control sk-hidden--visually\" id=\"6ca5bd00-a086-4792-a0bb-eb267c0c7a47\" type=\"checkbox\" ><label for=\"6ca5bd00-a086-4792-a0bb-eb267c0c7a47\" class=\"sk-toggleable__label sk-toggleable__label-arrow\">weather_linear_processor</label><div class=\"sk-toggleable__content\"><pre>[&#x27;tempt&#x27;, &#x27;prcp&#x27;, &#x27;wspd&#x27;]</pre></div></div></div><div class=\"sk-serial\"><div class=\"sk-item\"><div class=\"sk-serial\"><div class=\"sk-item\"><div class=\"sk-estimator sk-toggleable\"><input class=\"sk-toggleable__control sk-hidden--visually\" id=\"a4f0f8b7-301c-4edd-85ac-cd284c033601\" type=\"checkbox\" ><label for=\"a4f0f8b7-301c-4edd-85ac-cd284c033601\" class=\"sk-toggleable__label sk-toggleable__label-arrow\">CreateDummyCol</label><div class=\"sk-toggleable__content\"><pre>CreateDummyCol()</pre></div></div></div><div class=\"sk-item\"><div class=\"sk-estimator sk-toggleable\"><input class=\"sk-toggleable__control sk-hidden--visually\" id=\"518e89f3-9654-4287-9595-00506a82c4aa\" type=\"checkbox\" ><label for=\"518e89f3-9654-4287-9595-00506a82c4aa\" class=\"sk-toggleable__label sk-toggleable__label-arrow\">ProcessWeather</label><div class=\"sk-toggleable__content\"><pre>ProcessWeather()</pre></div></div></div><div class=\"sk-item\"><div class=\"sk-estimator sk-toggleable\"><input class=\"sk-toggleable__control sk-hidden--visually\" id=\"73cb6b84-f74e-4b5d-baa4-c5c1ae6e6af0\" type=\"checkbox\" ><label for=\"73cb6b84-f74e-4b5d-baa4-c5c1ae6e6af0\" class=\"sk-toggleable__label sk-toggleable__label-arrow\">ProcessWSpd</label><div class=\"sk-toggleable__content\"><pre>ProcessWSpd()</pre></div></div></div></div></div></div></div></div></div></div><div class=\"sk-item\"><div class=\"sk-estimator sk-toggleable\"><input class=\"sk-toggleable__control sk-hidden--visually\" id=\"5f9cd3c9-664d-4a87-9c37-742bd7186129\" type=\"checkbox\" ><label for=\"5f9cd3c9-664d-4a87-9c37-742bd7186129\" class=\"sk-toggleable__label sk-toggleable__label-arrow\">DropZeroCol</label><div class=\"sk-toggleable__content\"><pre>DropZeroCol()</pre></div></div></div><div class=\"sk-item\"><div class=\"sk-estimator sk-toggleable\"><input class=\"sk-toggleable__control sk-hidden--visually\" id=\"6b6ddb7b-a237-418d-94f3-a07b51ef4803\" type=\"checkbox\" ><label for=\"6b6ddb7b-a237-418d-94f3-a07b51ef4803\" class=\"sk-toggleable__label sk-toggleable__label-arrow\">ElasticNet</label><div class=\"sk-toggleable__content\"><pre>ElasticNet(random_state=0)</pre></div></div></div></div></div></div></div></div><div class=\"sk-parallel-item\"><div class=\"sk-item\"><div class=\"sk-label-container\"><div class=\"sk-label sk-toggleable\"><label>XGBoost</label></div></div><div class=\"sk-serial\"><div class=\"sk-item\"><div class=\"sk-serial\"><div class=\"sk-item sk-dashed-wrapped\"><div class=\"sk-label-container\"><div class=\"sk-label sk-toggleable\"><input class=\"sk-toggleable__control sk-hidden--visually\" id=\"fadf9461-32b2-42a9-8c5e-e423b71cbf14\" type=\"checkbox\" ><label for=\"fadf9461-32b2-42a9-8c5e-e423b71cbf14\" class=\"sk-toggleable__label sk-toggleable__label-arrow\">columntransformer: ColumnTransformer</label><div class=\"sk-toggleable__content\"><pre>ColumnTransformer(transformers=[(&#x27;cat_linear_processor&#x27;, OneHotEncoder(),\n                                 [&#x27;Vessel Type&#x27;]),\n                                (&#x27;date_linear_processor&#x27;,\n                                 Pipeline(steps=[(&#x27;ProcessDates&#x27;,\n                                                  ProcessDates()),\n                                                 (&#x27;ProcessHolidays&#x27;,\n                                                  ProcessHolidays()),\n                                                 (&#x27;DropDate&#x27;,\n                                                  DropCol(cols=[&#x27;Date&#x27;]))]),\n                                 [&#x27;Date&#x27;]),\n                                (&#x27;vessel_linear_processor&#x27;,\n                                 Pipeline(steps=[(&#x27;CreateDummyCol&#x27;,\n                                                  CreateDummyCol()),\n                                                 (&#x27;ProcessVessel&#x27;,\n                                                  Process...\n                                  &#x27;Capesize Unladen (DWT)&#x27;, &#x27;Panamax (DWT)&#x27;,\n                                  &#x27;Panamax Laden (DWT)&#x27;,\n                                  &#x27;Panamax Unladen (DWT)&#x27;, &#x27;Handymax (DWT)&#x27;,\n                                  &#x27;Handymax Laden (DWT)&#x27;,\n                                  &#x27;Handymax Unladen (DWT)&#x27;, &#x27;Handysize (DWT)&#x27;,\n                                  &#x27;Handysize Laden (DWT)&#x27;,\n                                  &#x27;Handysize Unladen (DWT)&#x27;]),\n                                (&#x27;weather_linear_processor&#x27;,\n                                 Pipeline(steps=[(&#x27;CreateDummyCol&#x27;,\n                                                  CreateDummyCol()),\n                                                 (&#x27;ProcessWeather&#x27;,\n                                                  ProcessWeather()),\n                                                 (&#x27;ProcessWSpd&#x27;,\n                                                  ProcessWSpd())]),\n                                 [&#x27;tempt&#x27;, &#x27;prcp&#x27;, &#x27;wspd&#x27;])])</pre></div></div></div><div class=\"sk-parallel\"><div class=\"sk-parallel-item\"><div class=\"sk-item\"><div class=\"sk-label-container\"><div class=\"sk-label sk-toggleable\"><input class=\"sk-toggleable__control sk-hidden--visually\" id=\"afb79b10-1d24-41b2-bb6e-222f34562255\" type=\"checkbox\" ><label for=\"afb79b10-1d24-41b2-bb6e-222f34562255\" class=\"sk-toggleable__label sk-toggleable__label-arrow\">cat_linear_processor</label><div class=\"sk-toggleable__content\"><pre>[&#x27;Vessel Type&#x27;]</pre></div></div></div><div class=\"sk-serial\"><div class=\"sk-item\"><div class=\"sk-estimator sk-toggleable\"><input class=\"sk-toggleable__control sk-hidden--visually\" id=\"3fe79978-101c-4b75-aad2-10a57a706021\" type=\"checkbox\" ><label for=\"3fe79978-101c-4b75-aad2-10a57a706021\" class=\"sk-toggleable__label sk-toggleable__label-arrow\">OneHotEncoder</label><div class=\"sk-toggleable__content\"><pre>OneHotEncoder()</pre></div></div></div></div></div></div><div class=\"sk-parallel-item\"><div class=\"sk-item\"><div class=\"sk-label-container\"><div class=\"sk-label sk-toggleable\"><input class=\"sk-toggleable__control sk-hidden--visually\" id=\"9062c9d4-5536-4e21-9eeb-5ca5c0409d73\" type=\"checkbox\" ><label for=\"9062c9d4-5536-4e21-9eeb-5ca5c0409d73\" class=\"sk-toggleable__label sk-toggleable__label-arrow\">date_linear_processor</label><div class=\"sk-toggleable__content\"><pre>[&#x27;Date&#x27;]</pre></div></div></div><div class=\"sk-serial\"><div class=\"sk-item\"><div class=\"sk-serial\"><div class=\"sk-item\"><div class=\"sk-estimator sk-toggleable\"><input class=\"sk-toggleable__control sk-hidden--visually\" id=\"90048853-4004-4e5a-997c-55b908f3e29f\" type=\"checkbox\" ><label for=\"90048853-4004-4e5a-997c-55b908f3e29f\" class=\"sk-toggleable__label sk-toggleable__label-arrow\">ProcessDates</label><div class=\"sk-toggleable__content\"><pre>ProcessDates()</pre></div></div></div><div class=\"sk-item\"><div class=\"sk-estimator sk-toggleable\"><input class=\"sk-toggleable__control sk-hidden--visually\" id=\"c41cfe7c-ae13-4780-9398-aa6a985f4121\" type=\"checkbox\" ><label for=\"c41cfe7c-ae13-4780-9398-aa6a985f4121\" class=\"sk-toggleable__label sk-toggleable__label-arrow\">ProcessHolidays</label><div class=\"sk-toggleable__content\"><pre>ProcessHolidays()</pre></div></div></div><div class=\"sk-item\"><div class=\"sk-estimator sk-toggleable\"><input class=\"sk-toggleable__control sk-hidden--visually\" id=\"63f01d39-738c-43a3-8d91-b29be06cc2e4\" type=\"checkbox\" ><label for=\"63f01d39-738c-43a3-8d91-b29be06cc2e4\" class=\"sk-toggleable__label sk-toggleable__label-arrow\">DropCol</label><div class=\"sk-toggleable__content\"><pre>DropCol(cols=[&#x27;Date&#x27;])</pre></div></div></div></div></div></div></div></div><div class=\"sk-parallel-item\"><div class=\"sk-item\"><div class=\"sk-label-container\"><div class=\"sk-label sk-toggleable\"><input class=\"sk-toggleable__control sk-hidden--visually\" id=\"58aad410-2077-4fa3-91d2-d2b6e6d7a76a\" type=\"checkbox\" ><label for=\"58aad410-2077-4fa3-91d2-d2b6e6d7a76a\" class=\"sk-toggleable__label sk-toggleable__label-arrow\">vessel_linear_processor</label><div class=\"sk-toggleable__content\"><pre>[&#x27;Total Vessels (Number)&#x27;, &#x27;Capesize&#x27;, &#x27;Capesize Laden&#x27;, &#x27;Capesize Unladen&#x27;, &#x27;Panamax&#x27;, &#x27;Panamax Laden&#x27;, &#x27;Panamax Unladen&#x27;, &#x27;Handymax&#x27;, &#x27;Handymax Laden&#x27;, &#x27;Handymax Unladen&#x27;, &#x27;Handysize&#x27;, &#x27;Handysize Laden&#x27;, &#x27;Handysize Unladen&#x27;, &#x27;Total Vessels (DWT)&#x27;, &#x27;Capesize (DWT)&#x27;, &#x27;Capesize Laden (DWT)&#x27;, &#x27;Capesize Unladen (DWT)&#x27;, &#x27;Panamax (DWT)&#x27;, &#x27;Panamax Laden (DWT)&#x27;, &#x27;Panamax Unladen (DWT)&#x27;, &#x27;Handymax (DWT)&#x27;, &#x27;Handymax Laden (DWT)&#x27;, &#x27;Handymax Unladen (DWT)&#x27;, &#x27;Handysize (DWT)&#x27;, &#x27;Handysize Laden (DWT)&#x27;, &#x27;Handysize Unladen (DWT)&#x27;]</pre></div></div></div><div class=\"sk-serial\"><div class=\"sk-item\"><div class=\"sk-serial\"><div class=\"sk-item\"><div class=\"sk-estimator sk-toggleable\"><input class=\"sk-toggleable__control sk-hidden--visually\" id=\"8f093477-ffe9-42b6-b1d3-56567d5fc48d\" type=\"checkbox\" ><label for=\"8f093477-ffe9-42b6-b1d3-56567d5fc48d\" class=\"sk-toggleable__label sk-toggleable__label-arrow\">CreateDummyCol</label><div class=\"sk-toggleable__content\"><pre>CreateDummyCol()</pre></div></div></div><div class=\"sk-item\"><div class=\"sk-estimator sk-toggleable\"><input class=\"sk-toggleable__control sk-hidden--visually\" id=\"7dfa9ffa-c80f-4c03-a9f3-c6f880d08a1d\" type=\"checkbox\" ><label for=\"7dfa9ffa-c80f-4c03-a9f3-c6f880d08a1d\" class=\"sk-toggleable__label sk-toggleable__label-arrow\">ProcessVessel</label><div class=\"sk-toggleable__content\"><pre>ProcessVessel(dwt_cols=[&#x27;Total Vessels (DWT)&#x27;, &#x27;Capesize (DWT)&#x27;,\n                        &#x27;Capesize Laden (DWT)&#x27;, &#x27;Capesize Unladen (DWT)&#x27;,\n                        &#x27;Panamax (DWT)&#x27;, &#x27;Panamax Laden (DWT)&#x27;,\n                        &#x27;Panamax Unladen (DWT)&#x27;, &#x27;Handymax (DWT)&#x27;,\n                        &#x27;Handymax Laden (DWT)&#x27;, &#x27;Handymax Unladen (DWT)&#x27;,\n                        &#x27;Handysize (DWT)&#x27;, &#x27;Handysize Laden (DWT)&#x27;,\n                        &#x27;Handysize Unladen (DWT)&#x27;],\n              vessel_cols=[&#x27;Total Vessels (Number)&#x27;, &#x27;Capesize&#x27;,\n                           &#x27;Capesize Laden&#x27;, &#x27;Capesize Unladen&#x27;, &#x27;Panamax&#x27;,\n                           &#x27;Panamax Laden&#x27;, &#x27;Panamax Unladen&#x27;, &#x27;Handymax&#x27;,\n                           &#x27;Handymax Laden&#x27;, &#x27;Handymax Unladen&#x27;, &#x27;Handysize&#x27;,\n                           &#x27;Handysize Laden&#x27;, &#x27;Handysize Unladen&#x27;])</pre></div></div></div></div></div></div></div></div><div class=\"sk-parallel-item\"><div class=\"sk-item\"><div class=\"sk-label-container\"><div class=\"sk-label sk-toggleable\"><input class=\"sk-toggleable__control sk-hidden--visually\" id=\"60c08c24-253b-4de2-baa7-c923938f5e05\" type=\"checkbox\" ><label for=\"60c08c24-253b-4de2-baa7-c923938f5e05\" class=\"sk-toggleable__label sk-toggleable__label-arrow\">weather_linear_processor</label><div class=\"sk-toggleable__content\"><pre>[&#x27;tempt&#x27;, &#x27;prcp&#x27;, &#x27;wspd&#x27;]</pre></div></div></div><div class=\"sk-serial\"><div class=\"sk-item\"><div class=\"sk-serial\"><div class=\"sk-item\"><div class=\"sk-estimator sk-toggleable\"><input class=\"sk-toggleable__control sk-hidden--visually\" id=\"09dcb0ba-f328-4a8b-b6fe-ec025e34029c\" type=\"checkbox\" ><label for=\"09dcb0ba-f328-4a8b-b6fe-ec025e34029c\" class=\"sk-toggleable__label sk-toggleable__label-arrow\">CreateDummyCol</label><div class=\"sk-toggleable__content\"><pre>CreateDummyCol()</pre></div></div></div><div class=\"sk-item\"><div class=\"sk-estimator sk-toggleable\"><input class=\"sk-toggleable__control sk-hidden--visually\" id=\"4d0a12ac-ba61-4587-9750-ba902a6df4e7\" type=\"checkbox\" ><label for=\"4d0a12ac-ba61-4587-9750-ba902a6df4e7\" class=\"sk-toggleable__label sk-toggleable__label-arrow\">ProcessWeather</label><div class=\"sk-toggleable__content\"><pre>ProcessWeather()</pre></div></div></div><div class=\"sk-item\"><div class=\"sk-estimator sk-toggleable\"><input class=\"sk-toggleable__control sk-hidden--visually\" id=\"320b9be4-72f4-4c2e-97da-b88041aec6d9\" type=\"checkbox\" ><label for=\"320b9be4-72f4-4c2e-97da-b88041aec6d9\" class=\"sk-toggleable__label sk-toggleable__label-arrow\">ProcessWSpd</label><div class=\"sk-toggleable__content\"><pre>ProcessWSpd()</pre></div></div></div></div></div></div></div></div></div></div><div class=\"sk-item\"><div class=\"sk-estimator sk-toggleable\"><input class=\"sk-toggleable__control sk-hidden--visually\" id=\"74b889db-045e-49f7-9864-8e099124437b\" type=\"checkbox\" ><label for=\"74b889db-045e-49f7-9864-8e099124437b\" class=\"sk-toggleable__label sk-toggleable__label-arrow\">DropZeroCol</label><div class=\"sk-toggleable__content\"><pre>DropZeroCol()</pre></div></div></div><div class=\"sk-item\"><div class=\"sk-estimator sk-toggleable\"><input class=\"sk-toggleable__control sk-hidden--visually\" id=\"1b5b2b35-bcd3-4815-a3c5-38fe0b712877\" type=\"checkbox\" ><label for=\"1b5b2b35-bcd3-4815-a3c5-38fe0b712877\" class=\"sk-toggleable__label sk-toggleable__label-arrow\">XGBRegressor</label><div class=\"sk-toggleable__content\"><pre>XGBRegressor(base_score=None, booster=None, colsample_bylevel=None,\n             colsample_bynode=None, colsample_bytree=None,\n             enable_categorical=False, eval_metric=&#x27;rmse&#x27;, gamma=None,\n             gpu_id=None, importance_type=None, interaction_constraints=None,\n             learning_rate=None, max_delta_step=None, max_depth=None,\n             min_child_weight=None, missing=nan, monotone_constraints=None,\n             n_estimators=100, n_jobs=-1, num_parallel_tree=None,\n             predictor=None, random_state=0, reg_alpha=None, reg_lambda=None,\n             scale_pos_weight=None, subsample=None, tree_method=&#x27;gpu_hist&#x27;,\n             use_label_encoder=False, validate_parameters=None, verbosity=None)</pre></div></div></div></div></div></div></div></div><div class=\"sk-parallel-item\"><div class=\"sk-item\"><div class=\"sk-label-container\"><div class=\"sk-label sk-toggleable\"><label>RandomForest</label></div></div><div class=\"sk-serial\"><div class=\"sk-item\"><div class=\"sk-serial\"><div class=\"sk-item sk-dashed-wrapped\"><div class=\"sk-label-container\"><div class=\"sk-label sk-toggleable\"><input class=\"sk-toggleable__control sk-hidden--visually\" id=\"011d4095-fab7-4456-a6bc-da9ee8d433dc\" type=\"checkbox\" ><label for=\"011d4095-fab7-4456-a6bc-da9ee8d433dc\" class=\"sk-toggleable__label sk-toggleable__label-arrow\">columntransformer: ColumnTransformer</label><div class=\"sk-toggleable__content\"><pre>ColumnTransformer(transformers=[(&#x27;cat_linear_processor&#x27;, OneHotEncoder(),\n                                 [&#x27;Vessel Type&#x27;]),\n                                (&#x27;date_linear_processor&#x27;,\n                                 Pipeline(steps=[(&#x27;ProcessDates&#x27;,\n                                                  ProcessDates()),\n                                                 (&#x27;ProcessHolidays&#x27;,\n                                                  ProcessHolidays()),\n                                                 (&#x27;DropDate&#x27;,\n                                                  DropCol(cols=[&#x27;Date&#x27;]))]),\n                                 [&#x27;Date&#x27;]),\n                                (&#x27;vessel_linear_processor&#x27;,\n                                 Pipeline(steps=[(&#x27;CreateDummyCol&#x27;,\n                                                  CreateDummyCol()),\n                                                 (&#x27;ProcessVessel&#x27;,\n                                                  Process...\n                                  &#x27;Capesize Unladen (DWT)&#x27;, &#x27;Panamax (DWT)&#x27;,\n                                  &#x27;Panamax Laden (DWT)&#x27;,\n                                  &#x27;Panamax Unladen (DWT)&#x27;, &#x27;Handymax (DWT)&#x27;,\n                                  &#x27;Handymax Laden (DWT)&#x27;,\n                                  &#x27;Handymax Unladen (DWT)&#x27;, &#x27;Handysize (DWT)&#x27;,\n                                  &#x27;Handysize Laden (DWT)&#x27;,\n                                  &#x27;Handysize Unladen (DWT)&#x27;]),\n                                (&#x27;weather_linear_processor&#x27;,\n                                 Pipeline(steps=[(&#x27;CreateDummyCol&#x27;,\n                                                  CreateDummyCol()),\n                                                 (&#x27;ProcessWeather&#x27;,\n                                                  ProcessWeather()),\n                                                 (&#x27;ProcessWSpd&#x27;,\n                                                  ProcessWSpd())]),\n                                 [&#x27;tempt&#x27;, &#x27;prcp&#x27;, &#x27;wspd&#x27;])])</pre></div></div></div><div class=\"sk-parallel\"><div class=\"sk-parallel-item\"><div class=\"sk-item\"><div class=\"sk-label-container\"><div class=\"sk-label sk-toggleable\"><input class=\"sk-toggleable__control sk-hidden--visually\" id=\"2989e1fa-fba7-4f91-b1d6-2820863f006f\" type=\"checkbox\" ><label for=\"2989e1fa-fba7-4f91-b1d6-2820863f006f\" class=\"sk-toggleable__label sk-toggleable__label-arrow\">cat_linear_processor</label><div class=\"sk-toggleable__content\"><pre>[&#x27;Vessel Type&#x27;]</pre></div></div></div><div class=\"sk-serial\"><div class=\"sk-item\"><div class=\"sk-estimator sk-toggleable\"><input class=\"sk-toggleable__control sk-hidden--visually\" id=\"88d365cb-57e5-474f-a7d3-d28d9ac689e2\" type=\"checkbox\" ><label for=\"88d365cb-57e5-474f-a7d3-d28d9ac689e2\" class=\"sk-toggleable__label sk-toggleable__label-arrow\">OneHotEncoder</label><div class=\"sk-toggleable__content\"><pre>OneHotEncoder()</pre></div></div></div></div></div></div><div class=\"sk-parallel-item\"><div class=\"sk-item\"><div class=\"sk-label-container\"><div class=\"sk-label sk-toggleable\"><input class=\"sk-toggleable__control sk-hidden--visually\" id=\"a2aafd7e-670e-4569-94c6-1013e6b760c5\" type=\"checkbox\" ><label for=\"a2aafd7e-670e-4569-94c6-1013e6b760c5\" class=\"sk-toggleable__label sk-toggleable__label-arrow\">date_linear_processor</label><div class=\"sk-toggleable__content\"><pre>[&#x27;Date&#x27;]</pre></div></div></div><div class=\"sk-serial\"><div class=\"sk-item\"><div class=\"sk-serial\"><div class=\"sk-item\"><div class=\"sk-estimator sk-toggleable\"><input class=\"sk-toggleable__control sk-hidden--visually\" id=\"2a4b3fec-fc09-41af-ac3a-213a35c1a256\" type=\"checkbox\" ><label for=\"2a4b3fec-fc09-41af-ac3a-213a35c1a256\" class=\"sk-toggleable__label sk-toggleable__label-arrow\">ProcessDates</label><div class=\"sk-toggleable__content\"><pre>ProcessDates()</pre></div></div></div><div class=\"sk-item\"><div class=\"sk-estimator sk-toggleable\"><input class=\"sk-toggleable__control sk-hidden--visually\" id=\"fd802025-648e-4182-b566-5f5ab6475d16\" type=\"checkbox\" ><label for=\"fd802025-648e-4182-b566-5f5ab6475d16\" class=\"sk-toggleable__label sk-toggleable__label-arrow\">ProcessHolidays</label><div class=\"sk-toggleable__content\"><pre>ProcessHolidays()</pre></div></div></div><div class=\"sk-item\"><div class=\"sk-estimator sk-toggleable\"><input class=\"sk-toggleable__control sk-hidden--visually\" id=\"060d7e4d-acd1-433f-810f-7d8a704da30f\" type=\"checkbox\" ><label for=\"060d7e4d-acd1-433f-810f-7d8a704da30f\" class=\"sk-toggleable__label sk-toggleable__label-arrow\">DropCol</label><div class=\"sk-toggleable__content\"><pre>DropCol(cols=[&#x27;Date&#x27;])</pre></div></div></div></div></div></div></div></div><div class=\"sk-parallel-item\"><div class=\"sk-item\"><div class=\"sk-label-container\"><div class=\"sk-label sk-toggleable\"><input class=\"sk-toggleable__control sk-hidden--visually\" id=\"1ccdba13-7e11-4afd-9c61-5f470da017a2\" type=\"checkbox\" ><label for=\"1ccdba13-7e11-4afd-9c61-5f470da017a2\" class=\"sk-toggleable__label sk-toggleable__label-arrow\">vessel_linear_processor</label><div class=\"sk-toggleable__content\"><pre>[&#x27;Total Vessels (Number)&#x27;, &#x27;Capesize&#x27;, &#x27;Capesize Laden&#x27;, &#x27;Capesize Unladen&#x27;, &#x27;Panamax&#x27;, &#x27;Panamax Laden&#x27;, &#x27;Panamax Unladen&#x27;, &#x27;Handymax&#x27;, &#x27;Handymax Laden&#x27;, &#x27;Handymax Unladen&#x27;, &#x27;Handysize&#x27;, &#x27;Handysize Laden&#x27;, &#x27;Handysize Unladen&#x27;, &#x27;Total Vessels (DWT)&#x27;, &#x27;Capesize (DWT)&#x27;, &#x27;Capesize Laden (DWT)&#x27;, &#x27;Capesize Unladen (DWT)&#x27;, &#x27;Panamax (DWT)&#x27;, &#x27;Panamax Laden (DWT)&#x27;, &#x27;Panamax Unladen (DWT)&#x27;, &#x27;Handymax (DWT)&#x27;, &#x27;Handymax Laden (DWT)&#x27;, &#x27;Handymax Unladen (DWT)&#x27;, &#x27;Handysize (DWT)&#x27;, &#x27;Handysize Laden (DWT)&#x27;, &#x27;Handysize Unladen (DWT)&#x27;]</pre></div></div></div><div class=\"sk-serial\"><div class=\"sk-item\"><div class=\"sk-serial\"><div class=\"sk-item\"><div class=\"sk-estimator sk-toggleable\"><input class=\"sk-toggleable__control sk-hidden--visually\" id=\"f9fbd651-12db-44ef-8b7f-5179c01f9e66\" type=\"checkbox\" ><label for=\"f9fbd651-12db-44ef-8b7f-5179c01f9e66\" class=\"sk-toggleable__label sk-toggleable__label-arrow\">CreateDummyCol</label><div class=\"sk-toggleable__content\"><pre>CreateDummyCol()</pre></div></div></div><div class=\"sk-item\"><div class=\"sk-estimator sk-toggleable\"><input class=\"sk-toggleable__control sk-hidden--visually\" id=\"c155b968-7609-4b52-81fa-5dd3677b9b68\" type=\"checkbox\" ><label for=\"c155b968-7609-4b52-81fa-5dd3677b9b68\" class=\"sk-toggleable__label sk-toggleable__label-arrow\">ProcessVessel</label><div class=\"sk-toggleable__content\"><pre>ProcessVessel(dwt_cols=[&#x27;Total Vessels (DWT)&#x27;, &#x27;Capesize (DWT)&#x27;,\n                        &#x27;Capesize Laden (DWT)&#x27;, &#x27;Capesize Unladen (DWT)&#x27;,\n                        &#x27;Panamax (DWT)&#x27;, &#x27;Panamax Laden (DWT)&#x27;,\n                        &#x27;Panamax Unladen (DWT)&#x27;, &#x27;Handymax (DWT)&#x27;,\n                        &#x27;Handymax Laden (DWT)&#x27;, &#x27;Handymax Unladen (DWT)&#x27;,\n                        &#x27;Handysize (DWT)&#x27;, &#x27;Handysize Laden (DWT)&#x27;,\n                        &#x27;Handysize Unladen (DWT)&#x27;],\n              vessel_cols=[&#x27;Total Vessels (Number)&#x27;, &#x27;Capesize&#x27;,\n                           &#x27;Capesize Laden&#x27;, &#x27;Capesize Unladen&#x27;, &#x27;Panamax&#x27;,\n                           &#x27;Panamax Laden&#x27;, &#x27;Panamax Unladen&#x27;, &#x27;Handymax&#x27;,\n                           &#x27;Handymax Laden&#x27;, &#x27;Handymax Unladen&#x27;, &#x27;Handysize&#x27;,\n                           &#x27;Handysize Laden&#x27;, &#x27;Handysize Unladen&#x27;])</pre></div></div></div></div></div></div></div></div><div class=\"sk-parallel-item\"><div class=\"sk-item\"><div class=\"sk-label-container\"><div class=\"sk-label sk-toggleable\"><input class=\"sk-toggleable__control sk-hidden--visually\" id=\"6a54c943-8c58-46b5-84f5-d700fb5ed02b\" type=\"checkbox\" ><label for=\"6a54c943-8c58-46b5-84f5-d700fb5ed02b\" class=\"sk-toggleable__label sk-toggleable__label-arrow\">weather_linear_processor</label><div class=\"sk-toggleable__content\"><pre>[&#x27;tempt&#x27;, &#x27;prcp&#x27;, &#x27;wspd&#x27;]</pre></div></div></div><div class=\"sk-serial\"><div class=\"sk-item\"><div class=\"sk-serial\"><div class=\"sk-item\"><div class=\"sk-estimator sk-toggleable\"><input class=\"sk-toggleable__control sk-hidden--visually\" id=\"8d2b1039-d10b-4482-8eac-c7fc026c9d03\" type=\"checkbox\" ><label for=\"8d2b1039-d10b-4482-8eac-c7fc026c9d03\" class=\"sk-toggleable__label sk-toggleable__label-arrow\">CreateDummyCol</label><div class=\"sk-toggleable__content\"><pre>CreateDummyCol()</pre></div></div></div><div class=\"sk-item\"><div class=\"sk-estimator sk-toggleable\"><input class=\"sk-toggleable__control sk-hidden--visually\" id=\"e1b8f070-c1d7-4aac-bf13-649b3ecefde5\" type=\"checkbox\" ><label for=\"e1b8f070-c1d7-4aac-bf13-649b3ecefde5\" class=\"sk-toggleable__label sk-toggleable__label-arrow\">ProcessWeather</label><div class=\"sk-toggleable__content\"><pre>ProcessWeather()</pre></div></div></div><div class=\"sk-item\"><div class=\"sk-estimator sk-toggleable\"><input class=\"sk-toggleable__control sk-hidden--visually\" id=\"a662b628-34d5-4a6b-8b1d-38d22b0fc727\" type=\"checkbox\" ><label for=\"a662b628-34d5-4a6b-8b1d-38d22b0fc727\" class=\"sk-toggleable__label sk-toggleable__label-arrow\">ProcessWSpd</label><div class=\"sk-toggleable__content\"><pre>ProcessWSpd()</pre></div></div></div></div></div></div></div></div></div></div><div class=\"sk-item\"><div class=\"sk-estimator sk-toggleable\"><input class=\"sk-toggleable__control sk-hidden--visually\" id=\"f01765b9-cb15-463f-8ca4-f4c70c259b08\" type=\"checkbox\" ><label for=\"f01765b9-cb15-463f-8ca4-f4c70c259b08\" class=\"sk-toggleable__label sk-toggleable__label-arrow\">DropZeroCol</label><div class=\"sk-toggleable__content\"><pre>DropZeroCol()</pre></div></div></div><div class=\"sk-item\"><div class=\"sk-estimator sk-toggleable\"><input class=\"sk-toggleable__control sk-hidden--visually\" id=\"a4fed272-1cb6-4bfa-a8d0-b8f2a19578ea\" type=\"checkbox\" ><label for=\"a4fed272-1cb6-4bfa-a8d0-b8f2a19578ea\" class=\"sk-toggleable__label sk-toggleable__label-arrow\">RandomForestRegressor</label><div class=\"sk-toggleable__content\"><pre>RandomForestRegressor(n_jobs=-1, random_state=0)</pre></div></div></div></div></div></div></div></div><div class=\"sk-parallel-item\"><div class=\"sk-item\"><div class=\"sk-label-container\"><div class=\"sk-label sk-toggleable\"><label>LGBM</label></div></div><div class=\"sk-serial\"><div class=\"sk-item\"><div class=\"sk-serial\"><div class=\"sk-item sk-dashed-wrapped\"><div class=\"sk-label-container\"><div class=\"sk-label sk-toggleable\"><input class=\"sk-toggleable__control sk-hidden--visually\" id=\"7dea5ce9-78d5-42f3-bfd1-88adc4c588bb\" type=\"checkbox\" ><label for=\"7dea5ce9-78d5-42f3-bfd1-88adc4c588bb\" class=\"sk-toggleable__label sk-toggleable__label-arrow\">columntransformer: ColumnTransformer</label><div class=\"sk-toggleable__content\"><pre>ColumnTransformer(transformers=[(&#x27;cat_linear_processor&#x27;, OneHotEncoder(),\n                                 [&#x27;Vessel Type&#x27;]),\n                                (&#x27;date_linear_processor&#x27;,\n                                 Pipeline(steps=[(&#x27;ProcessDates&#x27;,\n                                                  ProcessDates()),\n                                                 (&#x27;ProcessHolidays&#x27;,\n                                                  ProcessHolidays()),\n                                                 (&#x27;DropDate&#x27;,\n                                                  DropCol(cols=[&#x27;Date&#x27;]))]),\n                                 [&#x27;Date&#x27;]),\n                                (&#x27;vessel_linear_processor&#x27;,\n                                 Pipeline(steps=[(&#x27;CreateDummyCol&#x27;,\n                                                  CreateDummyCol()),\n                                                 (&#x27;ProcessVessel&#x27;,\n                                                  Process...\n                                  &#x27;Capesize Unladen (DWT)&#x27;, &#x27;Panamax (DWT)&#x27;,\n                                  &#x27;Panamax Laden (DWT)&#x27;,\n                                  &#x27;Panamax Unladen (DWT)&#x27;, &#x27;Handymax (DWT)&#x27;,\n                                  &#x27;Handymax Laden (DWT)&#x27;,\n                                  &#x27;Handymax Unladen (DWT)&#x27;, &#x27;Handysize (DWT)&#x27;,\n                                  &#x27;Handysize Laden (DWT)&#x27;,\n                                  &#x27;Handysize Unladen (DWT)&#x27;]),\n                                (&#x27;weather_linear_processor&#x27;,\n                                 Pipeline(steps=[(&#x27;CreateDummyCol&#x27;,\n                                                  CreateDummyCol()),\n                                                 (&#x27;ProcessWeather&#x27;,\n                                                  ProcessWeather()),\n                                                 (&#x27;ProcessWSpd&#x27;,\n                                                  ProcessWSpd())]),\n                                 [&#x27;tempt&#x27;, &#x27;prcp&#x27;, &#x27;wspd&#x27;])])</pre></div></div></div><div class=\"sk-parallel\"><div class=\"sk-parallel-item\"><div class=\"sk-item\"><div class=\"sk-label-container\"><div class=\"sk-label sk-toggleable\"><input class=\"sk-toggleable__control sk-hidden--visually\" id=\"e64d41b1-d89a-4787-9021-a9bd969274ca\" type=\"checkbox\" ><label for=\"e64d41b1-d89a-4787-9021-a9bd969274ca\" class=\"sk-toggleable__label sk-toggleable__label-arrow\">cat_linear_processor</label><div class=\"sk-toggleable__content\"><pre>[&#x27;Vessel Type&#x27;]</pre></div></div></div><div class=\"sk-serial\"><div class=\"sk-item\"><div class=\"sk-estimator sk-toggleable\"><input class=\"sk-toggleable__control sk-hidden--visually\" id=\"7563c74f-83c7-413e-8369-093dd80e7a3e\" type=\"checkbox\" ><label for=\"7563c74f-83c7-413e-8369-093dd80e7a3e\" class=\"sk-toggleable__label sk-toggleable__label-arrow\">OneHotEncoder</label><div class=\"sk-toggleable__content\"><pre>OneHotEncoder()</pre></div></div></div></div></div></div><div class=\"sk-parallel-item\"><div class=\"sk-item\"><div class=\"sk-label-container\"><div class=\"sk-label sk-toggleable\"><input class=\"sk-toggleable__control sk-hidden--visually\" id=\"33b73e26-e924-4acf-9a2e-3a6e206efbfe\" type=\"checkbox\" ><label for=\"33b73e26-e924-4acf-9a2e-3a6e206efbfe\" class=\"sk-toggleable__label sk-toggleable__label-arrow\">date_linear_processor</label><div class=\"sk-toggleable__content\"><pre>[&#x27;Date&#x27;]</pre></div></div></div><div class=\"sk-serial\"><div class=\"sk-item\"><div class=\"sk-serial\"><div class=\"sk-item\"><div class=\"sk-estimator sk-toggleable\"><input class=\"sk-toggleable__control sk-hidden--visually\" id=\"f09b3174-e672-486f-83c8-0f0444438820\" type=\"checkbox\" ><label for=\"f09b3174-e672-486f-83c8-0f0444438820\" class=\"sk-toggleable__label sk-toggleable__label-arrow\">ProcessDates</label><div class=\"sk-toggleable__content\"><pre>ProcessDates()</pre></div></div></div><div class=\"sk-item\"><div class=\"sk-estimator sk-toggleable\"><input class=\"sk-toggleable__control sk-hidden--visually\" id=\"1b370a40-f90e-436a-85ed-2cb55cedcfb4\" type=\"checkbox\" ><label for=\"1b370a40-f90e-436a-85ed-2cb55cedcfb4\" class=\"sk-toggleable__label sk-toggleable__label-arrow\">ProcessHolidays</label><div class=\"sk-toggleable__content\"><pre>ProcessHolidays()</pre></div></div></div><div class=\"sk-item\"><div class=\"sk-estimator sk-toggleable\"><input class=\"sk-toggleable__control sk-hidden--visually\" id=\"46c16615-2cc9-4645-b3b5-e15fee0891fd\" type=\"checkbox\" ><label for=\"46c16615-2cc9-4645-b3b5-e15fee0891fd\" class=\"sk-toggleable__label sk-toggleable__label-arrow\">DropCol</label><div class=\"sk-toggleable__content\"><pre>DropCol(cols=[&#x27;Date&#x27;])</pre></div></div></div></div></div></div></div></div><div class=\"sk-parallel-item\"><div class=\"sk-item\"><div class=\"sk-label-container\"><div class=\"sk-label sk-toggleable\"><input class=\"sk-toggleable__control sk-hidden--visually\" id=\"570eb897-7ced-4f41-aff5-9b0da9da21bc\" type=\"checkbox\" ><label for=\"570eb897-7ced-4f41-aff5-9b0da9da21bc\" class=\"sk-toggleable__label sk-toggleable__label-arrow\">vessel_linear_processor</label><div class=\"sk-toggleable__content\"><pre>[&#x27;Total Vessels (Number)&#x27;, &#x27;Capesize&#x27;, &#x27;Capesize Laden&#x27;, &#x27;Capesize Unladen&#x27;, &#x27;Panamax&#x27;, &#x27;Panamax Laden&#x27;, &#x27;Panamax Unladen&#x27;, &#x27;Handymax&#x27;, &#x27;Handymax Laden&#x27;, &#x27;Handymax Unladen&#x27;, &#x27;Handysize&#x27;, &#x27;Handysize Laden&#x27;, &#x27;Handysize Unladen&#x27;, &#x27;Total Vessels (DWT)&#x27;, &#x27;Capesize (DWT)&#x27;, &#x27;Capesize Laden (DWT)&#x27;, &#x27;Capesize Unladen (DWT)&#x27;, &#x27;Panamax (DWT)&#x27;, &#x27;Panamax Laden (DWT)&#x27;, &#x27;Panamax Unladen (DWT)&#x27;, &#x27;Handymax (DWT)&#x27;, &#x27;Handymax Laden (DWT)&#x27;, &#x27;Handymax Unladen (DWT)&#x27;, &#x27;Handysize (DWT)&#x27;, &#x27;Handysize Laden (DWT)&#x27;, &#x27;Handysize Unladen (DWT)&#x27;]</pre></div></div></div><div class=\"sk-serial\"><div class=\"sk-item\"><div class=\"sk-serial\"><div class=\"sk-item\"><div class=\"sk-estimator sk-toggleable\"><input class=\"sk-toggleable__control sk-hidden--visually\" id=\"d61041e5-6ed9-4b92-ad2d-6f9226758b8d\" type=\"checkbox\" ><label for=\"d61041e5-6ed9-4b92-ad2d-6f9226758b8d\" class=\"sk-toggleable__label sk-toggleable__label-arrow\">CreateDummyCol</label><div class=\"sk-toggleable__content\"><pre>CreateDummyCol()</pre></div></div></div><div class=\"sk-item\"><div class=\"sk-estimator sk-toggleable\"><input class=\"sk-toggleable__control sk-hidden--visually\" id=\"7c0888cf-99a6-420b-ad2e-9f36d50e4430\" type=\"checkbox\" ><label for=\"7c0888cf-99a6-420b-ad2e-9f36d50e4430\" class=\"sk-toggleable__label sk-toggleable__label-arrow\">ProcessVessel</label><div class=\"sk-toggleable__content\"><pre>ProcessVessel(dwt_cols=[&#x27;Total Vessels (DWT)&#x27;, &#x27;Capesize (DWT)&#x27;,\n                        &#x27;Capesize Laden (DWT)&#x27;, &#x27;Capesize Unladen (DWT)&#x27;,\n                        &#x27;Panamax (DWT)&#x27;, &#x27;Panamax Laden (DWT)&#x27;,\n                        &#x27;Panamax Unladen (DWT)&#x27;, &#x27;Handymax (DWT)&#x27;,\n                        &#x27;Handymax Laden (DWT)&#x27;, &#x27;Handymax Unladen (DWT)&#x27;,\n                        &#x27;Handysize (DWT)&#x27;, &#x27;Handysize Laden (DWT)&#x27;,\n                        &#x27;Handysize Unladen (DWT)&#x27;],\n              vessel_cols=[&#x27;Total Vessels (Number)&#x27;, &#x27;Capesize&#x27;,\n                           &#x27;Capesize Laden&#x27;, &#x27;Capesize Unladen&#x27;, &#x27;Panamax&#x27;,\n                           &#x27;Panamax Laden&#x27;, &#x27;Panamax Unladen&#x27;, &#x27;Handymax&#x27;,\n                           &#x27;Handymax Laden&#x27;, &#x27;Handymax Unladen&#x27;, &#x27;Handysize&#x27;,\n                           &#x27;Handysize Laden&#x27;, &#x27;Handysize Unladen&#x27;])</pre></div></div></div></div></div></div></div></div><div class=\"sk-parallel-item\"><div class=\"sk-item\"><div class=\"sk-label-container\"><div class=\"sk-label sk-toggleable\"><input class=\"sk-toggleable__control sk-hidden--visually\" id=\"ed886c45-f207-48ae-af98-3cb42f97bf65\" type=\"checkbox\" ><label for=\"ed886c45-f207-48ae-af98-3cb42f97bf65\" class=\"sk-toggleable__label sk-toggleable__label-arrow\">weather_linear_processor</label><div class=\"sk-toggleable__content\"><pre>[&#x27;tempt&#x27;, &#x27;prcp&#x27;, &#x27;wspd&#x27;]</pre></div></div></div><div class=\"sk-serial\"><div class=\"sk-item\"><div class=\"sk-serial\"><div class=\"sk-item\"><div class=\"sk-estimator sk-toggleable\"><input class=\"sk-toggleable__control sk-hidden--visually\" id=\"003b05e6-ae9b-42e5-bf6c-89a52acbbb9b\" type=\"checkbox\" ><label for=\"003b05e6-ae9b-42e5-bf6c-89a52acbbb9b\" class=\"sk-toggleable__label sk-toggleable__label-arrow\">CreateDummyCol</label><div class=\"sk-toggleable__content\"><pre>CreateDummyCol()</pre></div></div></div><div class=\"sk-item\"><div class=\"sk-estimator sk-toggleable\"><input class=\"sk-toggleable__control sk-hidden--visually\" id=\"c58a0e3d-9323-4b62-a268-d7862424c54e\" type=\"checkbox\" ><label for=\"c58a0e3d-9323-4b62-a268-d7862424c54e\" class=\"sk-toggleable__label sk-toggleable__label-arrow\">ProcessWeather</label><div class=\"sk-toggleable__content\"><pre>ProcessWeather()</pre></div></div></div><div class=\"sk-item\"><div class=\"sk-estimator sk-toggleable\"><input class=\"sk-toggleable__control sk-hidden--visually\" id=\"92274656-dda4-4b16-a94e-21856694c760\" type=\"checkbox\" ><label for=\"92274656-dda4-4b16-a94e-21856694c760\" class=\"sk-toggleable__label sk-toggleable__label-arrow\">ProcessWSpd</label><div class=\"sk-toggleable__content\"><pre>ProcessWSpd()</pre></div></div></div></div></div></div></div></div></div></div><div class=\"sk-item\"><div class=\"sk-estimator sk-toggleable\"><input class=\"sk-toggleable__control sk-hidden--visually\" id=\"e0f9832a-8d3c-4975-a712-584826590bf6\" type=\"checkbox\" ><label for=\"e0f9832a-8d3c-4975-a712-584826590bf6\" class=\"sk-toggleable__label sk-toggleable__label-arrow\">DropZeroCol</label><div class=\"sk-toggleable__content\"><pre>DropZeroCol()</pre></div></div></div><div class=\"sk-item\"><div class=\"sk-estimator sk-toggleable\"><input class=\"sk-toggleable__control sk-hidden--visually\" id=\"08a1ae39-13e8-4686-8df2-82ec26f840ea\" type=\"checkbox\" ><label for=\"08a1ae39-13e8-4686-8df2-82ec26f840ea\" class=\"sk-toggleable__label sk-toggleable__label-arrow\">LGBMRegressor</label><div class=\"sk-toggleable__content\"><pre>LGBMRegressor(device=&#x27;gpu&#x27;, objective=&#x27;regression&#x27;, random_state=0)</pre></div></div></div></div></div></div></div></div></div></div><div class=\"sk-item\"><div class=\"sk-parallel\"><div class=\"sk-parallel-item\"><div class=\"sk-item\"><div class=\"sk-label-container\"><div class=\"sk-label sk-toggleable\"><label>final_estimator</label></div></div><div class=\"sk-serial\"><div class=\"sk-item\"><div class=\"sk-estimator sk-toggleable\"><input class=\"sk-toggleable__control sk-hidden--visually\" id=\"6394e662-239e-4285-a569-1274403120a8\" type=\"checkbox\" ><label for=\"6394e662-239e-4285-a569-1274403120a8\" class=\"sk-toggleable__label sk-toggleable__label-arrow\">LGBMRegressor</label><div class=\"sk-toggleable__content\"><pre>LGBMRegressor(device=&#x27;gpu&#x27;, objective=&#x27;regression&#x27;, random_state=0)</pre></div></div></div></div></div></div></div></div></div></div></div></div>"
     },
     "execution_count": 8,
     "metadata": {},
     "output_type": "execute_result"
    }
   ],
   "source": [
    "finalPipe"
   ],
   "metadata": {
    "collapsed": false,
    "pycharm": {
     "name": "#%%\n"
    }
   }
  },
  {
   "cell_type": "code",
   "execution_count": 25,
   "outputs": [
    {
     "name": "stdout",
     "output_type": "stream",
     "text": [
      "\n",
      "Tuning Model  XGBoost with params:\n",
      " {'columntransformer__date_linear_processor__ProcessDates': [ProcessDates()], 'columntransformer__date_linear_processor__ProcessHolidays': [None], 'columntransformer__weather_linear_processor__ProcessWeather__action': ['actual'], 'columntransformer__weather_linear_processor__ProcessWSpd__action': ['cat'], 'columntransformer__vessel_linear_processor__ProcessVessel__usage': ['vessel'], 'regressor__gamma': [0, 0.1, 0.5, 1, 5], 'regressor__min_child_weight': [2, 3, 4, 5], 'regressor__learning_rate': array([0.05  , 0.1625, 0.275 , 0.3875, 0.5   ]), 'regressor__max_depth': [2, 4, 6]} \n",
      "\n",
      "Fitting 5 folds for each of 300 candidates, totalling 1500 fits\n",
      "Tuned Model  XGBoost  (RMSE =  2.7663 )\n",
      "\n",
      " Params to use\n",
      "\n",
      " {'columntransformer__date_linear_processor__ProcessDates': ProcessDates(), 'columntransformer__date_linear_processor__ProcessHolidays': None, 'columntransformer__vessel_linear_processor__ProcessVessel__usage': 'vessel', 'columntransformer__weather_linear_processor__ProcessWSpd__action': 'cat', 'columntransformer__weather_linear_processor__ProcessWeather__action': 'actual', 'regressor__gamma': 0, 'regressor__learning_rate': 0.05, 'regressor__max_depth': 2, 'regressor__min_child_weight': 3}\n"
     ]
    }
   ],
   "source": [
    "#tune hyperparameter\n",
    "limitTuner = 'XGBoost' # Options ElasticNet, XGBoost, RandomForest, LGBM\n",
    "preprocessingName = 'columntransformer__'\n",
    "estimatorsParam = {}\n",
    "finalParam = {}\n",
    "for estimator in finalestimators:\n",
    "    if limitTuner== '' or estimator[0] ==limitTuner:\n",
    "        clf = estimator[1]\n",
    "        modelParam = {}\n",
    "        for param, grid in param_grid.items():\n",
    "            if param.startswith(estimator[0]):\n",
    "                modelParam[param[len(estimator[0])+2:]] = grid\n",
    "            elif param.startswith(preprocessingName):\n",
    "                modelParam[param] = grid\n",
    "        # print(estimator[1].get_params().keys())\n",
    "        print('\\nTuning Model ',estimator[0], \"with params:\\n\",  modelParam, '\\n')\n",
    "        gs = GridSearchCV(estimator=estimator[1],param_grid=modelParam,scoring = 'neg_root_mean_squared_error',n_jobs = -1,cv = 5,verbose = 10)\n",
    "        gs.fit(X_train,y_train)\n",
    "        print('Tuned Model ',estimator[0], \" (RMSE = \",\"{:.4f}\".format(abs(gs.best_score_)),\")\")\n",
    "        # print(\"Best params:\\n\",  gs.best_params_, '\\n')\n",
    "        modelParam={}\n",
    "        for param, grid in gs.best_params_.items():\n",
    "            # modelParam[estimator[0]+'__'+param] = grid\n",
    "            modelParam[param] = grid\n",
    "        estimatorsParam ={**estimatorsParam, **modelParam}\n",
    "\n",
    "print('\\n Params to use\\n\\n',estimatorsParam)"
   ],
   "metadata": {
    "collapsed": false,
    "pycharm": {
     "name": "#%%\n"
    }
   }
  },
  {
   "cell_type": "markdown",
   "source": [
    "Stop Here"
   ],
   "metadata": {
    "collapsed": false
   }
  },
  {
   "cell_type": "code",
   "execution_count": 35,
   "outputs": [
    {
     "name": "stdout",
     "output_type": "stream",
     "text": [
      "[6.215525882191491, 0.48528339298000445, 6.105690257573997, 8.990257170899081, -0.12364105609590137]\n"
     ]
    }
   ],
   "source": [
    "def ScoreArray(trainPredicted,testPredicted):\n",
    "    trainrmse = math.sqrt(mean_squared_error(y_train, trainPredicted))\n",
    "    trainr2 = r2_score(y_train, trainPredicted)\n",
    "    mae = mean_absolute_error(y_test, testPredicted)\n",
    "    rmse = math.sqrt(mean_squared_error(y_test, testPredicted))\n",
    "    r2 = r2_score(y_test, testPredicted)\n",
    "    return [trainrmse,trainr2,mae,rmse,r2]\n",
    "\n",
    "clf= pipeline.Pipeline([('columntransformer',data_preprocessor),('DropZeroCol',DropZeroCol()),\n",
    "                        ('regressor',XGBRegressor(objective='reg:squarederror',random_state=0,n_jobs=-1,use_label_encoder=False,  tree_method = 'gpu_hist'))])\n",
    "# clf.set_params(**estimatorsParam)\n",
    "# clf.set_params(**{'columntransformer__date_linear_processor__ProcessDates': ProcessDates(), 'columntransformer__date_linear_processor__ProcessHolidays': None, 'columntransformer__vessel_linear_processor__ProcessVessel__usage': 'vessel', 'columntransformer__weather_linear_processor__ProcessWSpd__action': 'cat', 'columntransformer__weather_linear_processor__ProcessWeather__action': 'actual', 'regressor__gamma': 0, 'regressor__learning_rate': 0.05, 'regressor__max_depth': 4, 'regressor__min_child_weight': 2})\n",
    "\n",
    "\n",
    "clf.fit(X_train,y_train)\n",
    "clftrainPredicted = clf.predict(X_train)\n",
    "clftestPredicted = clf.predict(X_test)\n",
    "print(ScoreArray(clftrainPredicted,clftestPredicted))"
   ],
   "metadata": {
    "collapsed": false,
    "pycharm": {
     "name": "#%%\n"
    }
   }
  },
  {
   "cell_type": "code",
   "execution_count": 33,
   "outputs": [
    {
     "data": {
      "text/plain": "      Waiting Time (Days)\n8055                  0.5\n640                   3.6\n8188                  8.3\n5849                  0.5\n5297                  5.7\n...                   ...\n7691                  4.6\n5753                  2.9\n3031                  8.4\n6631                  4.3\n3330                  6.4\n\n[1450 rows x 1 columns]",
      "text/html": "<div>\n<style scoped>\n    .dataframe tbody tr th:only-of-type {\n        vertical-align: middle;\n    }\n\n    .dataframe tbody tr th {\n        vertical-align: top;\n    }\n\n    .dataframe thead th {\n        text-align: right;\n    }\n</style>\n<table border=\"1\" class=\"dataframe\">\n  <thead>\n    <tr style=\"text-align: right;\">\n      <th></th>\n      <th>Waiting Time (Days)</th>\n    </tr>\n  </thead>\n  <tbody>\n    <tr>\n      <th>8055</th>\n      <td>0.5</td>\n    </tr>\n    <tr>\n      <th>640</th>\n      <td>3.6</td>\n    </tr>\n    <tr>\n      <th>8188</th>\n      <td>8.3</td>\n    </tr>\n    <tr>\n      <th>5849</th>\n      <td>0.5</td>\n    </tr>\n    <tr>\n      <th>5297</th>\n      <td>5.7</td>\n    </tr>\n    <tr>\n      <th>...</th>\n      <td>...</td>\n    </tr>\n    <tr>\n      <th>7691</th>\n      <td>4.6</td>\n    </tr>\n    <tr>\n      <th>5753</th>\n      <td>2.9</td>\n    </tr>\n    <tr>\n      <th>3031</th>\n      <td>8.4</td>\n    </tr>\n    <tr>\n      <th>6631</th>\n      <td>4.3</td>\n    </tr>\n    <tr>\n      <th>3330</th>\n      <td>6.4</td>\n    </tr>\n  </tbody>\n</table>\n<p>1450 rows × 1 columns</p>\n</div>"
     },
     "execution_count": 33,
     "metadata": {},
     "output_type": "execute_result"
    }
   ],
   "source": [
    "pd.DataFrame(y_test)"
   ],
   "metadata": {
    "collapsed": false,
    "pycharm": {
     "name": "#%%\n"
    }
   }
  },
  {
   "cell_type": "code",
   "execution_count": null,
   "outputs": [],
   "source": [
    "# replace individual best model here post tuning.\n",
    "elasticnetParams = {'ElasticNet__columntransformer__date_linear_processor__ProcessDates': ProcessDates(), 'ElasticNet__columntransformer__date_linear_processor__ProcessHolidays': None, 'ElasticNet__columntransformer__vessel_linear_processor__ProcessVessel__usage': 'dwt', 'ElasticNet__columntransformer__weather_linear_processor__ProcessWSpd__action': 'cat', 'ElasticNet__columntransformer__weather_linear_processor__ProcessWeather__action': 'actual', 'ElasticNet__regressor__alpha': 0.0, 'ElasticNet__regressor__l1_ratio': 0.0}\n",
    "xgboostParams = {}\n",
    "randomforestParams = {}\n",
    "lgbmParams = {'LGBM__columntransformer__date_linear_processor__ProcessDates': ProcessDates(), 'LGBM__columntransformer__date_linear_processor__ProcessHolidays': None, 'LGBM__columntransformer__vessel_linear_processor__ProcessVessel__usage': 'vessel', 'LGBM__columntransformer__weather_linear_processor__ProcessWSpd__action': 'cat', 'LGBM__columntransformer__weather_linear_processor__ProcessWeather__action': 'actual', 'LGBM__regressor____n_estimators': 200, 'LGBM__regressor__learning_rate': 0.05, 'LGBM__regressor__max_depth': 5}\n"
   ],
   "metadata": {
    "collapsed": false,
    "pycharm": {
     "name": "#%%\n"
    }
   }
  },
  {
   "cell_type": "code",
   "execution_count": 54,
   "outputs": [
    {
     "data": {
      "text/plain": "{'ElasticNet__columntransformer__date_linear_processor__ProcessDates': None,\n 'ElasticNet__columntransformer__date_linear_processor__ProcessHolidays': None,\n 'ElasticNet__columntransformer__vessel_linear_processor__ProcessVessel__usage': 'dwt',\n 'ElasticNet__columntransformer__weather_linear_processor__ProcessWSpd__action': 'cat',\n 'ElasticNet__columntransformer__weather_linear_processor__ProcessWeather__action': 'actual',\n 'ElasticNet__regressor__alpha': 0.0,\n 'ElasticNet__regressor__l1_ratio': 0.0,\n 'XGBoost__columntransformer__date_linear_processor__ProcessDates': ProcessDates(),\n 'XGBoost__regressor__max_depth': 20,\n 'RandomForest__columntransformer__date_linear_processor__ProcessDates': ProcessDates(),\n 'RandomForest__regressor__n_estimators': 300,\n 'LGBM__columntransformer__date_linear_processor__ProcessDates': None,\n 'LGBM__regressor____n_estimators': 200,\n 'final_estimator__boosting_type': 'goss'}"
     },
     "execution_count": 54,
     "metadata": {},
     "output_type": "execute_result"
    }
   ],
   "source": [
    "# prepare data for final tuning\n",
    "estimatorsParam = {**elasticnetParams,**xgboostParams,**randomforestParams,**lgbmParams,}\n",
    "finalPipe.set_params(**estimatorsParam)\n",
    "finalTrain  = finalPipe.fit_transform(X_train,y_train)\n",
    "finalGrid = {}\n",
    "\n",
    "# generate final model params\n",
    "for param, grid in param_grid.items():\n",
    "    if param.startswith(\"final_estimator\"):\n",
    "        finalGrid[param[len(\"final_estimator__\"):]] = grid\n",
    "\n",
    "#tune final model\n",
    "gs = GridSearchCV(estimator=final_estimator,param_grid=finalGrid,scoring = 'neg_root_mean_squared_error',n_jobs = -1,cv = 5,verbose = -1)\n",
    "gs.fit(finalTrain,y_train)\n",
    "modelParam = {}\n",
    "for param, grid in gs.best_params_.items():\n",
    "    modelParam[\"final_estimator__\"+param] = grid\n",
    "finalParam = {**estimatorsParam, **modelParam}\n",
    "finalParam"
   ],
   "metadata": {
    "collapsed": false,
    "pycharm": {
     "name": "#%%\n"
    }
   }
  },
  {
   "cell_type": "code",
   "execution_count": 11,
   "outputs": [
    {
     "data": {
      "text/plain": "[('ElasticNet',\n  [8.495253624500068,\n   5.865603551039789,\n   8.390027980570206,\n   0.021388787520844388]),\n ('XGBoost',\n  [6.009948030215308,\n   6.193456760439741,\n   9.12390892947449,\n   -0.15729813278411808]),\n ('RandomForest',\n  [5.583914025042455,\n   6.267416992050609,\n   9.180490160968032,\n   -0.17169643353389574]),\n ('LGBM',\n  [6.967121414015281,\n   5.800823739171099,\n   8.474374357179624,\n   0.0016135934437906396]),\n ('Stack Regressor',\n  [8.038086233198799,\n   5.9018522594371134,\n   8.45186235527987,\n   0.006910934025563975])]"
     },
     "execution_count": 11,
     "metadata": {},
     "output_type": "execute_result"
    }
   ],
   "source": [
    "resultList = []\n",
    "def ScoreArray(trainPredicted,testPredicted):\n",
    "    trainrmse = math.sqrt(mean_squared_error(y_train, trainPredicted))\n",
    "    mae = mean_absolute_error(y_test, testPredicted)\n",
    "    rmse = math.sqrt(mean_squared_error(y_test, testPredicted))\n",
    "    r2 = r2_score(y_test, testPredicted)\n",
    "    return [trainrmse,mae,rmse,r2]\n",
    "\n",
    "finalPipe.set_params(**finalParam)\n",
    "finalPipe.fit(X_train,y_train)\n",
    "trainTrans = finalPipe.transform(X_train)\n",
    "testTrans = finalPipe.transform(X_test)\n",
    "i=0\n",
    "for estimator in finalestimators:\n",
    "    resultList.append((estimator[0],ScoreArray(trainTrans[:,i],testTrans[:,i])))\n",
    "    i+=1\n",
    "trainPredicted = finalPipe.predict(X_train)\n",
    "testPredicted = finalPipe.predict(X_test)\n",
    "resultList.append((\"Stack Regressor\",ScoreArray(trainPredicted,testPredicted)))\n",
    "\n",
    "resultList"
   ],
   "metadata": {
    "collapsed": false,
    "pycharm": {
     "name": "#%%\n"
    }
   }
  },
  {
   "cell_type": "code",
   "execution_count": 90,
   "outputs": [
    {
     "data": {
      "text/plain": "<Figure size 640x480 with 1 Axes>",
      "image/png": "[encoded data removed]"
     },
     "metadata": {},
     "output_type": "display_data"
    }
   ],
   "source": [
    "barWidth = 0.20\n",
    "\n",
    "# set heights of bars\n",
    "names = []\n",
    "bars = [[],[],[],[]]\n",
    "for name,result in resultList:\n",
    "    names.append(name)\n",
    "    bars[0].append(result[0])\n",
    "    bars[1].append(result[1])\n",
    "    bars[2].append(result[2])\n",
    "    bars[3].append(result[3])\n",
    "\n",
    "# Set position of bar on X axis\n",
    "r1 = np.arange(len(bars[0]))\n",
    "r2 = [x + barWidth for x in r1]\n",
    "r3 = [x + barWidth for x in r2]\n",
    "r4 = [x + barWidth for x in r3]\n",
    "\n",
    "# Make the plot\n",
    "finalPlotLabels = ['RMSE(Train)','MAE(Test)', 'RMSE(Test)', 'R2(Test)']\n",
    "colours = ['#7f6d5f','#557f2d','#2d7f5e','#2d295e']\n",
    "r = [r1,r2,r3,r4]\n",
    "i=0\n",
    "for finalPlotLabel in finalPlotLabels:\n",
    "    plt.bar(r[i], bars[i], color=colours[i], width=barWidth, edgecolor='white', label=finalPlotLabel)\n",
    "    i+=1\n",
    "\n",
    "# Add xticks on the middle of the group bars\n",
    "plt.xlabel('Method', fontweight='bold')\n",
    "plt.xticks([r + barWidth for r in range(len(bars[0]))], names)\n",
    "\n",
    "# Create legend & Show graphic\n",
    "plt.legend()\n",
    "plt.show()"
   ],
   "metadata": {
    "collapsed": false,
    "pycharm": {
     "name": "#%%\n"
    }
   }
  },
  {
   "cell_type": "code",
   "execution_count": 50,
   "outputs": [],
   "source": [
    "def ScoreArray(trainPredicted,testPredicted):\n",
    "    trainrmse = math.sqrt(mean_squared_error(y_train, trainPredicted))\n",
    "    mae = mean_absolute_error(y_test, testPredicted)\n",
    "    rmse = math.sqrt(mean_squared_error(y_test, testPredicted))\n",
    "    r2 = r2_score(y_test, testPredicted)\n",
    "    return [trainrmse,mae,rmse,r2]\n",
    "def ScoreArrayalt(trainPredicted,testPredicted):\n",
    "    trainrmse = math.sqrt(mean_squared_error(y_train, trainPredicted))\n",
    "    mae = mean_absolute_error(alt_y_test, testPredicted)\n",
    "    rmse = math.sqrt(mean_squared_error(alt_y_test, testPredicted))\n",
    "    r2 = r2_score(alt_y_test, testPredicted)\n",
    "    return [trainrmse,mae,rmse,r2]"
   ],
   "metadata": {
    "collapsed": false,
    "pycharm": {
     "name": "#%%\n"
    }
   }
  },
  {
   "cell_type": "code",
   "execution_count": 53,
   "outputs": [
    {
     "name": "stdout",
     "output_type": "stream",
     "text": [
      "[7.050255385756973, 5.778531837599765, 8.426036806932917, 0.012970636599834662]\n"
     ]
    },
    {
     "ename": "ValueError",
     "evalue": "Input contains NaN, infinity or a value too large for dtype('float64').",
     "output_type": "error",
     "traceback": [
      "\u001B[1;31m---------------------------------------------------------------------------\u001B[0m",
      "\u001B[1;31mValueError\u001B[0m                                Traceback (most recent call last)",
      "\u001B[1;32m~\\AppData\\Local\\Temp\\ipykernel_17264\\1600906838.py\u001B[0m in \u001B[0;36m<cell line: 16>\u001B[1;34m()\u001B[0m\n\u001B[0;32m     14\u001B[0m \u001B[1;33m\u001B[0m\u001B[0m\n\u001B[0;32m     15\u001B[0m \u001B[1;33m\u001B[0m\u001B[0m\n\u001B[1;32m---> 16\u001B[1;33m \u001B[0mclf\u001B[0m\u001B[1;33m.\u001B[0m\u001B[0mfit\u001B[0m\u001B[1;33m(\u001B[0m\u001B[0mX_train\u001B[0m\u001B[1;33m,\u001B[0m\u001B[0malt_y_train\u001B[0m\u001B[1;33m)\u001B[0m\u001B[1;33m\u001B[0m\u001B[1;33m\u001B[0m\u001B[0m\n\u001B[0m\u001B[0;32m     17\u001B[0m \u001B[0mclftrainPredicted\u001B[0m \u001B[1;33m=\u001B[0m \u001B[0mclf\u001B[0m\u001B[1;33m.\u001B[0m\u001B[0mpredict\u001B[0m\u001B[1;33m(\u001B[0m\u001B[0mX_train\u001B[0m\u001B[1;33m)\u001B[0m\u001B[1;33m\u001B[0m\u001B[1;33m\u001B[0m\u001B[0m\n\u001B[0;32m     18\u001B[0m \u001B[0mclftestPredicted\u001B[0m \u001B[1;33m=\u001B[0m \u001B[0mclf\u001B[0m\u001B[1;33m.\u001B[0m\u001B[0mpredict\u001B[0m\u001B[1;33m(\u001B[0m\u001B[0mX_test\u001B[0m\u001B[1;33m)\u001B[0m\u001B[1;33m\u001B[0m\u001B[1;33m\u001B[0m\u001B[0m\n",
      "\u001B[1;32mc:\\users\\rawwi\\onedrive\\school\\nus\\current sem\\python\\lib\\site-packages\\sklearn\\pipeline.py\u001B[0m in \u001B[0;36mfit\u001B[1;34m(self, X, y, **fit_params)\u001B[0m\n\u001B[0;32m    392\u001B[0m             \u001B[1;32mif\u001B[0m \u001B[0mself\u001B[0m\u001B[1;33m.\u001B[0m\u001B[0m_final_estimator\u001B[0m \u001B[1;33m!=\u001B[0m \u001B[1;34m\"passthrough\"\u001B[0m\u001B[1;33m:\u001B[0m\u001B[1;33m\u001B[0m\u001B[1;33m\u001B[0m\u001B[0m\n\u001B[0;32m    393\u001B[0m                 \u001B[0mfit_params_last_step\u001B[0m \u001B[1;33m=\u001B[0m \u001B[0mfit_params_steps\u001B[0m\u001B[1;33m[\u001B[0m\u001B[0mself\u001B[0m\u001B[1;33m.\u001B[0m\u001B[0msteps\u001B[0m\u001B[1;33m[\u001B[0m\u001B[1;33m-\u001B[0m\u001B[1;36m1\u001B[0m\u001B[1;33m]\u001B[0m\u001B[1;33m[\u001B[0m\u001B[1;36m0\u001B[0m\u001B[1;33m]\u001B[0m\u001B[1;33m]\u001B[0m\u001B[1;33m\u001B[0m\u001B[1;33m\u001B[0m\u001B[0m\n\u001B[1;32m--> 394\u001B[1;33m                 \u001B[0mself\u001B[0m\u001B[1;33m.\u001B[0m\u001B[0m_final_estimator\u001B[0m\u001B[1;33m.\u001B[0m\u001B[0mfit\u001B[0m\u001B[1;33m(\u001B[0m\u001B[0mXt\u001B[0m\u001B[1;33m,\u001B[0m \u001B[0my\u001B[0m\u001B[1;33m,\u001B[0m \u001B[1;33m**\u001B[0m\u001B[0mfit_params_last_step\u001B[0m\u001B[1;33m)\u001B[0m\u001B[1;33m\u001B[0m\u001B[1;33m\u001B[0m\u001B[0m\n\u001B[0m\u001B[0;32m    395\u001B[0m \u001B[1;33m\u001B[0m\u001B[0m\n\u001B[0;32m    396\u001B[0m         \u001B[1;32mreturn\u001B[0m \u001B[0mself\u001B[0m\u001B[1;33m\u001B[0m\u001B[1;33m\u001B[0m\u001B[0m\n",
      "\u001B[1;32mc:\\users\\rawwi\\onedrive\\school\\nus\\current sem\\python\\lib\\site-packages\\lightgbm\\sklearn.py\u001B[0m in \u001B[0;36mfit\u001B[1;34m(self, X, y, sample_weight, init_score, eval_set, eval_names, eval_sample_weight, eval_init_score, eval_metric, early_stopping_rounds, verbose, feature_name, categorical_feature, callbacks, init_model)\u001B[0m\n\u001B[0;32m    893\u001B[0m             callbacks=None, init_model=None):\n\u001B[0;32m    894\u001B[0m         \u001B[1;34m\"\"\"Docstring is inherited from the LGBMModel.\"\"\"\u001B[0m\u001B[1;33m\u001B[0m\u001B[1;33m\u001B[0m\u001B[0m\n\u001B[1;32m--> 895\u001B[1;33m         super().fit(X, y, sample_weight=sample_weight, init_score=init_score,\n\u001B[0m\u001B[0;32m    896\u001B[0m                     \u001B[0meval_set\u001B[0m\u001B[1;33m=\u001B[0m\u001B[0meval_set\u001B[0m\u001B[1;33m,\u001B[0m \u001B[0meval_names\u001B[0m\u001B[1;33m=\u001B[0m\u001B[0meval_names\u001B[0m\u001B[1;33m,\u001B[0m \u001B[0meval_sample_weight\u001B[0m\u001B[1;33m=\u001B[0m\u001B[0meval_sample_weight\u001B[0m\u001B[1;33m,\u001B[0m\u001B[1;33m\u001B[0m\u001B[1;33m\u001B[0m\u001B[0m\n\u001B[0;32m    897\u001B[0m                     \u001B[0meval_init_score\u001B[0m\u001B[1;33m=\u001B[0m\u001B[0meval_init_score\u001B[0m\u001B[1;33m,\u001B[0m \u001B[0meval_metric\u001B[0m\u001B[1;33m=\u001B[0m\u001B[0meval_metric\u001B[0m\u001B[1;33m,\u001B[0m\u001B[1;33m\u001B[0m\u001B[1;33m\u001B[0m\u001B[0m\n",
      "\u001B[1;32mc:\\users\\rawwi\\onedrive\\school\\nus\\current sem\\python\\lib\\site-packages\\lightgbm\\sklearn.py\u001B[0m in \u001B[0;36mfit\u001B[1;34m(self, X, y, sample_weight, init_score, group, eval_set, eval_names, eval_sample_weight, eval_class_weight, eval_init_score, eval_group, eval_metric, early_stopping_rounds, verbose, feature_name, categorical_feature, callbacks, init_model)\u001B[0m\n\u001B[0;32m    656\u001B[0m \u001B[1;33m\u001B[0m\u001B[0m\n\u001B[0;32m    657\u001B[0m         \u001B[1;32mif\u001B[0m \u001B[1;32mnot\u001B[0m \u001B[0misinstance\u001B[0m\u001B[1;33m(\u001B[0m\u001B[0mX\u001B[0m\u001B[1;33m,\u001B[0m \u001B[1;33m(\u001B[0m\u001B[0mpd_DataFrame\u001B[0m\u001B[1;33m,\u001B[0m \u001B[0mdt_DataTable\u001B[0m\u001B[1;33m)\u001B[0m\u001B[1;33m)\u001B[0m\u001B[1;33m:\u001B[0m\u001B[1;33m\u001B[0m\u001B[1;33m\u001B[0m\u001B[0m\n\u001B[1;32m--> 658\u001B[1;33m             \u001B[0m_X\u001B[0m\u001B[1;33m,\u001B[0m \u001B[0m_y\u001B[0m \u001B[1;33m=\u001B[0m \u001B[0m_LGBMCheckXY\u001B[0m\u001B[1;33m(\u001B[0m\u001B[0mX\u001B[0m\u001B[1;33m,\u001B[0m \u001B[0my\u001B[0m\u001B[1;33m,\u001B[0m \u001B[0maccept_sparse\u001B[0m\u001B[1;33m=\u001B[0m\u001B[1;32mTrue\u001B[0m\u001B[1;33m,\u001B[0m \u001B[0mforce_all_finite\u001B[0m\u001B[1;33m=\u001B[0m\u001B[1;32mFalse\u001B[0m\u001B[1;33m,\u001B[0m \u001B[0mensure_min_samples\u001B[0m\u001B[1;33m=\u001B[0m\u001B[1;36m2\u001B[0m\u001B[1;33m)\u001B[0m\u001B[1;33m\u001B[0m\u001B[1;33m\u001B[0m\u001B[0m\n\u001B[0m\u001B[0;32m    659\u001B[0m             \u001B[1;32mif\u001B[0m \u001B[0msample_weight\u001B[0m \u001B[1;32mis\u001B[0m \u001B[1;32mnot\u001B[0m \u001B[1;32mNone\u001B[0m\u001B[1;33m:\u001B[0m\u001B[1;33m\u001B[0m\u001B[1;33m\u001B[0m\u001B[0m\n\u001B[0;32m    660\u001B[0m                 \u001B[0msample_weight\u001B[0m \u001B[1;33m=\u001B[0m \u001B[0m_LGBMCheckSampleWeight\u001B[0m\u001B[1;33m(\u001B[0m\u001B[0msample_weight\u001B[0m\u001B[1;33m,\u001B[0m \u001B[0m_X\u001B[0m\u001B[1;33m)\u001B[0m\u001B[1;33m\u001B[0m\u001B[1;33m\u001B[0m\u001B[0m\n",
      "\u001B[1;32mc:\\users\\rawwi\\onedrive\\school\\nus\\current sem\\python\\lib\\site-packages\\sklearn\\utils\\validation.py\u001B[0m in \u001B[0;36mcheck_X_y\u001B[1;34m(X, y, accept_sparse, accept_large_sparse, dtype, order, copy, force_all_finite, ensure_2d, allow_nd, multi_output, ensure_min_samples, ensure_min_features, y_numeric, estimator)\u001B[0m\n\u001B[0;32m    977\u001B[0m     )\n\u001B[0;32m    978\u001B[0m \u001B[1;33m\u001B[0m\u001B[0m\n\u001B[1;32m--> 979\u001B[1;33m     \u001B[0my\u001B[0m \u001B[1;33m=\u001B[0m \u001B[0m_check_y\u001B[0m\u001B[1;33m(\u001B[0m\u001B[0my\u001B[0m\u001B[1;33m,\u001B[0m \u001B[0mmulti_output\u001B[0m\u001B[1;33m=\u001B[0m\u001B[0mmulti_output\u001B[0m\u001B[1;33m,\u001B[0m \u001B[0my_numeric\u001B[0m\u001B[1;33m=\u001B[0m\u001B[0my_numeric\u001B[0m\u001B[1;33m)\u001B[0m\u001B[1;33m\u001B[0m\u001B[1;33m\u001B[0m\u001B[0m\n\u001B[0m\u001B[0;32m    980\u001B[0m \u001B[1;33m\u001B[0m\u001B[0m\n\u001B[0;32m    981\u001B[0m     \u001B[0mcheck_consistent_length\u001B[0m\u001B[1;33m(\u001B[0m\u001B[0mX\u001B[0m\u001B[1;33m,\u001B[0m \u001B[0my\u001B[0m\u001B[1;33m)\u001B[0m\u001B[1;33m\u001B[0m\u001B[1;33m\u001B[0m\u001B[0m\n",
      "\u001B[1;32mc:\\users\\rawwi\\onedrive\\school\\nus\\current sem\\python\\lib\\site-packages\\sklearn\\utils\\validation.py\u001B[0m in \u001B[0;36m_check_y\u001B[1;34m(y, multi_output, y_numeric)\u001B[0m\n\u001B[0;32m    992\u001B[0m     \u001B[1;32melse\u001B[0m\u001B[1;33m:\u001B[0m\u001B[1;33m\u001B[0m\u001B[1;33m\u001B[0m\u001B[0m\n\u001B[0;32m    993\u001B[0m         \u001B[0my\u001B[0m \u001B[1;33m=\u001B[0m \u001B[0mcolumn_or_1d\u001B[0m\u001B[1;33m(\u001B[0m\u001B[0my\u001B[0m\u001B[1;33m,\u001B[0m \u001B[0mwarn\u001B[0m\u001B[1;33m=\u001B[0m\u001B[1;32mTrue\u001B[0m\u001B[1;33m)\u001B[0m\u001B[1;33m\u001B[0m\u001B[1;33m\u001B[0m\u001B[0m\n\u001B[1;32m--> 994\u001B[1;33m         \u001B[0m_assert_all_finite\u001B[0m\u001B[1;33m(\u001B[0m\u001B[0my\u001B[0m\u001B[1;33m)\u001B[0m\u001B[1;33m\u001B[0m\u001B[1;33m\u001B[0m\u001B[0m\n\u001B[0m\u001B[0;32m    995\u001B[0m         \u001B[0m_ensure_no_complex_data\u001B[0m\u001B[1;33m(\u001B[0m\u001B[0my\u001B[0m\u001B[1;33m)\u001B[0m\u001B[1;33m\u001B[0m\u001B[1;33m\u001B[0m\u001B[0m\n\u001B[0;32m    996\u001B[0m     \u001B[1;32mif\u001B[0m \u001B[0my_numeric\u001B[0m \u001B[1;32mand\u001B[0m \u001B[0my\u001B[0m\u001B[1;33m.\u001B[0m\u001B[0mdtype\u001B[0m\u001B[1;33m.\u001B[0m\u001B[0mkind\u001B[0m \u001B[1;33m==\u001B[0m \u001B[1;34m\"O\"\u001B[0m\u001B[1;33m:\u001B[0m\u001B[1;33m\u001B[0m\u001B[1;33m\u001B[0m\u001B[0m\n",
      "\u001B[1;32mc:\\users\\rawwi\\onedrive\\school\\nus\\current sem\\python\\lib\\site-packages\\sklearn\\utils\\validation.py\u001B[0m in \u001B[0;36m_assert_all_finite\u001B[1;34m(X, allow_nan, msg_dtype)\u001B[0m\n\u001B[0;32m    112\u001B[0m         ):\n\u001B[0;32m    113\u001B[0m             \u001B[0mtype_err\u001B[0m \u001B[1;33m=\u001B[0m \u001B[1;34m\"infinity\"\u001B[0m \u001B[1;32mif\u001B[0m \u001B[0mallow_nan\u001B[0m \u001B[1;32melse\u001B[0m \u001B[1;34m\"NaN, infinity\"\u001B[0m\u001B[1;33m\u001B[0m\u001B[1;33m\u001B[0m\u001B[0m\n\u001B[1;32m--> 114\u001B[1;33m             raise ValueError(\n\u001B[0m\u001B[0;32m    115\u001B[0m                 msg_err.format(\n\u001B[0;32m    116\u001B[0m                     \u001B[0mtype_err\u001B[0m\u001B[1;33m,\u001B[0m \u001B[0mmsg_dtype\u001B[0m \u001B[1;32mif\u001B[0m \u001B[0mmsg_dtype\u001B[0m \u001B[1;32mis\u001B[0m \u001B[1;32mnot\u001B[0m \u001B[1;32mNone\u001B[0m \u001B[1;32melse\u001B[0m \u001B[0mX\u001B[0m\u001B[1;33m.\u001B[0m\u001B[0mdtype\u001B[0m\u001B[1;33m\u001B[0m\u001B[1;33m\u001B[0m\u001B[0m\n",
      "\u001B[1;31mValueError\u001B[0m: Input contains NaN, infinity or a value too large for dtype('float64')."
     ]
    }
   ],
   "source": [
    "clf = finalestimators[3][1]\n",
    "# clf\n",
    "# clf= pipeline.Pipeline([('columntransformer',data_preprocessor),('DropZeroCol',DropZeroCol()),('regressor',ElasticNet(random_state=0))])\n",
    "clf.set_params(**{'columntransformer__vessel_linear_processor__ProcessVessel__usage': 'vessel'})\n",
    "\n",
    "\n",
    "alt_y_train = y_train.apply(np.log).apply(np.log)\n",
    "alt_y_test = y_test.apply(np.log).apply(np.log)\n",
    "\n",
    "clf.fit(X_train,y_train)\n",
    "clftrainPredicted = clf.predict(X_train)\n",
    "clftestPredicted = clf.predict(X_test)\n",
    "print(ScoreArray(clftrainPredicted,clftestPredicted))\n",
    "\n",
    "\n",
    "clf.fit(X_train,alt_y_train)\n",
    "clftrainPredicted = clf.predict(X_train)\n",
    "clftestPredicted = clf.predict(X_test)\n",
    "print(ScoreArrayalt(clftrainPredicted,clftestPredicted))"
   ],
   "metadata": {
    "collapsed": false,
    "pycharm": {
     "name": "#%%\n"
    }
   }
  },
  {
   "cell_type": "code",
   "execution_count": 46,
   "outputs": [
    {
     "name": "stdout",
     "output_type": "stream",
     "text": [
      "[7.050255386213279, 5.778919309016348, 8.426269727032883, 0.0129160671359696]\n",
      "[10.62394908182829, 6.727790052166937, 10.606261950812053, -0.5638967136763571]\n"
     ]
    }
   ],
   "source": [],
   "metadata": {
    "collapsed": false,
    "pycharm": {
     "name": "#%%\n"
    }
   }
  },
  {
   "cell_type": "code",
   "execution_count": 33,
   "outputs": [],
   "source": [
    "log_y_train = y_train.apply(np.log)"
   ],
   "metadata": {
    "collapsed": false,
    "pycharm": {
     "name": "#%%\n"
    }
   }
  },
  {
   "cell_type": "code",
   "execution_count": 42,
   "outputs": [
    {
     "data": {
      "text/plain": "[10.77671539192133, 6.746836777306096, 10.647589253455488, -0.5761079058337963]"
     },
     "execution_count": 42,
     "metadata": {},
     "output_type": "execute_result"
    }
   ],
   "source": [],
   "metadata": {
    "collapsed": false,
    "pycharm": {
     "name": "#%%\n"
    }
   }
  },
  {
   "cell_type": "code",
   "execution_count": null,
   "outputs": [],
   "source": [
    "np.log"
   ],
   "metadata": {
    "collapsed": false,
    "pycharm": {
     "name": "#%%\n"
    }
   }
  },
  {
   "cell_type": "code",
   "execution_count": 22,
   "outputs": [
    {
     "data": {
      "text/plain": "array([[ 7.16511731, 10.1299324 ,  7.16066667,  8.04976143],\n       [ 8.16712965,  3.5603683 ,  6.8202119 ,  6.67615793],\n       [ 5.61216984,  2.72246718,  3.86163333,  4.71597239],\n       ...,\n       [ 4.98406985,  1.67019153,  1.01356667,  2.75874292],\n       [ 9.18439882, 12.39041233, 12.58889762, 13.60199504],\n       [ 9.16291601,  8.97939587, 11.39565   , 10.74313107]])"
     },
     "execution_count": 22,
     "metadata": {},
     "output_type": "execute_result"
    }
   ],
   "source": [
    "\n",
    "finalPipe.transform(X_test)"
   ],
   "metadata": {
    "collapsed": false,
    "pycharm": {
     "name": "#%%\n"
    }
   }
  },
  {
   "cell_type": "code",
   "execution_count": 20,
   "outputs": [
    {
     "data": {
      "text/plain": "array([7.12019704, 6.16967715, 5.13406323, ..., 4.22102512, 9.76596207,\n       7.53715079])"
     },
     "execution_count": 20,
     "metadata": {},
     "output_type": "execute_result"
    }
   ],
   "source": [
    "\n",
    "finalPipe.predict(X_test)"
   ],
   "metadata": {
    "collapsed": false,
    "pycharm": {
     "name": "#%%\n"
    }
   }
  },
  {
   "cell_type": "code",
   "execution_count": 23,
   "outputs": [
    {
     "data": {
      "text/plain": "      Waiting Time (Days)\n5758                 10.4\n6737                 11.1\n8244                  2.8\n5660                  1.7\n6068                 11.2\n...                   ...\n7682                  5.0\n2501                  3.0\n633                   2.4\n9628                 26.5\n7542                  2.0\n\n[1990 rows x 1 columns]",
      "text/html": "<div>\n<style scoped>\n    .dataframe tbody tr th:only-of-type {\n        vertical-align: middle;\n    }\n\n    .dataframe tbody tr th {\n        vertical-align: top;\n    }\n\n    .dataframe thead th {\n        text-align: right;\n    }\n</style>\n<table border=\"1\" class=\"dataframe\">\n  <thead>\n    <tr style=\"text-align: right;\">\n      <th></th>\n      <th>Waiting Time (Days)</th>\n    </tr>\n  </thead>\n  <tbody>\n    <tr>\n      <th>5758</th>\n      <td>10.4</td>\n    </tr>\n    <tr>\n      <th>6737</th>\n      <td>11.1</td>\n    </tr>\n    <tr>\n      <th>8244</th>\n      <td>2.8</td>\n    </tr>\n    <tr>\n      <th>5660</th>\n      <td>1.7</td>\n    </tr>\n    <tr>\n      <th>6068</th>\n      <td>11.2</td>\n    </tr>\n    <tr>\n      <th>...</th>\n      <td>...</td>\n    </tr>\n    <tr>\n      <th>7682</th>\n      <td>5.0</td>\n    </tr>\n    <tr>\n      <th>2501</th>\n      <td>3.0</td>\n    </tr>\n    <tr>\n      <th>633</th>\n      <td>2.4</td>\n    </tr>\n    <tr>\n      <th>9628</th>\n      <td>26.5</td>\n    </tr>\n    <tr>\n      <th>7542</th>\n      <td>2.0</td>\n    </tr>\n  </tbody>\n</table>\n<p>1990 rows × 1 columns</p>\n</div>"
     },
     "execution_count": 23,
     "metadata": {},
     "output_type": "execute_result"
    }
   ],
   "source": [
    "pd.DataFrame(y_test)"
   ],
   "metadata": {
    "collapsed": false,
    "pycharm": {
     "name": "#%%\n"
    }
   }
  }
 ],
 "metadata": {
  "kernelspec": {
   "display_name": "Python 3",
   "language": "python",
   "name": "python3"
  },
  "language_info": {
   "codemirror_mode": {
    "name": "ipython",
    "version": 2
   },
   "file_extension": ".py",
   "mimetype": "text/x-python",
   "name": "python",
   "nbconvert_exporter": "python",
   "pygments_lexer": "ipython2",
   "version": "2.7.6"
  }
 },
 "nbformat": 4,
 "nbformat_minor": 0
}