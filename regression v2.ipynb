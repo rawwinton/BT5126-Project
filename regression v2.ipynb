{
 "cells": [
  {
   "cell_type": "code",
   "execution_count": 58,
   "metadata": {
    "collapsed": true
   },
   "outputs": [],
   "source": [
    "# Import all required packages\n",
    "import pandas as pd\n",
    "import seaborn as sns\n",
    "import numpy as np\n",
    "import matplotlib.pyplot as plt\n",
    "from sklearn.model_selection import train_test_split,RandomizedSearchCV, GridSearchCV\n",
    "from scipy.stats import randint,uniform\n",
    "from sklearn.metrics import accuracy_score, roc_curve, roc_auc_score, PrecisionRecallDisplay, average_precision_score,precision_recall_curve,auc\n",
    "import seaborn as sn\n",
    "import lightgbm as lgb\n",
    "from sklearn.ensemble import RandomForestClassifier\n",
    "from sklearn.tree  import DecisionTreeClassifier\n",
    "import warnings\n",
    "\n",
    "import math\n",
    "import pandas as pd\n",
    "import numpy as np\n",
    "import matplotlib.pyplot as plt\n",
    "from joblib import Parallel\n",
    "from sklearn.preprocessing import OneHotEncoder, PolynomialFeatures,StandardScaler,MinMaxScaler\n",
    "from sklearn.model_selection import GridSearchCV,RandomizedSearchCV,train_test_split\n",
    "from sklearn.pipeline import Pipeline\n",
    "from sklearn.base import BaseEstimator, TransformerMixin\n",
    "from sklearn import pipeline,set_config\n",
    "from sklearn.utils import class_weight\n",
    "from lightgbm import LGBMClassifier\n",
    "from xgboost import XGBClassifier\n",
    "from sklearn.compose import ColumnTransformer\n",
    "from sklearn.svm import SVC\n",
    "from sklearn.ensemble import StackingClassifier\n",
    "from sklearn.metrics import accuracy_score, roc_curve, roc_auc_score, PrecisionRecallDisplay, precision_score, \\\n",
    "    average_precision_score, auc, precision_recall_curve, make_scorer,SCORERS\n",
    "from skopt import BayesSearchCV\n",
    "import datetime, re, sys, holidays\n",
    "from Functions import *\n",
    "from sklearn.experimental import enable_halving_search_cv\n",
    "from sklearn.model_selection import HalvingGridSearchCV\n",
    "from sklearn.metrics import mean_absolute_error\n",
    "from sklearn.metrics import r2_score\n",
    "import math\n",
    "from sklearn.metrics import mean_squared_error\n",
    "\n",
    "set_config(display=\"diagram\")\n",
    "np.random.seed (0)\n",
    "Parallel(n_jobs=8, max_nbytes=50000)\n",
    "\n",
    "warnings.filterwarnings(\"ignore\")"
   ]
  },
  {
   "cell_type": "code",
   "execution_count": 59,
   "outputs": [],
   "source": [
    "categorical_cols = ['Vessel Type']\n",
    "vessel_cols = ['Total Vessels (Number)', 'Capesize',\n",
    "                'Capesize Laden', 'Capesize Unladen', 'Panamax', 'Panamax Laden',\n",
    "                'Panamax Unladen', 'Handymax', 'Handymax Laden', 'Handymax Unladen',\n",
    "                'Handysize', 'Handysize Laden', 'Handysize Unladen']\n",
    "# date_cols = ['Berth or Port Entry', 'Date']\n",
    "date_cols = ['Date']\n",
    "dwt_cols = ['Total Vessels (DWT)','Capesize (DWT)',\n",
    "            'Capesize Laden (DWT)', 'Capesize Unladen (DWT)', 'Panamax (DWT)',\n",
    "            'Panamax Laden (DWT)', 'Panamax Unladen (DWT)', 'Handymax (DWT)',\n",
    "            'Handymax Laden (DWT)', 'Handymax Unladen (DWT)', 'Handysize (DWT)',\n",
    "            'Handysize Laden (DWT)', 'Handysize Unladen (DWT)']\n",
    "weather_cols = ['tempt', 'prcp', 'wspd']\n",
    "\n",
    "# predict_col = 'Wait Levels'\n",
    "# numeric_cols = ['Waiting Time (Days)']\n",
    "predict_col = 'Waiting Time (Days)'"
   ],
   "metadata": {
    "collapsed": false,
    "pycharm": {
     "name": "#%%\n"
    }
   }
  },
  {
   "cell_type": "code",
   "execution_count": 60,
   "outputs": [
    {
     "data": {
      "text/plain": "          IMO  Waiting Time (Days)  Vessel Type       Date  \\\n0     9056399                  0.2            3 2015-01-02   \n1     9471252                  3.4            2 2015-01-02   \n2     9233399                  5.6            3 2015-01-02   \n3     8309141                  0.5            1 2015-01-03   \n4     9625970                  3.9            2 2015-01-03   \n...       ...                  ...          ...        ...   \n9942  9669392                 10.3            3 2021-12-19   \n9943  9911678                  1.9            3 2021-12-28   \n9944  9476927                  2.9            3 2021-12-28   \n9945  9305219                  0.6            2 2021-12-30   \n9946  9566447                  1.7            3 2021-12-29   \n\n      Total Vessels (Number)  Total Vessels (DWT)  Capesize  Capesize Laden  \\\n0                         16               878272         0               0   \n1                         16               878272         0               0   \n2                         16               878272         0               0   \n3                         17               908718         0               0   \n4                         17               908718         0               0   \n...                      ...                  ...       ...             ...   \n9942                      47              2880415         0               0   \n9943                      49              2910427         0               0   \n9944                      49              2910427         0               0   \n9945                      47              2744630         0               0   \n9946                      50              2962586         0               0   \n\n      Capesize Unladen  Panamax  ...  Handymax (DWT)  Handymax Laden (DWT)  \\\n0                    0        5  ...          432704                121785   \n1                    0        5  ...          432704                121785   \n2                    0        5  ...          432704                121785   \n3                    0        5  ...          474533                107174   \n4                    0        5  ...          474533                107174   \n...                ...      ...  ...             ...                   ...   \n9942                 0       22  ...          672159                433059   \n9943                 0       20  ...          870577                552785   \n9944                 0       20  ...          870577                552785   \n9945                 0       17  ...          929509                488312   \n9946                 0       20  ...          924558                492466   \n\n      Handymax Unladen (DWT)  Handysize (DWT)  Handysize Laden (DWT)  \\\n0                     310919            52823                  30060   \n1                     310919            52823                  30060   \n2                     310919            52823                  30060   \n3                     367359            70297                  36036   \n4                     367359            70297                  36036   \n...                      ...              ...                    ...   \n9942                  239100           449635                 415650   \n9943                  317792           465851                 308646   \n9944                  317792           465851                 308646   \n9945                  441197           458868                 341163   \n9946                  432092           479429                 301875   \n\n      Handysize Unladen (DWT)  Wait Levels  tempt  prcp  wspd  \n0                       22763            0   27.0   0.0  15.1  \n1                       22763            1   27.0   0.0  15.1  \n2                       22763            2   27.0   0.0  15.1  \n3                       34261            0   23.3   3.0  13.8  \n4                       34261            1   23.3   3.0  13.8  \n...                       ...          ...    ...   ...   ...  \n9942                    33985            2   17.6   0.0  17.3  \n9943                   157205            0   21.6   0.0   9.8  \n9944                   157205            1   21.6   0.0   9.8  \n9945                   117705            0   20.3   0.0  10.6  \n9946                   177554            0   21.2   0.0  14.6  \n\n[9947 rows x 34 columns]",
      "text/html": "<div>\n<style scoped>\n    .dataframe tbody tr th:only-of-type {\n        vertical-align: middle;\n    }\n\n    .dataframe tbody tr th {\n        vertical-align: top;\n    }\n\n    .dataframe thead th {\n        text-align: right;\n    }\n</style>\n<table border=\"1\" class=\"dataframe\">\n  <thead>\n    <tr style=\"text-align: right;\">\n      <th></th>\n      <th>IMO</th>\n      <th>Waiting Time (Days)</th>\n      <th>Vessel Type</th>\n      <th>Date</th>\n      <th>Total Vessels (Number)</th>\n      <th>Total Vessels (DWT)</th>\n      <th>Capesize</th>\n      <th>Capesize Laden</th>\n      <th>Capesize Unladen</th>\n      <th>Panamax</th>\n      <th>...</th>\n      <th>Handymax (DWT)</th>\n      <th>Handymax Laden (DWT)</th>\n      <th>Handymax Unladen (DWT)</th>\n      <th>Handysize (DWT)</th>\n      <th>Handysize Laden (DWT)</th>\n      <th>Handysize Unladen (DWT)</th>\n      <th>Wait Levels</th>\n      <th>tempt</th>\n      <th>prcp</th>\n      <th>wspd</th>\n    </tr>\n  </thead>\n  <tbody>\n    <tr>\n      <th>0</th>\n      <td>9056399</td>\n      <td>0.2</td>\n      <td>3</td>\n      <td>2015-01-02</td>\n      <td>16</td>\n      <td>878272</td>\n      <td>0</td>\n      <td>0</td>\n      <td>0</td>\n      <td>5</td>\n      <td>...</td>\n      <td>432704</td>\n      <td>121785</td>\n      <td>310919</td>\n      <td>52823</td>\n      <td>30060</td>\n      <td>22763</td>\n      <td>0</td>\n      <td>27.0</td>\n      <td>0.0</td>\n      <td>15.1</td>\n    </tr>\n    <tr>\n      <th>1</th>\n      <td>9471252</td>\n      <td>3.4</td>\n      <td>2</td>\n      <td>2015-01-02</td>\n      <td>16</td>\n      <td>878272</td>\n      <td>0</td>\n      <td>0</td>\n      <td>0</td>\n      <td>5</td>\n      <td>...</td>\n      <td>432704</td>\n      <td>121785</td>\n      <td>310919</td>\n      <td>52823</td>\n      <td>30060</td>\n      <td>22763</td>\n      <td>1</td>\n      <td>27.0</td>\n      <td>0.0</td>\n      <td>15.1</td>\n    </tr>\n    <tr>\n      <th>2</th>\n      <td>9233399</td>\n      <td>5.6</td>\n      <td>3</td>\n      <td>2015-01-02</td>\n      <td>16</td>\n      <td>878272</td>\n      <td>0</td>\n      <td>0</td>\n      <td>0</td>\n      <td>5</td>\n      <td>...</td>\n      <td>432704</td>\n      <td>121785</td>\n      <td>310919</td>\n      <td>52823</td>\n      <td>30060</td>\n      <td>22763</td>\n      <td>2</td>\n      <td>27.0</td>\n      <td>0.0</td>\n      <td>15.1</td>\n    </tr>\n    <tr>\n      <th>3</th>\n      <td>8309141</td>\n      <td>0.5</td>\n      <td>1</td>\n      <td>2015-01-03</td>\n      <td>17</td>\n      <td>908718</td>\n      <td>0</td>\n      <td>0</td>\n      <td>0</td>\n      <td>5</td>\n      <td>...</td>\n      <td>474533</td>\n      <td>107174</td>\n      <td>367359</td>\n      <td>70297</td>\n      <td>36036</td>\n      <td>34261</td>\n      <td>0</td>\n      <td>23.3</td>\n      <td>3.0</td>\n      <td>13.8</td>\n    </tr>\n    <tr>\n      <th>4</th>\n      <td>9625970</td>\n      <td>3.9</td>\n      <td>2</td>\n      <td>2015-01-03</td>\n      <td>17</td>\n      <td>908718</td>\n      <td>0</td>\n      <td>0</td>\n      <td>0</td>\n      <td>5</td>\n      <td>...</td>\n      <td>474533</td>\n      <td>107174</td>\n      <td>367359</td>\n      <td>70297</td>\n      <td>36036</td>\n      <td>34261</td>\n      <td>1</td>\n      <td>23.3</td>\n      <td>3.0</td>\n      <td>13.8</td>\n    </tr>\n    <tr>\n      <th>...</th>\n      <td>...</td>\n      <td>...</td>\n      <td>...</td>\n      <td>...</td>\n      <td>...</td>\n      <td>...</td>\n      <td>...</td>\n      <td>...</td>\n      <td>...</td>\n      <td>...</td>\n      <td>...</td>\n      <td>...</td>\n      <td>...</td>\n      <td>...</td>\n      <td>...</td>\n      <td>...</td>\n      <td>...</td>\n      <td>...</td>\n      <td>...</td>\n      <td>...</td>\n      <td>...</td>\n    </tr>\n    <tr>\n      <th>9942</th>\n      <td>9669392</td>\n      <td>10.3</td>\n      <td>3</td>\n      <td>2021-12-19</td>\n      <td>47</td>\n      <td>2880415</td>\n      <td>0</td>\n      <td>0</td>\n      <td>0</td>\n      <td>22</td>\n      <td>...</td>\n      <td>672159</td>\n      <td>433059</td>\n      <td>239100</td>\n      <td>449635</td>\n      <td>415650</td>\n      <td>33985</td>\n      <td>2</td>\n      <td>17.6</td>\n      <td>0.0</td>\n      <td>17.3</td>\n    </tr>\n    <tr>\n      <th>9943</th>\n      <td>9911678</td>\n      <td>1.9</td>\n      <td>3</td>\n      <td>2021-12-28</td>\n      <td>49</td>\n      <td>2910427</td>\n      <td>0</td>\n      <td>0</td>\n      <td>0</td>\n      <td>20</td>\n      <td>...</td>\n      <td>870577</td>\n      <td>552785</td>\n      <td>317792</td>\n      <td>465851</td>\n      <td>308646</td>\n      <td>157205</td>\n      <td>0</td>\n      <td>21.6</td>\n      <td>0.0</td>\n      <td>9.8</td>\n    </tr>\n    <tr>\n      <th>9944</th>\n      <td>9476927</td>\n      <td>2.9</td>\n      <td>3</td>\n      <td>2021-12-28</td>\n      <td>49</td>\n      <td>2910427</td>\n      <td>0</td>\n      <td>0</td>\n      <td>0</td>\n      <td>20</td>\n      <td>...</td>\n      <td>870577</td>\n      <td>552785</td>\n      <td>317792</td>\n      <td>465851</td>\n      <td>308646</td>\n      <td>157205</td>\n      <td>1</td>\n      <td>21.6</td>\n      <td>0.0</td>\n      <td>9.8</td>\n    </tr>\n    <tr>\n      <th>9945</th>\n      <td>9305219</td>\n      <td>0.6</td>\n      <td>2</td>\n      <td>2021-12-30</td>\n      <td>47</td>\n      <td>2744630</td>\n      <td>0</td>\n      <td>0</td>\n      <td>0</td>\n      <td>17</td>\n      <td>...</td>\n      <td>929509</td>\n      <td>488312</td>\n      <td>441197</td>\n      <td>458868</td>\n      <td>341163</td>\n      <td>117705</td>\n      <td>0</td>\n      <td>20.3</td>\n      <td>0.0</td>\n      <td>10.6</td>\n    </tr>\n    <tr>\n      <th>9946</th>\n      <td>9566447</td>\n      <td>1.7</td>\n      <td>3</td>\n      <td>2021-12-29</td>\n      <td>50</td>\n      <td>2962586</td>\n      <td>0</td>\n      <td>0</td>\n      <td>0</td>\n      <td>20</td>\n      <td>...</td>\n      <td>924558</td>\n      <td>492466</td>\n      <td>432092</td>\n      <td>479429</td>\n      <td>301875</td>\n      <td>177554</td>\n      <td>0</td>\n      <td>21.2</td>\n      <td>0.0</td>\n      <td>14.6</td>\n    </tr>\n  </tbody>\n</table>\n<p>9947 rows × 34 columns</p>\n</div>"
     },
     "execution_count": 60,
     "metadata": {},
     "output_type": "execute_result"
    }
   ],
   "source": [
    "# Get data\n",
    "data = pd.read_csv('clean_data.csv', index_col=0, parse_dates=date_cols)\n",
    "weather_df = pd.read_csv('sao_paulo_weather.csv', parse_dates=['date'])\n",
    "weather_df = weather_df[['date','tavg','prcp','wspd']].rename(columns={'date': 'Date',\n",
    "                   'tavg': 'tempt',\n",
    "                   'prcp': 'prcp',\n",
    "                   'wspd': 'wspd'}, inplace=False)\n",
    "weather_df = weather_df.fillna(0)\n",
    "data = data.merge(weather_df, how='inner',left_on=['Date'], right_on=['Date'])\n",
    "\n",
    "# Drop cols with only 1 value\n",
    "for col in data.columns:\n",
    "    if len(data[col].unique()) == 1:\n",
    "        data.drop(col,axis=1, inplace=True)\n",
    "\n",
    "data.drop('Berth or Port Entry',axis=1, inplace=True)\n",
    "\n",
    "#convert DWT cols from obj to int\n",
    "for col in dwt_cols:\n",
    "    data[col] = data[col].str.replace(\",\",\"\").astype(int)\n",
    "#convert vessel_cols from float to int\n",
    "for col in vessel_cols:\n",
    "    data[col] = data[col].astype(int)\n",
    "\n",
    "#remove rows what were in Q4\n",
    "# data.drop(data.index[data[predict_col] > 10], inplace=True)\n",
    "\n",
    "#print cleaned data\n",
    "data"
   ],
   "metadata": {
    "collapsed": false,
    "pycharm": {
     "name": "#%%\n"
    }
   }
  },
  {
   "cell_type": "code",
   "execution_count": 63,
   "outputs": [],
   "source": [
    "# split to train & Test\n",
    "X_train, X_test, y_train, y_test = train_test_split(data.drop(predict_col,axis=1, inplace=False), data[predict_col], test_size=0.2, random_state=0) # ,stratify=data[predict_col])"
   ],
   "metadata": {
    "collapsed": false,
    "pycharm": {
     "name": "#%%\n"
    }
   }
  },
  {
   "cell_type": "markdown",
   "source": [
    "Create Pipeline"
   ],
   "metadata": {
    "collapsed": false
   }
  },
  {
   "cell_type": "code",
   "execution_count": 64,
   "outputs": [
    {
     "data": {
      "text/plain": "ColumnTransformer(transformers=[('cat_linear_processor', OneHotEncoder(),\n                                 ['Vessel Type']),\n                                ('date_linear_processor',\n                                 Pipeline(steps=[('ProcessDates',\n                                                  ProcessDates()),\n                                                 ('ProcessHolidays',\n                                                  ProcessHolidays()),\n                                                 ('DropDate',\n                                                  DropCol(cols=['Date']))]),\n                                 ['Date']),\n                                ('vessel_linear_processor',\n                                 Pipeline(steps=[('CreateDummyCol',\n                                                  CreateDummyCol()),\n                                                 ('ProcessVessel',\n                                                  Process...\n                                  'Capesize Unladen (DWT)', 'Panamax (DWT)',\n                                  'Panamax Laden (DWT)',\n                                  'Panamax Unladen (DWT)', 'Handymax (DWT)',\n                                  'Handymax Laden (DWT)',\n                                  'Handymax Unladen (DWT)', 'Handysize (DWT)',\n                                  'Handysize Laden (DWT)',\n                                  'Handysize Unladen (DWT)']),\n                                ('weather_linear_processor',\n                                 Pipeline(steps=[('CreateDummyCol',\n                                                  CreateDummyCol()),\n                                                 ('ProcessWeather',\n                                                  ProcessWeather()),\n                                                 ('ProcessWSpd',\n                                                  ProcessWSpd())]),\n                                 ['tempt', 'prcp', 'wspd'])])",
      "text/html": "<style>#sk-74d18089-b230-45ea-9516-12c3cf9e0448 {color: black;background-color: white;}#sk-74d18089-b230-45ea-9516-12c3cf9e0448 pre{padding: 0;}#sk-74d18089-b230-45ea-9516-12c3cf9e0448 div.sk-toggleable {background-color: white;}#sk-74d18089-b230-45ea-9516-12c3cf9e0448 label.sk-toggleable__label {cursor: pointer;display: block;width: 100%;margin-bottom: 0;padding: 0.3em;box-sizing: border-box;text-align: center;}#sk-74d18089-b230-45ea-9516-12c3cf9e0448 label.sk-toggleable__label-arrow:before {content: \"▸\";float: left;margin-right: 0.25em;color: #696969;}#sk-74d18089-b230-45ea-9516-12c3cf9e0448 label.sk-toggleable__label-arrow:hover:before {color: black;}#sk-74d18089-b230-45ea-9516-12c3cf9e0448 div.sk-estimator:hover label.sk-toggleable__label-arrow:before {color: black;}#sk-74d18089-b230-45ea-9516-12c3cf9e0448 div.sk-toggleable__content {max-height: 0;max-width: 0;overflow: hidden;text-align: left;background-color: #f0f8ff;}#sk-74d18089-b230-45ea-9516-12c3cf9e0448 div.sk-toggleable__content pre {margin: 0.2em;color: black;border-radius: 0.25em;background-color: #f0f8ff;}#sk-74d18089-b230-45ea-9516-12c3cf9e0448 input.sk-toggleable__control:checked~div.sk-toggleable__content {max-height: 200px;max-width: 100%;overflow: auto;}#sk-74d18089-b230-45ea-9516-12c3cf9e0448 input.sk-toggleable__control:checked~label.sk-toggleable__label-arrow:before {content: \"▾\";}#sk-74d18089-b230-45ea-9516-12c3cf9e0448 div.sk-estimator input.sk-toggleable__control:checked~label.sk-toggleable__label {background-color: #d4ebff;}#sk-74d18089-b230-45ea-9516-12c3cf9e0448 div.sk-label input.sk-toggleable__control:checked~label.sk-toggleable__label {background-color: #d4ebff;}#sk-74d18089-b230-45ea-9516-12c3cf9e0448 input.sk-hidden--visually {border: 0;clip: rect(1px 1px 1px 1px);clip: rect(1px, 1px, 1px, 1px);height: 1px;margin: -1px;overflow: hidden;padding: 0;position: absolute;width: 1px;}#sk-74d18089-b230-45ea-9516-12c3cf9e0448 div.sk-estimator {font-family: monospace;background-color: #f0f8ff;border: 1px dotted black;border-radius: 0.25em;box-sizing: border-box;margin-bottom: 0.5em;}#sk-74d18089-b230-45ea-9516-12c3cf9e0448 div.sk-estimator:hover {background-color: #d4ebff;}#sk-74d18089-b230-45ea-9516-12c3cf9e0448 div.sk-parallel-item::after {content: \"\";width: 100%;border-bottom: 1px solid gray;flex-grow: 1;}#sk-74d18089-b230-45ea-9516-12c3cf9e0448 div.sk-label:hover label.sk-toggleable__label {background-color: #d4ebff;}#sk-74d18089-b230-45ea-9516-12c3cf9e0448 div.sk-serial::before {content: \"\";position: absolute;border-left: 1px solid gray;box-sizing: border-box;top: 2em;bottom: 0;left: 50%;}#sk-74d18089-b230-45ea-9516-12c3cf9e0448 div.sk-serial {display: flex;flex-direction: column;align-items: center;background-color: white;padding-right: 0.2em;padding-left: 0.2em;}#sk-74d18089-b230-45ea-9516-12c3cf9e0448 div.sk-item {z-index: 1;}#sk-74d18089-b230-45ea-9516-12c3cf9e0448 div.sk-parallel {display: flex;align-items: stretch;justify-content: center;background-color: white;}#sk-74d18089-b230-45ea-9516-12c3cf9e0448 div.sk-parallel::before {content: \"\";position: absolute;border-left: 1px solid gray;box-sizing: border-box;top: 2em;bottom: 0;left: 50%;}#sk-74d18089-b230-45ea-9516-12c3cf9e0448 div.sk-parallel-item {display: flex;flex-direction: column;position: relative;background-color: white;}#sk-74d18089-b230-45ea-9516-12c3cf9e0448 div.sk-parallel-item:first-child::after {align-self: flex-end;width: 50%;}#sk-74d18089-b230-45ea-9516-12c3cf9e0448 div.sk-parallel-item:last-child::after {align-self: flex-start;width: 50%;}#sk-74d18089-b230-45ea-9516-12c3cf9e0448 div.sk-parallel-item:only-child::after {width: 0;}#sk-74d18089-b230-45ea-9516-12c3cf9e0448 div.sk-dashed-wrapped {border: 1px dashed gray;margin: 0 0.4em 0.5em 0.4em;box-sizing: border-box;padding-bottom: 0.4em;background-color: white;position: relative;}#sk-74d18089-b230-45ea-9516-12c3cf9e0448 div.sk-label label {font-family: monospace;font-weight: bold;background-color: white;display: inline-block;line-height: 1.2em;}#sk-74d18089-b230-45ea-9516-12c3cf9e0448 div.sk-label-container {position: relative;z-index: 2;text-align: center;}#sk-74d18089-b230-45ea-9516-12c3cf9e0448 div.sk-container {/* jupyter's `normalize.less` sets `[hidden] { display: none; }` but bootstrap.min.css set `[hidden] { display: none !important; }` so we also need the `!important` here to be able to override the default hidden behavior on the sphinx rendered scikit-learn.org. See: https://github.com/scikit-learn/scikit-learn/issues/21755 */display: inline-block !important;position: relative;}#sk-74d18089-b230-45ea-9516-12c3cf9e0448 div.sk-text-repr-fallback {display: none;}</style><div id=\"sk-74d18089-b230-45ea-9516-12c3cf9e0448\" class=\"sk-top-container\"><div class=\"sk-text-repr-fallback\"><pre>ColumnTransformer(transformers=[(&#x27;cat_linear_processor&#x27;, OneHotEncoder(),\n                                 [&#x27;Vessel Type&#x27;]),\n                                (&#x27;date_linear_processor&#x27;,\n                                 Pipeline(steps=[(&#x27;ProcessDates&#x27;,\n                                                  ProcessDates()),\n                                                 (&#x27;ProcessHolidays&#x27;,\n                                                  ProcessHolidays()),\n                                                 (&#x27;DropDate&#x27;,\n                                                  DropCol(cols=[&#x27;Date&#x27;]))]),\n                                 [&#x27;Date&#x27;]),\n                                (&#x27;vessel_linear_processor&#x27;,\n                                 Pipeline(steps=[(&#x27;CreateDummyCol&#x27;,\n                                                  CreateDummyCol()),\n                                                 (&#x27;ProcessVessel&#x27;,\n                                                  Process...\n                                  &#x27;Capesize Unladen (DWT)&#x27;, &#x27;Panamax (DWT)&#x27;,\n                                  &#x27;Panamax Laden (DWT)&#x27;,\n                                  &#x27;Panamax Unladen (DWT)&#x27;, &#x27;Handymax (DWT)&#x27;,\n                                  &#x27;Handymax Laden (DWT)&#x27;,\n                                  &#x27;Handymax Unladen (DWT)&#x27;, &#x27;Handysize (DWT)&#x27;,\n                                  &#x27;Handysize Laden (DWT)&#x27;,\n                                  &#x27;Handysize Unladen (DWT)&#x27;]),\n                                (&#x27;weather_linear_processor&#x27;,\n                                 Pipeline(steps=[(&#x27;CreateDummyCol&#x27;,\n                                                  CreateDummyCol()),\n                                                 (&#x27;ProcessWeather&#x27;,\n                                                  ProcessWeather()),\n                                                 (&#x27;ProcessWSpd&#x27;,\n                                                  ProcessWSpd())]),\n                                 [&#x27;tempt&#x27;, &#x27;prcp&#x27;, &#x27;wspd&#x27;])])</pre><b>Please rerun this cell to show the HTML repr or trust the notebook.</b></div><div class=\"sk-container\" hidden><div class=\"sk-item sk-dashed-wrapped\"><div class=\"sk-label-container\"><div class=\"sk-label sk-toggleable\"><input class=\"sk-toggleable__control sk-hidden--visually\" id=\"02d635a5-f143-4029-ab4f-76b6167f511d\" type=\"checkbox\" ><label for=\"02d635a5-f143-4029-ab4f-76b6167f511d\" class=\"sk-toggleable__label sk-toggleable__label-arrow\">ColumnTransformer</label><div class=\"sk-toggleable__content\"><pre>ColumnTransformer(transformers=[(&#x27;cat_linear_processor&#x27;, OneHotEncoder(),\n                                 [&#x27;Vessel Type&#x27;]),\n                                (&#x27;date_linear_processor&#x27;,\n                                 Pipeline(steps=[(&#x27;ProcessDates&#x27;,\n                                                  ProcessDates()),\n                                                 (&#x27;ProcessHolidays&#x27;,\n                                                  ProcessHolidays()),\n                                                 (&#x27;DropDate&#x27;,\n                                                  DropCol(cols=[&#x27;Date&#x27;]))]),\n                                 [&#x27;Date&#x27;]),\n                                (&#x27;vessel_linear_processor&#x27;,\n                                 Pipeline(steps=[(&#x27;CreateDummyCol&#x27;,\n                                                  CreateDummyCol()),\n                                                 (&#x27;ProcessVessel&#x27;,\n                                                  Process...\n                                  &#x27;Capesize Unladen (DWT)&#x27;, &#x27;Panamax (DWT)&#x27;,\n                                  &#x27;Panamax Laden (DWT)&#x27;,\n                                  &#x27;Panamax Unladen (DWT)&#x27;, &#x27;Handymax (DWT)&#x27;,\n                                  &#x27;Handymax Laden (DWT)&#x27;,\n                                  &#x27;Handymax Unladen (DWT)&#x27;, &#x27;Handysize (DWT)&#x27;,\n                                  &#x27;Handysize Laden (DWT)&#x27;,\n                                  &#x27;Handysize Unladen (DWT)&#x27;]),\n                                (&#x27;weather_linear_processor&#x27;,\n                                 Pipeline(steps=[(&#x27;CreateDummyCol&#x27;,\n                                                  CreateDummyCol()),\n                                                 (&#x27;ProcessWeather&#x27;,\n                                                  ProcessWeather()),\n                                                 (&#x27;ProcessWSpd&#x27;,\n                                                  ProcessWSpd())]),\n                                 [&#x27;tempt&#x27;, &#x27;prcp&#x27;, &#x27;wspd&#x27;])])</pre></div></div></div><div class=\"sk-parallel\"><div class=\"sk-parallel-item\"><div class=\"sk-item\"><div class=\"sk-label-container\"><div class=\"sk-label sk-toggleable\"><input class=\"sk-toggleable__control sk-hidden--visually\" id=\"8b531614-bc58-4e4e-bf57-272af963c49d\" type=\"checkbox\" ><label for=\"8b531614-bc58-4e4e-bf57-272af963c49d\" class=\"sk-toggleable__label sk-toggleable__label-arrow\">cat_linear_processor</label><div class=\"sk-toggleable__content\"><pre>[&#x27;Vessel Type&#x27;]</pre></div></div></div><div class=\"sk-serial\"><div class=\"sk-item\"><div class=\"sk-estimator sk-toggleable\"><input class=\"sk-toggleable__control sk-hidden--visually\" id=\"945ce96a-096f-4a1e-8c5e-d7db332b846d\" type=\"checkbox\" ><label for=\"945ce96a-096f-4a1e-8c5e-d7db332b846d\" class=\"sk-toggleable__label sk-toggleable__label-arrow\">OneHotEncoder</label><div class=\"sk-toggleable__content\"><pre>OneHotEncoder()</pre></div></div></div></div></div></div><div class=\"sk-parallel-item\"><div class=\"sk-item\"><div class=\"sk-label-container\"><div class=\"sk-label sk-toggleable\"><input class=\"sk-toggleable__control sk-hidden--visually\" id=\"472c519f-ee8f-4ec6-b480-9917e857e4be\" type=\"checkbox\" ><label for=\"472c519f-ee8f-4ec6-b480-9917e857e4be\" class=\"sk-toggleable__label sk-toggleable__label-arrow\">date_linear_processor</label><div class=\"sk-toggleable__content\"><pre>[&#x27;Date&#x27;]</pre></div></div></div><div class=\"sk-serial\"><div class=\"sk-item\"><div class=\"sk-serial\"><div class=\"sk-item\"><div class=\"sk-estimator sk-toggleable\"><input class=\"sk-toggleable__control sk-hidden--visually\" id=\"0a391239-f153-4222-b432-23fab150fa69\" type=\"checkbox\" ><label for=\"0a391239-f153-4222-b432-23fab150fa69\" class=\"sk-toggleable__label sk-toggleable__label-arrow\">ProcessDates</label><div class=\"sk-toggleable__content\"><pre>ProcessDates()</pre></div></div></div><div class=\"sk-item\"><div class=\"sk-estimator sk-toggleable\"><input class=\"sk-toggleable__control sk-hidden--visually\" id=\"d8967c8f-319d-43d6-817e-d5ed00c03853\" type=\"checkbox\" ><label for=\"d8967c8f-319d-43d6-817e-d5ed00c03853\" class=\"sk-toggleable__label sk-toggleable__label-arrow\">ProcessHolidays</label><div class=\"sk-toggleable__content\"><pre>ProcessHolidays()</pre></div></div></div><div class=\"sk-item\"><div class=\"sk-estimator sk-toggleable\"><input class=\"sk-toggleable__control sk-hidden--visually\" id=\"aa112d98-7f69-4a10-b7ae-56f66846018c\" type=\"checkbox\" ><label for=\"aa112d98-7f69-4a10-b7ae-56f66846018c\" class=\"sk-toggleable__label sk-toggleable__label-arrow\">DropCol</label><div class=\"sk-toggleable__content\"><pre>DropCol(cols=[&#x27;Date&#x27;])</pre></div></div></div></div></div></div></div></div><div class=\"sk-parallel-item\"><div class=\"sk-item\"><div class=\"sk-label-container\"><div class=\"sk-label sk-toggleable\"><input class=\"sk-toggleable__control sk-hidden--visually\" id=\"d72e144f-7252-4e6a-a726-a22b96b893a1\" type=\"checkbox\" ><label for=\"d72e144f-7252-4e6a-a726-a22b96b893a1\" class=\"sk-toggleable__label sk-toggleable__label-arrow\">vessel_linear_processor</label><div class=\"sk-toggleable__content\"><pre>[&#x27;Total Vessels (Number)&#x27;, &#x27;Capesize&#x27;, &#x27;Capesize Laden&#x27;, &#x27;Capesize Unladen&#x27;, &#x27;Panamax&#x27;, &#x27;Panamax Laden&#x27;, &#x27;Panamax Unladen&#x27;, &#x27;Handymax&#x27;, &#x27;Handymax Laden&#x27;, &#x27;Handymax Unladen&#x27;, &#x27;Handysize&#x27;, &#x27;Handysize Laden&#x27;, &#x27;Handysize Unladen&#x27;, &#x27;Total Vessels (DWT)&#x27;, &#x27;Capesize (DWT)&#x27;, &#x27;Capesize Laden (DWT)&#x27;, &#x27;Capesize Unladen (DWT)&#x27;, &#x27;Panamax (DWT)&#x27;, &#x27;Panamax Laden (DWT)&#x27;, &#x27;Panamax Unladen (DWT)&#x27;, &#x27;Handymax (DWT)&#x27;, &#x27;Handymax Laden (DWT)&#x27;, &#x27;Handymax Unladen (DWT)&#x27;, &#x27;Handysize (DWT)&#x27;, &#x27;Handysize Laden (DWT)&#x27;, &#x27;Handysize Unladen (DWT)&#x27;]</pre></div></div></div><div class=\"sk-serial\"><div class=\"sk-item\"><div class=\"sk-serial\"><div class=\"sk-item\"><div class=\"sk-estimator sk-toggleable\"><input class=\"sk-toggleable__control sk-hidden--visually\" id=\"a7ce3813-3553-4a54-929c-3089e027fe26\" type=\"checkbox\" ><label for=\"a7ce3813-3553-4a54-929c-3089e027fe26\" class=\"sk-toggleable__label sk-toggleable__label-arrow\">CreateDummyCol</label><div class=\"sk-toggleable__content\"><pre>CreateDummyCol()</pre></div></div></div><div class=\"sk-item\"><div class=\"sk-estimator sk-toggleable\"><input class=\"sk-toggleable__control sk-hidden--visually\" id=\"ad988b40-0d91-48f6-9c33-493000a5a3ca\" type=\"checkbox\" ><label for=\"ad988b40-0d91-48f6-9c33-493000a5a3ca\" class=\"sk-toggleable__label sk-toggleable__label-arrow\">ProcessVessel</label><div class=\"sk-toggleable__content\"><pre>ProcessVessel(dwt_cols=[&#x27;Total Vessels (DWT)&#x27;, &#x27;Capesize (DWT)&#x27;,\n                        &#x27;Capesize Laden (DWT)&#x27;, &#x27;Capesize Unladen (DWT)&#x27;,\n                        &#x27;Panamax (DWT)&#x27;, &#x27;Panamax Laden (DWT)&#x27;,\n                        &#x27;Panamax Unladen (DWT)&#x27;, &#x27;Handymax (DWT)&#x27;,\n                        &#x27;Handymax Laden (DWT)&#x27;, &#x27;Handymax Unladen (DWT)&#x27;,\n                        &#x27;Handysize (DWT)&#x27;, &#x27;Handysize Laden (DWT)&#x27;,\n                        &#x27;Handysize Unladen (DWT)&#x27;],\n              vessel_cols=[&#x27;Total Vessels (Number)&#x27;, &#x27;Capesize&#x27;,\n                           &#x27;Capesize Laden&#x27;, &#x27;Capesize Unladen&#x27;, &#x27;Panamax&#x27;,\n                           &#x27;Panamax Laden&#x27;, &#x27;Panamax Unladen&#x27;, &#x27;Handymax&#x27;,\n                           &#x27;Handymax Laden&#x27;, &#x27;Handymax Unladen&#x27;, &#x27;Handysize&#x27;,\n                           &#x27;Handysize Laden&#x27;, &#x27;Handysize Unladen&#x27;])</pre></div></div></div></div></div></div></div></div><div class=\"sk-parallel-item\"><div class=\"sk-item\"><div class=\"sk-label-container\"><div class=\"sk-label sk-toggleable\"><input class=\"sk-toggleable__control sk-hidden--visually\" id=\"a320994d-5e29-4408-9e27-a761546b722d\" type=\"checkbox\" ><label for=\"a320994d-5e29-4408-9e27-a761546b722d\" class=\"sk-toggleable__label sk-toggleable__label-arrow\">weather_linear_processor</label><div class=\"sk-toggleable__content\"><pre>[&#x27;tempt&#x27;, &#x27;prcp&#x27;, &#x27;wspd&#x27;]</pre></div></div></div><div class=\"sk-serial\"><div class=\"sk-item\"><div class=\"sk-serial\"><div class=\"sk-item\"><div class=\"sk-estimator sk-toggleable\"><input class=\"sk-toggleable__control sk-hidden--visually\" id=\"7eecdc32-9ddd-4375-b826-10076e21b6e3\" type=\"checkbox\" ><label for=\"7eecdc32-9ddd-4375-b826-10076e21b6e3\" class=\"sk-toggleable__label sk-toggleable__label-arrow\">CreateDummyCol</label><div class=\"sk-toggleable__content\"><pre>CreateDummyCol()</pre></div></div></div><div class=\"sk-item\"><div class=\"sk-estimator sk-toggleable\"><input class=\"sk-toggleable__control sk-hidden--visually\" id=\"e89f9e71-f715-45c2-b56b-6f6a8d87cb4c\" type=\"checkbox\" ><label for=\"e89f9e71-f715-45c2-b56b-6f6a8d87cb4c\" class=\"sk-toggleable__label sk-toggleable__label-arrow\">ProcessWeather</label><div class=\"sk-toggleable__content\"><pre>ProcessWeather()</pre></div></div></div><div class=\"sk-item\"><div class=\"sk-estimator sk-toggleable\"><input class=\"sk-toggleable__control sk-hidden--visually\" id=\"c226ef89-f1a6-4e90-a4b1-6fba0adaadef\" type=\"checkbox\" ><label for=\"c226ef89-f1a6-4e90-a4b1-6fba0adaadef\" class=\"sk-toggleable__label sk-toggleable__label-arrow\">ProcessWSpd</label><div class=\"sk-toggleable__content\"><pre>ProcessWSpd()</pre></div></div></div></div></div></div></div></div></div></div></div></div>"
     },
     "execution_count": 64,
     "metadata": {},
     "output_type": "execute_result"
    }
   ],
   "source": [
    "date_linear_processor = pipeline.Pipeline([('ProcessDates',ProcessDates()),('ProcessHolidays',ProcessHolidays()),('DropDate',DropCol(cols=date_cols))])\n",
    "numeric_linear_processor = pipeline.Pipeline([('Polynomial',PolynomialFeatures(degree=2,interaction_only =True,include_bias=True)),('Scaler',StandardScaler())])\n",
    "cat_linear_processor = OneHotEncoder()\n",
    "vessel_linear_processor = pipeline.Pipeline([('CreateDummyCol',CreateDummyCol()),('ProcessVessel',ProcessVessel(vessel_cols=vessel_cols,dwt_cols=dwt_cols))])\n",
    "weather_linear_processor = pipeline.Pipeline([('CreateDummyCol',CreateDummyCol()),('ProcessWeather',ProcessWeather()),('ProcessWSpd',ProcessWSpd())])\n",
    "\n",
    "data_preprocessor = ColumnTransformer([\n",
    "    # ('numeric_linear_processor',numeric_linear_processor, numeric_cols),\n",
    "    ('cat_linear_processor',cat_linear_processor, categorical_cols),\n",
    "    ('date_linear_processor',date_linear_processor, date_cols),\n",
    "    ('vessel_linear_processor',vessel_linear_processor, vessel_cols+dwt_cols),\n",
    "    ('weather_linear_processor',weather_linear_processor, weather_cols)\n",
    "])\n",
    "data_preprocessor\n"
   ],
   "metadata": {
    "collapsed": false,
    "pycharm": {
     "name": "#%%\n"
    }
   }
  },
  {
   "cell_type": "markdown",
   "source": [
    "Regressor model"
   ],
   "metadata": {
    "collapsed": false
   }
  },
  {
   "cell_type": "code",
   "execution_count": 65,
   "outputs": [],
   "source": [
    "param_grid = {\n",
    "    ## Preprocessing parameter options\n",
    "    # 'columntransformer__date_linear_processor__ProcessDates': [ProcessDates(),None],\n",
    "    # 'columntransformer__date_linear_processor__ProcessHolidays': [ProcessHolidays(),None],\n",
    "    # 'columntransformer__weather_linear_processor__ProcessWeather__action': ['actual','drop'],\n",
    "    # 'columntransformer__weather_linear_processor__ProcessWSpd__action': ['cat','drop'],\n",
    "    # 'columntransformer__vessel_linear_processor__ProcessVessel__usage': ['dwt','vessel'],\n",
    "\n",
    "\n",
    "    ## ElasticNet hyper parameters\n",
    "    # 'ElasticNet__regressor__alpha': np.linspace(0, 1, num=10),\n",
    "    # 'ElasticNet__regressor__l1_ratio': np.linspace(0, 1, num=10),\n",
    "\n",
    "    ## XGBoost hyper parameters\n",
    "    # 'XGBoost__regressor__reg_lambda': [0,0.1,0.5,1,5],\n",
    "    # 'XGBoost__regressor__n_estimators': [200,400,600,800,1200],\n",
    "    # 'XGBoost__regressor__learning_rate': np.linspace(0.05, 0.5, num=5),\n",
    "    # 'XGBoost__regressor__max_depth': [0,5,10,20,30,50,100],\n",
    "\n",
    "    ## RandomForest hyper parameters\n",
    "    # 'RandomForest__regressor__min_impurity_decrease': np.linspace(0.1, 0.5, num=4),\n",
    "    # 'RandomForest__regressor__min_samples_leaf': [2,5,10,20,50],\n",
    "    # 'RandomForest__regressor__min_samples_split': [2,5,10,20],\n",
    "    # 'RandomForest__regressor__n_estimators': range(100,400,100),\n",
    "\n",
    "    ## LGBM hyper parameters\n",
    "    # 'LGBM__regressor__learning_rate': np.linspace(0.05, 0.5, num=4),\n",
    "    # 'LGBM__regressor__max_depth': [5,10,50,100],\n",
    "    # 'LGBM__regressor__n_estimators': [200,500,800],\n",
    "\n",
    "    ## final estimator LGBM hyper parameters\n",
    "    # 'final_estimator__boosting_type': ['dart','goss','gbdt'],\n",
    "    # 'final_estimator__learning_rate': np.linspace(0.05, 0.5, num=5),\n",
    "    # 'final_estimator__max_depth': [-1,5,10,20,30,50,100],\n",
    "    # 'final_estimator__n_estimators': [200,400,600,800,1200],\n",
    "\n",
    "    # test tuner set\n",
    "\n",
    "    'columntransformer__date_linear_processor__ProcessDates': [ProcessDates()],\n",
    "    'columntransformer__date_linear_processor__ProcessHolidays': [None],\n",
    "    'columntransformer__weather_linear_processor__ProcessWeather__action': ['actual'],\n",
    "    'columntransformer__weather_linear_processor__ProcessWSpd__action': ['cat'],\n",
    "    'columntransformer__vessel_linear_processor__ProcessVessel__usage': ['vessel'],\n",
    "    'XGBoost__regressor__max_depth': [20,100],\n",
    "    'RandomForest__regressor__n_estimators': range(100,400,100),\n",
    "    'LGBM__regressor__n_estimators': [200,500,800],\n",
    "    'final_estimator__n_estimators': [200,500,800],\n",
    "    'ElasticNet__regressor__alpha': np.linspace(0, 1, num=2),\n",
    "}"
   ],
   "metadata": {
    "collapsed": false,
    "pycharm": {
     "name": "#%%\n"
    }
   }
  },
  {
   "cell_type": "code",
   "execution_count": 66,
   "outputs": [],
   "source": [
    "from sklearn.linear_model import ElasticNet\n",
    "from sklearn.ensemble import RandomForestRegressor,  GradientBoostingRegressor\n",
    "from xgboost import XGBRegressor\n",
    "from lightgbm  import LGBMRegressor\n",
    "from sklearn.ensemble import StackingRegressor\n",
    "estimators = [\n",
    "    (\"ElasticNet\", ElasticNet(random_state=0)),\n",
    "    (\"XGBoost\", XGBRegressor(objective='reg:squarederror',random_state=0,n_jobs=-1,use_label_encoder=False,  tree_method = 'gpu_hist')),#,eval_metric='r2'\n",
    "    (\"RandomForest\", RandomForestRegressor(random_state=0,n_jobs=-1)),\n",
    "    (\"LGBM\", LGBMRegressor(objective='regression',random_state=0,n_jobs=-1,device = 'gpu')),\n",
    "]\n",
    "finalestimators = []\n",
    "for estimator, model in estimators:\n",
    "    finalestimators.append((estimator,pipeline.Pipeline([('columntransformer',data_preprocessor),('DropZeroCol',DropZeroCol()),('regressor',model)])))\n",
    "final_estimator=LGBMRegressor(objective='regression',random_state=0,n_jobs=-1,device = 'gpu')\n",
    "stacking_Regressor = StackingRegressor(estimators=finalestimators, final_estimator=final_estimator,n_jobs=-1)\n",
    "# finalPipe = pipeline.make_pipeline(data_preprocessor,stacking_Regressor)\n",
    "finalPipe = stacking_Regressor"
   ],
   "metadata": {
    "collapsed": false,
    "pycharm": {
     "name": "#%%\n"
    }
   }
  },
  {
   "cell_type": "code",
   "execution_count": 67,
   "outputs": [
    {
     "data": {
      "text/plain": "StackingRegressor(estimators=[('ElasticNet',\n                               Pipeline(steps=[('columntransformer',\n                                                ColumnTransformer(transformers=[('cat_linear_processor',\n                                                                                 OneHotEncoder(),\n                                                                                 ['Vessel '\n                                                                                  'Type']),\n                                                                                ('date_linear_processor',\n                                                                                 Pipeline(steps=[('ProcessDates',\n                                                                                                  ProcessDates()),\n                                                                                                 ('ProcessHolidays',\n                                                                                                  ProcessHolidays()),\n                                                                                                 ('DropDate',\n                                                                                                  DropCol(cols=['Date']))]),\n                                                                                 ['Date']),\n                                                                                ('vessel_linear_proc...\n                                                                                 Pipeline(steps=[('CreateDummyCol',\n                                                                                                  CreateDummyCol()),\n                                                                                                 ('ProcessWeather',\n                                                                                                  ProcessWeather()),\n                                                                                                 ('ProcessWSpd',\n                                                                                                  ProcessWSpd())]),\n                                                                                 ['tempt',\n                                                                                  'prcp',\n                                                                                  'wspd'])])),\n                                               ('DropZeroCol', DropZeroCol()),\n                                               ('regressor',\n                                                LGBMRegressor(device='gpu',\n                                                              objective='regression',\n                                                              random_state=0))]))],\n                  final_estimator=LGBMRegressor(device='gpu',\n                                                objective='regression',\n                                                random_state=0),\n                  n_jobs=-1)",
      "text/html": "<style>#sk-70d30e8b-a7f2-4327-8279-6c68ed719ca6 {color: black;background-color: white;}#sk-70d30e8b-a7f2-4327-8279-6c68ed719ca6 pre{padding: 0;}#sk-70d30e8b-a7f2-4327-8279-6c68ed719ca6 div.sk-toggleable {background-color: white;}#sk-70d30e8b-a7f2-4327-8279-6c68ed719ca6 label.sk-toggleable__label {cursor: pointer;display: block;width: 100%;margin-bottom: 0;padding: 0.3em;box-sizing: border-box;text-align: center;}#sk-70d30e8b-a7f2-4327-8279-6c68ed719ca6 label.sk-toggleable__label-arrow:before {content: \"▸\";float: left;margin-right: 0.25em;color: #696969;}#sk-70d30e8b-a7f2-4327-8279-6c68ed719ca6 label.sk-toggleable__label-arrow:hover:before {color: black;}#sk-70d30e8b-a7f2-4327-8279-6c68ed719ca6 div.sk-estimator:hover label.sk-toggleable__label-arrow:before {color: black;}#sk-70d30e8b-a7f2-4327-8279-6c68ed719ca6 div.sk-toggleable__content {max-height: 0;max-width: 0;overflow: hidden;text-align: left;background-color: #f0f8ff;}#sk-70d30e8b-a7f2-4327-8279-6c68ed719ca6 div.sk-toggleable__content pre {margin: 0.2em;color: black;border-radius: 0.25em;background-color: #f0f8ff;}#sk-70d30e8b-a7f2-4327-8279-6c68ed719ca6 input.sk-toggleable__control:checked~div.sk-toggleable__content {max-height: 200px;max-width: 100%;overflow: auto;}#sk-70d30e8b-a7f2-4327-8279-6c68ed719ca6 input.sk-toggleable__control:checked~label.sk-toggleable__label-arrow:before {content: \"▾\";}#sk-70d30e8b-a7f2-4327-8279-6c68ed719ca6 div.sk-estimator input.sk-toggleable__control:checked~label.sk-toggleable__label {background-color: #d4ebff;}#sk-70d30e8b-a7f2-4327-8279-6c68ed719ca6 div.sk-label input.sk-toggleable__control:checked~label.sk-toggleable__label {background-color: #d4ebff;}#sk-70d30e8b-a7f2-4327-8279-6c68ed719ca6 input.sk-hidden--visually {border: 0;clip: rect(1px 1px 1px 1px);clip: rect(1px, 1px, 1px, 1px);height: 1px;margin: -1px;overflow: hidden;padding: 0;position: absolute;width: 1px;}#sk-70d30e8b-a7f2-4327-8279-6c68ed719ca6 div.sk-estimator {font-family: monospace;background-color: #f0f8ff;border: 1px dotted black;border-radius: 0.25em;box-sizing: border-box;margin-bottom: 0.5em;}#sk-70d30e8b-a7f2-4327-8279-6c68ed719ca6 div.sk-estimator:hover {background-color: #d4ebff;}#sk-70d30e8b-a7f2-4327-8279-6c68ed719ca6 div.sk-parallel-item::after {content: \"\";width: 100%;border-bottom: 1px solid gray;flex-grow: 1;}#sk-70d30e8b-a7f2-4327-8279-6c68ed719ca6 div.sk-label:hover label.sk-toggleable__label {background-color: #d4ebff;}#sk-70d30e8b-a7f2-4327-8279-6c68ed719ca6 div.sk-serial::before {content: \"\";position: absolute;border-left: 1px solid gray;box-sizing: border-box;top: 2em;bottom: 0;left: 50%;}#sk-70d30e8b-a7f2-4327-8279-6c68ed719ca6 div.sk-serial {display: flex;flex-direction: column;align-items: center;background-color: white;padding-right: 0.2em;padding-left: 0.2em;}#sk-70d30e8b-a7f2-4327-8279-6c68ed719ca6 div.sk-item {z-index: 1;}#sk-70d30e8b-a7f2-4327-8279-6c68ed719ca6 div.sk-parallel {display: flex;align-items: stretch;justify-content: center;background-color: white;}#sk-70d30e8b-a7f2-4327-8279-6c68ed719ca6 div.sk-parallel::before {content: \"\";position: absolute;border-left: 1px solid gray;box-sizing: border-box;top: 2em;bottom: 0;left: 50%;}#sk-70d30e8b-a7f2-4327-8279-6c68ed719ca6 div.sk-parallel-item {display: flex;flex-direction: column;position: relative;background-color: white;}#sk-70d30e8b-a7f2-4327-8279-6c68ed719ca6 div.sk-parallel-item:first-child::after {align-self: flex-end;width: 50%;}#sk-70d30e8b-a7f2-4327-8279-6c68ed719ca6 div.sk-parallel-item:last-child::after {align-self: flex-start;width: 50%;}#sk-70d30e8b-a7f2-4327-8279-6c68ed719ca6 div.sk-parallel-item:only-child::after {width: 0;}#sk-70d30e8b-a7f2-4327-8279-6c68ed719ca6 div.sk-dashed-wrapped {border: 1px dashed gray;margin: 0 0.4em 0.5em 0.4em;box-sizing: border-box;padding-bottom: 0.4em;background-color: white;position: relative;}#sk-70d30e8b-a7f2-4327-8279-6c68ed719ca6 div.sk-label label {font-family: monospace;font-weight: bold;background-color: white;display: inline-block;line-height: 1.2em;}#sk-70d30e8b-a7f2-4327-8279-6c68ed719ca6 div.sk-label-container {position: relative;z-index: 2;text-align: center;}#sk-70d30e8b-a7f2-4327-8279-6c68ed719ca6 div.sk-container {/* jupyter's `normalize.less` sets `[hidden] { display: none; }` but bootstrap.min.css set `[hidden] { display: none !important; }` so we also need the `!important` here to be able to override the default hidden behavior on the sphinx rendered scikit-learn.org. See: https://github.com/scikit-learn/scikit-learn/issues/21755 */display: inline-block !important;position: relative;}#sk-70d30e8b-a7f2-4327-8279-6c68ed719ca6 div.sk-text-repr-fallback {display: none;}</style><div id=\"sk-70d30e8b-a7f2-4327-8279-6c68ed719ca6\" class=\"sk-top-container\"><div class=\"sk-text-repr-fallback\"><pre>StackingRegressor(estimators=[(&#x27;ElasticNet&#x27;,\n                               Pipeline(steps=[(&#x27;columntransformer&#x27;,\n                                                ColumnTransformer(transformers=[(&#x27;cat_linear_processor&#x27;,\n                                                                                 OneHotEncoder(),\n                                                                                 [&#x27;Vessel &#x27;\n                                                                                  &#x27;Type&#x27;]),\n                                                                                (&#x27;date_linear_processor&#x27;,\n                                                                                 Pipeline(steps=[(&#x27;ProcessDates&#x27;,\n                                                                                                  ProcessDates()),\n                                                                                                 (&#x27;ProcessHolidays&#x27;,\n                                                                                                  ProcessHolidays()),\n                                                                                                 (&#x27;DropDate&#x27;,\n                                                                                                  DropCol(cols=[&#x27;Date&#x27;]))]),\n                                                                                 [&#x27;Date&#x27;]),\n                                                                                (&#x27;vessel_linear_proc...\n                                                                                 Pipeline(steps=[(&#x27;CreateDummyCol&#x27;,\n                                                                                                  CreateDummyCol()),\n                                                                                                 (&#x27;ProcessWeather&#x27;,\n                                                                                                  ProcessWeather()),\n                                                                                                 (&#x27;ProcessWSpd&#x27;,\n                                                                                                  ProcessWSpd())]),\n                                                                                 [&#x27;tempt&#x27;,\n                                                                                  &#x27;prcp&#x27;,\n                                                                                  &#x27;wspd&#x27;])])),\n                                               (&#x27;DropZeroCol&#x27;, DropZeroCol()),\n                                               (&#x27;regressor&#x27;,\n                                                LGBMRegressor(device=&#x27;gpu&#x27;,\n                                                              objective=&#x27;regression&#x27;,\n                                                              random_state=0))]))],\n                  final_estimator=LGBMRegressor(device=&#x27;gpu&#x27;,\n                                                objective=&#x27;regression&#x27;,\n                                                random_state=0),\n                  n_jobs=-1)</pre><b>Please rerun this cell to show the HTML repr or trust the notebook.</b></div><div class=\"sk-container\" hidden><div class=\"sk-item sk-dashed-wrapped\"><div class=\"sk-label-container\"><div class=\"sk-label sk-toggleable\"><input class=\"sk-toggleable__control sk-hidden--visually\" id=\"e740f012-dc31-4f65-a303-7e5c574124e9\" type=\"checkbox\" ><label for=\"e740f012-dc31-4f65-a303-7e5c574124e9\" class=\"sk-toggleable__label sk-toggleable__label-arrow\">StackingRegressor</label><div class=\"sk-toggleable__content\"><pre>StackingRegressor(estimators=[(&#x27;ElasticNet&#x27;,\n                               Pipeline(steps=[(&#x27;columntransformer&#x27;,\n                                                ColumnTransformer(transformers=[(&#x27;cat_linear_processor&#x27;,\n                                                                                 OneHotEncoder(),\n                                                                                 [&#x27;Vessel &#x27;\n                                                                                  &#x27;Type&#x27;]),\n                                                                                (&#x27;date_linear_processor&#x27;,\n                                                                                 Pipeline(steps=[(&#x27;ProcessDates&#x27;,\n                                                                                                  ProcessDates()),\n                                                                                                 (&#x27;ProcessHolidays&#x27;,\n                                                                                                  ProcessHolidays()),\n                                                                                                 (&#x27;DropDate&#x27;,\n                                                                                                  DropCol(cols=[&#x27;Date&#x27;]))]),\n                                                                                 [&#x27;Date&#x27;]),\n                                                                                (&#x27;vessel_linear_proc...\n                                                                                 Pipeline(steps=[(&#x27;CreateDummyCol&#x27;,\n                                                                                                  CreateDummyCol()),\n                                                                                                 (&#x27;ProcessWeather&#x27;,\n                                                                                                  ProcessWeather()),\n                                                                                                 (&#x27;ProcessWSpd&#x27;,\n                                                                                                  ProcessWSpd())]),\n                                                                                 [&#x27;tempt&#x27;,\n                                                                                  &#x27;prcp&#x27;,\n                                                                                  &#x27;wspd&#x27;])])),\n                                               (&#x27;DropZeroCol&#x27;, DropZeroCol()),\n                                               (&#x27;regressor&#x27;,\n                                                LGBMRegressor(device=&#x27;gpu&#x27;,\n                                                              objective=&#x27;regression&#x27;,\n                                                              random_state=0))]))],\n                  final_estimator=LGBMRegressor(device=&#x27;gpu&#x27;,\n                                                objective=&#x27;regression&#x27;,\n                                                random_state=0),\n                  n_jobs=-1)</pre></div></div></div><div class=\"sk-serial\"><div class=\"sk-item\"><div class=\"sk-parallel\"><div class=\"sk-parallel-item\"><div class=\"sk-item\"><div class=\"sk-label-container\"><div class=\"sk-label sk-toggleable\"><label>ElasticNet</label></div></div><div class=\"sk-serial\"><div class=\"sk-item\"><div class=\"sk-serial\"><div class=\"sk-item sk-dashed-wrapped\"><div class=\"sk-label-container\"><div class=\"sk-label sk-toggleable\"><input class=\"sk-toggleable__control sk-hidden--visually\" id=\"53d8c687-de85-4d3e-a67f-ef3d91635e11\" type=\"checkbox\" ><label for=\"53d8c687-de85-4d3e-a67f-ef3d91635e11\" class=\"sk-toggleable__label sk-toggleable__label-arrow\">columntransformer: ColumnTransformer</label><div class=\"sk-toggleable__content\"><pre>ColumnTransformer(transformers=[(&#x27;cat_linear_processor&#x27;, OneHotEncoder(),\n                                 [&#x27;Vessel Type&#x27;]),\n                                (&#x27;date_linear_processor&#x27;,\n                                 Pipeline(steps=[(&#x27;ProcessDates&#x27;,\n                                                  ProcessDates()),\n                                                 (&#x27;ProcessHolidays&#x27;,\n                                                  ProcessHolidays()),\n                                                 (&#x27;DropDate&#x27;,\n                                                  DropCol(cols=[&#x27;Date&#x27;]))]),\n                                 [&#x27;Date&#x27;]),\n                                (&#x27;vessel_linear_processor&#x27;,\n                                 Pipeline(steps=[(&#x27;CreateDummyCol&#x27;,\n                                                  CreateDummyCol()),\n                                                 (&#x27;ProcessVessel&#x27;,\n                                                  Process...\n                                  &#x27;Capesize Unladen (DWT)&#x27;, &#x27;Panamax (DWT)&#x27;,\n                                  &#x27;Panamax Laden (DWT)&#x27;,\n                                  &#x27;Panamax Unladen (DWT)&#x27;, &#x27;Handymax (DWT)&#x27;,\n                                  &#x27;Handymax Laden (DWT)&#x27;,\n                                  &#x27;Handymax Unladen (DWT)&#x27;, &#x27;Handysize (DWT)&#x27;,\n                                  &#x27;Handysize Laden (DWT)&#x27;,\n                                  &#x27;Handysize Unladen (DWT)&#x27;]),\n                                (&#x27;weather_linear_processor&#x27;,\n                                 Pipeline(steps=[(&#x27;CreateDummyCol&#x27;,\n                                                  CreateDummyCol()),\n                                                 (&#x27;ProcessWeather&#x27;,\n                                                  ProcessWeather()),\n                                                 (&#x27;ProcessWSpd&#x27;,\n                                                  ProcessWSpd())]),\n                                 [&#x27;tempt&#x27;, &#x27;prcp&#x27;, &#x27;wspd&#x27;])])</pre></div></div></div><div class=\"sk-parallel\"><div class=\"sk-parallel-item\"><div class=\"sk-item\"><div class=\"sk-label-container\"><div class=\"sk-label sk-toggleable\"><input class=\"sk-toggleable__control sk-hidden--visually\" id=\"e9f52465-172f-4184-910d-1d6ecd50c173\" type=\"checkbox\" ><label for=\"e9f52465-172f-4184-910d-1d6ecd50c173\" class=\"sk-toggleable__label sk-toggleable__label-arrow\">cat_linear_processor</label><div class=\"sk-toggleable__content\"><pre>[&#x27;Vessel Type&#x27;]</pre></div></div></div><div class=\"sk-serial\"><div class=\"sk-item\"><div class=\"sk-estimator sk-toggleable\"><input class=\"sk-toggleable__control sk-hidden--visually\" id=\"349a1b62-0bb2-471a-a98d-a667e3592865\" type=\"checkbox\" ><label for=\"349a1b62-0bb2-471a-a98d-a667e3592865\" class=\"sk-toggleable__label sk-toggleable__label-arrow\">OneHotEncoder</label><div class=\"sk-toggleable__content\"><pre>OneHotEncoder()</pre></div></div></div></div></div></div><div class=\"sk-parallel-item\"><div class=\"sk-item\"><div class=\"sk-label-container\"><div class=\"sk-label sk-toggleable\"><input class=\"sk-toggleable__control sk-hidden--visually\" id=\"dc77fc45-8c02-4bdc-948f-6819db9ef7c2\" type=\"checkbox\" ><label for=\"dc77fc45-8c02-4bdc-948f-6819db9ef7c2\" class=\"sk-toggleable__label sk-toggleable__label-arrow\">date_linear_processor</label><div class=\"sk-toggleable__content\"><pre>[&#x27;Date&#x27;]</pre></div></div></div><div class=\"sk-serial\"><div class=\"sk-item\"><div class=\"sk-serial\"><div class=\"sk-item\"><div class=\"sk-estimator sk-toggleable\"><input class=\"sk-toggleable__control sk-hidden--visually\" id=\"5af80311-540b-4e2b-84a3-1829bc06d6f3\" type=\"checkbox\" ><label for=\"5af80311-540b-4e2b-84a3-1829bc06d6f3\" class=\"sk-toggleable__label sk-toggleable__label-arrow\">ProcessDates</label><div class=\"sk-toggleable__content\"><pre>ProcessDates()</pre></div></div></div><div class=\"sk-item\"><div class=\"sk-estimator sk-toggleable\"><input class=\"sk-toggleable__control sk-hidden--visually\" id=\"e6e50ad9-1725-4002-aa0d-89eb51b53601\" type=\"checkbox\" ><label for=\"e6e50ad9-1725-4002-aa0d-89eb51b53601\" class=\"sk-toggleable__label sk-toggleable__label-arrow\">ProcessHolidays</label><div class=\"sk-toggleable__content\"><pre>ProcessHolidays()</pre></div></div></div><div class=\"sk-item\"><div class=\"sk-estimator sk-toggleable\"><input class=\"sk-toggleable__control sk-hidden--visually\" id=\"f8b97076-8fb7-452a-8f5c-73ddf7453616\" type=\"checkbox\" ><label for=\"f8b97076-8fb7-452a-8f5c-73ddf7453616\" class=\"sk-toggleable__label sk-toggleable__label-arrow\">DropCol</label><div class=\"sk-toggleable__content\"><pre>DropCol(cols=[&#x27;Date&#x27;])</pre></div></div></div></div></div></div></div></div><div class=\"sk-parallel-item\"><div class=\"sk-item\"><div class=\"sk-label-container\"><div class=\"sk-label sk-toggleable\"><input class=\"sk-toggleable__control sk-hidden--visually\" id=\"65e6af39-dae3-401f-a2f0-fffe9695aebc\" type=\"checkbox\" ><label for=\"65e6af39-dae3-401f-a2f0-fffe9695aebc\" class=\"sk-toggleable__label sk-toggleable__label-arrow\">vessel_linear_processor</label><div class=\"sk-toggleable__content\"><pre>[&#x27;Total Vessels (Number)&#x27;, &#x27;Capesize&#x27;, &#x27;Capesize Laden&#x27;, &#x27;Capesize Unladen&#x27;, &#x27;Panamax&#x27;, &#x27;Panamax Laden&#x27;, &#x27;Panamax Unladen&#x27;, &#x27;Handymax&#x27;, &#x27;Handymax Laden&#x27;, &#x27;Handymax Unladen&#x27;, &#x27;Handysize&#x27;, &#x27;Handysize Laden&#x27;, &#x27;Handysize Unladen&#x27;, &#x27;Total Vessels (DWT)&#x27;, &#x27;Capesize (DWT)&#x27;, &#x27;Capesize Laden (DWT)&#x27;, &#x27;Capesize Unladen (DWT)&#x27;, &#x27;Panamax (DWT)&#x27;, &#x27;Panamax Laden (DWT)&#x27;, &#x27;Panamax Unladen (DWT)&#x27;, &#x27;Handymax (DWT)&#x27;, &#x27;Handymax Laden (DWT)&#x27;, &#x27;Handymax Unladen (DWT)&#x27;, &#x27;Handysize (DWT)&#x27;, &#x27;Handysize Laden (DWT)&#x27;, &#x27;Handysize Unladen (DWT)&#x27;]</pre></div></div></div><div class=\"sk-serial\"><div class=\"sk-item\"><div class=\"sk-serial\"><div class=\"sk-item\"><div class=\"sk-estimator sk-toggleable\"><input class=\"sk-toggleable__control sk-hidden--visually\" id=\"37dc8ec4-1722-46ae-a4f7-fb9cc0a22732\" type=\"checkbox\" ><label for=\"37dc8ec4-1722-46ae-a4f7-fb9cc0a22732\" class=\"sk-toggleable__label sk-toggleable__label-arrow\">CreateDummyCol</label><div class=\"sk-toggleable__content\"><pre>CreateDummyCol()</pre></div></div></div><div class=\"sk-item\"><div class=\"sk-estimator sk-toggleable\"><input class=\"sk-toggleable__control sk-hidden--visually\" id=\"98420baf-e9ed-47b6-9fb0-f9d44eca6746\" type=\"checkbox\" ><label for=\"98420baf-e9ed-47b6-9fb0-f9d44eca6746\" class=\"sk-toggleable__label sk-toggleable__label-arrow\">ProcessVessel</label><div class=\"sk-toggleable__content\"><pre>ProcessVessel(dwt_cols=[&#x27;Total Vessels (DWT)&#x27;, &#x27;Capesize (DWT)&#x27;,\n                        &#x27;Capesize Laden (DWT)&#x27;, &#x27;Capesize Unladen (DWT)&#x27;,\n                        &#x27;Panamax (DWT)&#x27;, &#x27;Panamax Laden (DWT)&#x27;,\n                        &#x27;Panamax Unladen (DWT)&#x27;, &#x27;Handymax (DWT)&#x27;,\n                        &#x27;Handymax Laden (DWT)&#x27;, &#x27;Handymax Unladen (DWT)&#x27;,\n                        &#x27;Handysize (DWT)&#x27;, &#x27;Handysize Laden (DWT)&#x27;,\n                        &#x27;Handysize Unladen (DWT)&#x27;],\n              vessel_cols=[&#x27;Total Vessels (Number)&#x27;, &#x27;Capesize&#x27;,\n                           &#x27;Capesize Laden&#x27;, &#x27;Capesize Unladen&#x27;, &#x27;Panamax&#x27;,\n                           &#x27;Panamax Laden&#x27;, &#x27;Panamax Unladen&#x27;, &#x27;Handymax&#x27;,\n                           &#x27;Handymax Laden&#x27;, &#x27;Handymax Unladen&#x27;, &#x27;Handysize&#x27;,\n                           &#x27;Handysize Laden&#x27;, &#x27;Handysize Unladen&#x27;])</pre></div></div></div></div></div></div></div></div><div class=\"sk-parallel-item\"><div class=\"sk-item\"><div class=\"sk-label-container\"><div class=\"sk-label sk-toggleable\"><input class=\"sk-toggleable__control sk-hidden--visually\" id=\"a105cde7-18a0-4da8-86ab-86696ac0479d\" type=\"checkbox\" ><label for=\"a105cde7-18a0-4da8-86ab-86696ac0479d\" class=\"sk-toggleable__label sk-toggleable__label-arrow\">weather_linear_processor</label><div class=\"sk-toggleable__content\"><pre>[&#x27;tempt&#x27;, &#x27;prcp&#x27;, &#x27;wspd&#x27;]</pre></div></div></div><div class=\"sk-serial\"><div class=\"sk-item\"><div class=\"sk-serial\"><div class=\"sk-item\"><div class=\"sk-estimator sk-toggleable\"><input class=\"sk-toggleable__control sk-hidden--visually\" id=\"058afc10-aab3-4c58-8b9e-5da9ead679f5\" type=\"checkbox\" ><label for=\"058afc10-aab3-4c58-8b9e-5da9ead679f5\" class=\"sk-toggleable__label sk-toggleable__label-arrow\">CreateDummyCol</label><div class=\"sk-toggleable__content\"><pre>CreateDummyCol()</pre></div></div></div><div class=\"sk-item\"><div class=\"sk-estimator sk-toggleable\"><input class=\"sk-toggleable__control sk-hidden--visually\" id=\"24104461-6722-45e1-ab23-466dcb97704b\" type=\"checkbox\" ><label for=\"24104461-6722-45e1-ab23-466dcb97704b\" class=\"sk-toggleable__label sk-toggleable__label-arrow\">ProcessWeather</label><div class=\"sk-toggleable__content\"><pre>ProcessWeather()</pre></div></div></div><div class=\"sk-item\"><div class=\"sk-estimator sk-toggleable\"><input class=\"sk-toggleable__control sk-hidden--visually\" id=\"1d8f49f2-61d3-4a14-83e0-18cb81ccfb96\" type=\"checkbox\" ><label for=\"1d8f49f2-61d3-4a14-83e0-18cb81ccfb96\" class=\"sk-toggleable__label sk-toggleable__label-arrow\">ProcessWSpd</label><div class=\"sk-toggleable__content\"><pre>ProcessWSpd()</pre></div></div></div></div></div></div></div></div></div></div><div class=\"sk-item\"><div class=\"sk-estimator sk-toggleable\"><input class=\"sk-toggleable__control sk-hidden--visually\" id=\"7ee238ff-6e85-41f2-aae3-921f5c0f083a\" type=\"checkbox\" ><label for=\"7ee238ff-6e85-41f2-aae3-921f5c0f083a\" class=\"sk-toggleable__label sk-toggleable__label-arrow\">DropZeroCol</label><div class=\"sk-toggleable__content\"><pre>DropZeroCol()</pre></div></div></div><div class=\"sk-item\"><div class=\"sk-estimator sk-toggleable\"><input class=\"sk-toggleable__control sk-hidden--visually\" id=\"d1047781-417c-4773-8f27-1fdeb5901352\" type=\"checkbox\" ><label for=\"d1047781-417c-4773-8f27-1fdeb5901352\" class=\"sk-toggleable__label sk-toggleable__label-arrow\">ElasticNet</label><div class=\"sk-toggleable__content\"><pre>ElasticNet(random_state=0)</pre></div></div></div></div></div></div></div></div><div class=\"sk-parallel-item\"><div class=\"sk-item\"><div class=\"sk-label-container\"><div class=\"sk-label sk-toggleable\"><label>XGBoost</label></div></div><div class=\"sk-serial\"><div class=\"sk-item\"><div class=\"sk-serial\"><div class=\"sk-item sk-dashed-wrapped\"><div class=\"sk-label-container\"><div class=\"sk-label sk-toggleable\"><input class=\"sk-toggleable__control sk-hidden--visually\" id=\"2ce21f6f-fee0-4948-8990-b3f6c063e38b\" type=\"checkbox\" ><label for=\"2ce21f6f-fee0-4948-8990-b3f6c063e38b\" class=\"sk-toggleable__label sk-toggleable__label-arrow\">columntransformer: ColumnTransformer</label><div class=\"sk-toggleable__content\"><pre>ColumnTransformer(transformers=[(&#x27;cat_linear_processor&#x27;, OneHotEncoder(),\n                                 [&#x27;Vessel Type&#x27;]),\n                                (&#x27;date_linear_processor&#x27;,\n                                 Pipeline(steps=[(&#x27;ProcessDates&#x27;,\n                                                  ProcessDates()),\n                                                 (&#x27;ProcessHolidays&#x27;,\n                                                  ProcessHolidays()),\n                                                 (&#x27;DropDate&#x27;,\n                                                  DropCol(cols=[&#x27;Date&#x27;]))]),\n                                 [&#x27;Date&#x27;]),\n                                (&#x27;vessel_linear_processor&#x27;,\n                                 Pipeline(steps=[(&#x27;CreateDummyCol&#x27;,\n                                                  CreateDummyCol()),\n                                                 (&#x27;ProcessVessel&#x27;,\n                                                  Process...\n                                  &#x27;Capesize Unladen (DWT)&#x27;, &#x27;Panamax (DWT)&#x27;,\n                                  &#x27;Panamax Laden (DWT)&#x27;,\n                                  &#x27;Panamax Unladen (DWT)&#x27;, &#x27;Handymax (DWT)&#x27;,\n                                  &#x27;Handymax Laden (DWT)&#x27;,\n                                  &#x27;Handymax Unladen (DWT)&#x27;, &#x27;Handysize (DWT)&#x27;,\n                                  &#x27;Handysize Laden (DWT)&#x27;,\n                                  &#x27;Handysize Unladen (DWT)&#x27;]),\n                                (&#x27;weather_linear_processor&#x27;,\n                                 Pipeline(steps=[(&#x27;CreateDummyCol&#x27;,\n                                                  CreateDummyCol()),\n                                                 (&#x27;ProcessWeather&#x27;,\n                                                  ProcessWeather()),\n                                                 (&#x27;ProcessWSpd&#x27;,\n                                                  ProcessWSpd())]),\n                                 [&#x27;tempt&#x27;, &#x27;prcp&#x27;, &#x27;wspd&#x27;])])</pre></div></div></div><div class=\"sk-parallel\"><div class=\"sk-parallel-item\"><div class=\"sk-item\"><div class=\"sk-label-container\"><div class=\"sk-label sk-toggleable\"><input class=\"sk-toggleable__control sk-hidden--visually\" id=\"5299a1f2-f83a-4aac-a586-16381e8c0d2b\" type=\"checkbox\" ><label for=\"5299a1f2-f83a-4aac-a586-16381e8c0d2b\" class=\"sk-toggleable__label sk-toggleable__label-arrow\">cat_linear_processor</label><div class=\"sk-toggleable__content\"><pre>[&#x27;Vessel Type&#x27;]</pre></div></div></div><div class=\"sk-serial\"><div class=\"sk-item\"><div class=\"sk-estimator sk-toggleable\"><input class=\"sk-toggleable__control sk-hidden--visually\" id=\"e7944b78-81da-40f8-b858-3e554f20476a\" type=\"checkbox\" ><label for=\"e7944b78-81da-40f8-b858-3e554f20476a\" class=\"sk-toggleable__label sk-toggleable__label-arrow\">OneHotEncoder</label><div class=\"sk-toggleable__content\"><pre>OneHotEncoder()</pre></div></div></div></div></div></div><div class=\"sk-parallel-item\"><div class=\"sk-item\"><div class=\"sk-label-container\"><div class=\"sk-label sk-toggleable\"><input class=\"sk-toggleable__control sk-hidden--visually\" id=\"a6817c4c-5ebc-40cc-b531-a50256123a2a\" type=\"checkbox\" ><label for=\"a6817c4c-5ebc-40cc-b531-a50256123a2a\" class=\"sk-toggleable__label sk-toggleable__label-arrow\">date_linear_processor</label><div class=\"sk-toggleable__content\"><pre>[&#x27;Date&#x27;]</pre></div></div></div><div class=\"sk-serial\"><div class=\"sk-item\"><div class=\"sk-serial\"><div class=\"sk-item\"><div class=\"sk-estimator sk-toggleable\"><input class=\"sk-toggleable__control sk-hidden--visually\" id=\"23be1572-2b71-458a-a89d-360212561fa9\" type=\"checkbox\" ><label for=\"23be1572-2b71-458a-a89d-360212561fa9\" class=\"sk-toggleable__label sk-toggleable__label-arrow\">ProcessDates</label><div class=\"sk-toggleable__content\"><pre>ProcessDates()</pre></div></div></div><div class=\"sk-item\"><div class=\"sk-estimator sk-toggleable\"><input class=\"sk-toggleable__control sk-hidden--visually\" id=\"9cdaa5c7-35c6-424e-9bdd-ef0578ff772c\" type=\"checkbox\" ><label for=\"9cdaa5c7-35c6-424e-9bdd-ef0578ff772c\" class=\"sk-toggleable__label sk-toggleable__label-arrow\">ProcessHolidays</label><div class=\"sk-toggleable__content\"><pre>ProcessHolidays()</pre></div></div></div><div class=\"sk-item\"><div class=\"sk-estimator sk-toggleable\"><input class=\"sk-toggleable__control sk-hidden--visually\" id=\"ee0544b8-2353-457a-ae63-9f468fe84cf5\" type=\"checkbox\" ><label for=\"ee0544b8-2353-457a-ae63-9f468fe84cf5\" class=\"sk-toggleable__label sk-toggleable__label-arrow\">DropCol</label><div class=\"sk-toggleable__content\"><pre>DropCol(cols=[&#x27;Date&#x27;])</pre></div></div></div></div></div></div></div></div><div class=\"sk-parallel-item\"><div class=\"sk-item\"><div class=\"sk-label-container\"><div class=\"sk-label sk-toggleable\"><input class=\"sk-toggleable__control sk-hidden--visually\" id=\"5cc88d72-7025-4552-bb9f-7a44767cf072\" type=\"checkbox\" ><label for=\"5cc88d72-7025-4552-bb9f-7a44767cf072\" class=\"sk-toggleable__label sk-toggleable__label-arrow\">vessel_linear_processor</label><div class=\"sk-toggleable__content\"><pre>[&#x27;Total Vessels (Number)&#x27;, &#x27;Capesize&#x27;, &#x27;Capesize Laden&#x27;, &#x27;Capesize Unladen&#x27;, &#x27;Panamax&#x27;, &#x27;Panamax Laden&#x27;, &#x27;Panamax Unladen&#x27;, &#x27;Handymax&#x27;, &#x27;Handymax Laden&#x27;, &#x27;Handymax Unladen&#x27;, &#x27;Handysize&#x27;, &#x27;Handysize Laden&#x27;, &#x27;Handysize Unladen&#x27;, &#x27;Total Vessels (DWT)&#x27;, &#x27;Capesize (DWT)&#x27;, &#x27;Capesize Laden (DWT)&#x27;, &#x27;Capesize Unladen (DWT)&#x27;, &#x27;Panamax (DWT)&#x27;, &#x27;Panamax Laden (DWT)&#x27;, &#x27;Panamax Unladen (DWT)&#x27;, &#x27;Handymax (DWT)&#x27;, &#x27;Handymax Laden (DWT)&#x27;, &#x27;Handymax Unladen (DWT)&#x27;, &#x27;Handysize (DWT)&#x27;, &#x27;Handysize Laden (DWT)&#x27;, &#x27;Handysize Unladen (DWT)&#x27;]</pre></div></div></div><div class=\"sk-serial\"><div class=\"sk-item\"><div class=\"sk-serial\"><div class=\"sk-item\"><div class=\"sk-estimator sk-toggleable\"><input class=\"sk-toggleable__control sk-hidden--visually\" id=\"20ff028c-a566-47b9-a464-2b6cddd59a8b\" type=\"checkbox\" ><label for=\"20ff028c-a566-47b9-a464-2b6cddd59a8b\" class=\"sk-toggleable__label sk-toggleable__label-arrow\">CreateDummyCol</label><div class=\"sk-toggleable__content\"><pre>CreateDummyCol()</pre></div></div></div><div class=\"sk-item\"><div class=\"sk-estimator sk-toggleable\"><input class=\"sk-toggleable__control sk-hidden--visually\" id=\"9d2f4024-4a14-48ba-95d6-6d484cd50c2d\" type=\"checkbox\" ><label for=\"9d2f4024-4a14-48ba-95d6-6d484cd50c2d\" class=\"sk-toggleable__label sk-toggleable__label-arrow\">ProcessVessel</label><div class=\"sk-toggleable__content\"><pre>ProcessVessel(dwt_cols=[&#x27;Total Vessels (DWT)&#x27;, &#x27;Capesize (DWT)&#x27;,\n                        &#x27;Capesize Laden (DWT)&#x27;, &#x27;Capesize Unladen (DWT)&#x27;,\n                        &#x27;Panamax (DWT)&#x27;, &#x27;Panamax Laden (DWT)&#x27;,\n                        &#x27;Panamax Unladen (DWT)&#x27;, &#x27;Handymax (DWT)&#x27;,\n                        &#x27;Handymax Laden (DWT)&#x27;, &#x27;Handymax Unladen (DWT)&#x27;,\n                        &#x27;Handysize (DWT)&#x27;, &#x27;Handysize Laden (DWT)&#x27;,\n                        &#x27;Handysize Unladen (DWT)&#x27;],\n              vessel_cols=[&#x27;Total Vessels (Number)&#x27;, &#x27;Capesize&#x27;,\n                           &#x27;Capesize Laden&#x27;, &#x27;Capesize Unladen&#x27;, &#x27;Panamax&#x27;,\n                           &#x27;Panamax Laden&#x27;, &#x27;Panamax Unladen&#x27;, &#x27;Handymax&#x27;,\n                           &#x27;Handymax Laden&#x27;, &#x27;Handymax Unladen&#x27;, &#x27;Handysize&#x27;,\n                           &#x27;Handysize Laden&#x27;, &#x27;Handysize Unladen&#x27;])</pre></div></div></div></div></div></div></div></div><div class=\"sk-parallel-item\"><div class=\"sk-item\"><div class=\"sk-label-container\"><div class=\"sk-label sk-toggleable\"><input class=\"sk-toggleable__control sk-hidden--visually\" id=\"2aada3c9-bdf1-4f21-a101-ccf2c866ce40\" type=\"checkbox\" ><label for=\"2aada3c9-bdf1-4f21-a101-ccf2c866ce40\" class=\"sk-toggleable__label sk-toggleable__label-arrow\">weather_linear_processor</label><div class=\"sk-toggleable__content\"><pre>[&#x27;tempt&#x27;, &#x27;prcp&#x27;, &#x27;wspd&#x27;]</pre></div></div></div><div class=\"sk-serial\"><div class=\"sk-item\"><div class=\"sk-serial\"><div class=\"sk-item\"><div class=\"sk-estimator sk-toggleable\"><input class=\"sk-toggleable__control sk-hidden--visually\" id=\"6bb3b5b7-9e69-48f0-9531-f39b881dc312\" type=\"checkbox\" ><label for=\"6bb3b5b7-9e69-48f0-9531-f39b881dc312\" class=\"sk-toggleable__label sk-toggleable__label-arrow\">CreateDummyCol</label><div class=\"sk-toggleable__content\"><pre>CreateDummyCol()</pre></div></div></div><div class=\"sk-item\"><div class=\"sk-estimator sk-toggleable\"><input class=\"sk-toggleable__control sk-hidden--visually\" id=\"d631e05c-a589-41dc-8c1e-1218d89a11a3\" type=\"checkbox\" ><label for=\"d631e05c-a589-41dc-8c1e-1218d89a11a3\" class=\"sk-toggleable__label sk-toggleable__label-arrow\">ProcessWeather</label><div class=\"sk-toggleable__content\"><pre>ProcessWeather()</pre></div></div></div><div class=\"sk-item\"><div class=\"sk-estimator sk-toggleable\"><input class=\"sk-toggleable__control sk-hidden--visually\" id=\"2f2dba42-51f9-479c-84e2-0f9a74034d43\" type=\"checkbox\" ><label for=\"2f2dba42-51f9-479c-84e2-0f9a74034d43\" class=\"sk-toggleable__label sk-toggleable__label-arrow\">ProcessWSpd</label><div class=\"sk-toggleable__content\"><pre>ProcessWSpd()</pre></div></div></div></div></div></div></div></div></div></div><div class=\"sk-item\"><div class=\"sk-estimator sk-toggleable\"><input class=\"sk-toggleable__control sk-hidden--visually\" id=\"9b18415b-e4e6-42db-9034-c845164928cf\" type=\"checkbox\" ><label for=\"9b18415b-e4e6-42db-9034-c845164928cf\" class=\"sk-toggleable__label sk-toggleable__label-arrow\">DropZeroCol</label><div class=\"sk-toggleable__content\"><pre>DropZeroCol()</pre></div></div></div><div class=\"sk-item\"><div class=\"sk-estimator sk-toggleable\"><input class=\"sk-toggleable__control sk-hidden--visually\" id=\"efe092eb-2d46-4d04-a8a9-395c003f1515\" type=\"checkbox\" ><label for=\"efe092eb-2d46-4d04-a8a9-395c003f1515\" class=\"sk-toggleable__label sk-toggleable__label-arrow\">XGBRegressor</label><div class=\"sk-toggleable__content\"><pre>XGBRegressor(base_score=None, booster=None, colsample_bylevel=None,\n             colsample_bynode=None, colsample_bytree=None,\n             enable_categorical=False, gamma=None, gpu_id=None,\n             importance_type=None, interaction_constraints=None,\n             learning_rate=None, max_delta_step=None, max_depth=None,\n             min_child_weight=None, missing=nan, monotone_constraints=None,\n             n_estimators=100, n_jobs=-1, num_parallel_tree=None,\n             predictor=None, random_state=0, reg_alpha=None, reg_lambda=None,\n             scale_pos_weight=None, subsample=None, tree_method=&#x27;gpu_hist&#x27;,\n             use_label_encoder=False, validate_parameters=None, verbosity=None)</pre></div></div></div></div></div></div></div></div><div class=\"sk-parallel-item\"><div class=\"sk-item\"><div class=\"sk-label-container\"><div class=\"sk-label sk-toggleable\"><label>RandomForest</label></div></div><div class=\"sk-serial\"><div class=\"sk-item\"><div class=\"sk-serial\"><div class=\"sk-item sk-dashed-wrapped\"><div class=\"sk-label-container\"><div class=\"sk-label sk-toggleable\"><input class=\"sk-toggleable__control sk-hidden--visually\" id=\"e86d430f-6804-4bc2-aba7-0db9e2ebdd48\" type=\"checkbox\" ><label for=\"e86d430f-6804-4bc2-aba7-0db9e2ebdd48\" class=\"sk-toggleable__label sk-toggleable__label-arrow\">columntransformer: ColumnTransformer</label><div class=\"sk-toggleable__content\"><pre>ColumnTransformer(transformers=[(&#x27;cat_linear_processor&#x27;, OneHotEncoder(),\n                                 [&#x27;Vessel Type&#x27;]),\n                                (&#x27;date_linear_processor&#x27;,\n                                 Pipeline(steps=[(&#x27;ProcessDates&#x27;,\n                                                  ProcessDates()),\n                                                 (&#x27;ProcessHolidays&#x27;,\n                                                  ProcessHolidays()),\n                                                 (&#x27;DropDate&#x27;,\n                                                  DropCol(cols=[&#x27;Date&#x27;]))]),\n                                 [&#x27;Date&#x27;]),\n                                (&#x27;vessel_linear_processor&#x27;,\n                                 Pipeline(steps=[(&#x27;CreateDummyCol&#x27;,\n                                                  CreateDummyCol()),\n                                                 (&#x27;ProcessVessel&#x27;,\n                                                  Process...\n                                  &#x27;Capesize Unladen (DWT)&#x27;, &#x27;Panamax (DWT)&#x27;,\n                                  &#x27;Panamax Laden (DWT)&#x27;,\n                                  &#x27;Panamax Unladen (DWT)&#x27;, &#x27;Handymax (DWT)&#x27;,\n                                  &#x27;Handymax Laden (DWT)&#x27;,\n                                  &#x27;Handymax Unladen (DWT)&#x27;, &#x27;Handysize (DWT)&#x27;,\n                                  &#x27;Handysize Laden (DWT)&#x27;,\n                                  &#x27;Handysize Unladen (DWT)&#x27;]),\n                                (&#x27;weather_linear_processor&#x27;,\n                                 Pipeline(steps=[(&#x27;CreateDummyCol&#x27;,\n                                                  CreateDummyCol()),\n                                                 (&#x27;ProcessWeather&#x27;,\n                                                  ProcessWeather()),\n                                                 (&#x27;ProcessWSpd&#x27;,\n                                                  ProcessWSpd())]),\n                                 [&#x27;tempt&#x27;, &#x27;prcp&#x27;, &#x27;wspd&#x27;])])</pre></div></div></div><div class=\"sk-parallel\"><div class=\"sk-parallel-item\"><div class=\"sk-item\"><div class=\"sk-label-container\"><div class=\"sk-label sk-toggleable\"><input class=\"sk-toggleable__control sk-hidden--visually\" id=\"ee886e07-e17a-4a85-973d-588fd9735d9c\" type=\"checkbox\" ><label for=\"ee886e07-e17a-4a85-973d-588fd9735d9c\" class=\"sk-toggleable__label sk-toggleable__label-arrow\">cat_linear_processor</label><div class=\"sk-toggleable__content\"><pre>[&#x27;Vessel Type&#x27;]</pre></div></div></div><div class=\"sk-serial\"><div class=\"sk-item\"><div class=\"sk-estimator sk-toggleable\"><input class=\"sk-toggleable__control sk-hidden--visually\" id=\"bc6cbfd1-1c4e-46af-87b7-8f9170536a1f\" type=\"checkbox\" ><label for=\"bc6cbfd1-1c4e-46af-87b7-8f9170536a1f\" class=\"sk-toggleable__label sk-toggleable__label-arrow\">OneHotEncoder</label><div class=\"sk-toggleable__content\"><pre>OneHotEncoder()</pre></div></div></div></div></div></div><div class=\"sk-parallel-item\"><div class=\"sk-item\"><div class=\"sk-label-container\"><div class=\"sk-label sk-toggleable\"><input class=\"sk-toggleable__control sk-hidden--visually\" id=\"81a52cbd-fe5c-4e66-81f8-a7d76d2ea367\" type=\"checkbox\" ><label for=\"81a52cbd-fe5c-4e66-81f8-a7d76d2ea367\" class=\"sk-toggleable__label sk-toggleable__label-arrow\">date_linear_processor</label><div class=\"sk-toggleable__content\"><pre>[&#x27;Date&#x27;]</pre></div></div></div><div class=\"sk-serial\"><div class=\"sk-item\"><div class=\"sk-serial\"><div class=\"sk-item\"><div class=\"sk-estimator sk-toggleable\"><input class=\"sk-toggleable__control sk-hidden--visually\" id=\"f55e2f95-a803-4bcb-b131-76fda2b5d237\" type=\"checkbox\" ><label for=\"f55e2f95-a803-4bcb-b131-76fda2b5d237\" class=\"sk-toggleable__label sk-toggleable__label-arrow\">ProcessDates</label><div class=\"sk-toggleable__content\"><pre>ProcessDates()</pre></div></div></div><div class=\"sk-item\"><div class=\"sk-estimator sk-toggleable\"><input class=\"sk-toggleable__control sk-hidden--visually\" id=\"301ea141-233c-4769-828c-0538c125341c\" type=\"checkbox\" ><label for=\"301ea141-233c-4769-828c-0538c125341c\" class=\"sk-toggleable__label sk-toggleable__label-arrow\">ProcessHolidays</label><div class=\"sk-toggleable__content\"><pre>ProcessHolidays()</pre></div></div></div><div class=\"sk-item\"><div class=\"sk-estimator sk-toggleable\"><input class=\"sk-toggleable__control sk-hidden--visually\" id=\"01590646-5459-4449-946e-6a7082f2b164\" type=\"checkbox\" ><label for=\"01590646-5459-4449-946e-6a7082f2b164\" class=\"sk-toggleable__label sk-toggleable__label-arrow\">DropCol</label><div class=\"sk-toggleable__content\"><pre>DropCol(cols=[&#x27;Date&#x27;])</pre></div></div></div></div></div></div></div></div><div class=\"sk-parallel-item\"><div class=\"sk-item\"><div class=\"sk-label-container\"><div class=\"sk-label sk-toggleable\"><input class=\"sk-toggleable__control sk-hidden--visually\" id=\"3a3a85b5-5ed5-45dd-af65-e9b07f6657f2\" type=\"checkbox\" ><label for=\"3a3a85b5-5ed5-45dd-af65-e9b07f6657f2\" class=\"sk-toggleable__label sk-toggleable__label-arrow\">vessel_linear_processor</label><div class=\"sk-toggleable__content\"><pre>[&#x27;Total Vessels (Number)&#x27;, &#x27;Capesize&#x27;, &#x27;Capesize Laden&#x27;, &#x27;Capesize Unladen&#x27;, &#x27;Panamax&#x27;, &#x27;Panamax Laden&#x27;, &#x27;Panamax Unladen&#x27;, &#x27;Handymax&#x27;, &#x27;Handymax Laden&#x27;, &#x27;Handymax Unladen&#x27;, &#x27;Handysize&#x27;, &#x27;Handysize Laden&#x27;, &#x27;Handysize Unladen&#x27;, &#x27;Total Vessels (DWT)&#x27;, &#x27;Capesize (DWT)&#x27;, &#x27;Capesize Laden (DWT)&#x27;, &#x27;Capesize Unladen (DWT)&#x27;, &#x27;Panamax (DWT)&#x27;, &#x27;Panamax Laden (DWT)&#x27;, &#x27;Panamax Unladen (DWT)&#x27;, &#x27;Handymax (DWT)&#x27;, &#x27;Handymax Laden (DWT)&#x27;, &#x27;Handymax Unladen (DWT)&#x27;, &#x27;Handysize (DWT)&#x27;, &#x27;Handysize Laden (DWT)&#x27;, &#x27;Handysize Unladen (DWT)&#x27;]</pre></div></div></div><div class=\"sk-serial\"><div class=\"sk-item\"><div class=\"sk-serial\"><div class=\"sk-item\"><div class=\"sk-estimator sk-toggleable\"><input class=\"sk-toggleable__control sk-hidden--visually\" id=\"cbb86782-973a-419f-b5d3-9a77a281ece8\" type=\"checkbox\" ><label for=\"cbb86782-973a-419f-b5d3-9a77a281ece8\" class=\"sk-toggleable__label sk-toggleable__label-arrow\">CreateDummyCol</label><div class=\"sk-toggleable__content\"><pre>CreateDummyCol()</pre></div></div></div><div class=\"sk-item\"><div class=\"sk-estimator sk-toggleable\"><input class=\"sk-toggleable__control sk-hidden--visually\" id=\"5c84254b-2dc8-42d5-b265-ff589e0ba1ef\" type=\"checkbox\" ><label for=\"5c84254b-2dc8-42d5-b265-ff589e0ba1ef\" class=\"sk-toggleable__label sk-toggleable__label-arrow\">ProcessVessel</label><div class=\"sk-toggleable__content\"><pre>ProcessVessel(dwt_cols=[&#x27;Total Vessels (DWT)&#x27;, &#x27;Capesize (DWT)&#x27;,\n                        &#x27;Capesize Laden (DWT)&#x27;, &#x27;Capesize Unladen (DWT)&#x27;,\n                        &#x27;Panamax (DWT)&#x27;, &#x27;Panamax Laden (DWT)&#x27;,\n                        &#x27;Panamax Unladen (DWT)&#x27;, &#x27;Handymax (DWT)&#x27;,\n                        &#x27;Handymax Laden (DWT)&#x27;, &#x27;Handymax Unladen (DWT)&#x27;,\n                        &#x27;Handysize (DWT)&#x27;, &#x27;Handysize Laden (DWT)&#x27;,\n                        &#x27;Handysize Unladen (DWT)&#x27;],\n              vessel_cols=[&#x27;Total Vessels (Number)&#x27;, &#x27;Capesize&#x27;,\n                           &#x27;Capesize Laden&#x27;, &#x27;Capesize Unladen&#x27;, &#x27;Panamax&#x27;,\n                           &#x27;Panamax Laden&#x27;, &#x27;Panamax Unladen&#x27;, &#x27;Handymax&#x27;,\n                           &#x27;Handymax Laden&#x27;, &#x27;Handymax Unladen&#x27;, &#x27;Handysize&#x27;,\n                           &#x27;Handysize Laden&#x27;, &#x27;Handysize Unladen&#x27;])</pre></div></div></div></div></div></div></div></div><div class=\"sk-parallel-item\"><div class=\"sk-item\"><div class=\"sk-label-container\"><div class=\"sk-label sk-toggleable\"><input class=\"sk-toggleable__control sk-hidden--visually\" id=\"3e512898-9b0a-4344-aa54-7e1c68cc28cf\" type=\"checkbox\" ><label for=\"3e512898-9b0a-4344-aa54-7e1c68cc28cf\" class=\"sk-toggleable__label sk-toggleable__label-arrow\">weather_linear_processor</label><div class=\"sk-toggleable__content\"><pre>[&#x27;tempt&#x27;, &#x27;prcp&#x27;, &#x27;wspd&#x27;]</pre></div></div></div><div class=\"sk-serial\"><div class=\"sk-item\"><div class=\"sk-serial\"><div class=\"sk-item\"><div class=\"sk-estimator sk-toggleable\"><input class=\"sk-toggleable__control sk-hidden--visually\" id=\"f4dc82f3-e4fd-4d25-a105-c666f2cd3c7e\" type=\"checkbox\" ><label for=\"f4dc82f3-e4fd-4d25-a105-c666f2cd3c7e\" class=\"sk-toggleable__label sk-toggleable__label-arrow\">CreateDummyCol</label><div class=\"sk-toggleable__content\"><pre>CreateDummyCol()</pre></div></div></div><div class=\"sk-item\"><div class=\"sk-estimator sk-toggleable\"><input class=\"sk-toggleable__control sk-hidden--visually\" id=\"1b5a0544-3801-4437-811b-5caeb715b6ea\" type=\"checkbox\" ><label for=\"1b5a0544-3801-4437-811b-5caeb715b6ea\" class=\"sk-toggleable__label sk-toggleable__label-arrow\">ProcessWeather</label><div class=\"sk-toggleable__content\"><pre>ProcessWeather()</pre></div></div></div><div class=\"sk-item\"><div class=\"sk-estimator sk-toggleable\"><input class=\"sk-toggleable__control sk-hidden--visually\" id=\"fb501a54-47c0-42e7-8235-70e55bf19975\" type=\"checkbox\" ><label for=\"fb501a54-47c0-42e7-8235-70e55bf19975\" class=\"sk-toggleable__label sk-toggleable__label-arrow\">ProcessWSpd</label><div class=\"sk-toggleable__content\"><pre>ProcessWSpd()</pre></div></div></div></div></div></div></div></div></div></div><div class=\"sk-item\"><div class=\"sk-estimator sk-toggleable\"><input class=\"sk-toggleable__control sk-hidden--visually\" id=\"dbaf0128-f403-42e1-ab7d-143aaabefc8d\" type=\"checkbox\" ><label for=\"dbaf0128-f403-42e1-ab7d-143aaabefc8d\" class=\"sk-toggleable__label sk-toggleable__label-arrow\">DropZeroCol</label><div class=\"sk-toggleable__content\"><pre>DropZeroCol()</pre></div></div></div><div class=\"sk-item\"><div class=\"sk-estimator sk-toggleable\"><input class=\"sk-toggleable__control sk-hidden--visually\" id=\"2986a0ba-ea1f-43f1-a76a-1beb9ca20837\" type=\"checkbox\" ><label for=\"2986a0ba-ea1f-43f1-a76a-1beb9ca20837\" class=\"sk-toggleable__label sk-toggleable__label-arrow\">RandomForestRegressor</label><div class=\"sk-toggleable__content\"><pre>RandomForestRegressor(n_jobs=-1, random_state=0)</pre></div></div></div></div></div></div></div></div><div class=\"sk-parallel-item\"><div class=\"sk-item\"><div class=\"sk-label-container\"><div class=\"sk-label sk-toggleable\"><label>LGBM</label></div></div><div class=\"sk-serial\"><div class=\"sk-item\"><div class=\"sk-serial\"><div class=\"sk-item sk-dashed-wrapped\"><div class=\"sk-label-container\"><div class=\"sk-label sk-toggleable\"><input class=\"sk-toggleable__control sk-hidden--visually\" id=\"78f458ed-66d8-41e8-9707-211130f156f5\" type=\"checkbox\" ><label for=\"78f458ed-66d8-41e8-9707-211130f156f5\" class=\"sk-toggleable__label sk-toggleable__label-arrow\">columntransformer: ColumnTransformer</label><div class=\"sk-toggleable__content\"><pre>ColumnTransformer(transformers=[(&#x27;cat_linear_processor&#x27;, OneHotEncoder(),\n                                 [&#x27;Vessel Type&#x27;]),\n                                (&#x27;date_linear_processor&#x27;,\n                                 Pipeline(steps=[(&#x27;ProcessDates&#x27;,\n                                                  ProcessDates()),\n                                                 (&#x27;ProcessHolidays&#x27;,\n                                                  ProcessHolidays()),\n                                                 (&#x27;DropDate&#x27;,\n                                                  DropCol(cols=[&#x27;Date&#x27;]))]),\n                                 [&#x27;Date&#x27;]),\n                                (&#x27;vessel_linear_processor&#x27;,\n                                 Pipeline(steps=[(&#x27;CreateDummyCol&#x27;,\n                                                  CreateDummyCol()),\n                                                 (&#x27;ProcessVessel&#x27;,\n                                                  Process...\n                                  &#x27;Capesize Unladen (DWT)&#x27;, &#x27;Panamax (DWT)&#x27;,\n                                  &#x27;Panamax Laden (DWT)&#x27;,\n                                  &#x27;Panamax Unladen (DWT)&#x27;, &#x27;Handymax (DWT)&#x27;,\n                                  &#x27;Handymax Laden (DWT)&#x27;,\n                                  &#x27;Handymax Unladen (DWT)&#x27;, &#x27;Handysize (DWT)&#x27;,\n                                  &#x27;Handysize Laden (DWT)&#x27;,\n                                  &#x27;Handysize Unladen (DWT)&#x27;]),\n                                (&#x27;weather_linear_processor&#x27;,\n                                 Pipeline(steps=[(&#x27;CreateDummyCol&#x27;,\n                                                  CreateDummyCol()),\n                                                 (&#x27;ProcessWeather&#x27;,\n                                                  ProcessWeather()),\n                                                 (&#x27;ProcessWSpd&#x27;,\n                                                  ProcessWSpd())]),\n                                 [&#x27;tempt&#x27;, &#x27;prcp&#x27;, &#x27;wspd&#x27;])])</pre></div></div></div><div class=\"sk-parallel\"><div class=\"sk-parallel-item\"><div class=\"sk-item\"><div class=\"sk-label-container\"><div class=\"sk-label sk-toggleable\"><input class=\"sk-toggleable__control sk-hidden--visually\" id=\"715f9c79-cfe7-409e-b811-16250cc17440\" type=\"checkbox\" ><label for=\"715f9c79-cfe7-409e-b811-16250cc17440\" class=\"sk-toggleable__label sk-toggleable__label-arrow\">cat_linear_processor</label><div class=\"sk-toggleable__content\"><pre>[&#x27;Vessel Type&#x27;]</pre></div></div></div><div class=\"sk-serial\"><div class=\"sk-item\"><div class=\"sk-estimator sk-toggleable\"><input class=\"sk-toggleable__control sk-hidden--visually\" id=\"bfef3c30-845e-47ac-9c70-78e0b8b32e43\" type=\"checkbox\" ><label for=\"bfef3c30-845e-47ac-9c70-78e0b8b32e43\" class=\"sk-toggleable__label sk-toggleable__label-arrow\">OneHotEncoder</label><div class=\"sk-toggleable__content\"><pre>OneHotEncoder()</pre></div></div></div></div></div></div><div class=\"sk-parallel-item\"><div class=\"sk-item\"><div class=\"sk-label-container\"><div class=\"sk-label sk-toggleable\"><input class=\"sk-toggleable__control sk-hidden--visually\" id=\"aeef5152-685c-4d9c-8ad8-b246f4ca335b\" type=\"checkbox\" ><label for=\"aeef5152-685c-4d9c-8ad8-b246f4ca335b\" class=\"sk-toggleable__label sk-toggleable__label-arrow\">date_linear_processor</label><div class=\"sk-toggleable__content\"><pre>[&#x27;Date&#x27;]</pre></div></div></div><div class=\"sk-serial\"><div class=\"sk-item\"><div class=\"sk-serial\"><div class=\"sk-item\"><div class=\"sk-estimator sk-toggleable\"><input class=\"sk-toggleable__control sk-hidden--visually\" id=\"2341b0e1-af88-4323-ab41-deef77bee333\" type=\"checkbox\" ><label for=\"2341b0e1-af88-4323-ab41-deef77bee333\" class=\"sk-toggleable__label sk-toggleable__label-arrow\">ProcessDates</label><div class=\"sk-toggleable__content\"><pre>ProcessDates()</pre></div></div></div><div class=\"sk-item\"><div class=\"sk-estimator sk-toggleable\"><input class=\"sk-toggleable__control sk-hidden--visually\" id=\"34a03bf7-c3f7-4314-b289-7041cd925727\" type=\"checkbox\" ><label for=\"34a03bf7-c3f7-4314-b289-7041cd925727\" class=\"sk-toggleable__label sk-toggleable__label-arrow\">ProcessHolidays</label><div class=\"sk-toggleable__content\"><pre>ProcessHolidays()</pre></div></div></div><div class=\"sk-item\"><div class=\"sk-estimator sk-toggleable\"><input class=\"sk-toggleable__control sk-hidden--visually\" id=\"786135d2-eb3b-4c00-8fd0-f259b515740c\" type=\"checkbox\" ><label for=\"786135d2-eb3b-4c00-8fd0-f259b515740c\" class=\"sk-toggleable__label sk-toggleable__label-arrow\">DropCol</label><div class=\"sk-toggleable__content\"><pre>DropCol(cols=[&#x27;Date&#x27;])</pre></div></div></div></div></div></div></div></div><div class=\"sk-parallel-item\"><div class=\"sk-item\"><div class=\"sk-label-container\"><div class=\"sk-label sk-toggleable\"><input class=\"sk-toggleable__control sk-hidden--visually\" id=\"03ae026c-3c84-4d3c-99f1-0c55c46c1ea5\" type=\"checkbox\" ><label for=\"03ae026c-3c84-4d3c-99f1-0c55c46c1ea5\" class=\"sk-toggleable__label sk-toggleable__label-arrow\">vessel_linear_processor</label><div class=\"sk-toggleable__content\"><pre>[&#x27;Total Vessels (Number)&#x27;, &#x27;Capesize&#x27;, &#x27;Capesize Laden&#x27;, &#x27;Capesize Unladen&#x27;, &#x27;Panamax&#x27;, &#x27;Panamax Laden&#x27;, &#x27;Panamax Unladen&#x27;, &#x27;Handymax&#x27;, &#x27;Handymax Laden&#x27;, &#x27;Handymax Unladen&#x27;, &#x27;Handysize&#x27;, &#x27;Handysize Laden&#x27;, &#x27;Handysize Unladen&#x27;, &#x27;Total Vessels (DWT)&#x27;, &#x27;Capesize (DWT)&#x27;, &#x27;Capesize Laden (DWT)&#x27;, &#x27;Capesize Unladen (DWT)&#x27;, &#x27;Panamax (DWT)&#x27;, &#x27;Panamax Laden (DWT)&#x27;, &#x27;Panamax Unladen (DWT)&#x27;, &#x27;Handymax (DWT)&#x27;, &#x27;Handymax Laden (DWT)&#x27;, &#x27;Handymax Unladen (DWT)&#x27;, &#x27;Handysize (DWT)&#x27;, &#x27;Handysize Laden (DWT)&#x27;, &#x27;Handysize Unladen (DWT)&#x27;]</pre></div></div></div><div class=\"sk-serial\"><div class=\"sk-item\"><div class=\"sk-serial\"><div class=\"sk-item\"><div class=\"sk-estimator sk-toggleable\"><input class=\"sk-toggleable__control sk-hidden--visually\" id=\"6cc3ad44-d9a2-4883-89ee-3c3285f9b422\" type=\"checkbox\" ><label for=\"6cc3ad44-d9a2-4883-89ee-3c3285f9b422\" class=\"sk-toggleable__label sk-toggleable__label-arrow\">CreateDummyCol</label><div class=\"sk-toggleable__content\"><pre>CreateDummyCol()</pre></div></div></div><div class=\"sk-item\"><div class=\"sk-estimator sk-toggleable\"><input class=\"sk-toggleable__control sk-hidden--visually\" id=\"acd46b74-46a4-4dcb-8e82-1f77be4145fc\" type=\"checkbox\" ><label for=\"acd46b74-46a4-4dcb-8e82-1f77be4145fc\" class=\"sk-toggleable__label sk-toggleable__label-arrow\">ProcessVessel</label><div class=\"sk-toggleable__content\"><pre>ProcessVessel(dwt_cols=[&#x27;Total Vessels (DWT)&#x27;, &#x27;Capesize (DWT)&#x27;,\n                        &#x27;Capesize Laden (DWT)&#x27;, &#x27;Capesize Unladen (DWT)&#x27;,\n                        &#x27;Panamax (DWT)&#x27;, &#x27;Panamax Laden (DWT)&#x27;,\n                        &#x27;Panamax Unladen (DWT)&#x27;, &#x27;Handymax (DWT)&#x27;,\n                        &#x27;Handymax Laden (DWT)&#x27;, &#x27;Handymax Unladen (DWT)&#x27;,\n                        &#x27;Handysize (DWT)&#x27;, &#x27;Handysize Laden (DWT)&#x27;,\n                        &#x27;Handysize Unladen (DWT)&#x27;],\n              vessel_cols=[&#x27;Total Vessels (Number)&#x27;, &#x27;Capesize&#x27;,\n                           &#x27;Capesize Laden&#x27;, &#x27;Capesize Unladen&#x27;, &#x27;Panamax&#x27;,\n                           &#x27;Panamax Laden&#x27;, &#x27;Panamax Unladen&#x27;, &#x27;Handymax&#x27;,\n                           &#x27;Handymax Laden&#x27;, &#x27;Handymax Unladen&#x27;, &#x27;Handysize&#x27;,\n                           &#x27;Handysize Laden&#x27;, &#x27;Handysize Unladen&#x27;])</pre></div></div></div></div></div></div></div></div><div class=\"sk-parallel-item\"><div class=\"sk-item\"><div class=\"sk-label-container\"><div class=\"sk-label sk-toggleable\"><input class=\"sk-toggleable__control sk-hidden--visually\" id=\"a62896f0-a47b-46a4-9d3a-06155b10ee2c\" type=\"checkbox\" ><label for=\"a62896f0-a47b-46a4-9d3a-06155b10ee2c\" class=\"sk-toggleable__label sk-toggleable__label-arrow\">weather_linear_processor</label><div class=\"sk-toggleable__content\"><pre>[&#x27;tempt&#x27;, &#x27;prcp&#x27;, &#x27;wspd&#x27;]</pre></div></div></div><div class=\"sk-serial\"><div class=\"sk-item\"><div class=\"sk-serial\"><div class=\"sk-item\"><div class=\"sk-estimator sk-toggleable\"><input class=\"sk-toggleable__control sk-hidden--visually\" id=\"e1f0de0b-0a5a-487c-a1b7-cc9ee74fbc73\" type=\"checkbox\" ><label for=\"e1f0de0b-0a5a-487c-a1b7-cc9ee74fbc73\" class=\"sk-toggleable__label sk-toggleable__label-arrow\">CreateDummyCol</label><div class=\"sk-toggleable__content\"><pre>CreateDummyCol()</pre></div></div></div><div class=\"sk-item\"><div class=\"sk-estimator sk-toggleable\"><input class=\"sk-toggleable__control sk-hidden--visually\" id=\"74230e13-ca91-4d6d-96b6-f616e69654fb\" type=\"checkbox\" ><label for=\"74230e13-ca91-4d6d-96b6-f616e69654fb\" class=\"sk-toggleable__label sk-toggleable__label-arrow\">ProcessWeather</label><div class=\"sk-toggleable__content\"><pre>ProcessWeather()</pre></div></div></div><div class=\"sk-item\"><div class=\"sk-estimator sk-toggleable\"><input class=\"sk-toggleable__control sk-hidden--visually\" id=\"9bd2e4e5-f34b-49ed-a4a5-658fa86bc649\" type=\"checkbox\" ><label for=\"9bd2e4e5-f34b-49ed-a4a5-658fa86bc649\" class=\"sk-toggleable__label sk-toggleable__label-arrow\">ProcessWSpd</label><div class=\"sk-toggleable__content\"><pre>ProcessWSpd()</pre></div></div></div></div></div></div></div></div></div></div><div class=\"sk-item\"><div class=\"sk-estimator sk-toggleable\"><input class=\"sk-toggleable__control sk-hidden--visually\" id=\"4336a291-4c48-4d59-b865-88982f74ac16\" type=\"checkbox\" ><label for=\"4336a291-4c48-4d59-b865-88982f74ac16\" class=\"sk-toggleable__label sk-toggleable__label-arrow\">DropZeroCol</label><div class=\"sk-toggleable__content\"><pre>DropZeroCol()</pre></div></div></div><div class=\"sk-item\"><div class=\"sk-estimator sk-toggleable\"><input class=\"sk-toggleable__control sk-hidden--visually\" id=\"3734fe66-9d87-4ba3-bfde-8787e2a8efa3\" type=\"checkbox\" ><label for=\"3734fe66-9d87-4ba3-bfde-8787e2a8efa3\" class=\"sk-toggleable__label sk-toggleable__label-arrow\">LGBMRegressor</label><div class=\"sk-toggleable__content\"><pre>LGBMRegressor(device=&#x27;gpu&#x27;, objective=&#x27;regression&#x27;, random_state=0)</pre></div></div></div></div></div></div></div></div></div></div><div class=\"sk-item\"><div class=\"sk-parallel\"><div class=\"sk-parallel-item\"><div class=\"sk-item\"><div class=\"sk-label-container\"><div class=\"sk-label sk-toggleable\"><label>final_estimator</label></div></div><div class=\"sk-serial\"><div class=\"sk-item\"><div class=\"sk-estimator sk-toggleable\"><input class=\"sk-toggleable__control sk-hidden--visually\" id=\"fd5749ef-744a-4220-8702-50c48cc00343\" type=\"checkbox\" ><label for=\"fd5749ef-744a-4220-8702-50c48cc00343\" class=\"sk-toggleable__label sk-toggleable__label-arrow\">LGBMRegressor</label><div class=\"sk-toggleable__content\"><pre>LGBMRegressor(device=&#x27;gpu&#x27;, objective=&#x27;regression&#x27;, random_state=0)</pre></div></div></div></div></div></div></div></div></div></div></div></div>"
     },
     "execution_count": 67,
     "metadata": {},
     "output_type": "execute_result"
    }
   ],
   "source": [
    "finalPipe"
   ],
   "metadata": {
    "collapsed": false,
    "pycharm": {
     "name": "#%%\n"
    }
   }
  },
  {
   "cell_type": "code",
   "source": [
    "#tune hyperparameter\n",
    "limitTuner = '' # Options ElasticNet, XGBoost, RandomForest, LGBM\n",
    "preprocessingName = 'columntransformer__'\n",
    "estimatorsParam = {}\n",
    "finalParam = {}\n",
    "for estimator in finalestimators:\n",
    "    if limitTuner== '' or estimator[0] ==limitTuner:\n",
    "        modelParam = {}\n",
    "        for param, grid in param_grid.items():\n",
    "            if param.startswith(estimator[0]):\n",
    "                modelParam[param[len(estimator[0])+2:]] = grid\n",
    "            elif param.startswith(preprocessingName):\n",
    "                modelParam[param] = grid\n",
    "        # print(estimator[1].get_params().keys())\n",
    "        print('\\nTuning Model ',estimator[0], \"with params:\\n\",  modelParam, '\\n')\n",
    "        gs = GridSearchCV(estimator=estimator[1],param_grid=modelParam,scoring = 'neg_root_mean_squared_error',n_jobs = -1,cv = 5,verbose = 10)\n",
    "        gs.fit(X_train,y_train)\n",
    "        print('Tuned Model ',estimator[0], \" (RMSE = \",\"{:.4f}\".format(abs(gs.best_score_)),\")\")\n",
    "        # print(\"Best params:\\n\",  gs.best_params_, '\\n')\n",
    "        modelParam={}\n",
    "        for param, grid in gs.best_params_.items():\n",
    "            modelParam[estimator[0]+'__'+param] = grid\n",
    "        estimatorsParam ={**estimatorsParam, **modelParam}\n",
    "\n",
    "print('\\n Params to use\\n\\n',estimatorsParam)"
   ],
   "metadata": {
    "collapsed": false,
    "pycharm": {
     "name": "#%%\n"
    }
   },
   "execution_count": null,
   "outputs": []
  },
  {
   "cell_type": "markdown",
   "source": [
    "Stop Here"
   ],
   "metadata": {
    "collapsed": false
   }
  },
  {
   "cell_type": "markdown",
   "source": [
    "# replace individual best model here post tuning.\n",
    "elasticnetParams = {}\n",
    "xgboostParams = {}\n",
    "randomforestParams = {}\n",
    "lgbmParams = {}\n"
   ],
   "metadata": {
    "collapsed": false,
    "pycharm": {
     "name": "#%% md\n"
    }
   }
  },
  {
   "cell_type": "markdown",
   "source": [
    "# prepare data for final tuning\n",
    "# estimatorsParam = {**elasticnetParams,**xgboostParams,**randomforestParams,**lgbmParams,}\n",
    "finalPipe.set_params(**estimatorsParam)\n",
    "finalTrain  = finalPipe.fit_transform(X_train,y_train)\n",
    "finalGrid = {}\n",
    "\n",
    "# generate final model params\n",
    "for param, grid in param_grid.items():\n",
    "    if param.startswith(\"final_estimator\"):\n",
    "        finalGrid[param[len(\"final_estimator__\"):]] = grid\n",
    "\n",
    "#tune final model\n",
    "gs = GridSearchCV(estimator=final_estimator,param_grid=finalGrid,scoring = 'neg_root_mean_squared_error',n_jobs = -1,cv = 5,verbose = -1)\n",
    "gs.fit(finalTrain,y_train)\n",
    "modelParam = {}\n",
    "for param, grid in gs.best_params_.items():\n",
    "    modelParam[\"final_estimator__\"+param] = grid\n",
    "finalParam = {**estimatorsParam, **modelParam}\n",
    "finalParam"
   ],
   "metadata": {
    "collapsed": false,
    "pycharm": {
     "name": "#%% md\n"
    }
   }
  },
  {
   "cell_type": "code",
   "source": [
    "# finalParam = {'ElasticNet__columntransformer__date_linear_processor__ProcessDates': ProcessDates(),\n",
    "#  'ElasticNet__columntransformer__date_linear_processor__ProcessHolidays': None,\n",
    "#  'ElasticNet__columntransformer__vessel_linear_processor__ProcessVessel__usage': 'dwt',\n",
    "#  'ElasticNet__columntransformer__weather_linear_processor__ProcessWSpd__action': 'cat',\n",
    "#  'ElasticNet__columntransformer__weather_linear_processor__ProcessWeather__action': 'actual',\n",
    "#  'ElasticNet__regressor__alpha': 0.0,\n",
    "#  'XGBoost__columntransformer__date_linear_processor__ProcessDates': ProcessDates(),\n",
    "#  'XGBoost__columntransformer__date_linear_processor__ProcessHolidays': None,\n",
    "#  'XGBoost__columntransformer__vessel_linear_processor__ProcessVessel__usage': 'dwt',\n",
    "#  'XGBoost__columntransformer__weather_linear_processor__ProcessWSpd__action': 'cat',\n",
    "#  'XGBoost__columntransformer__weather_linear_processor__ProcessWeather__action': 'actual',\n",
    "#  'XGBoost__regressor__max_depth': 20,\n",
    "#  'RandomForest__columntransformer__date_linear_processor__ProcessDates': ProcessDates(),\n",
    "#  'RandomForest__columntransformer__date_linear_processor__ProcessHolidays': None,\n",
    "#  'RandomForest__columntransformer__vessel_linear_processor__ProcessVessel__usage': 'vessel',\n",
    "#  'RandomForest__columntransformer__weather_linear_processor__ProcessWSpd__action': 'cat',\n",
    "#  'RandomForest__columntransformer__weather_linear_processor__ProcessWeather__action': 'actual',\n",
    "#  'RandomForest__regressor__n_estimators': 300,\n",
    "#  'LGBM__columntransformer__date_linear_processor__ProcessDates': ProcessDates(),\n",
    "#  'LGBM__columntransformer__date_linear_processor__ProcessHolidays': None,\n",
    "#  'LGBM__columntransformer__vessel_linear_processor__ProcessVessel__usage': 'vessel',\n",
    "#  'LGBM__columntransformer__weather_linear_processor__ProcessWSpd__action': 'cat',\n",
    "#  'LGBM__columntransformer__weather_linear_processor__ProcessWeather__action': 'actual',\n",
    "#  'LGBM__regressor__n_estimators': 800,\n",
    "#  # 'final_estimator__n_estimators': 200}"
   ],
   "metadata": {
    "collapsed": false,
    "pycharm": {
     "name": "#%%\n"
    }
   },
   "execution_count": 68,
   "outputs": []
  },
  {
   "cell_type": "code",
   "execution_count": 69,
   "outputs": [],
   "source": [
    "finalParam = {'ElasticNet__columntransformer__date_linear_processor__ProcessDates': ProcessDates(),\n",
    " 'ElasticNet__columntransformer__date_linear_processor__ProcessHolidays': None,\n",
    " 'ElasticNet__columntransformer__vessel_linear_processor__ProcessVessel__usage': 'dwt',\n",
    " 'ElasticNet__columntransformer__weather_linear_processor__ProcessWSpd__action': 'cat',\n",
    " 'ElasticNet__columntransformer__weather_linear_processor__ProcessWeather__action': 'actual',\n",
    " 'XGBoost__columntransformer__date_linear_processor__ProcessDates': ProcessDates(),\n",
    " 'XGBoost__columntransformer__date_linear_processor__ProcessHolidays': None,\n",
    " 'XGBoost__columntransformer__vessel_linear_processor__ProcessVessel__usage': 'dwt',\n",
    " 'XGBoost__columntransformer__weather_linear_processor__ProcessWSpd__action': 'cat',\n",
    " 'XGBoost__columntransformer__weather_linear_processor__ProcessWeather__action': 'actual',\n",
    " 'RandomForest__columntransformer__date_linear_processor__ProcessDates': ProcessDates(),\n",
    " 'RandomForest__columntransformer__date_linear_processor__ProcessHolidays': None,\n",
    " 'RandomForest__columntransformer__vessel_linear_processor__ProcessVessel__usage': 'vessel',\n",
    " 'RandomForest__columntransformer__weather_linear_processor__ProcessWSpd__action': 'cat',\n",
    " 'RandomForest__columntransformer__weather_linear_processor__ProcessWeather__action': 'actual',\n",
    " 'LGBM__columntransformer__date_linear_processor__ProcessDates': ProcessDates(),\n",
    " 'LGBM__columntransformer__date_linear_processor__ProcessHolidays': None,\n",
    " 'LGBM__columntransformer__vessel_linear_processor__ProcessVessel__usage': 'vessel',\n",
    " 'LGBM__columntransformer__weather_linear_processor__ProcessWSpd__action': 'cat',\n",
    " 'LGBM__columntransformer__weather_linear_processor__ProcessWeather__action': 'actual',}"
   ],
   "metadata": {
    "collapsed": false,
    "pycharm": {
     "name": "#%%\n"
    }
   }
  },
  {
   "cell_type": "code",
   "execution_count": 70,
   "outputs": [],
   "source": [
    "resultList = []\n",
    "def ScoreArray(trainPredicted,testPredicted):\n",
    "    trainrmse = math.sqrt(mean_squared_error(y_train, trainPredicted))\n",
    "    trainr2 = r2_score(y_train, trainPredicted)\n",
    "    mae = mean_absolute_error(y_test, testPredicted)\n",
    "    rmse = math.sqrt(mean_squared_error(y_test, testPredicted))\n",
    "    r2 = r2_score(y_test, testPredicted)\n",
    "    return [trainrmse,trainr2,mae,rmse,r2]\n",
    "\n",
    "finalPipe.set_params(**finalParam)\n",
    "finalPipe.fit(X_train,y_train)\n",
    "trainTrans = finalPipe.transform(X_train)\n",
    "testTrans = finalPipe.transform(X_test)\n",
    "i=0\n",
    "for estimator in finalestimators:\n",
    "    resultList.append((estimator[0],ScoreArray(trainTrans[:,i],testTrans[:,i])))\n",
    "    i+=1\n",
    "trainPredicted = finalPipe.predict(X_train)\n",
    "testPredicted = finalPipe.predict(X_test)\n",
    "resultList.append((\"Stack Regressor\",ScoreArray(trainPredicted,testPredicted)))"
   ],
   "metadata": {
    "collapsed": false,
    "pycharm": {
     "name": "#%%\n"
    }
   }
  },
  {
   "cell_type": "code",
   "execution_count": 71,
   "outputs": [
    {
     "data": {
      "text/plain": "<Figure size 640x480 with 1 Axes>",
      "image/png": "[encoded data removed]"
     },
     "metadata": {},
     "output_type": "display_data"
    },
    {
     "name": "stdout",
     "output_type": "stream",
     "text": [
      "             ElasticNet   XGBoost  RandomForest      LGBM  Stack Regressor\n",
      "RMSE(Train)    8.513447  6.215526      5.578854  7.119176         8.073242\n",
      "R2(Train)      0.034342  0.485283      0.585330  0.324739         0.131623\n",
      "MAE(Test)      5.862856  6.105690      6.284335  5.753626         5.882765\n",
      "RMSE(Test)     8.397182  8.990257      9.210556  8.395039         8.487926\n",
      "R2(Test)       0.019719 -0.123641     -0.179384  0.020219        -0.001582\n"
     ]
    }
   ],
   "source": [
    "barWidth = 0.15\n",
    "\n",
    "# set heights of bars\n",
    "names = []\n",
    "bars = [[],[],[],[],[]]\n",
    "for name,result in resultList:\n",
    "    names.append(name)\n",
    "    bars[0].append(result[0])\n",
    "    bars[1].append(result[1])\n",
    "    bars[2].append(result[2])\n",
    "    bars[3].append(result[3])\n",
    "    bars[4].append(result[4])\n",
    "\n",
    "# Set position of bar on X axis\n",
    "r1 = np.arange(len(bars[0]))\n",
    "r2 = [x + barWidth for x in r1]\n",
    "r3 = [x + barWidth for x in r2]\n",
    "r4 = [x + barWidth for x in r3]\n",
    "r5 = [x + barWidth for x in r4]\n",
    "\n",
    "# Make the plot\n",
    "finalPlotLabels = ['RMSE(Train)','R2(Train)','MAE(Test)', 'RMSE(Test)', 'R2(Test)']\n",
    "colours = ['#7f6d5f','#557f2d','#2d7f5e','#2d295e','#1d295e']\n",
    "r = [r1,r2,r3,r4,r5]\n",
    "i=0\n",
    "for finalPlotLabel in finalPlotLabels:\n",
    "    plt.bar(r[i], bars[i], color=colours[i], width=barWidth, edgecolor='white', label=finalPlotLabel)\n",
    "    i+=1\n",
    "\n",
    "# Add xticks on the middle of the group bars\n",
    "plt.xlabel('Method', fontweight='bold')\n",
    "plt.xticks([r + barWidth for r in range(len(bars[0]))], names)\n",
    "\n",
    "# Create legend & Show graphic\n",
    "plt.legend()\n",
    "plt.show()\n",
    "\n",
    "print(pd.DataFrame(bars,columns=names,index=finalPlotLabels))"
   ],
   "metadata": {
    "collapsed": false,
    "pycharm": {
     "name": "#%%\n"
    }
   }
  },
  {
   "cell_type": "code",
   "execution_count": null,
   "outputs": [],
   "source": [
    "X_train"
   ],
   "metadata": {
    "collapsed": false,
    "pycharm": {
     "name": "#%%\n"
    }
   }
  },
  {
   "cell_type": "code",
   "execution_count": null,
   "outputs": [],
   "source": [
    "y_train"
   ],
   "metadata": {
    "collapsed": false,
    "pycharm": {
     "name": "#%%\n"
    }
   }
  },
  {
   "cell_type": "code",
   "execution_count": null,
   "outputs": [],
   "source": [
    "def ScoreArray(trainPredicted,testPredicted):\n",
    "    trainrmse = math.sqrt(mean_squared_error(y_train, trainPredicted))\n",
    "    mae = mean_absolute_error(y_test, testPredicted)\n",
    "    rmse = math.sqrt(mean_squared_error(y_test, testPredicted))\n",
    "    r2 = r2_score(y_test, testPredicted)\n",
    "    return [trainrmse,mae,rmse,r2]\n",
    "def ScoreArrayalt(trainPredicted,testPredicted):\n",
    "    trainrmse = math.sqrt(mean_squared_error(y_train, trainPredicted))\n",
    "    mae = mean_absolute_error(alt_y_test, testPredicted)\n",
    "    rmse = math.sqrt(mean_squared_error(alt_y_test, testPredicted))\n",
    "    r2 = r2_score(alt_y_test, testPredicted)\n",
    "    return [trainrmse,mae,rmse,r2]"
   ],
   "metadata": {
    "collapsed": false,
    "pycharm": {
     "name": "#%%\n"
    }
   }
  },
  {
   "cell_type": "code",
   "execution_count": null,
   "outputs": [],
   "source": [
    "clf = finalestimators[3][1]\n",
    "# clf\n",
    "# clf= pipeline.Pipeline([('columntransformer',data_preprocessor),('DropZeroCol',DropZeroCol()),('regressor',ElasticNet(random_state=0))])\n",
    "clf.set_params(**{'columntransformer__vessel_linear_processor__ProcessVessel__usage': 'vessel'})\n",
    "\n",
    "\n",
    "alt_y_train = y_train.apply(np.log).apply(np.log)\n",
    "alt_y_test = y_test.apply(np.log).apply(np.log)\n",
    "\n",
    "clf.fit(X_train,y_train)\n",
    "clftrainPredicted = clf.predict(X_train)\n",
    "clftestPredicted = clf.predict(X_test)\n",
    "print(ScoreArray(clftrainPredicted,clftestPredicted))\n",
    "\n",
    "\n",
    "clf.fit(X_train,alt_y_train)\n",
    "clftrainPredicted = clf.predict(X_train)\n",
    "clftestPredicted = clf.predict(X_test)\n",
    "print(ScoreArrayalt(clftrainPredicted,clftestPredicted))"
   ],
   "metadata": {
    "collapsed": false,
    "pycharm": {
     "name": "#%%\n"
    }
   }
  },
  {
   "cell_type": "code",
   "execution_count": null,
   "outputs": [],
   "source": [],
   "metadata": {
    "collapsed": false,
    "pycharm": {
     "name": "#%%\n"
    }
   }
  },
  {
   "cell_type": "code",
   "execution_count": null,
   "outputs": [],
   "source": [
    "log_y_train = y_train.apply(np.log)"
   ],
   "metadata": {
    "collapsed": false,
    "pycharm": {
     "name": "#%%\n"
    }
   }
  },
  {
   "cell_type": "code",
   "execution_count": null,
   "outputs": [],
   "source": [],
   "metadata": {
    "collapsed": false,
    "pycharm": {
     "name": "#%%\n"
    }
   }
  },
  {
   "cell_type": "code",
   "execution_count": null,
   "outputs": [],
   "source": [
    "np.log"
   ],
   "metadata": {
    "collapsed": false,
    "pycharm": {
     "name": "#%%\n"
    }
   }
  },
  {
   "cell_type": "code",
   "execution_count": null,
   "outputs": [],
   "source": [
    "\n",
    "finalPipe.transform(X_test)"
   ],
   "metadata": {
    "collapsed": false,
    "pycharm": {
     "name": "#%%\n"
    }
   }
  },
  {
   "cell_type": "code",
   "execution_count": null,
   "outputs": [],
   "source": [
    "\n",
    "finalPipe.predict(X_test)"
   ],
   "metadata": {
    "collapsed": false,
    "pycharm": {
     "name": "#%%\n"
    }
   }
  },
  {
   "cell_type": "code",
   "execution_count": null,
   "outputs": [],
   "source": [
    "pd.DataFrame(y_test)"
   ],
   "metadata": {
    "collapsed": false,
    "pycharm": {
     "name": "#%%\n"
    }
   }
  }
 ],
 "metadata": {
  "kernelspec": {
   "display_name": "Python 3",
   "language": "python",
   "name": "python3"
  },
  "language_info": {
   "codemirror_mode": {
    "name": "ipython",
    "version": 2
   },
   "file_extension": ".py",
   "mimetype": "text/x-python",
   "name": "python",
   "nbconvert_exporter": "python",
   "pygments_lexer": "ipython2",
   "version": "2.7.6"
  }
 },
 "nbformat": 4,
 "nbformat_minor": 0
}