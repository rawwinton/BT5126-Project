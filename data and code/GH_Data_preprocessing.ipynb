{
 "cells": [
  {
   "cell_type": "code",
   "execution_count": 1,
   "metadata": {
    "colab": {
     "base_uri": "https://localhost:8080/",
     "height": 917
    },
    "id": "SZGPqleLlE5o",
    "outputId": "308a2708-3b5d-442b-d88c-d2132a15a2cc"
   },
   "outputs": [
    {
     "name": "stdout",
     "output_type": "stream",
     "text": [
      "(2557, 30)\n",
      "Date                       datetime64[ns]\n",
      "Anchorage                          object\n",
      "Zone                               object\n",
      "Country                            object\n",
      "Total Vessels (Number)              int64\n",
      "Total Vessels (DWT)                object\n",
      "Capesize                            int64\n",
      "Capesize Laden                      int64\n",
      "Capesize Unladen                    int64\n",
      "Panamax                             int64\n",
      "Panamax Laden                       int64\n",
      "Panamax Unladen                     int64\n",
      "Handymax                           object\n",
      "Handymax Laden                      int64\n",
      "Handymax Unladen                    int64\n",
      "Handysize                           int64\n",
      "Handysize Laden                     int64\n",
      "Handysize Unladen                   int64\n",
      "Capesize (DWT)                     object\n",
      "Capesize Laden (DWT)               object\n",
      "Capesize Unladen (DWT)             object\n",
      "Panamax (DWT)                      object\n",
      "Panamax Laden (DWT)                object\n",
      "Panamax Unladen (DWT)              object\n",
      "Handymax (DWT)                     object\n",
      "Handymax Laden (DWT)               object\n",
      "Handymax Unladen (DWT)             object\n",
      "Handysize (DWT)                    object\n",
      "Handysize Laden (DWT)              object\n",
      "Handysize Unladen (DWT)            object\n",
      "dtype: object\n"
     ]
    },
    {
     "data": {
      "text/html": [
       "<div>\n",
       "<style scoped>\n",
       "    .dataframe tbody tr th:only-of-type {\n",
       "        vertical-align: middle;\n",
       "    }\n",
       "\n",
       "    .dataframe tbody tr th {\n",
       "        vertical-align: top;\n",
       "    }\n",
       "\n",
       "    .dataframe thead th {\n",
       "        text-align: right;\n",
       "    }\n",
       "</style>\n",
       "<table border=\"1\" class=\"dataframe\">\n",
       "  <thead>\n",
       "    <tr style=\"text-align: right;\">\n",
       "      <th></th>\n",
       "      <th>Total Vessels (Number)</th>\n",
       "      <th>Capesize</th>\n",
       "      <th>Capesize Laden</th>\n",
       "      <th>Capesize Unladen</th>\n",
       "      <th>Panamax</th>\n",
       "      <th>Panamax Laden</th>\n",
       "      <th>Panamax Unladen</th>\n",
       "      <th>Handymax Laden</th>\n",
       "      <th>Handymax Unladen</th>\n",
       "      <th>Handysize</th>\n",
       "      <th>Handysize Laden</th>\n",
       "      <th>Handysize Unladen</th>\n",
       "    </tr>\n",
       "  </thead>\n",
       "  <tbody>\n",
       "    <tr>\n",
       "      <th>count</th>\n",
       "      <td>2557.000000</td>\n",
       "      <td>2557.000000</td>\n",
       "      <td>2557.000000</td>\n",
       "      <td>2557.000000</td>\n",
       "      <td>2557.000000</td>\n",
       "      <td>2557.000000</td>\n",
       "      <td>2557.000000</td>\n",
       "      <td>2557.000000</td>\n",
       "      <td>2557.000000</td>\n",
       "      <td>2557.000000</td>\n",
       "      <td>2557.000000</td>\n",
       "      <td>2557.000000</td>\n",
       "    </tr>\n",
       "    <tr>\n",
       "      <th>mean</th>\n",
       "      <td>31.902620</td>\n",
       "      <td>0.137270</td>\n",
       "      <td>0.010168</td>\n",
       "      <td>0.127102</td>\n",
       "      <td>14.723504</td>\n",
       "      <td>0.836527</td>\n",
       "      <td>13.922174</td>\n",
       "      <td>4.476731</td>\n",
       "      <td>7.118889</td>\n",
       "      <td>5.697693</td>\n",
       "      <td>3.735628</td>\n",
       "      <td>2.003911</td>\n",
       "    </tr>\n",
       "    <tr>\n",
       "      <th>std</th>\n",
       "      <td>11.137966</td>\n",
       "      <td>0.363009</td>\n",
       "      <td>0.100343</td>\n",
       "      <td>0.352552</td>\n",
       "      <td>9.144029</td>\n",
       "      <td>1.149551</td>\n",
       "      <td>9.178024</td>\n",
       "      <td>3.569995</td>\n",
       "      <td>4.538216</td>\n",
       "      <td>4.353929</td>\n",
       "      <td>4.005439</td>\n",
       "      <td>1.739934</td>\n",
       "    </tr>\n",
       "    <tr>\n",
       "      <th>min</th>\n",
       "      <td>8.000000</td>\n",
       "      <td>0.000000</td>\n",
       "      <td>0.000000</td>\n",
       "      <td>0.000000</td>\n",
       "      <td>0.000000</td>\n",
       "      <td>0.000000</td>\n",
       "      <td>0.000000</td>\n",
       "      <td>0.000000</td>\n",
       "      <td>0.000000</td>\n",
       "      <td>0.000000</td>\n",
       "      <td>0.000000</td>\n",
       "      <td>0.000000</td>\n",
       "    </tr>\n",
       "    <tr>\n",
       "      <th>25%</th>\n",
       "      <td>23.000000</td>\n",
       "      <td>0.000000</td>\n",
       "      <td>0.000000</td>\n",
       "      <td>0.000000</td>\n",
       "      <td>8.000000</td>\n",
       "      <td>0.000000</td>\n",
       "      <td>7.000000</td>\n",
       "      <td>2.000000</td>\n",
       "      <td>4.000000</td>\n",
       "      <td>3.000000</td>\n",
       "      <td>1.000000</td>\n",
       "      <td>1.000000</td>\n",
       "    </tr>\n",
       "    <tr>\n",
       "      <th>50%</th>\n",
       "      <td>32.000000</td>\n",
       "      <td>0.000000</td>\n",
       "      <td>0.000000</td>\n",
       "      <td>0.000000</td>\n",
       "      <td>13.000000</td>\n",
       "      <td>0.000000</td>\n",
       "      <td>12.000000</td>\n",
       "      <td>3.000000</td>\n",
       "      <td>6.000000</td>\n",
       "      <td>4.000000</td>\n",
       "      <td>2.000000</td>\n",
       "      <td>2.000000</td>\n",
       "    </tr>\n",
       "    <tr>\n",
       "      <th>75%</th>\n",
       "      <td>40.000000</td>\n",
       "      <td>0.000000</td>\n",
       "      <td>0.000000</td>\n",
       "      <td>0.000000</td>\n",
       "      <td>20.000000</td>\n",
       "      <td>1.000000</td>\n",
       "      <td>19.000000</td>\n",
       "      <td>6.000000</td>\n",
       "      <td>9.000000</td>\n",
       "      <td>7.000000</td>\n",
       "      <td>5.000000</td>\n",
       "      <td>3.000000</td>\n",
       "    </tr>\n",
       "    <tr>\n",
       "      <th>max</th>\n",
       "      <td>68.000000</td>\n",
       "      <td>2.000000</td>\n",
       "      <td>1.000000</td>\n",
       "      <td>2.000000</td>\n",
       "      <td>53.000000</td>\n",
       "      <td>7.000000</td>\n",
       "      <td>52.000000</td>\n",
       "      <td>22.000000</td>\n",
       "      <td>26.000000</td>\n",
       "      <td>21.000000</td>\n",
       "      <td>19.000000</td>\n",
       "      <td>11.000000</td>\n",
       "    </tr>\n",
       "  </tbody>\n",
       "</table>\n",
       "</div>"
      ],
      "text/plain": [
       "       Total Vessels (Number)     Capesize  Capesize Laden  Capesize Unladen  \\\n",
       "count             2557.000000  2557.000000     2557.000000       2557.000000   \n",
       "mean                31.902620     0.137270        0.010168          0.127102   \n",
       "std                 11.137966     0.363009        0.100343          0.352552   \n",
       "min                  8.000000     0.000000        0.000000          0.000000   \n",
       "25%                 23.000000     0.000000        0.000000          0.000000   \n",
       "50%                 32.000000     0.000000        0.000000          0.000000   \n",
       "75%                 40.000000     0.000000        0.000000          0.000000   \n",
       "max                 68.000000     2.000000        1.000000          2.000000   \n",
       "\n",
       "           Panamax  Panamax Laden  Panamax Unladen  Handymax Laden  \\\n",
       "count  2557.000000    2557.000000      2557.000000     2557.000000   \n",
       "mean     14.723504       0.836527        13.922174        4.476731   \n",
       "std       9.144029       1.149551         9.178024        3.569995   \n",
       "min       0.000000       0.000000         0.000000        0.000000   \n",
       "25%       8.000000       0.000000         7.000000        2.000000   \n",
       "50%      13.000000       0.000000        12.000000        3.000000   \n",
       "75%      20.000000       1.000000        19.000000        6.000000   \n",
       "max      53.000000       7.000000        52.000000       22.000000   \n",
       "\n",
       "       Handymax Unladen    Handysize  Handysize Laden  Handysize Unladen  \n",
       "count       2557.000000  2557.000000      2557.000000        2557.000000  \n",
       "mean           7.118889     5.697693         3.735628           2.003911  \n",
       "std            4.538216     4.353929         4.005439           1.739934  \n",
       "min            0.000000     0.000000         0.000000           0.000000  \n",
       "25%            4.000000     3.000000         1.000000           1.000000  \n",
       "50%            6.000000     4.000000         2.000000           2.000000  \n",
       "75%            9.000000     7.000000         5.000000           3.000000  \n",
       "max           26.000000    21.000000        19.000000          11.000000  "
      ]
     },
     "execution_count": 1,
     "metadata": {},
     "output_type": "execute_result"
    }
   ],
   "source": [
    "# Present the summary statistics of raw data\n",
    "import pandas as pd\n",
    "import numpy\n",
    "data_HY1_pivot_2015 = pd.read_csv('Congestion_HY1_2015_pivot.csv')\n",
    "data_HY2_pivot_2015 = pd.read_csv('Congestion_HY2_2015_pivot.csv')\n",
    "data_HY1_pivot_2016 = pd.read_csv('Congestion_HY1_2016_pivot.csv')\n",
    "data_HY2_pivot_2016 = pd.read_csv('Congestion_HY2_2016_pivot.csv')\n",
    "data_HY1_pivot_2017 = pd.read_csv('Congestion_HY1_2017_pivot.csv')\n",
    "data_HY2_pivot_2017 = pd.read_csv('Congestion_HY2_2017_pivot.csv')\n",
    "data_HY1_pivot_2018 = pd.read_csv('Congestion_HY1_2018_pivot.csv')\n",
    "data_HY2_pivot_2018 = pd.read_csv('Congestion_HY2_2018_pivot.csv')\n",
    "data_HY1_pivot_2019 = pd.read_csv('Congestion_HY1_2019_pivot.csv')\n",
    "data_HY2_pivot_2019 = pd.read_csv('Congestion_HY2_2019_pivot.csv')\n",
    "data_HY1_pivot_2020 = pd.read_csv('Congestion_HY1_2020_pivot.csv')\n",
    "data_HY2_pivot_2020 = pd.read_csv('Congestion_HY2_2020_pivot.csv')\n",
    "data_HY1_pivot_2021 = pd.read_csv('Congestion_HY1_2021_pivot.csv')\n",
    "data_HY2_pivot_2021 = pd.read_csv('Congestion_HY2_2021_pivot.csv')\n",
    "data_pivot = pd.concat([data_HY1_pivot_2015,data_HY2_pivot_2015,data_HY1_pivot_2016,data_HY2_pivot_2016,\\\n",
    "                        data_HY1_pivot_2017,data_HY2_pivot_2017,data_HY1_pivot_2018,data_HY2_pivot_2018,\\\n",
    "                        data_HY1_pivot_2019,data_HY2_pivot_2019,data_HY1_pivot_2020,data_HY2_pivot_2020,\\\n",
    "                        data_HY1_pivot_2021,data_HY2_pivot_2021],axis=0)\n",
    "#replace all #Ref! as nan\n",
    "data_pivot.replace('#REF!',numpy.nan,inplace=True)\n",
    "#filter for santos\n",
    "data_pivot = data_pivot[data_pivot['Anchorage']=='Santos Anchorage']\n",
    "#convert to dates\n",
    "data_pivot['Date']= pd.to_datetime(data_pivot['Date'])\n",
    "print(data_pivot.shape)\n",
    "print(data_pivot.dtypes)\n",
    "data_pivot.describe()"
   ]
  },
  {
   "cell_type": "code",
   "execution_count": 11,
   "metadata": {
    "colab": {
     "base_uri": "https://localhost:8080/",
     "height": 775
    },
    "id": "Ouj8x1RQlE5r",
    "outputId": "d249544a-5ff7-4335-fff5-4add5f5f7533"
   },
   "outputs": [
    {
     "data": {
      "image/png": "[encoded data removed]",
      "text/plain": [
       "<Figure size 1728x720 with 3 Axes>"
      ]
     },
     "metadata": {
      "needs_background": "light"
     },
     "output_type": "display_data"
    }
   ],
   "source": [
    "import missingno as msno\n",
    "import matplotlib.pyplot as plt\n",
    "\n",
    "# Visualise missing values in congestion data\n",
    "msno.bar(data_pivot)\n",
    "plt.show()"
   ]
  },
  {
   "cell_type": "code",
   "execution_count": 5,
   "metadata": {
    "colab": {
     "base_uri": "https://localhost:8080/",
     "height": 804
    },
    "id": "IbC9kY-7lE5s",
    "outputId": "cb98cb9a-2b7a-4c91-a678-6ed16e4fd78b"
   },
   "outputs": [
    {
     "name": "stdout",
     "output_type": "stream",
     "text": [
      "(10894, 9)\n",
      "IMO                             int64\n",
      "Anchorage                      object\n",
      "Anchorage Entry        datetime64[ns]\n",
      "Port                           object\n",
      "Berth                          object\n",
      "Berth or Port Entry    datetime64[ns]\n",
      "Waiting Time (Days)           float64\n",
      "Vessel Type                    object\n",
      "Date                   datetime64[ns]\n",
      "dtype: object\n"
     ]
    },
    {
     "data": {
      "text/html": [
       "<div>\n",
       "<style scoped>\n",
       "    .dataframe tbody tr th:only-of-type {\n",
       "        vertical-align: middle;\n",
       "    }\n",
       "\n",
       "    .dataframe tbody tr th {\n",
       "        vertical-align: top;\n",
       "    }\n",
       "\n",
       "    .dataframe thead th {\n",
       "        text-align: right;\n",
       "    }\n",
       "</style>\n",
       "<table border=\"1\" class=\"dataframe\">\n",
       "  <thead>\n",
       "    <tr style=\"text-align: right;\">\n",
       "      <th></th>\n",
       "      <th>IMO</th>\n",
       "      <th>Waiting Time (Days)</th>\n",
       "    </tr>\n",
       "  </thead>\n",
       "  <tbody>\n",
       "    <tr>\n",
       "      <th>count</th>\n",
       "      <td>1.089400e+04</td>\n",
       "      <td>10894.000000</td>\n",
       "    </tr>\n",
       "    <tr>\n",
       "      <th>mean</th>\n",
       "      <td>9.532859e+06</td>\n",
       "      <td>7.892877</td>\n",
       "    </tr>\n",
       "    <tr>\n",
       "      <th>std</th>\n",
       "      <td>1.929822e+05</td>\n",
       "      <td>8.753570</td>\n",
       "    </tr>\n",
       "    <tr>\n",
       "      <th>min</th>\n",
       "      <td>7.433610e+06</td>\n",
       "      <td>0.100000</td>\n",
       "    </tr>\n",
       "    <tr>\n",
       "      <th>25%</th>\n",
       "      <td>9.402940e+06</td>\n",
       "      <td>2.000000</td>\n",
       "    </tr>\n",
       "    <tr>\n",
       "      <th>50%</th>\n",
       "      <td>9.577630e+06</td>\n",
       "      <td>5.200000</td>\n",
       "    </tr>\n",
       "    <tr>\n",
       "      <th>75%</th>\n",
       "      <td>9.675602e+06</td>\n",
       "      <td>10.600000</td>\n",
       "    </tr>\n",
       "    <tr>\n",
       "      <th>max</th>\n",
       "      <td>9.922005e+06</td>\n",
       "      <td>104.700000</td>\n",
       "    </tr>\n",
       "  </tbody>\n",
       "</table>\n",
       "</div>"
      ],
      "text/plain": [
       "                IMO  Waiting Time (Days)\n",
       "count  1.089400e+04         10894.000000\n",
       "mean   9.532859e+06             7.892877\n",
       "std    1.929822e+05             8.753570\n",
       "min    7.433610e+06             0.100000\n",
       "25%    9.402940e+06             2.000000\n",
       "50%    9.577630e+06             5.200000\n",
       "75%    9.675602e+06            10.600000\n",
       "max    9.922005e+06           104.700000"
      ]
     },
     "execution_count": 5,
     "metadata": {},
     "output_type": "execute_result"
    }
   ],
   "source": [
    "import pandas as pd\n",
    "wait_time_2015 = pd.read_csv('waiting_time_2015.csv')\n",
    "wait_time_2016 = pd.read_csv('waiting_time_2016.csv')\n",
    "wait_time_2017 = pd.read_csv('waiting_time_2017.csv')\n",
    "wait_time_2018 = pd.read_csv('waiting_time_2018.csv')\n",
    "wait_time_2019 = pd.read_csv('waiting_time_2019.csv')\n",
    "wait_time_2020 = pd.read_csv('waiting_time_2020.csv')\n",
    "wait_time_2021 = pd.read_csv('waiting_time_2021.csv')\n",
    "wait_time = pd.concat([wait_time_2015,wait_time_2016,wait_time_2017,wait_time_2018,\\\n",
    "                        wait_time_2019, wait_time_2020,wait_time_2021],axis=0)\n",
    "\n",
    "#filter for santos\n",
    "wait_time = wait_time[wait_time['Anchorage']=='Santos Anchorage']\n",
    "#convert to Date\n",
    "wait_time['Date']= pd.to_datetime(wait_time['Date'])\n",
    "wait_time['Anchorage Entry']= pd.to_datetime(wait_time['Anchorage Entry'])\n",
    "wait_time['Berth or Port Entry']= pd.to_datetime(wait_time['Berth or Port Entry'])\n",
    "print(wait_time.shape)\n",
    "print(wait_time.dtypes)\n",
    "wait_time.describe()"
   ]
  },
  {
   "cell_type": "code",
   "execution_count": 12,
   "metadata": {
    "colab": {
     "base_uri": "https://localhost:8080/",
     "height": 742
    },
    "id": "_ubczSCylE5s",
    "outputId": "0811f028-55df-4fb7-87b9-85101fecbe27"
   },
   "outputs": [
    {
     "data": {
      "image/png": "[encoded data removed]",
      "text/plain": [
       "<Figure size 1728x720 with 3 Axes>"
      ]
     },
     "metadata": {
      "needs_background": "light"
     },
     "output_type": "display_data"
    }
   ],
   "source": [
    "# visualise missing values in waiting time data\n",
    "msno.bar(wait_time)\n",
    "plt.show()"
   ]
  },
  {
   "cell_type": "code",
   "execution_count": 7,
   "metadata": {
    "colab": {
     "base_uri": "https://localhost:8080/"
    },
    "id": "loP4A7UglE5t",
    "outputId": "93987dcf-6a3b-422e-eb89-a2ce742d2452"
   },
   "outputs": [
    {
     "name": "stdout",
     "output_type": "stream",
     "text": [
      "IMO                    False\n",
      "Anchorage              False\n",
      "Anchorage Entry        False\n",
      "Port                   False\n",
      "Berth                   True\n",
      "Berth or Port Entry    False\n",
      "Waiting Time (Days)    False\n",
      "Vessel Type             True\n",
      "Date                   False\n",
      "dtype: bool\n",
      "Date                       False\n",
      "Anchorage                  False\n",
      "Zone                       False\n",
      "Country                    False\n",
      "Total Vessels (Number)     False\n",
      "Total Vessels (DWT)        False\n",
      "Capesize                   False\n",
      "Capesize Laden             False\n",
      "Capesize Unladen           False\n",
      "Panamax                    False\n",
      "Panamax Laden              False\n",
      "Panamax Unladen            False\n",
      "Handymax                    True\n",
      "Handymax Laden             False\n",
      "Handymax Unladen           False\n",
      "Handysize                  False\n",
      "Handysize Laden            False\n",
      "Handysize Unladen          False\n",
      "Capesize (DWT)             False\n",
      "Capesize Laden (DWT)       False\n",
      "Capesize Unladen (DWT)     False\n",
      "Panamax (DWT)              False\n",
      "Panamax Laden (DWT)        False\n",
      "Panamax Unladen (DWT)      False\n",
      "Handymax (DWT)             False\n",
      "Handymax Laden (DWT)       False\n",
      "Handymax Unladen (DWT)     False\n",
      "Handysize (DWT)            False\n",
      "Handysize Laden (DWT)      False\n",
      "Handysize Unladen (DWT)    False\n",
      "dtype: bool\n"
     ]
    }
   ],
   "source": [
    "# Handle missing values\n",
    "## check all columns and find there are missing values in wait_time\n",
    "print(wait_time.isnull().any())\n",
    "col_miss = ['Berth','Vessel Type']\n",
    "\n",
    "## check all columns and find there are no missing values in wait_time\n",
    "print(data_pivot.isnull().any())"
   ]
  },
  {
   "cell_type": "code",
   "execution_count": 8,
   "metadata": {
    "colab": {
     "base_uri": "https://localhost:8080/"
    },
    "id": "nzOhQgIglE5u",
    "outputId": "4482bf35-bef5-4ce6-f9d9-d413853c72c7"
   },
   "outputs": [
    {
     "data": {
      "text/plain": [
       "(9976, 9)"
      ]
     },
     "execution_count": 8,
     "metadata": {},
     "output_type": "execute_result"
    }
   ],
   "source": [
    "# Handle missing values\n",
    "## delete all rows with missing values\n",
    "new_wait_time = wait_time.dropna(how='any')\n",
    "new_wait_time.shape"
   ]
  },
  {
   "cell_type": "code",
   "execution_count": 9,
   "metadata": {
    "colab": {
     "base_uri": "https://localhost:8080/",
     "height": 334
    },
    "id": "EnSmgiZQlE5u",
    "outputId": "6dd2909b-cd59-4402-97a2-2b53da421aeb"
   },
   "outputs": [
    {
     "name": "stderr",
     "output_type": "stream",
     "text": [
      "/Users/gonghe/opt/anaconda3/lib/python3.8/site-packages/seaborn/_decorators.py:36: FutureWarning: Pass the following variable as a keyword arg: x. From version 0.12, the only valid positional argument will be `data`, and passing other arguments without an explicit keyword will result in an error or misinterpretation.\n",
      "  warnings.warn(\n"
     ]
    },
    {
     "data": {
      "image/png": "[encoded data removed]",
      "text/plain": [
       "<Figure size 432x288 with 1 Axes>"
      ]
     },
     "metadata": {
      "needs_background": "light"
     },
     "output_type": "display_data"
    }
   ],
   "source": [
    "# Identify outliers and delete outliers\n",
    "import matplotlib.pyplot as plt\n",
    "## Box Plot\n",
    "import seaborn as sns\n",
    "sns.boxplot(new_wait_time['Waiting Time (Days)'])\n",
    "\n",
    "## Based on industry knowledge, it is unreasonable to delete outliers, because the results reflect the true\n",
    "## waiting time for some ships.\n",
    "\n",
    "## Get the final datasets\n",
    "final_wait_time = new_wait_time"
   ]
  },
  {
   "cell_type": "code",
   "execution_count": 10,
   "metadata": {
    "colab": {
     "base_uri": "https://localhost:8080/"
    },
    "id": "VtA2AMszlE5v",
    "outputId": "a4a86164-92b3-4894-e6b0-7740847c79e6"
   },
   "outputs": [
    {
     "name": "stdout",
     "output_type": "stream",
     "text": [
      "Index(['Date', 'Anchorage', 'Zone', 'Country', 'Total Vessels (Number)',\n",
      "       'Total Vessels (DWT)', 'Capesize', 'Capesize Laden', 'Capesize Unladen',\n",
      "       'Panamax', 'Panamax Laden', 'Panamax Unladen', 'Handymax',\n",
      "       'Handymax Laden', 'Handymax Unladen', 'Handysize', 'Handysize Laden',\n",
      "       'Handysize Unladen', 'Capesize (DWT)', 'Capesize Laden (DWT)',\n",
      "       'Capesize Unladen (DWT)', 'Panamax (DWT)', 'Panamax Laden (DWT)',\n",
      "       'Panamax Unladen (DWT)', 'Handymax (DWT)', 'Handymax Laden (DWT)',\n",
      "       'Handymax Unladen (DWT)', 'Handysize (DWT)', 'Handysize Laden (DWT)',\n",
      "       'Handysize Unladen (DWT)'],\n",
      "      dtype='object')\n",
      "Index(['IMO', 'Anchorage', 'Anchorage Entry', 'Port', 'Berth',\n",
      "       'Berth or Port Entry', 'Waiting Time (Days)', 'Vessel Type', 'Date'],\n",
      "      dtype='object')\n"
     ]
    }
   ],
   "source": [
    "print(data_pivot.columns)\n",
    "print(final_wait_time.columns)"
   ]
  },
  {
   "cell_type": "code",
   "execution_count": 13,
   "metadata": {
    "id": "8lloj8zFSFec"
   },
   "outputs": [],
   "source": [
    "#dropping Berth\n",
    "final_wait_time=final_wait_time.drop(columns=['Berth'])"
   ]
  },
  {
   "cell_type": "code",
   "execution_count": 14,
   "metadata": {
    "colab": {
     "base_uri": "https://localhost:8080/"
    },
    "id": "7-qJZUVKlE5v",
    "outputId": "f5c59f4c-e42a-4517-fb7f-c3649f56df9b"
   },
   "outputs": [
    {
     "name": "stdout",
     "output_type": "stream",
     "text": [
      "(9976, 36)\n",
      "IMO                        False\n",
      "Anchorage                  False\n",
      "Anchorage Entry            False\n",
      "Port                       False\n",
      "Berth or Port Entry        False\n",
      "Waiting Time (Days)        False\n",
      "Vessel Type                False\n",
      "Date                       False\n",
      "Zone                       False\n",
      "Country                    False\n",
      "Total Vessels (Number)     False\n",
      "Total Vessels (DWT)        False\n",
      "Capesize                   False\n",
      "Capesize Laden             False\n",
      "Capesize Unladen           False\n",
      "Panamax                    False\n",
      "Panamax Laden              False\n",
      "Panamax Unladen            False\n",
      "Handymax                    True\n",
      "Handymax Laden             False\n",
      "Handymax Unladen           False\n",
      "Handysize                  False\n",
      "Handysize Laden            False\n",
      "Handysize Unladen          False\n",
      "Capesize (DWT)             False\n",
      "Capesize Laden (DWT)       False\n",
      "Capesize Unladen (DWT)     False\n",
      "Panamax (DWT)              False\n",
      "Panamax Laden (DWT)        False\n",
      "Panamax Unladen (DWT)      False\n",
      "Handymax (DWT)             False\n",
      "Handymax Laden (DWT)       False\n",
      "Handymax Unladen (DWT)     False\n",
      "Handysize (DWT)            False\n",
      "Handysize Laden (DWT)      False\n",
      "Handysize Unladen (DWT)    False\n",
      "dtype: bool\n"
     ]
    }
   ],
   "source": [
    "# join waiting time data and congestion data\n",
    "all_data = pd.merge(final_wait_time,data_pivot,on=['Anchorage','Date'],how='inner')\n",
    "print(all_data.shape)\n",
    "print(all_data.isnull().any())"
   ]
  },
  {
   "cell_type": "code",
   "execution_count": 11,
   "metadata": {
    "colab": {
     "base_uri": "https://localhost:8080/"
    },
    "id": "VN95ZLl49HZK",
    "outputId": "9f98d9cb-4854-4093-92e1-ea4ea1f89c86"
   },
   "outputs": [
    {
     "data": {
      "text/plain": [
       "(9975, 36)"
      ]
     },
     "execution_count": 11,
     "metadata": {},
     "output_type": "execute_result"
    }
   ],
   "source": [
    "#dropping all nan\n",
    "all_data = all_data.dropna(how='any')\n",
    "all_data.shape"
   ]
  },
  {
   "cell_type": "code",
   "execution_count": 15,
   "metadata": {
    "id": "r8irEn-tlE5w"
   },
   "outputs": [],
   "source": [
    "# Transform the waiting time into two bins\n",
    "import numpy as np\n",
    "Qt1 = np.percentile(all_data['Waiting Time (Days)'], 25,interpolation = 'midpoint')\n",
    "Qt2 = np.percentile(all_data['Waiting Time (Days)'], 50,interpolation = 'midpoint')\n",
    "Qt3 = np.percentile(all_data['Waiting Time (Days)'], 75,interpolation = 'midpoint')\n",
    "\n",
    "wait_level = []\n",
    "for i in range(len(all_data)):\n",
    "    if (all_data['Waiting Time (Days)'].iloc[i] <= Qt1):\n",
    "        wait_level.append(0)\n",
    "    elif (all_data['Waiting Time (Days)'].iloc[i] <= Qt2):\n",
    "        wait_level.append(1)\n",
    "    elif (all_data['Waiting Time (Days)'].iloc[i] <= Qt3):\n",
    "        wait_level.append(2)\n",
    "    else:\n",
    "        wait_level.append(3)\n",
    "\n",
    "all_data['Wait Levels'] = wait_level"
   ]
  },
  {
   "cell_type": "code",
   "execution_count": 16,
   "metadata": {
    "id": "Mp9LszLVlE5w"
   },
   "outputs": [],
   "source": [
    "# Encoding of categorical variables\n",
    "from sklearn.preprocessing import LabelEncoder\n",
    "col_object = ['Vessel Type']\n",
    "gle = LabelEncoder()\n",
    "\n",
    "for column in col_object:\n",
    "       all_data[column] = gle.fit_transform(all_data[column])\n"
   ]
  },
  {
   "cell_type": "code",
   "execution_count": 28,
   "metadata": {
    "colab": {
     "base_uri": "https://localhost:8080/"
    },
    "id": "WLRe_YMolE5x",
    "outputId": "5ca8a74c-cba4-4678-8943-440343e437ae"
   },
   "outputs": [],
   "source": [
    "# Create a random forest model to show the improvement of data\n",
    "\n",
    "## select features\n",
    "X_all_1 = all_data.drop(columns=['Anchorage','Port','Zone','Country'])\n",
    "y_all = all_data['Wait Levels']\n",
    "\n",
    "#convert dates to float for random forest\n",
    "for i in X_all_1.drop(columns=['IMO','Vessel Type']):\n",
    "  if X_all_1[i].dtypes=='datetime64[ns]':\n",
    "    X_all_1[i]=X_all_1[i].astype('int')\n",
    "  elif i == 'Handymax':\n",
    "    X_all_1[X_all_1[i].isin(['\\''])][i]=X_all_1[X_all_1[i].isin(['\\''])][i].str.replace('\\'', '')\n",
    "    X_all_1[i]= X_all_1[i].astype(float)\n",
    "  elif X_all_1[i].dtypes=='object':\n",
    "    X_all_1[i]=X_all_1[i].str.replace(',','').astype(float)\n",
    "\n",
    "X_all_2 = X_all_1.dropna(how='any')\n",
    "y_all = X_all_2['Wait Levels']\n",
    "X_all = X_all_2.drop(columns=['Wait Levels'])\n",
    "\n",
    "from sklearn.model_selection import train_test_split\n",
    "X_train, X_test, y_train, y_test = train_test_split(X_all, y_all, test_size=0.2, random_state=42)\n"
   ]
  },
  {
   "cell_type": "code",
   "execution_count": 29,
   "metadata": {
    "colab": {
     "base_uri": "https://localhost:8080/"
    },
    "id": "dj_iZRaOlE5x",
    "outputId": "135250e8-38f3-40c1-93e7-cab8e9d18647"
   },
   "outputs": [
    {
     "data": {
      "text/plain": [
       "RandomForestClassifier(max_depth=10, max_features=15, min_samples_leaf=3,\n",
       "                       n_estimators=16, random_state=100)"
      ]
     },
     "execution_count": 29,
     "metadata": {},
     "output_type": "execute_result"
    }
   ],
   "source": [
    "# Create a random forest model to show the improvement of data\n",
    "## Random Forest for clean data\n",
    "from sklearn.ensemble import RandomForestClassifier\n",
    "from sklearn.datasets import make_classification\n",
    "## find the best RF model with 5-fold cross-validation\n",
    "from sklearn.experimental import enable_halving_search_cv  \n",
    "from sklearn.model_selection import HalvingGridSearchCV\n",
    "param_grid_rf = {\n",
    "    'bootstrap': [True],\n",
    "    'max_depth': [10, 30, 50],\n",
    "    'max_features': [5,10,15],\n",
    "    'min_samples_leaf': [3, 5, 7]\n",
    "}\n",
    "\n",
    "model_rf = RandomForestClassifier(random_state=100)\n",
    "\n",
    "sh_rf = HalvingGridSearchCV(model_rf, param_grid_rf, cv=5,factor=2, resource='n_estimators',max_resources=30).fit(X_train, y_train)\n",
    "\n",
    "sh_rf.best_estimator_"
   ]
  },
  {
   "cell_type": "code",
   "execution_count": 30,
   "metadata": {
    "colab": {
     "base_uri": "https://localhost:8080/"
    },
    "id": "X_L1b8xAlE5y",
    "outputId": "deb03ef8-c980-479e-e775-bd0410229237"
   },
   "outputs": [
    {
     "name": "stdout",
     "output_type": "stream",
     "text": [
      "The unweighted mean AUC of rf model based on cleaned data is 1.0\n",
      "The one-vs-rest AUC of rf model for predicting the first 100% quantile is 1.0\n",
      "The one-vs-rest AUC of rf model for predicting the first 75% quantile is 1.0\n",
      "The one-vs-rest AUC of rf model for predicting the first 25% quantile is 1.0\n",
      "The one-vs-rest AUC of rf model for predicting the first 50% quantile is 1.0\n"
     ]
    }
   ],
   "source": [
    "# Create a random forest model to show the improvement of data\n",
    "## best rf model for clean data\n",
    "best_model_rf = RandomForestClassifier(max_depth=10, max_features=15, min_samples_leaf=3,\n",
    "                       n_estimators=16, random_state=100)\n",
    "\n",
    "y_pred_rf = best_model_rf.fit(X_train, y_train).predict(X_test)\n",
    "\n",
    "## ROC-AUC for clean data\n",
    "from sklearn.metrics import roc_auc_score\n",
    "from sklearn.preprocessing import OneHotEncoder\n",
    "print(f'The unweighted mean AUC of rf model based on cleaned data is {roc_auc_score(OneHotEncoder().fit_transform(y_test.values.reshape(-1, 1)).toarray(), OneHotEncoder().fit_transform(y_pred_rf.reshape(-1, 1)).toarray(), multi_class=\"ovo\")}')\n",
    "for i in y_test.unique():\n",
    "  print(f'The one-vs-rest AUC of rf model for predicting the first {(i+1)*25}% quantile is {roc_auc_score(y_test==i, y_pred_rf==i)}')\n"
   ]
  },
  {
   "cell_type": "code",
   "execution_count": 32,
   "metadata": {
    "id": "JBh6V3wqlE5y"
   },
   "outputs": [],
   "source": [
    "# Create a random forest model to show the improvement of data\n",
    "## raw data\n",
    "raw_data = pd.merge(data_pivot,wait_time,on=['Anchorage','Date'],how='inner').dropna(how='any')\n",
    "\n",
    "# Transform the waiting time into two bins\n",
    "Qt_raw1 = np.percentile(raw_data['Waiting Time (Days)'], 25,interpolation = 'midpoint')\n",
    "Qt_raw2 = np.percentile(raw_data['Waiting Time (Days)'], 50,interpolation = 'midpoint')\n",
    "Qt_raw3 = np.percentile(raw_data['Waiting Time (Days)'], 75,interpolation = 'midpoint')\n",
    "wait_level_raw = []\n",
    "for i in range(len(raw_data)):\n",
    "    if (raw_data['Waiting Time (Days)'].iloc[i] <= Qt_raw1):\n",
    "        wait_level_raw.append(0)\n",
    "    elif (raw_data['Waiting Time (Days)'].iloc[i] <= Qt_raw2):\n",
    "        wait_level_raw.append(1)\n",
    "    elif (raw_data['Waiting Time (Days)'].iloc[i] <= Qt_raw3):\n",
    "        wait_level_raw.append(2)\n",
    "    else:\n",
    "        wait_level_raw.append(3)\n",
    "\n",
    "raw_data['Wait Levels'] = wait_level_raw"
   ]
  },
  {
   "cell_type": "code",
   "execution_count": 33,
   "metadata": {
    "colab": {
     "base_uri": "https://localhost:8080/"
    },
    "id": "tPqAqAqzlE5y",
    "outputId": "83909a81-c187-4526-bf6c-ec122a2537d5"
   },
   "outputs": [],
   "source": [
    "# Create a random forest model to show the improvement of data\n",
    "## choose features whose date types are int \n",
    "X_raw = raw_data.drop(columns=['Anchorage','Port','Zone','Country','Wait Levels','Vessel Type','Berth'])\n",
    "y_raw = raw_data['Wait Levels']\n",
    "\n",
    "#convert dates to float for random forest\n",
    "for i in X_raw.drop(columns=['IMO']):\n",
    "  if X_raw[i].dtypes=='datetime64[ns]':\n",
    "    X_raw[i]=X_raw[i].astype('int')\n",
    "  elif i == 'Handymax':\n",
    "    X_raw[X_raw[i].isin(['\\''])][i]=X_raw[X_raw[i].isin(['\\''])][i].str.replace('\\'', '')\n",
    "    X_raw[i]= X_raw[i].astype(float)\n",
    "  elif X_raw[i].dtypes=='object':\n",
    "    X_raw[i]=X_raw[i].str.replace(',','').astype(float)\n",
    "\n",
    "\n",
    "## raw data train_test_split\n",
    "from sklearn.model_selection import train_test_split\n",
    "X_train, X_test, y_train, y_test = train_test_split(X_raw, y_raw, test_size=0.2, random_state=42)"
   ]
  },
  {
   "cell_type": "code",
   "execution_count": 1,
   "metadata": {
    "colab": {
     "base_uri": "https://localhost:8080/"
    },
    "id": "K-tnNbT6lE5z",
    "outputId": "ca9f4dcc-4b55-4834-8a29-29d2cca6246e"
   },
   "outputs": [
    {
     "ename": "NameError",
     "evalue": "name 'X_train' is not defined",
     "output_type": "error",
     "traceback": [
      "\u001B[1;31m---------------------------------------------------------------------------\u001B[0m",
      "\u001B[1;31mNameError\u001B[0m                                 Traceback (most recent call last)",
      "\u001B[1;32m~\\AppData\\Local\\Temp\\ipykernel_3772\\373341479.py\u001B[0m in \u001B[0;36m<cell line: 17>\u001B[1;34m()\u001B[0m\n\u001B[0;32m     15\u001B[0m \u001B[0mmodel_rf\u001B[0m \u001B[1;33m=\u001B[0m \u001B[0mRandomForestClassifier\u001B[0m\u001B[1;33m(\u001B[0m\u001B[0mrandom_state\u001B[0m\u001B[1;33m=\u001B[0m\u001B[1;36m100\u001B[0m\u001B[1;33m)\u001B[0m\u001B[1;33m\u001B[0m\u001B[1;33m\u001B[0m\u001B[0m\n\u001B[0;32m     16\u001B[0m \u001B[1;33m\u001B[0m\u001B[0m\n\u001B[1;32m---> 17\u001B[1;33m \u001B[0msh_rf\u001B[0m \u001B[1;33m=\u001B[0m \u001B[0mHalvingGridSearchCV\u001B[0m\u001B[1;33m(\u001B[0m\u001B[0mmodel_rf\u001B[0m\u001B[1;33m,\u001B[0m \u001B[0mparam_grid_rf\u001B[0m\u001B[1;33m,\u001B[0m \u001B[0mcv\u001B[0m\u001B[1;33m=\u001B[0m\u001B[1;36m5\u001B[0m\u001B[1;33m,\u001B[0m\u001B[0mfactor\u001B[0m\u001B[1;33m=\u001B[0m\u001B[1;36m2\u001B[0m\u001B[1;33m,\u001B[0m \u001B[0mresource\u001B[0m\u001B[1;33m=\u001B[0m\u001B[1;34m'n_estimators'\u001B[0m\u001B[1;33m,\u001B[0m\u001B[0mmax_resources\u001B[0m\u001B[1;33m=\u001B[0m\u001B[1;36m100\u001B[0m\u001B[1;33m)\u001B[0m\u001B[1;33m.\u001B[0m\u001B[0mfit\u001B[0m\u001B[1;33m(\u001B[0m\u001B[0mX_train\u001B[0m\u001B[1;33m,\u001B[0m \u001B[0my_train\u001B[0m\u001B[1;33m)\u001B[0m\u001B[1;33m\u001B[0m\u001B[1;33m\u001B[0m\u001B[0m\n\u001B[0m\u001B[0;32m     18\u001B[0m \u001B[1;33m\u001B[0m\u001B[0m\n\u001B[0;32m     19\u001B[0m \u001B[0msh_rf\u001B[0m\u001B[1;33m.\u001B[0m\u001B[0mbest_estimator_\u001B[0m\u001B[1;33m\u001B[0m\u001B[1;33m\u001B[0m\u001B[0m\n",
      "\u001B[1;31mNameError\u001B[0m: name 'X_train' is not defined"
     ]
    }
   ],
   "source": [
    "# Create a random forest model to show the improvement of data\n",
    "## Random Forest for raw data\n",
    "from sklearn.ensemble import RandomForestClassifier\n",
    "from sklearn.datasets import make_classification\n",
    "## find the best RF model with 5-fold cross-validation\n",
    "from sklearn.experimental import enable_halving_search_cv  \n",
    "from sklearn.model_selection import HalvingGridSearchCV\n",
    "param_grid_rf = {\n",
    "    'bootstrap': [True],\n",
    "    'max_depth': [10, 30, 50],\n",
    "    'max_features': [5,10],\n",
    "    'min_samples_leaf': [3, 5, 7]\n",
    "}\n",
    "\n",
    "model_rf = RandomForestClassifier(random_state=100)\n",
    "\n",
    "sh_rf = HalvingGridSearchCV(model_rf, param_grid_rf, cv=5,factor=2, resource='n_estimators',max_resources=100).fit(X_train, y_train)\n",
    "\n",
    "sh_rf.best_estimator_"
   ]
  },
  {
   "cell_type": "code",
   "execution_count": 35,
   "metadata": {
    "colab": {
     "base_uri": "https://localhost:8080/"
    },
    "id": "InW7c5HClE5z",
    "outputId": "494a1aa5-4066-42f0-ab2c-37052f6a4877"
   },
   "outputs": [
    {
     "name": "stdout",
     "output_type": "stream",
     "text": [
      "The unweighted mean AUC of rf model based on cleaned data is 0.9963505011956233\n",
      "The one-vs-rest AUC of rf model for predicting the first 100% quantile is 0.9986529117363461\n",
      "The one-vs-rest AUC of rf model for predicting the first 75% quantile is 0.9928005545652604\n",
      "The one-vs-rest AUC of rf model for predicting the first 25% quantile is 0.999330655957162\n",
      "The one-vs-rest AUC of rf model for predicting the first 50% quantile is 0.9946178825237248\n"
     ]
    }
   ],
   "source": [
    "# Create a random forest model to show the improvement of data\n",
    "## best rf model for raw data\n",
    "best_model_rf = RandomForestClassifier(max_depth=10, max_features=5, min_samples_leaf=7,\n",
    "                       n_estimators=16, random_state=100)\n",
    "\n",
    "y_pred_rf = best_model_rf.fit(X_train, y_train).predict(X_test)\n",
    "\n",
    "## ROC-AUC for raw data\n",
    "from sklearn.metrics import roc_auc_score\n",
    "from sklearn.preprocessing import OneHotEncoder\n",
    "print(f'The unweighted mean AUC of rf model based on cleaned data is {roc_auc_score(OneHotEncoder().fit_transform(y_test.values.reshape(-1, 1)).toarray(), OneHotEncoder().fit_transform(y_pred_rf.reshape(-1, 1)).toarray(), multi_class=\"ovo\")}')\n",
    "for i in y_test.unique():\n",
    "  print(f'The one-vs-rest AUC of rf model for predicting the first {(i+1)*25}% quantile is {roc_auc_score(y_test==i, y_pred_rf==i)}')"
   ]
  },
  {
   "cell_type": "code",
   "execution_count": 21,
   "metadata": {
    "id": "2rwEwkavlE5z"
   },
   "outputs": [],
   "source": [
    "# output the clean data\n",
    "import csv\n",
    "all_data.to_csv('clean_data_2021.csv')"
   ]
  }
 ],
 "metadata": {
  "colab": {
   "name": "clean_2021 (2).ipynb",
   "provenance": []
  },
  "interpreter": {
   "hash": "68892ff691765dabedda516c01c5a912f2b12cec03b0668b35f3905200517779"
  },
  "kernelspec": {
   "display_name": "Python 3 (ipykernel)",
   "language": "python",
   "name": "python3"
  },
  "language_info": {
   "codemirror_mode": {
    "name": "ipython",
    "version": 3
   },
   "file_extension": ".py",
   "mimetype": "text/x-python",
   "name": "python",
   "nbconvert_exporter": "python",
   "pygments_lexer": "ipython3",
   "version": "3.8.8"
  }
 },
 "nbformat": 4,
 "nbformat_minor": 0
}