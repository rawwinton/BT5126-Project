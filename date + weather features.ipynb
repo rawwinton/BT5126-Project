{
 "cells": [
  {
   "cell_type": "code",
   "execution_count": 1,
   "metadata": {
    "scrolled": true
   },
   "outputs": [
    {
     "data": {
      "text/plain": "   Unnamed: 0      IMO         Anchorage    Port  Berth or Port Entry  \\\n0           4  9056399  Santos Anchorage  Santos  2015-01-02 16:34:00   \n1           7  8309141  Santos Anchorage  Santos  2015-01-03 22:22:00   \n2          13  9471252  Santos Anchorage  Santos  2015-01-06 07:15:00   \n3          14  9667435  Santos Anchorage  Santos  2015-01-07 03:46:00   \n4          15  9625970  Santos Anchorage  Santos  2015-01-07 05:46:00   \n\n   Waiting Time (Days)  Vessel Type        Date                      Zone  \\\n0                  0.2            3  2015-01-02  East Coast South America   \n1                  0.5            1  2015-01-03  East Coast South America   \n2                  3.4            2  2015-01-02  East Coast South America   \n3                  1.9            3  2015-01-05  East Coast South America   \n4                  3.9            2  2015-01-03  East Coast South America   \n\n     Country  ...  Panamax (DWT) Panamax Laden (DWT)  Panamax Unladen (DWT)  \\\n0  Sao Paulo  ...        392,746                   0                392,746   \n1  Sao Paulo  ...        363,888                   0                363,888   \n2  Sao Paulo  ...        392,746                   0                392,746   \n3  Sao Paulo  ...        414,800                   0                414,800   \n4  Sao Paulo  ...        363,888                   0                363,888   \n\n   Handymax (DWT)  Handymax Laden (DWT)  Handymax Unladen (DWT)  \\\n0         432,704               121,785                 310,919   \n1         474,533               107,174                 367,359   \n2         432,704               121,785                 310,919   \n3         661,542               123,673                 537,869   \n4         474,533               107,174                 367,359   \n\n   Handysize (DWT)  Handysize Laden (DWT)  Handysize Unladen (DWT)  \\\n0           52,823                 30,060                   22,763   \n1           70,297                 36,036                   34,261   \n2           52,823                 30,060                   22,763   \n3           88,003                 30,060                   57,943   \n4           70,297                 36,036                   34,261   \n\n   Wait Levels  \n0            0  \n1            0  \n2            1  \n3            0  \n4            1  \n\n[5 rows x 37 columns]",
      "text/html": "<div>\n<style scoped>\n    .dataframe tbody tr th:only-of-type {\n        vertical-align: middle;\n    }\n\n    .dataframe tbody tr th {\n        vertical-align: top;\n    }\n\n    .dataframe thead th {\n        text-align: right;\n    }\n</style>\n<table border=\"1\" class=\"dataframe\">\n  <thead>\n    <tr style=\"text-align: right;\">\n      <th></th>\n      <th>Unnamed: 0</th>\n      <th>IMO</th>\n      <th>Anchorage</th>\n      <th>Port</th>\n      <th>Berth or Port Entry</th>\n      <th>Waiting Time (Days)</th>\n      <th>Vessel Type</th>\n      <th>Date</th>\n      <th>Zone</th>\n      <th>Country</th>\n      <th>...</th>\n      <th>Panamax (DWT)</th>\n      <th>Panamax Laden (DWT)</th>\n      <th>Panamax Unladen (DWT)</th>\n      <th>Handymax (DWT)</th>\n      <th>Handymax Laden (DWT)</th>\n      <th>Handymax Unladen (DWT)</th>\n      <th>Handysize (DWT)</th>\n      <th>Handysize Laden (DWT)</th>\n      <th>Handysize Unladen (DWT)</th>\n      <th>Wait Levels</th>\n    </tr>\n  </thead>\n  <tbody>\n    <tr>\n      <th>0</th>\n      <td>4</td>\n      <td>9056399</td>\n      <td>Santos Anchorage</td>\n      <td>Santos</td>\n      <td>2015-01-02 16:34:00</td>\n      <td>0.2</td>\n      <td>3</td>\n      <td>2015-01-02</td>\n      <td>East Coast South America</td>\n      <td>Sao Paulo</td>\n      <td>...</td>\n      <td>392,746</td>\n      <td>0</td>\n      <td>392,746</td>\n      <td>432,704</td>\n      <td>121,785</td>\n      <td>310,919</td>\n      <td>52,823</td>\n      <td>30,060</td>\n      <td>22,763</td>\n      <td>0</td>\n    </tr>\n    <tr>\n      <th>1</th>\n      <td>7</td>\n      <td>8309141</td>\n      <td>Santos Anchorage</td>\n      <td>Santos</td>\n      <td>2015-01-03 22:22:00</td>\n      <td>0.5</td>\n      <td>1</td>\n      <td>2015-01-03</td>\n      <td>East Coast South America</td>\n      <td>Sao Paulo</td>\n      <td>...</td>\n      <td>363,888</td>\n      <td>0</td>\n      <td>363,888</td>\n      <td>474,533</td>\n      <td>107,174</td>\n      <td>367,359</td>\n      <td>70,297</td>\n      <td>36,036</td>\n      <td>34,261</td>\n      <td>0</td>\n    </tr>\n    <tr>\n      <th>2</th>\n      <td>13</td>\n      <td>9471252</td>\n      <td>Santos Anchorage</td>\n      <td>Santos</td>\n      <td>2015-01-06 07:15:00</td>\n      <td>3.4</td>\n      <td>2</td>\n      <td>2015-01-02</td>\n      <td>East Coast South America</td>\n      <td>Sao Paulo</td>\n      <td>...</td>\n      <td>392,746</td>\n      <td>0</td>\n      <td>392,746</td>\n      <td>432,704</td>\n      <td>121,785</td>\n      <td>310,919</td>\n      <td>52,823</td>\n      <td>30,060</td>\n      <td>22,763</td>\n      <td>1</td>\n    </tr>\n    <tr>\n      <th>3</th>\n      <td>14</td>\n      <td>9667435</td>\n      <td>Santos Anchorage</td>\n      <td>Santos</td>\n      <td>2015-01-07 03:46:00</td>\n      <td>1.9</td>\n      <td>3</td>\n      <td>2015-01-05</td>\n      <td>East Coast South America</td>\n      <td>Sao Paulo</td>\n      <td>...</td>\n      <td>414,800</td>\n      <td>0</td>\n      <td>414,800</td>\n      <td>661,542</td>\n      <td>123,673</td>\n      <td>537,869</td>\n      <td>88,003</td>\n      <td>30,060</td>\n      <td>57,943</td>\n      <td>0</td>\n    </tr>\n    <tr>\n      <th>4</th>\n      <td>15</td>\n      <td>9625970</td>\n      <td>Santos Anchorage</td>\n      <td>Santos</td>\n      <td>2015-01-07 05:46:00</td>\n      <td>3.9</td>\n      <td>2</td>\n      <td>2015-01-03</td>\n      <td>East Coast South America</td>\n      <td>Sao Paulo</td>\n      <td>...</td>\n      <td>363,888</td>\n      <td>0</td>\n      <td>363,888</td>\n      <td>474,533</td>\n      <td>107,174</td>\n      <td>367,359</td>\n      <td>70,297</td>\n      <td>36,036</td>\n      <td>34,261</td>\n      <td>1</td>\n    </tr>\n  </tbody>\n</table>\n<p>5 rows × 37 columns</p>\n</div>"
     },
     "execution_count": 1,
     "metadata": {},
     "output_type": "execute_result"
    }
   ],
   "source": [
    "import pandas as pd\n",
    "import numpy\n",
    "\n",
    "clean_data = pd.read_csv('clean_data.csv')\n",
    "\n",
    "clean_data.head()"
   ]
  },
  {
   "cell_type": "code",
   "execution_count": 2,
   "metadata": {},
   "outputs": [],
   "source": [
    "#Function for Processing Date\n",
    "\n",
    "import datetime, re, sys, holidays\n",
    "\n",
    "def process_date(input_str: str) -> {}:\n",
    "    # Validate date string input\n",
    "    regex = re.compile(r'\\d{4}-\\d{2}-\\d{2}')\n",
    "    if not re.match(regex, input_str):\n",
    "        print(\"Invalid date format\")\n",
    "        sys.exit(1)\n",
    "\n",
    "    # Process date features\n",
    "    my_date = datetime.datetime.strptime(input_str, '%Y-%m-%d').date()\n",
    "    now = datetime.datetime.now().date()\n",
    "    date_feats = {}\n",
    "\n",
    "    date_feats['date'] = input_str\n",
    "    date_feats['year'] = my_date.strftime('%Y')\n",
    "    date_feats['year_s'] = my_date.strftime('%y')\n",
    "    date_feats['month_num'] = my_date.strftime('%m')\n",
    "    date_feats['month_text_l'] = my_date.strftime('%B')\n",
    "    date_feats['month_text_s'] = my_date.strftime('%b')\n",
    "    date_feats['dom'] = my_date.strftime('%d')\n",
    "    date_feats['doy'] = my_date.strftime('%j')\n",
    "    date_feats['woy'] = my_date.strftime('%W')\n",
    "\n",
    "    # Fixing day of week to start on Mon (1), end on Sun (7)\n",
    "    dow = my_date.strftime('%w')\n",
    "    if dow == '0': dow = 7\n",
    "    date_feats['dow_num'] = dow\n",
    "\n",
    "    if dow == '1':\n",
    "        date_feats['dow_text_l'] = 'Monday'\n",
    "        date_feats['dow_text_s'] = 'Mon'\n",
    "    if dow == '2':\n",
    "        date_feats['dow_text_l'] = 'Tuesday'\n",
    "        date_feats['dow_text_s'] = 'Tue'\n",
    "    if dow == '3':\n",
    "        date_feats['dow_text_l'] = 'Wednesday'\n",
    "        date_feats['dow_text_s'] = 'Wed'\n",
    "    if dow == '4':\n",
    "        date_feats['dow_text_l'] = 'Thursday'\n",
    "        date_feats['dow_text_s'] = 'Thu'\n",
    "    if dow == '5':\n",
    "        date_feats['dow_text_l'] = 'Friday'\n",
    "        date_feats['dow_text_s'] = 'Fri'\n",
    "    if dow == '6':\n",
    "        date_feats['dow_text_l'] = 'Saturday'\n",
    "        date_feats['dow_text_s'] = 'Sat'\n",
    "    if dow == '7':\n",
    "        date_feats['dow_text_l'] = 'Sunday'\n",
    "        date_feats['dow_text_s'] = 'Sun'\n",
    "\n",
    "    if int(dow) > 5:\n",
    "        date_feats['is_weekday'] = False\n",
    "        date_feats['is_weekend'] = True\n",
    "    else:\n",
    "        date_feats['is_weekday'] = True\n",
    "        date_feats['is_weekend'] = False\n",
    "\n",
    "    # Check date in relation to holidays\n",
    "    br_holidays = holidays.Brazil()\n",
    "    date_feats['is_holiday'] = input_str in br_holidays\n",
    "    date_feats['is_day_before_holiday'] = my_date + datetime.timedelta(days=1) in br_holidays\n",
    "    date_feats['is_day_after_holiday'] = my_date - datetime.timedelta(days=1) in br_holidays\n",
    "\n",
    "\n",
    "    return date_feats"
   ]
  },
  {
   "cell_type": "code",
   "execution_count": 3,
   "metadata": {},
   "outputs": [
    {
     "name": "stderr",
     "output_type": "stream",
     "text": [
      "C:\\Users\\rawwi\\AppData\\Local\\Temp\\ipykernel_18336\\3657349985.py:17: FutureWarning: The frame.append method is deprecated and will be removed from pandas in a future version. Use pandas.concat instead.\n",
      "  date_df = date_df.append(ds, ignore_index=True)\n",
      "C:\\Users\\rawwi\\AppData\\Local\\Temp\\ipykernel_18336\\3657349985.py:17: FutureWarning: The frame.append method is deprecated and will be removed from pandas in a future version. Use pandas.concat instead.\n",
      "  date_df = date_df.append(ds, ignore_index=True)\n"
     ]
    }
   ],
   "source": [
    "dates = clean_data['Date'].astype(str)\n",
    "\n",
    "date_df = pd.DataFrame()\n",
    "\n",
    "for d in dates:\n",
    "    my_date = process_date(d)\n",
    "    features = [my_date['date'],\n",
    "                my_date['year'],\n",
    "                my_date['month_num'],\n",
    "                my_date['month_text_s'],\n",
    "                my_date['dom'],\n",
    "                my_date['doy'],\n",
    "                my_date['woy'],\n",
    "                my_date['is_weekend'],\n",
    "                my_date['is_holiday']]\n",
    "    ds = pd.Series(features)\n",
    "    date_df = date_df.append(ds, ignore_index=True)\n",
    "\n",
    "date_df.rename(columns={0: 'Date',\n",
    "                   1: 'year',\n",
    "                   2: 'month_num',\n",
    "                   3: 'month',\n",
    "                   4: 'day_of_month',\n",
    "                   5: 'day_of_year',\n",
    "                   6: 'week_of_year',\n",
    "                   7: 'is_weekend',\n",
    "                   8: 'is_holiday'}, inplace=True)"
   ]
  },
  {
   "cell_type": "code",
   "execution_count": 3,
   "outputs": [],
   "source": [],
   "metadata": {
    "collapsed": false,
    "pycharm": {
     "name": "#%%\n"
    }
   }
  },
  {
   "cell_type": "code",
   "execution_count": 4,
   "metadata": {},
   "outputs": [],
   "source": [
    "date_df = date_df.drop(['Date'], axis = 1)\n",
    "date_df.reset_index(drop=True, inplace=True)\n",
    "clean_data.reset_index(drop=True, inplace=True)"
   ]
  },
  {
   "cell_type": "code",
   "execution_count": 5,
   "metadata": {},
   "outputs": [
    {
     "data": {
      "text/plain": "      Unnamed: 0      IMO         Anchorage    Port  Berth or Port Entry  \\\n0              4  9056399  Santos Anchorage  Santos  2015-01-02 16:34:00   \n1              7  8309141  Santos Anchorage  Santos  2015-01-03 22:22:00   \n2             13  9471252  Santos Anchorage  Santos  2015-01-06 07:15:00   \n3             14  9667435  Santos Anchorage  Santos  2015-01-07 03:46:00   \n4             15  9625970  Santos Anchorage  Santos  2015-01-07 05:46:00   \n...          ...      ...               ...     ...                  ...   \n9942        9971  9127071  Santos Anchorage  Santos  2021-12-30 23:28:00   \n9943        9972  9747558  Santos Anchorage  Santos  2021-12-31 01:41:00   \n9944        9973  9867059  Santos Anchorage  Santos  2021-12-31 12:47:00   \n9945        9974  9566447  Santos Anchorage  Santos  2021-12-31 12:53:00   \n9946        9975  9476927  Santos Anchorage  Santos  2021-12-31 14:34:00   \n\n      Waiting Time (Days)  Vessel Type        Date                      Zone  \\\n0                     0.2            3  2015-01-02  East Coast South America   \n1                     0.5            1  2015-01-03  East Coast South America   \n2                     3.4            2  2015-01-02  East Coast South America   \n3                     1.9            3  2015-01-05  East Coast South America   \n4                     3.9            2  2015-01-03  East Coast South America   \n...                   ...          ...         ...                       ...   \n9942                  8.3            1  2021-12-22  East Coast South America   \n9943                 65.3            2  2021-10-26  East Coast South America   \n9944                 15.9            2  2021-12-15  East Coast South America   \n9945                  1.7            3  2021-12-29  East Coast South America   \n9946                  2.9            3  2021-12-28  East Coast South America   \n\n        Country  ...  Handysize Unladen (DWT) Wait Levels  year  month_num  \\\n0     Sao Paulo  ...                   22,763           0  2015         01   \n1     Sao Paulo  ...                   34,261           0  2015         01   \n2     Sao Paulo  ...                   22,763           1  2015         01   \n3     Sao Paulo  ...                   57,943           0  2015         01   \n4     Sao Paulo  ...                   34,261           1  2015         01   \n...         ...  ...                      ...         ...   ...        ...   \n9942  Sao Paulo  ...                   38,663           2  2021         12   \n9943  Sao Paulo  ...                   70,144           3  2021         10   \n9944  Sao Paulo  ...                   33,985           3  2021         12   \n9945  Sao Paulo  ...                  177,554           0  2021         12   \n9946  Sao Paulo  ...                  157,205           1  2021         12   \n\n      month  day_of_month  day_of_year  week_of_year  is_weekend  is_holiday  \n0       Jan            02          002            00       False       False  \n1       Jan            03          003            00        True       False  \n2       Jan            02          002            00       False       False  \n3       Jan            05          005            01       False       False  \n4       Jan            03          003            00        True       False  \n...     ...           ...          ...           ...         ...         ...  \n9942    Dec            22          356            51       False       False  \n9943    Oct            26          299            43       False       False  \n9944    Dec            15          349            50       False       False  \n9945    Dec            29          363            52       False       False  \n9946    Dec            28          362            52       False       False  \n\n[9947 rows x 45 columns]",
      "text/html": "<div>\n<style scoped>\n    .dataframe tbody tr th:only-of-type {\n        vertical-align: middle;\n    }\n\n    .dataframe tbody tr th {\n        vertical-align: top;\n    }\n\n    .dataframe thead th {\n        text-align: right;\n    }\n</style>\n<table border=\"1\" class=\"dataframe\">\n  <thead>\n    <tr style=\"text-align: right;\">\n      <th></th>\n      <th>Unnamed: 0</th>\n      <th>IMO</th>\n      <th>Anchorage</th>\n      <th>Port</th>\n      <th>Berth or Port Entry</th>\n      <th>Waiting Time (Days)</th>\n      <th>Vessel Type</th>\n      <th>Date</th>\n      <th>Zone</th>\n      <th>Country</th>\n      <th>...</th>\n      <th>Handysize Unladen (DWT)</th>\n      <th>Wait Levels</th>\n      <th>year</th>\n      <th>month_num</th>\n      <th>month</th>\n      <th>day_of_month</th>\n      <th>day_of_year</th>\n      <th>week_of_year</th>\n      <th>is_weekend</th>\n      <th>is_holiday</th>\n    </tr>\n  </thead>\n  <tbody>\n    <tr>\n      <th>0</th>\n      <td>4</td>\n      <td>9056399</td>\n      <td>Santos Anchorage</td>\n      <td>Santos</td>\n      <td>2015-01-02 16:34:00</td>\n      <td>0.2</td>\n      <td>3</td>\n      <td>2015-01-02</td>\n      <td>East Coast South America</td>\n      <td>Sao Paulo</td>\n      <td>...</td>\n      <td>22,763</td>\n      <td>0</td>\n      <td>2015</td>\n      <td>01</td>\n      <td>Jan</td>\n      <td>02</td>\n      <td>002</td>\n      <td>00</td>\n      <td>False</td>\n      <td>False</td>\n    </tr>\n    <tr>\n      <th>1</th>\n      <td>7</td>\n      <td>8309141</td>\n      <td>Santos Anchorage</td>\n      <td>Santos</td>\n      <td>2015-01-03 22:22:00</td>\n      <td>0.5</td>\n      <td>1</td>\n      <td>2015-01-03</td>\n      <td>East Coast South America</td>\n      <td>Sao Paulo</td>\n      <td>...</td>\n      <td>34,261</td>\n      <td>0</td>\n      <td>2015</td>\n      <td>01</td>\n      <td>Jan</td>\n      <td>03</td>\n      <td>003</td>\n      <td>00</td>\n      <td>True</td>\n      <td>False</td>\n    </tr>\n    <tr>\n      <th>2</th>\n      <td>13</td>\n      <td>9471252</td>\n      <td>Santos Anchorage</td>\n      <td>Santos</td>\n      <td>2015-01-06 07:15:00</td>\n      <td>3.4</td>\n      <td>2</td>\n      <td>2015-01-02</td>\n      <td>East Coast South America</td>\n      <td>Sao Paulo</td>\n      <td>...</td>\n      <td>22,763</td>\n      <td>1</td>\n      <td>2015</td>\n      <td>01</td>\n      <td>Jan</td>\n      <td>02</td>\n      <td>002</td>\n      <td>00</td>\n      <td>False</td>\n      <td>False</td>\n    </tr>\n    <tr>\n      <th>3</th>\n      <td>14</td>\n      <td>9667435</td>\n      <td>Santos Anchorage</td>\n      <td>Santos</td>\n      <td>2015-01-07 03:46:00</td>\n      <td>1.9</td>\n      <td>3</td>\n      <td>2015-01-05</td>\n      <td>East Coast South America</td>\n      <td>Sao Paulo</td>\n      <td>...</td>\n      <td>57,943</td>\n      <td>0</td>\n      <td>2015</td>\n      <td>01</td>\n      <td>Jan</td>\n      <td>05</td>\n      <td>005</td>\n      <td>01</td>\n      <td>False</td>\n      <td>False</td>\n    </tr>\n    <tr>\n      <th>4</th>\n      <td>15</td>\n      <td>9625970</td>\n      <td>Santos Anchorage</td>\n      <td>Santos</td>\n      <td>2015-01-07 05:46:00</td>\n      <td>3.9</td>\n      <td>2</td>\n      <td>2015-01-03</td>\n      <td>East Coast South America</td>\n      <td>Sao Paulo</td>\n      <td>...</td>\n      <td>34,261</td>\n      <td>1</td>\n      <td>2015</td>\n      <td>01</td>\n      <td>Jan</td>\n      <td>03</td>\n      <td>003</td>\n      <td>00</td>\n      <td>True</td>\n      <td>False</td>\n    </tr>\n    <tr>\n      <th>...</th>\n      <td>...</td>\n      <td>...</td>\n      <td>...</td>\n      <td>...</td>\n      <td>...</td>\n      <td>...</td>\n      <td>...</td>\n      <td>...</td>\n      <td>...</td>\n      <td>...</td>\n      <td>...</td>\n      <td>...</td>\n      <td>...</td>\n      <td>...</td>\n      <td>...</td>\n      <td>...</td>\n      <td>...</td>\n      <td>...</td>\n      <td>...</td>\n      <td>...</td>\n      <td>...</td>\n    </tr>\n    <tr>\n      <th>9942</th>\n      <td>9971</td>\n      <td>9127071</td>\n      <td>Santos Anchorage</td>\n      <td>Santos</td>\n      <td>2021-12-30 23:28:00</td>\n      <td>8.3</td>\n      <td>1</td>\n      <td>2021-12-22</td>\n      <td>East Coast South America</td>\n      <td>Sao Paulo</td>\n      <td>...</td>\n      <td>38,663</td>\n      <td>2</td>\n      <td>2021</td>\n      <td>12</td>\n      <td>Dec</td>\n      <td>22</td>\n      <td>356</td>\n      <td>51</td>\n      <td>False</td>\n      <td>False</td>\n    </tr>\n    <tr>\n      <th>9943</th>\n      <td>9972</td>\n      <td>9747558</td>\n      <td>Santos Anchorage</td>\n      <td>Santos</td>\n      <td>2021-12-31 01:41:00</td>\n      <td>65.3</td>\n      <td>2</td>\n      <td>2021-10-26</td>\n      <td>East Coast South America</td>\n      <td>Sao Paulo</td>\n      <td>...</td>\n      <td>70,144</td>\n      <td>3</td>\n      <td>2021</td>\n      <td>10</td>\n      <td>Oct</td>\n      <td>26</td>\n      <td>299</td>\n      <td>43</td>\n      <td>False</td>\n      <td>False</td>\n    </tr>\n    <tr>\n      <th>9944</th>\n      <td>9973</td>\n      <td>9867059</td>\n      <td>Santos Anchorage</td>\n      <td>Santos</td>\n      <td>2021-12-31 12:47:00</td>\n      <td>15.9</td>\n      <td>2</td>\n      <td>2021-12-15</td>\n      <td>East Coast South America</td>\n      <td>Sao Paulo</td>\n      <td>...</td>\n      <td>33,985</td>\n      <td>3</td>\n      <td>2021</td>\n      <td>12</td>\n      <td>Dec</td>\n      <td>15</td>\n      <td>349</td>\n      <td>50</td>\n      <td>False</td>\n      <td>False</td>\n    </tr>\n    <tr>\n      <th>9945</th>\n      <td>9974</td>\n      <td>9566447</td>\n      <td>Santos Anchorage</td>\n      <td>Santos</td>\n      <td>2021-12-31 12:53:00</td>\n      <td>1.7</td>\n      <td>3</td>\n      <td>2021-12-29</td>\n      <td>East Coast South America</td>\n      <td>Sao Paulo</td>\n      <td>...</td>\n      <td>177,554</td>\n      <td>0</td>\n      <td>2021</td>\n      <td>12</td>\n      <td>Dec</td>\n      <td>29</td>\n      <td>363</td>\n      <td>52</td>\n      <td>False</td>\n      <td>False</td>\n    </tr>\n    <tr>\n      <th>9946</th>\n      <td>9975</td>\n      <td>9476927</td>\n      <td>Santos Anchorage</td>\n      <td>Santos</td>\n      <td>2021-12-31 14:34:00</td>\n      <td>2.9</td>\n      <td>3</td>\n      <td>2021-12-28</td>\n      <td>East Coast South America</td>\n      <td>Sao Paulo</td>\n      <td>...</td>\n      <td>157,205</td>\n      <td>1</td>\n      <td>2021</td>\n      <td>12</td>\n      <td>Dec</td>\n      <td>28</td>\n      <td>362</td>\n      <td>52</td>\n      <td>False</td>\n      <td>False</td>\n    </tr>\n  </tbody>\n</table>\n<p>9947 rows × 45 columns</p>\n</div>"
     },
     "execution_count": 5,
     "metadata": {},
     "output_type": "execute_result"
    }
   ],
   "source": [
    "clean_data = pd.concat([clean_data, date_df], axis = 1)\n",
    "\n",
    "clean_data"
   ]
  },
  {
   "cell_type": "code",
   "execution_count": 6,
   "metadata": {},
   "outputs": [
    {
     "data": {
      "text/plain": "         Date  tempt  prcp\n0  2015-01-01   26.8   0.0\n1  2015-01-02   27.0   0.0\n2  2015-01-03   23.3   3.0\n3  2015-01-04   22.9   0.0\n4  2015-01-05   22.7   2.0",
      "text/html": "<div>\n<style scoped>\n    .dataframe tbody tr th:only-of-type {\n        vertical-align: middle;\n    }\n\n    .dataframe tbody tr th {\n        vertical-align: top;\n    }\n\n    .dataframe thead th {\n        text-align: right;\n    }\n</style>\n<table border=\"1\" class=\"dataframe\">\n  <thead>\n    <tr style=\"text-align: right;\">\n      <th></th>\n      <th>Date</th>\n      <th>tempt</th>\n      <th>prcp</th>\n    </tr>\n  </thead>\n  <tbody>\n    <tr>\n      <th>0</th>\n      <td>2015-01-01</td>\n      <td>26.8</td>\n      <td>0.0</td>\n    </tr>\n    <tr>\n      <th>1</th>\n      <td>2015-01-02</td>\n      <td>27.0</td>\n      <td>0.0</td>\n    </tr>\n    <tr>\n      <th>2</th>\n      <td>2015-01-03</td>\n      <td>23.3</td>\n      <td>3.0</td>\n    </tr>\n    <tr>\n      <th>3</th>\n      <td>2015-01-04</td>\n      <td>22.9</td>\n      <td>0.0</td>\n    </tr>\n    <tr>\n      <th>4</th>\n      <td>2015-01-05</td>\n      <td>22.7</td>\n      <td>2.0</td>\n    </tr>\n  </tbody>\n</table>\n</div>"
     },
     "execution_count": 6,
     "metadata": {},
     "output_type": "execute_result"
    }
   ],
   "source": [
    "weather_df = pd.read_csv('sao_paulo_weather.csv')\n",
    "weather_df = weather_df[['date','tavg','prcp']]\n",
    "weather_df = weather_df.fillna(0)\n",
    "\n",
    "weather_df.columns = ['Date', 'tempt', 'prcp']\n",
    "\n",
    "weather_df.head()"
   ]
  },
  {
   "cell_type": "code",
   "execution_count": 7,
   "metadata": {},
   "outputs": [],
   "source": [
    "clean_data = pd.merge(clean_data, weather_df, on='Date', how='left')"
   ]
  },
  {
   "cell_type": "code",
   "execution_count": 8,
   "metadata": {},
   "outputs": [
    {
     "data": {
      "text/plain": "      Unnamed: 0      IMO         Anchorage    Port  Berth or Port Entry  \\\n0              4  9056399  Santos Anchorage  Santos  2015-01-02 16:34:00   \n1              7  8309141  Santos Anchorage  Santos  2015-01-03 22:22:00   \n2             13  9471252  Santos Anchorage  Santos  2015-01-06 07:15:00   \n3             14  9667435  Santos Anchorage  Santos  2015-01-07 03:46:00   \n4             15  9625970  Santos Anchorage  Santos  2015-01-07 05:46:00   \n...          ...      ...               ...     ...                  ...   \n9942        9971  9127071  Santos Anchorage  Santos  2021-12-30 23:28:00   \n9943        9972  9747558  Santos Anchorage  Santos  2021-12-31 01:41:00   \n9944        9973  9867059  Santos Anchorage  Santos  2021-12-31 12:47:00   \n9945        9974  9566447  Santos Anchorage  Santos  2021-12-31 12:53:00   \n9946        9975  9476927  Santos Anchorage  Santos  2021-12-31 14:34:00   \n\n      Waiting Time (Days)  Vessel Type        Date                      Zone  \\\n0                     0.2            3  2015-01-02  East Coast South America   \n1                     0.5            1  2015-01-03  East Coast South America   \n2                     3.4            2  2015-01-02  East Coast South America   \n3                     1.9            3  2015-01-05  East Coast South America   \n4                     3.9            2  2015-01-03  East Coast South America   \n...                   ...          ...         ...                       ...   \n9942                  8.3            1  2021-12-22  East Coast South America   \n9943                 65.3            2  2021-10-26  East Coast South America   \n9944                 15.9            2  2021-12-15  East Coast South America   \n9945                  1.7            3  2021-12-29  East Coast South America   \n9946                  2.9            3  2021-12-28  East Coast South America   \n\n        Country  ...  year month_num  month  day_of_month  day_of_year  \\\n0     Sao Paulo  ...  2015        01    Jan            02          002   \n1     Sao Paulo  ...  2015        01    Jan            03          003   \n2     Sao Paulo  ...  2015        01    Jan            02          002   \n3     Sao Paulo  ...  2015        01    Jan            05          005   \n4     Sao Paulo  ...  2015        01    Jan            03          003   \n...         ...  ...   ...       ...    ...           ...          ...   \n9942  Sao Paulo  ...  2021        12    Dec            22          356   \n9943  Sao Paulo  ...  2021        10    Oct            26          299   \n9944  Sao Paulo  ...  2021        12    Dec            15          349   \n9945  Sao Paulo  ...  2021        12    Dec            29          363   \n9946  Sao Paulo  ...  2021        12    Dec            28          362   \n\n      week_of_year  is_weekend  is_holiday  tempt  prcp  \n0               00       False       False   27.0   0.0  \n1               00        True       False   23.3   3.0  \n2               00       False       False   27.0   0.0  \n3               01       False       False   22.7   2.0  \n4               00        True       False   23.3   3.0  \n...            ...         ...         ...    ...   ...  \n9942            51       False       False   23.9   0.0  \n9943            43       False       False   18.4   0.0  \n9944            50       False       False   22.4   0.5  \n9945            52       False       False   21.2   0.0  \n9946            52       False       False   21.6   0.0  \n\n[9947 rows x 47 columns]",
      "text/html": "<div>\n<style scoped>\n    .dataframe tbody tr th:only-of-type {\n        vertical-align: middle;\n    }\n\n    .dataframe tbody tr th {\n        vertical-align: top;\n    }\n\n    .dataframe thead th {\n        text-align: right;\n    }\n</style>\n<table border=\"1\" class=\"dataframe\">\n  <thead>\n    <tr style=\"text-align: right;\">\n      <th></th>\n      <th>Unnamed: 0</th>\n      <th>IMO</th>\n      <th>Anchorage</th>\n      <th>Port</th>\n      <th>Berth or Port Entry</th>\n      <th>Waiting Time (Days)</th>\n      <th>Vessel Type</th>\n      <th>Date</th>\n      <th>Zone</th>\n      <th>Country</th>\n      <th>...</th>\n      <th>year</th>\n      <th>month_num</th>\n      <th>month</th>\n      <th>day_of_month</th>\n      <th>day_of_year</th>\n      <th>week_of_year</th>\n      <th>is_weekend</th>\n      <th>is_holiday</th>\n      <th>tempt</th>\n      <th>prcp</th>\n    </tr>\n  </thead>\n  <tbody>\n    <tr>\n      <th>0</th>\n      <td>4</td>\n      <td>9056399</td>\n      <td>Santos Anchorage</td>\n      <td>Santos</td>\n      <td>2015-01-02 16:34:00</td>\n      <td>0.2</td>\n      <td>3</td>\n      <td>2015-01-02</td>\n      <td>East Coast South America</td>\n      <td>Sao Paulo</td>\n      <td>...</td>\n      <td>2015</td>\n      <td>01</td>\n      <td>Jan</td>\n      <td>02</td>\n      <td>002</td>\n      <td>00</td>\n      <td>False</td>\n      <td>False</td>\n      <td>27.0</td>\n      <td>0.0</td>\n    </tr>\n    <tr>\n      <th>1</th>\n      <td>7</td>\n      <td>8309141</td>\n      <td>Santos Anchorage</td>\n      <td>Santos</td>\n      <td>2015-01-03 22:22:00</td>\n      <td>0.5</td>\n      <td>1</td>\n      <td>2015-01-03</td>\n      <td>East Coast South America</td>\n      <td>Sao Paulo</td>\n      <td>...</td>\n      <td>2015</td>\n      <td>01</td>\n      <td>Jan</td>\n      <td>03</td>\n      <td>003</td>\n      <td>00</td>\n      <td>True</td>\n      <td>False</td>\n      <td>23.3</td>\n      <td>3.0</td>\n    </tr>\n    <tr>\n      <th>2</th>\n      <td>13</td>\n      <td>9471252</td>\n      <td>Santos Anchorage</td>\n      <td>Santos</td>\n      <td>2015-01-06 07:15:00</td>\n      <td>3.4</td>\n      <td>2</td>\n      <td>2015-01-02</td>\n      <td>East Coast South America</td>\n      <td>Sao Paulo</td>\n      <td>...</td>\n      <td>2015</td>\n      <td>01</td>\n      <td>Jan</td>\n      <td>02</td>\n      <td>002</td>\n      <td>00</td>\n      <td>False</td>\n      <td>False</td>\n      <td>27.0</td>\n      <td>0.0</td>\n    </tr>\n    <tr>\n      <th>3</th>\n      <td>14</td>\n      <td>9667435</td>\n      <td>Santos Anchorage</td>\n      <td>Santos</td>\n      <td>2015-01-07 03:46:00</td>\n      <td>1.9</td>\n      <td>3</td>\n      <td>2015-01-05</td>\n      <td>East Coast South America</td>\n      <td>Sao Paulo</td>\n      <td>...</td>\n      <td>2015</td>\n      <td>01</td>\n      <td>Jan</td>\n      <td>05</td>\n      <td>005</td>\n      <td>01</td>\n      <td>False</td>\n      <td>False</td>\n      <td>22.7</td>\n      <td>2.0</td>\n    </tr>\n    <tr>\n      <th>4</th>\n      <td>15</td>\n      <td>9625970</td>\n      <td>Santos Anchorage</td>\n      <td>Santos</td>\n      <td>2015-01-07 05:46:00</td>\n      <td>3.9</td>\n      <td>2</td>\n      <td>2015-01-03</td>\n      <td>East Coast South America</td>\n      <td>Sao Paulo</td>\n      <td>...</td>\n      <td>2015</td>\n      <td>01</td>\n      <td>Jan</td>\n      <td>03</td>\n      <td>003</td>\n      <td>00</td>\n      <td>True</td>\n      <td>False</td>\n      <td>23.3</td>\n      <td>3.0</td>\n    </tr>\n    <tr>\n      <th>...</th>\n      <td>...</td>\n      <td>...</td>\n      <td>...</td>\n      <td>...</td>\n      <td>...</td>\n      <td>...</td>\n      <td>...</td>\n      <td>...</td>\n      <td>...</td>\n      <td>...</td>\n      <td>...</td>\n      <td>...</td>\n      <td>...</td>\n      <td>...</td>\n      <td>...</td>\n      <td>...</td>\n      <td>...</td>\n      <td>...</td>\n      <td>...</td>\n      <td>...</td>\n      <td>...</td>\n    </tr>\n    <tr>\n      <th>9942</th>\n      <td>9971</td>\n      <td>9127071</td>\n      <td>Santos Anchorage</td>\n      <td>Santos</td>\n      <td>2021-12-30 23:28:00</td>\n      <td>8.3</td>\n      <td>1</td>\n      <td>2021-12-22</td>\n      <td>East Coast South America</td>\n      <td>Sao Paulo</td>\n      <td>...</td>\n      <td>2021</td>\n      <td>12</td>\n      <td>Dec</td>\n      <td>22</td>\n      <td>356</td>\n      <td>51</td>\n      <td>False</td>\n      <td>False</td>\n      <td>23.9</td>\n      <td>0.0</td>\n    </tr>\n    <tr>\n      <th>9943</th>\n      <td>9972</td>\n      <td>9747558</td>\n      <td>Santos Anchorage</td>\n      <td>Santos</td>\n      <td>2021-12-31 01:41:00</td>\n      <td>65.3</td>\n      <td>2</td>\n      <td>2021-10-26</td>\n      <td>East Coast South America</td>\n      <td>Sao Paulo</td>\n      <td>...</td>\n      <td>2021</td>\n      <td>10</td>\n      <td>Oct</td>\n      <td>26</td>\n      <td>299</td>\n      <td>43</td>\n      <td>False</td>\n      <td>False</td>\n      <td>18.4</td>\n      <td>0.0</td>\n    </tr>\n    <tr>\n      <th>9944</th>\n      <td>9973</td>\n      <td>9867059</td>\n      <td>Santos Anchorage</td>\n      <td>Santos</td>\n      <td>2021-12-31 12:47:00</td>\n      <td>15.9</td>\n      <td>2</td>\n      <td>2021-12-15</td>\n      <td>East Coast South America</td>\n      <td>Sao Paulo</td>\n      <td>...</td>\n      <td>2021</td>\n      <td>12</td>\n      <td>Dec</td>\n      <td>15</td>\n      <td>349</td>\n      <td>50</td>\n      <td>False</td>\n      <td>False</td>\n      <td>22.4</td>\n      <td>0.5</td>\n    </tr>\n    <tr>\n      <th>9945</th>\n      <td>9974</td>\n      <td>9566447</td>\n      <td>Santos Anchorage</td>\n      <td>Santos</td>\n      <td>2021-12-31 12:53:00</td>\n      <td>1.7</td>\n      <td>3</td>\n      <td>2021-12-29</td>\n      <td>East Coast South America</td>\n      <td>Sao Paulo</td>\n      <td>...</td>\n      <td>2021</td>\n      <td>12</td>\n      <td>Dec</td>\n      <td>29</td>\n      <td>363</td>\n      <td>52</td>\n      <td>False</td>\n      <td>False</td>\n      <td>21.2</td>\n      <td>0.0</td>\n    </tr>\n    <tr>\n      <th>9946</th>\n      <td>9975</td>\n      <td>9476927</td>\n      <td>Santos Anchorage</td>\n      <td>Santos</td>\n      <td>2021-12-31 14:34:00</td>\n      <td>2.9</td>\n      <td>3</td>\n      <td>2021-12-28</td>\n      <td>East Coast South America</td>\n      <td>Sao Paulo</td>\n      <td>...</td>\n      <td>2021</td>\n      <td>12</td>\n      <td>Dec</td>\n      <td>28</td>\n      <td>362</td>\n      <td>52</td>\n      <td>False</td>\n      <td>False</td>\n      <td>21.6</td>\n      <td>0.0</td>\n    </tr>\n  </tbody>\n</table>\n<p>9947 rows × 47 columns</p>\n</div>"
     },
     "execution_count": 8,
     "metadata": {},
     "output_type": "execute_result"
    }
   ],
   "source": [
    "clean_data"
   ]
  },
  {
   "cell_type": "code",
   "execution_count": 10,
   "metadata": {},
   "outputs": [
    {
     "data": {
      "text/plain": "Unnamed: 0                   int64\nIMO                          int64\nAnchorage                   object\nPort                        object\nBerth or Port Entry         object\nWaiting Time (Days)        float64\nVessel Type                  int64\nDate                        object\nZone                        object\nCountry                     object\nTotal Vessels (Number)     float64\nTotal Vessels (DWT)         object\nCapesize                   float64\nCapesize Laden             float64\nCapesize Unladen           float64\nPanamax                    float64\nPanamax Laden              float64\nPanamax Unladen            float64\nHandymax                     int64\nHandymax Laden             float64\nHandymax Unladen           float64\nHandysize                  float64\nHandysize Laden            float64\nHandysize Unladen          float64\nCapesize (DWT)              object\nCapesize Laden (DWT)        object\nCapesize Unladen (DWT)      object\nPanamax (DWT)               object\nPanamax Laden (DWT)         object\nPanamax Unladen (DWT)       object\nHandymax (DWT)              object\nHandymax Laden (DWT)        object\nHandymax Unladen (DWT)      object\nHandysize (DWT)             object\nHandysize Laden (DWT)       object\nHandysize Unladen (DWT)     object\nWait Levels                  int64\nyear                        object\nmonth_num                   object\nmonth                       object\nday_of_month                object\nday_of_year                 object\nweek_of_year                object\nis_weekend                    bool\nis_holiday                    bool\ntempt                      float64\nprcp                       float64\ndtype: object"
     },
     "execution_count": 10,
     "metadata": {},
     "output_type": "execute_result"
    }
   ],
   "source": [
    "clean_data.dtypes"
   ]
  }
 ],
 "metadata": {
  "colab": {
   "name": "clean_2021 (2).ipynb",
   "provenance": []
  },
  "interpreter": {
   "hash": "68892ff691765dabedda516c01c5a912f2b12cec03b0668b35f3905200517779"
  },
  "kernelspec": {
   "display_name": "Python 3 (ipykernel)",
   "language": "python",
   "name": "python3"
  },
  "language_info": {
   "codemirror_mode": {
    "name": "ipython",
    "version": 3
   },
   "file_extension": ".py",
   "mimetype": "text/x-python",
   "name": "python",
   "nbconvert_exporter": "python",
   "pygments_lexer": "ipython3",
   "version": "3.10.0"
  }
 },
 "nbformat": 4,
 "nbformat_minor": 1
}